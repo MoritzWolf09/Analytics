{
 "cells": [
  {
   "cell_type": "code",
   "execution_count": 117,
   "metadata": {},
   "outputs": [],
   "source": [
    "from math import radians, cos, sin, asin, sqrt \n",
    "def calculate_distance(lon1, lat1, lon2, lat2): \n",
    "    # convert decimal degrees to radians \n",
    "    lon1, lat1, lon2, lat2 = map(radians, [lon1, lat1, lon2, lat2]) \n",
    "    # haversine formula \n",
    "    dlon = lon2 - lon1 \n",
    "    dlat = lat2 - lat1 \n",
    "    a = sin(dlat/2)**2 + cos(lat1) * cos(lat2) * sin(dlon/2)**2 \n",
    "    c = 2 * asin(sqrt(a)) \n",
    "    # Radius of earth in kilometers is 6371 \n",
    "    km = 6371* c \n",
    "    return km"
   ]
  },
  {
   "cell_type": "code",
   "execution_count": 118,
   "metadata": {},
   "outputs": [],
   "source": [
    "def next_cluster(lng,lat,cluster_df):\n",
    "    smallest_value = 9999999999999999 #nicht schön aber sollte funktionieren.\n",
    "    for index, row in cluster_df.iterrows():\n",
    "        cluster_lng = row[\"lng\"]\n",
    "        cluster_lat = row[\"lat\"]\n",
    "        distance = calculate_distance(lng,lat,cluster_lng,cluster_lat)\n",
    "        if distance < smallest_value:\n",
    "            smallest_value = distance\n",
    "            closest_cluster = [cluster_lng,cluster_lat]\n",
    "    return closest_cluster"
   ]
  },
  {
   "cell_type": "markdown",
   "metadata": {},
   "source": [
    "# Task 1"
   ]
  },
  {
   "cell_type": "markdown",
   "metadata": {},
   "source": [
    "## Import Libraries"
   ]
  },
  {
   "cell_type": "code",
   "execution_count": 119,
   "metadata": {},
   "outputs": [],
   "source": [
    "import pandas as pd\n",
    "import numpy as np"
   ]
  },
  {
   "cell_type": "code",
   "execution_count": 120,
   "metadata": {},
   "outputs": [],
   "source": [
    "import matplotlib as mpl\n",
    "import matplotlib.pyplot as plt\n",
    "import seaborn as sns\n",
    "\n",
    "from sklearn.ensemble import RandomForestRegressor\n",
    "from sklearn.ensemble import AdaBoostRegressor"
   ]
  },
  {
   "cell_type": "code",
   "execution_count": 121,
   "metadata": {
    "scrolled": false
   },
   "outputs": [
    {
     "ename": "ModuleNotFoundError",
     "evalue": "No module named 'geopandas'",
     "output_type": "error",
     "traceback": [
      "\u001b[1;31m---------------------------------------------------------------------------\u001b[0m",
      "\u001b[1;31mModuleNotFoundError\u001b[0m                       Traceback (most recent call last)",
      "\u001b[1;32m<ipython-input-121-a62d01c1d62e>\u001b[0m in \u001b[0;36m<module>\u001b[1;34m\u001b[0m\n\u001b[1;32m----> 1\u001b[1;33m \u001b[1;32mimport\u001b[0m \u001b[0mgeopandas\u001b[0m \u001b[1;32mas\u001b[0m \u001b[0mgpd\u001b[0m\u001b[1;33m\u001b[0m\u001b[1;33m\u001b[0m\u001b[0m\n\u001b[0m",
      "\u001b[1;31mModuleNotFoundError\u001b[0m: No module named 'geopandas'"
     ]
    }
   ],
   "source": [
    "import geopandas as gpd"
   ]
  },
  {
   "cell_type": "markdown",
   "metadata": {},
   "source": [
    "## Import raw data and merge the data"
   ]
  },
  {
   "cell_type": "code",
   "execution_count": 122,
   "metadata": {},
   "outputs": [
    {
     "name": "stdout",
     "output_type": "stream",
     "text": [
      "<class 'pandas.core.frame.DataFrame'>\n",
      "Int64Index: 202697 entries, 0 to 185326\n",
      "Data columns (total 9 columns):\n",
      " #   Column         Non-Null Count   Dtype  \n",
      "---  ------         --------------   -----  \n",
      " 0   day            202697 non-null  object \n",
      " 1   time           202697 non-null  object \n",
      " 2   b_number       202697 non-null  int64  \n",
      " 3   city           202697 non-null  object \n",
      " 4   trip_duration  202697 non-null  object \n",
      " 5   orig_lat       202697 non-null  float64\n",
      " 6   orig_lng       202697 non-null  float64\n",
      " 7   dest_lat       202697 non-null  float64\n",
      " 8   dest_lng       202697 non-null  float64\n",
      "dtypes: float64(4), int64(1), object(4)\n",
      "memory usage: 15.5+ MB\n"
     ]
    }
   ],
   "source": [
    "Nextbike_bochum= pd.read_csv(\"./dataset/bochum.csv\")\n",
    "Nextbike_leipzig = pd.read_csv(\"./dataset/leipzig.csv\")\n",
    "Nextbike = Nextbike_bochum.append(Nextbike_leipzig)\n",
    "\n",
    "Nextbike.info()"
   ]
  },
  {
   "cell_type": "code",
   "execution_count": 123,
   "metadata": {},
   "outputs": [],
   "source": [
    "date_info_leipzig = pd.read_csv(\"./resources/leipzig-holidays/leipzig-holidays.csv\",sep=\";\")\n",
    "date_info_leipzig[\"date\"] = pd.to_datetime(date_info_leipzig[\"date\"],format=\"%d.%m.%Y\").dt.date\n",
    "date_info_leipzig.index = date_info_leipzig[\"date\"]\n"
   ]
  },
  {
   "cell_type": "markdown",
   "metadata": {},
   "source": [
    "## Look for null values"
   ]
  },
  {
   "cell_type": "code",
   "execution_count": 124,
   "metadata": {},
   "outputs": [
    {
     "data": {
      "text/plain": [
       "dest_lng         0\n",
       "dest_lat         0\n",
       "orig_lng         0\n",
       "orig_lat         0\n",
       "trip_duration    0\n",
       "city             0\n",
       "b_number         0\n",
       "time             0\n",
       "day              0\n",
       "dtype: int64"
      ]
     },
     "execution_count": 124,
     "metadata": {},
     "output_type": "execute_result"
    }
   ],
   "source": [
    "Nextbike.isnull().sum().sort_values(ascending=False)"
   ]
  },
  {
   "cell_type": "markdown",
   "metadata": {},
   "source": [
    "## Correct Data Types"
   ]
  },
  {
   "cell_type": "code",
   "execution_count": 125,
   "metadata": {},
   "outputs": [],
   "source": [
    "#Converting Trip Length to timedelta\n",
    "Nextbike['trip_duration'] = pd.to_timedelta(Nextbike['trip_duration'])\n",
    "\n",
    "#Converting start-time to datetime\n",
    "Nextbike['timestamp'] = pd.to_datetime(Nextbike['day'] + ' ' +  Nextbike['time'])\n",
    "Nextbike.drop(columns=['day','time'], inplace = True)"
   ]
  },
  {
   "cell_type": "markdown",
   "metadata": {},
   "source": [
    "## Add columns for analysis"
   ]
  },
  {
   "cell_type": "code",
   "execution_count": 126,
   "metadata": {
    "scrolled": false
   },
   "outputs": [
    {
     "data": {
      "text/html": [
       "<div>\n",
       "<style scoped>\n",
       "    .dataframe tbody tr th:only-of-type {\n",
       "        vertical-align: middle;\n",
       "    }\n",
       "\n",
       "    .dataframe tbody tr th {\n",
       "        vertical-align: top;\n",
       "    }\n",
       "\n",
       "    .dataframe thead th {\n",
       "        text-align: right;\n",
       "    }\n",
       "</style>\n",
       "<table border=\"1\" class=\"dataframe\">\n",
       "  <thead>\n",
       "    <tr style=\"text-align: right;\">\n",
       "      <th></th>\n",
       "      <th>b_number</th>\n",
       "      <th>city</th>\n",
       "      <th>trip_duration</th>\n",
       "      <th>orig_lat</th>\n",
       "      <th>orig_lng</th>\n",
       "      <th>dest_lat</th>\n",
       "      <th>dest_lng</th>\n",
       "      <th>timestamp</th>\n",
       "      <th>timestamp_rounded</th>\n",
       "      <th>weekday</th>\n",
       "      <th>week</th>\n",
       "      <th>Time</th>\n",
       "      <th>date</th>\n",
       "      <th>revenue</th>\n",
       "    </tr>\n",
       "  </thead>\n",
       "  <tbody>\n",
       "    <tr>\n",
       "      <th>0</th>\n",
       "      <td>683</td>\n",
       "      <td>bochum</td>\n",
       "      <td>0 days 00:10:00</td>\n",
       "      <td>51.489814</td>\n",
       "      <td>7.232856</td>\n",
       "      <td>51.479592</td>\n",
       "      <td>7.222239</td>\n",
       "      <td>2019-02-08 12:06:00</td>\n",
       "      <td>2019-02-08 12:00:00</td>\n",
       "      <td>4</td>\n",
       "      <td>6</td>\n",
       "      <td>12</td>\n",
       "      <td>2019-02-08</td>\n",
       "      <td>1.0</td>\n",
       "    </tr>\n",
       "    <tr>\n",
       "      <th>1</th>\n",
       "      <td>683</td>\n",
       "      <td>bochum</td>\n",
       "      <td>0 days 00:14:00</td>\n",
       "      <td>51.479592</td>\n",
       "      <td>7.222239</td>\n",
       "      <td>51.472366</td>\n",
       "      <td>7.250500</td>\n",
       "      <td>2019-02-10 01:58:00</td>\n",
       "      <td>2019-02-10 01:00:00</td>\n",
       "      <td>6</td>\n",
       "      <td>6</td>\n",
       "      <td>1</td>\n",
       "      <td>2019-02-10</td>\n",
       "      <td>1.0</td>\n",
       "    </tr>\n",
       "    <tr>\n",
       "      <th>2</th>\n",
       "      <td>683</td>\n",
       "      <td>bochum</td>\n",
       "      <td>0 days 00:28:00</td>\n",
       "      <td>51.472366</td>\n",
       "      <td>7.250500</td>\n",
       "      <td>51.479592</td>\n",
       "      <td>7.222239</td>\n",
       "      <td>2019-02-11 06:33:00</td>\n",
       "      <td>2019-02-11 06:00:00</td>\n",
       "      <td>0</td>\n",
       "      <td>7</td>\n",
       "      <td>6</td>\n",
       "      <td>2019-02-11</td>\n",
       "      <td>1.0</td>\n",
       "    </tr>\n",
       "    <tr>\n",
       "      <th>3</th>\n",
       "      <td>683</td>\n",
       "      <td>bochum</td>\n",
       "      <td>0 days 00:58:00</td>\n",
       "      <td>51.479592</td>\n",
       "      <td>7.222239</td>\n",
       "      <td>51.483023</td>\n",
       "      <td>7.215314</td>\n",
       "      <td>2019-02-11 13:31:00</td>\n",
       "      <td>2019-02-11 13:00:00</td>\n",
       "      <td>0</td>\n",
       "      <td>7</td>\n",
       "      <td>13</td>\n",
       "      <td>2019-02-11</td>\n",
       "      <td>2.0</td>\n",
       "    </tr>\n",
       "    <tr>\n",
       "      <th>4</th>\n",
       "      <td>683</td>\n",
       "      <td>bochum</td>\n",
       "      <td>0 days 00:22:00</td>\n",
       "      <td>51.483023</td>\n",
       "      <td>7.215314</td>\n",
       "      <td>51.479592</td>\n",
       "      <td>7.222239</td>\n",
       "      <td>2019-02-11 14:32:00</td>\n",
       "      <td>2019-02-11 14:00:00</td>\n",
       "      <td>0</td>\n",
       "      <td>7</td>\n",
       "      <td>14</td>\n",
       "      <td>2019-02-11</td>\n",
       "      <td>1.0</td>\n",
       "    </tr>\n",
       "    <tr>\n",
       "      <th>...</th>\n",
       "      <td>...</td>\n",
       "      <td>...</td>\n",
       "      <td>...</td>\n",
       "      <td>...</td>\n",
       "      <td>...</td>\n",
       "      <td>...</td>\n",
       "      <td>...</td>\n",
       "      <td>...</td>\n",
       "      <td>...</td>\n",
       "      <td>...</td>\n",
       "      <td>...</td>\n",
       "      <td>...</td>\n",
       "      <td>...</td>\n",
       "      <td>...</td>\n",
       "    </tr>\n",
       "    <tr>\n",
       "      <th>185322</th>\n",
       "      <td>99979</td>\n",
       "      <td>leipzig</td>\n",
       "      <td>0 days 00:07:00</td>\n",
       "      <td>51.468822</td>\n",
       "      <td>11.290048</td>\n",
       "      <td>51.468547</td>\n",
       "      <td>11.289899</td>\n",
       "      <td>2019-05-25 10:58:00</td>\n",
       "      <td>2019-05-25 10:00:00</td>\n",
       "      <td>5</td>\n",
       "      <td>21</td>\n",
       "      <td>10</td>\n",
       "      <td>2019-05-25</td>\n",
       "      <td>1.0</td>\n",
       "    </tr>\n",
       "    <tr>\n",
       "      <th>185323</th>\n",
       "      <td>99979</td>\n",
       "      <td>leipzig</td>\n",
       "      <td>0 days 01:16:00</td>\n",
       "      <td>51.468756</td>\n",
       "      <td>11.289723</td>\n",
       "      <td>51.469324</td>\n",
       "      <td>11.289366</td>\n",
       "      <td>2019-05-27 09:32:00</td>\n",
       "      <td>2019-05-27 09:00:00</td>\n",
       "      <td>0</td>\n",
       "      <td>22</td>\n",
       "      <td>9</td>\n",
       "      <td>2019-05-27</td>\n",
       "      <td>3.0</td>\n",
       "    </tr>\n",
       "    <tr>\n",
       "      <th>185324</th>\n",
       "      <td>99979</td>\n",
       "      <td>leipzig</td>\n",
       "      <td>0 days 00:03:00</td>\n",
       "      <td>51.469044</td>\n",
       "      <td>11.289348</td>\n",
       "      <td>51.469093</td>\n",
       "      <td>11.289432</td>\n",
       "      <td>2019-05-27 11:02:00</td>\n",
       "      <td>2019-05-27 11:00:00</td>\n",
       "      <td>0</td>\n",
       "      <td>22</td>\n",
       "      <td>11</td>\n",
       "      <td>2019-05-27</td>\n",
       "      <td>1.0</td>\n",
       "    </tr>\n",
       "    <tr>\n",
       "      <th>185325</th>\n",
       "      <td>99982</td>\n",
       "      <td>leipzig</td>\n",
       "      <td>0 days 01:44:00</td>\n",
       "      <td>51.341165</td>\n",
       "      <td>12.365045</td>\n",
       "      <td>51.341065</td>\n",
       "      <td>12.365005</td>\n",
       "      <td>2019-02-11 11:47:00</td>\n",
       "      <td>2019-02-11 11:00:00</td>\n",
       "      <td>0</td>\n",
       "      <td>7</td>\n",
       "      <td>11</td>\n",
       "      <td>2019-02-11</td>\n",
       "      <td>4.0</td>\n",
       "    </tr>\n",
       "    <tr>\n",
       "      <th>185326</th>\n",
       "      <td>999999</td>\n",
       "      <td>leipzig</td>\n",
       "      <td>0 days 00:45:00</td>\n",
       "      <td>51.324615</td>\n",
       "      <td>12.336922</td>\n",
       "      <td>51.324649</td>\n",
       "      <td>12.338129</td>\n",
       "      <td>2019-03-22 11:35:00</td>\n",
       "      <td>2019-03-22 11:00:00</td>\n",
       "      <td>4</td>\n",
       "      <td>12</td>\n",
       "      <td>11</td>\n",
       "      <td>2019-03-22</td>\n",
       "      <td>2.0</td>\n",
       "    </tr>\n",
       "  </tbody>\n",
       "</table>\n",
       "<p>202697 rows × 14 columns</p>\n",
       "</div>"
      ],
      "text/plain": [
       "        b_number     city   trip_duration   orig_lat   orig_lng   dest_lat  \\\n",
       "0            683   bochum 0 days 00:10:00  51.489814   7.232856  51.479592   \n",
       "1            683   bochum 0 days 00:14:00  51.479592   7.222239  51.472366   \n",
       "2            683   bochum 0 days 00:28:00  51.472366   7.250500  51.479592   \n",
       "3            683   bochum 0 days 00:58:00  51.479592   7.222239  51.483023   \n",
       "4            683   bochum 0 days 00:22:00  51.483023   7.215314  51.479592   \n",
       "...          ...      ...             ...        ...        ...        ...   \n",
       "185322     99979  leipzig 0 days 00:07:00  51.468822  11.290048  51.468547   \n",
       "185323     99979  leipzig 0 days 01:16:00  51.468756  11.289723  51.469324   \n",
       "185324     99979  leipzig 0 days 00:03:00  51.469044  11.289348  51.469093   \n",
       "185325     99982  leipzig 0 days 01:44:00  51.341165  12.365045  51.341065   \n",
       "185326    999999  leipzig 0 days 00:45:00  51.324615  12.336922  51.324649   \n",
       "\n",
       "         dest_lng           timestamp   timestamp_rounded  weekday  week  \\\n",
       "0        7.222239 2019-02-08 12:06:00 2019-02-08 12:00:00        4     6   \n",
       "1        7.250500 2019-02-10 01:58:00 2019-02-10 01:00:00        6     6   \n",
       "2        7.222239 2019-02-11 06:33:00 2019-02-11 06:00:00        0     7   \n",
       "3        7.215314 2019-02-11 13:31:00 2019-02-11 13:00:00        0     7   \n",
       "4        7.222239 2019-02-11 14:32:00 2019-02-11 14:00:00        0     7   \n",
       "...           ...                 ...                 ...      ...   ...   \n",
       "185322  11.289899 2019-05-25 10:58:00 2019-05-25 10:00:00        5    21   \n",
       "185323  11.289366 2019-05-27 09:32:00 2019-05-27 09:00:00        0    22   \n",
       "185324  11.289432 2019-05-27 11:02:00 2019-05-27 11:00:00        0    22   \n",
       "185325  12.365005 2019-02-11 11:47:00 2019-02-11 11:00:00        0     7   \n",
       "185326  12.338129 2019-03-22 11:35:00 2019-03-22 11:00:00        4    12   \n",
       "\n",
       "        Time        date  revenue  \n",
       "0         12  2019-02-08      1.0  \n",
       "1          1  2019-02-10      1.0  \n",
       "2          6  2019-02-11      1.0  \n",
       "3         13  2019-02-11      2.0  \n",
       "4         14  2019-02-11      1.0  \n",
       "...      ...         ...      ...  \n",
       "185322    10  2019-05-25      1.0  \n",
       "185323     9  2019-05-27      3.0  \n",
       "185324    11  2019-05-27      1.0  \n",
       "185325    11  2019-02-11      4.0  \n",
       "185326    11  2019-03-22      2.0  \n",
       "\n",
       "[202697 rows x 14 columns]"
      ]
     },
     "execution_count": 126,
     "metadata": {},
     "output_type": "execute_result"
    }
   ],
   "source": [
    "#Round datetime and extract possible categorisation attributes\n",
    "Nextbike['timestamp_rounded'] = Nextbike['timestamp'].dt.floor('H')\n",
    "\n",
    "Nextbike['weekday'] = Nextbike['timestamp_rounded'].dt.weekday\n",
    "Nextbike['week'] = Nextbike['timestamp_rounded'].dt.isocalendar().week\n",
    "\n",
    "Nextbike['Time'] = Nextbike['timestamp_rounded'].dt.time\n",
    "Nextbike[\"Time\"] = Nextbike[\"Time\"].astype(str).str[:2].astype(int)\n",
    "\n",
    "Nextbike[\"date\"] = Nextbike.timestamp.dt.date\n",
    "#Nextbike_clean[\"date_str\"] = Nextbike_clean.timestamp.dt.date.astype(str)\n",
    "\n",
    "#take trip duration in minutes, calculate 1€ per 30 minutes of usage\n",
    "Nextbike[\"revenue\"] = np.ceil((Nextbike.trip_duration.dt.total_seconds()/60) /30)\n",
    "\n",
    "\n",
    "#output\n",
    "Nextbike"
   ]
  },
  {
   "cell_type": "markdown",
   "metadata": {},
   "source": [
    "## Split data for analysis"
   ]
  },
  {
   "cell_type": "code",
   "execution_count": 127,
   "metadata": {},
   "outputs": [],
   "source": [
    "Nextbike_clean_l = Nextbike[Nextbike.city == \"leipzig\"]\n",
    "Nextbike_clean_b = Nextbike[Nextbike.city == \"bochum\"]\n",
    "\n",
    "leipzig = {\"lng\": 12.3741468,\"lat\": 51.340744}\n",
    "\n",
    "city = leipzig\n",
    "df = Nextbike_clean_l.copy()\n",
    "date_info = date_info_leipzig.copy()"
   ]
  },
  {
   "cell_type": "markdown",
   "metadata": {},
   "source": [
    "## Cleaning up unrealistic rides\n",
    "This step is aimed at filtering out rides that have start or end locations far out from the city and thus is likely not a regular ride within the valid area"
   ]
  },
  {
   "cell_type": "code",
   "execution_count": 128,
   "metadata": {},
   "outputs": [
    {
     "data": {
      "text/html": [
       "<div>\n",
       "<style scoped>\n",
       "    .dataframe tbody tr th:only-of-type {\n",
       "        vertical-align: middle;\n",
       "    }\n",
       "\n",
       "    .dataframe tbody tr th {\n",
       "        vertical-align: top;\n",
       "    }\n",
       "\n",
       "    .dataframe thead th {\n",
       "        text-align: right;\n",
       "    }\n",
       "</style>\n",
       "<table border=\"1\" class=\"dataframe\">\n",
       "  <thead>\n",
       "    <tr style=\"text-align: right;\">\n",
       "      <th></th>\n",
       "      <th>b_number</th>\n",
       "      <th>city</th>\n",
       "      <th>trip_duration</th>\n",
       "      <th>orig_lat</th>\n",
       "      <th>orig_lng</th>\n",
       "      <th>dest_lat</th>\n",
       "      <th>dest_lng</th>\n",
       "      <th>timestamp</th>\n",
       "      <th>timestamp_rounded</th>\n",
       "      <th>weekday</th>\n",
       "      <th>week</th>\n",
       "      <th>Time</th>\n",
       "      <th>date</th>\n",
       "      <th>revenue</th>\n",
       "      <th>max_distance_center</th>\n",
       "    </tr>\n",
       "  </thead>\n",
       "  <tbody>\n",
       "    <tr>\n",
       "      <th>0</th>\n",
       "      <td>10900</td>\n",
       "      <td>leipzig</td>\n",
       "      <td>0 days 00:12:00</td>\n",
       "      <td>51.330271</td>\n",
       "      <td>12.341983</td>\n",
       "      <td>51.330347</td>\n",
       "      <td>12.342159</td>\n",
       "      <td>2019-04-16 11:17:00</td>\n",
       "      <td>2019-04-16 11:00:00</td>\n",
       "      <td>1</td>\n",
       "      <td>16</td>\n",
       "      <td>11</td>\n",
       "      <td>2019-04-16</td>\n",
       "      <td>1.0</td>\n",
       "      <td>2.519655</td>\n",
       "    </tr>\n",
       "    <tr>\n",
       "      <th>1</th>\n",
       "      <td>10900</td>\n",
       "      <td>leipzig</td>\n",
       "      <td>0 days 00:08:00</td>\n",
       "      <td>51.330347</td>\n",
       "      <td>12.342159</td>\n",
       "      <td>51.330271</td>\n",
       "      <td>12.342199</td>\n",
       "      <td>2019-04-16 11:35:00</td>\n",
       "      <td>2019-04-16 11:00:00</td>\n",
       "      <td>1</td>\n",
       "      <td>16</td>\n",
       "      <td>11</td>\n",
       "      <td>2019-04-16</td>\n",
       "      <td>1.0</td>\n",
       "      <td>2.506386</td>\n",
       "    </tr>\n",
       "    <tr>\n",
       "      <th>2</th>\n",
       "      <td>10900</td>\n",
       "      <td>leipzig</td>\n",
       "      <td>0 days 00:40:00</td>\n",
       "      <td>51.330267</td>\n",
       "      <td>12.342196</td>\n",
       "      <td>51.330236</td>\n",
       "      <td>12.342012</td>\n",
       "      <td>2019-04-16 11:53:00</td>\n",
       "      <td>2019-04-16 11:00:00</td>\n",
       "      <td>1</td>\n",
       "      <td>16</td>\n",
       "      <td>11</td>\n",
       "      <td>2019-04-16</td>\n",
       "      <td>2.0</td>\n",
       "      <td>2.519708</td>\n",
       "    </tr>\n",
       "    <tr>\n",
       "      <th>3</th>\n",
       "      <td>10900</td>\n",
       "      <td>leipzig</td>\n",
       "      <td>0 days 00:03:00</td>\n",
       "      <td>51.330298</td>\n",
       "      <td>12.341811</td>\n",
       "      <td>51.330267</td>\n",
       "      <td>12.341958</td>\n",
       "      <td>2019-04-16 14:35:00</td>\n",
       "      <td>2019-04-16 14:00:00</td>\n",
       "      <td>1</td>\n",
       "      <td>16</td>\n",
       "      <td>14</td>\n",
       "      <td>2019-04-16</td>\n",
       "      <td>1.0</td>\n",
       "      <td>2.528907</td>\n",
       "    </tr>\n",
       "    <tr>\n",
       "      <th>4</th>\n",
       "      <td>20000</td>\n",
       "      <td>leipzig</td>\n",
       "      <td>0 days 00:20:00</td>\n",
       "      <td>51.343107</td>\n",
       "      <td>12.376471</td>\n",
       "      <td>51.330422</td>\n",
       "      <td>12.337838</td>\n",
       "      <td>2019-05-21 09:47:00</td>\n",
       "      <td>2019-05-21 09:00:00</td>\n",
       "      <td>1</td>\n",
       "      <td>21</td>\n",
       "      <td>9</td>\n",
       "      <td>2019-05-21</td>\n",
       "      <td>1.0</td>\n",
       "      <td>2.771228</td>\n",
       "    </tr>\n",
       "    <tr>\n",
       "      <th>...</th>\n",
       "      <td>...</td>\n",
       "      <td>...</td>\n",
       "      <td>...</td>\n",
       "      <td>...</td>\n",
       "      <td>...</td>\n",
       "      <td>...</td>\n",
       "      <td>...</td>\n",
       "      <td>...</td>\n",
       "      <td>...</td>\n",
       "      <td>...</td>\n",
       "      <td>...</td>\n",
       "      <td>...</td>\n",
       "      <td>...</td>\n",
       "      <td>...</td>\n",
       "      <td>...</td>\n",
       "    </tr>\n",
       "    <tr>\n",
       "      <th>185322</th>\n",
       "      <td>99979</td>\n",
       "      <td>leipzig</td>\n",
       "      <td>0 days 00:07:00</td>\n",
       "      <td>51.468822</td>\n",
       "      <td>11.290048</td>\n",
       "      <td>51.468547</td>\n",
       "      <td>11.289899</td>\n",
       "      <td>2019-05-25 10:58:00</td>\n",
       "      <td>2019-05-25 10:00:00</td>\n",
       "      <td>5</td>\n",
       "      <td>21</td>\n",
       "      <td>10</td>\n",
       "      <td>2019-05-25</td>\n",
       "      <td>1.0</td>\n",
       "      <td>76.539147</td>\n",
       "    </tr>\n",
       "    <tr>\n",
       "      <th>185323</th>\n",
       "      <td>99979</td>\n",
       "      <td>leipzig</td>\n",
       "      <td>0 days 01:16:00</td>\n",
       "      <td>51.468756</td>\n",
       "      <td>11.289723</td>\n",
       "      <td>51.469324</td>\n",
       "      <td>11.289366</td>\n",
       "      <td>2019-05-27 09:32:00</td>\n",
       "      <td>2019-05-27 09:00:00</td>\n",
       "      <td>0</td>\n",
       "      <td>22</td>\n",
       "      <td>9</td>\n",
       "      <td>2019-05-27</td>\n",
       "      <td>3.0</td>\n",
       "      <td>76.590965</td>\n",
       "    </tr>\n",
       "    <tr>\n",
       "      <th>185324</th>\n",
       "      <td>99979</td>\n",
       "      <td>leipzig</td>\n",
       "      <td>0 days 00:03:00</td>\n",
       "      <td>51.469044</td>\n",
       "      <td>11.289348</td>\n",
       "      <td>51.469093</td>\n",
       "      <td>11.289432</td>\n",
       "      <td>2019-05-27 11:02:00</td>\n",
       "      <td>2019-05-27 11:00:00</td>\n",
       "      <td>0</td>\n",
       "      <td>22</td>\n",
       "      <td>11</td>\n",
       "      <td>2019-05-27</td>\n",
       "      <td>1.0</td>\n",
       "      <td>76.586597</td>\n",
       "    </tr>\n",
       "    <tr>\n",
       "      <th>185325</th>\n",
       "      <td>99982</td>\n",
       "      <td>leipzig</td>\n",
       "      <td>0 days 01:44:00</td>\n",
       "      <td>51.341165</td>\n",
       "      <td>12.365045</td>\n",
       "      <td>51.341065</td>\n",
       "      <td>12.365005</td>\n",
       "      <td>2019-02-11 11:47:00</td>\n",
       "      <td>2019-02-11 11:00:00</td>\n",
       "      <td>0</td>\n",
       "      <td>7</td>\n",
       "      <td>11</td>\n",
       "      <td>2019-02-11</td>\n",
       "      <td>4.0</td>\n",
       "      <td>0.635997</td>\n",
       "    </tr>\n",
       "    <tr>\n",
       "      <th>185326</th>\n",
       "      <td>999999</td>\n",
       "      <td>leipzig</td>\n",
       "      <td>0 days 00:45:00</td>\n",
       "      <td>51.324615</td>\n",
       "      <td>12.336922</td>\n",
       "      <td>51.324649</td>\n",
       "      <td>12.338129</td>\n",
       "      <td>2019-03-22 11:35:00</td>\n",
       "      <td>2019-03-22 11:00:00</td>\n",
       "      <td>4</td>\n",
       "      <td>12</td>\n",
       "      <td>11</td>\n",
       "      <td>2019-03-22</td>\n",
       "      <td>2.0</td>\n",
       "      <td>3.147179</td>\n",
       "    </tr>\n",
       "  </tbody>\n",
       "</table>\n",
       "<p>185327 rows × 15 columns</p>\n",
       "</div>"
      ],
      "text/plain": [
       "        b_number     city   trip_duration   orig_lat   orig_lng   dest_lat  \\\n",
       "0          10900  leipzig 0 days 00:12:00  51.330271  12.341983  51.330347   \n",
       "1          10900  leipzig 0 days 00:08:00  51.330347  12.342159  51.330271   \n",
       "2          10900  leipzig 0 days 00:40:00  51.330267  12.342196  51.330236   \n",
       "3          10900  leipzig 0 days 00:03:00  51.330298  12.341811  51.330267   \n",
       "4          20000  leipzig 0 days 00:20:00  51.343107  12.376471  51.330422   \n",
       "...          ...      ...             ...        ...        ...        ...   \n",
       "185322     99979  leipzig 0 days 00:07:00  51.468822  11.290048  51.468547   \n",
       "185323     99979  leipzig 0 days 01:16:00  51.468756  11.289723  51.469324   \n",
       "185324     99979  leipzig 0 days 00:03:00  51.469044  11.289348  51.469093   \n",
       "185325     99982  leipzig 0 days 01:44:00  51.341165  12.365045  51.341065   \n",
       "185326    999999  leipzig 0 days 00:45:00  51.324615  12.336922  51.324649   \n",
       "\n",
       "         dest_lng           timestamp   timestamp_rounded  weekday  week  \\\n",
       "0       12.342159 2019-04-16 11:17:00 2019-04-16 11:00:00        1    16   \n",
       "1       12.342199 2019-04-16 11:35:00 2019-04-16 11:00:00        1    16   \n",
       "2       12.342012 2019-04-16 11:53:00 2019-04-16 11:00:00        1    16   \n",
       "3       12.341958 2019-04-16 14:35:00 2019-04-16 14:00:00        1    16   \n",
       "4       12.337838 2019-05-21 09:47:00 2019-05-21 09:00:00        1    21   \n",
       "...           ...                 ...                 ...      ...   ...   \n",
       "185322  11.289899 2019-05-25 10:58:00 2019-05-25 10:00:00        5    21   \n",
       "185323  11.289366 2019-05-27 09:32:00 2019-05-27 09:00:00        0    22   \n",
       "185324  11.289432 2019-05-27 11:02:00 2019-05-27 11:00:00        0    22   \n",
       "185325  12.365005 2019-02-11 11:47:00 2019-02-11 11:00:00        0     7   \n",
       "185326  12.338129 2019-03-22 11:35:00 2019-03-22 11:00:00        4    12   \n",
       "\n",
       "        Time        date  revenue  max_distance_center  \n",
       "0         11  2019-04-16      1.0             2.519655  \n",
       "1         11  2019-04-16      1.0             2.506386  \n",
       "2         11  2019-04-16      2.0             2.519708  \n",
       "3         14  2019-04-16      1.0             2.528907  \n",
       "4          9  2019-05-21      1.0             2.771228  \n",
       "...      ...         ...      ...                  ...  \n",
       "185322    10  2019-05-25      1.0            76.539147  \n",
       "185323     9  2019-05-27      3.0            76.590965  \n",
       "185324    11  2019-05-27      1.0            76.586597  \n",
       "185325    11  2019-02-11      4.0             0.635997  \n",
       "185326    11  2019-03-22      2.0             3.147179  \n",
       "\n",
       "[185327 rows x 15 columns]"
      ]
     },
     "execution_count": 128,
     "metadata": {},
     "output_type": "execute_result"
    }
   ],
   "source": [
    "max_distance_center = []\n",
    "\n",
    "for index, row in df.iterrows():\n",
    "    s = calculate_distance(lon1 = row[\"orig_lng\"],\n",
    "                       lat1 = row[\"orig_lat\"],\n",
    "                       lon2 = city[\"lng\"],\n",
    "                       lat2 = city[\"lat\"])\n",
    "    e = calculate_distance(lon1 = row[\"dest_lng\"], \n",
    "                           lat1 = row[\"dest_lat\"],\n",
    "                           lon2 = city[\"lng\"],\n",
    "                           lat2 = city[\"lat\"])\n",
    "    max_distance_center.append(max([s,e]))\n",
    "\n",
    "df[\"max_distance_center\"] = max_distance_center\n",
    "df"
   ]
  },
  {
   "cell_type": "code",
   "execution_count": 129,
   "metadata": {},
   "outputs": [
    {
     "data": {
      "image/png": "[encoded data removed]",
      "text/plain": [
       "<Figure size 720x432 with 1 Axes>"
      ]
     },
     "metadata": {
      "needs_background": "light"
     },
     "output_type": "display_data"
    }
   ],
   "source": [
    "df[\"max_distance_center\"] = df[\"max_distance_center\"].round()\n",
    "\n",
    "distances = df.groupby(\"max_distance_center\").agg(\n",
    "count = (\"b_number\",\"count\"))\n",
    "\n",
    "# Create a figure (empty work space)\n",
    "Fig_1 = plt.figure(figsize=(10,6))\n",
    "\n",
    "# Add axes to the figure\n",
    "ax_1 = Fig_1.add_axes([0.5, 0.5, 1, 1]) #The dimensions [left, bottom, width, height] of the axes\n",
    "\n",
    "x = distances.index\n",
    "y1 = distances[\"count\"]\n",
    "start_bars = ax_1.bar(x,y1,width = 1,alpha = 0.5)\n",
    "\n",
    "\n",
    "ax_1.set_xlabel('Amount') # Use set_ to start method\n",
    "ax_1.set_ylabel('Distance to City Centre')\n",
    "ax_1.set_title('Distribution of Start Location Distance to City Centre')\n",
    "\n",
    "plt.xlim([0,17])\n",
    "plt.show()"
   ]
  },
  {
   "cell_type": "code",
   "execution_count": 130,
   "metadata": {
    "scrolled": false
   },
   "outputs": [
    {
     "name": "stdout",
     "output_type": "stream",
     "text": [
      "24 have been filtered out due to being too far away from the city centre.\n"
     ]
    }
   ],
   "source": [
    "df_unrealistic = df[df[\"max_distance_center\"]>15]\n",
    "print(len(df_unrealistic.index),\"have been filtered out due to being too far away from the city centre.\")\n",
    "df = df[df[\"max_distance_center\"]<=15]"
   ]
  },
  {
   "cell_type": "code",
   "execution_count": 131,
   "metadata": {},
   "outputs": [
    {
     "data": {
      "text/plain": [
       "[<matplotlib.lines.Line2D at 0x15128f1d970>]"
      ]
     },
     "execution_count": 131,
     "metadata": {},
     "output_type": "execute_result"
    },
    {
     "data": {
      "image/png": "[encoded data removed]",
      "text/plain": [
       "<Figure size 432x288 with 1 Axes>"
      ]
     },
     "metadata": {
      "needs_background": "light"
     },
     "output_type": "display_data"
    }
   ],
   "source": [
    "operating_area = df.groupby(\"week\").agg(\n",
    "    distance = (\"max_distance_center\",\"max\"))\n",
    "plt.plot(operating_area)"
   ]
  },
  {
   "cell_type": "markdown",
   "metadata": {},
   "source": [
    "## Find out size of the fleet\n",
    "The idea is that a bike is recognized as part of the fleet if it has been rented in the last 7 days. So the size of the fleet is the amount of unique Bike IDs that have records for the last 7 days. We calculate this on a daily level to be precise yet not too intense to compute."
   ]
  },
  {
   "cell_type": "code",
   "execution_count": 132,
   "metadata": {
    "scrolled": false
   },
   "outputs": [],
   "source": [
    "factor = 7\n",
    "\n",
    "start_date = df.date.min()\n",
    "end_date = df.date.max()\n",
    "delta = pd.to_timedelta(\"1d\")\n",
    "\n",
    "dates = []\n",
    "while start_date <= end_date:\n",
    "    dates.append(start_date)\n",
    "    start_date += delta\n",
    "\n",
    "\n",
    "\n",
    "fleet_size = pd.DataFrame([], index = dates, columns = [\"search_array\",\"fleet_size\"]) \n",
    "\n",
    "search_array = []\n",
    "for index, row in fleet_size.iterrows():\n",
    "    search_array.append(index)\n",
    "    if len(search_array) > factor:\n",
    "        search_array.pop(0)\n",
    "    row['search_array'] = search_array[:] #This just helps see if everything goes as expected\n",
    "    row['fleet_size'] = df[df.date.isin(search_array[:])].b_number.nunique()\n",
    "    \n"
   ]
  },
  {
   "cell_type": "code",
   "execution_count": 133,
   "metadata": {},
   "outputs": [
    {
     "data": {
      "text/html": [
       "<div>\n",
       "<style scoped>\n",
       "    .dataframe tbody tr th:only-of-type {\n",
       "        vertical-align: middle;\n",
       "    }\n",
       "\n",
       "    .dataframe tbody tr th {\n",
       "        vertical-align: top;\n",
       "    }\n",
       "\n",
       "    .dataframe thead th {\n",
       "        text-align: right;\n",
       "    }\n",
       "</style>\n",
       "<table border=\"1\" class=\"dataframe\">\n",
       "  <thead>\n",
       "    <tr style=\"text-align: right;\">\n",
       "      <th></th>\n",
       "      <th>fleet_size</th>\n",
       "    </tr>\n",
       "  </thead>\n",
       "  <tbody>\n",
       "    <tr>\n",
       "      <th>2019-02-01</th>\n",
       "      <td>256</td>\n",
       "    </tr>\n",
       "    <tr>\n",
       "      <th>2019-02-02</th>\n",
       "      <td>329</td>\n",
       "    </tr>\n",
       "    <tr>\n",
       "      <th>2019-02-03</th>\n",
       "      <td>350</td>\n",
       "    </tr>\n",
       "    <tr>\n",
       "      <th>2019-02-04</th>\n",
       "      <td>390</td>\n",
       "    </tr>\n",
       "    <tr>\n",
       "      <th>2019-02-05</th>\n",
       "      <td>421</td>\n",
       "    </tr>\n",
       "    <tr>\n",
       "      <th>...</th>\n",
       "      <td>...</td>\n",
       "    </tr>\n",
       "    <tr>\n",
       "      <th>2019-06-26</th>\n",
       "      <td>785</td>\n",
       "    </tr>\n",
       "    <tr>\n",
       "      <th>2019-06-27</th>\n",
       "      <td>787</td>\n",
       "    </tr>\n",
       "    <tr>\n",
       "      <th>2019-06-28</th>\n",
       "      <td>789</td>\n",
       "    </tr>\n",
       "    <tr>\n",
       "      <th>2019-06-29</th>\n",
       "      <td>795</td>\n",
       "    </tr>\n",
       "    <tr>\n",
       "      <th>2019-06-30</th>\n",
       "      <td>790</td>\n",
       "    </tr>\n",
       "  </tbody>\n",
       "</table>\n",
       "<p>150 rows × 1 columns</p>\n",
       "</div>"
      ],
      "text/plain": [
       "           fleet_size\n",
       "2019-02-01        256\n",
       "2019-02-02        329\n",
       "2019-02-03        350\n",
       "2019-02-04        390\n",
       "2019-02-05        421\n",
       "...               ...\n",
       "2019-06-26        785\n",
       "2019-06-27        787\n",
       "2019-06-28        789\n",
       "2019-06-29        795\n",
       "2019-06-30        790\n",
       "\n",
       "[150 rows x 1 columns]"
      ]
     },
     "execution_count": 133,
     "metadata": {},
     "output_type": "execute_result"
    }
   ],
   "source": [
    "fleet_size.drop(columns=[\"search_array\"], inplace = True)\n",
    "fleet_size"
   ]
  },
  {
   "cell_type": "code",
   "execution_count": 134,
   "metadata": {
    "scrolled": false
   },
   "outputs": [
    {
     "data": {
      "text/plain": [
       "[<matplotlib.lines.Line2D at 0x1512d3a7bb0>]"
      ]
     },
     "execution_count": 134,
     "metadata": {},
     "output_type": "execute_result"
    },
    {
     "data": {
      "image/png": "[encoded data removed]",
      "text/plain": [
       "<Figure size 432x288 with 1 Axes>"
      ]
     },
     "metadata": {
      "needs_background": "light"
     },
     "output_type": "display_data"
    }
   ],
   "source": [
    "df_by_date = df.groupby(\"date\").agg(\n",
    "    revenue=('revenue', \"sum\"),\n",
    "    trips=(\"b_number\",\"count\"),\n",
    "    used_bikes=('b_number', pd.Series.nunique))\n",
    "\n",
    "df_by_date_merged = df_by_date.join(fleet_size) #this does not include the missing days\n",
    "df_by_date_merged[\"usage\"] = df_by_date_merged[\"used_bikes\"] / df_by_date_merged[\"fleet_size\"]\n",
    "df_by_date_merged = df_by_date_merged.rename(columns={\"trips\": \"daily_trips\",\"revenue\":\"daily_revenue\", \"used_bikes\":\"daily_used_bikes\"})\n",
    "df_by_date_merged = pd.merge( df_by_date_merged, date_info, left_index=True, right_index=True)\n",
    "\n",
    "df_by_date_merged = df_by_date_merged.drop(columns=[\"date\"])\n",
    "df_by_date_merged\n",
    "\n",
    "\n",
    "plt.plot(df_by_date.index,df_by_date_merged.daily_trips)"
   ]
  },
  {
   "cell_type": "code",
   "execution_count": 135,
   "metadata": {},
   "outputs": [
    {
     "data": {
      "text/plain": [
       "[<matplotlib.lines.Line2D at 0x1512d32a880>]"
      ]
     },
     "execution_count": 135,
     "metadata": {},
     "output_type": "execute_result"
    },
    {
     "data": {
      "image/png": "[encoded data removed]",
      "text/plain": [
       "<Figure size 432x288 with 1 Axes>"
      ]
     },
     "metadata": {
      "needs_background": "light"
     },
     "output_type": "display_data"
    }
   ],
   "source": [
    "plt.plot(fleet_size.index,fleet_size.fleet_size)"
   ]
  },
  {
   "cell_type": "code",
   "execution_count": 136,
   "metadata": {
    "scrolled": false
   },
   "outputs": [
    {
     "data": {
      "text/html": [
       "<div>\n",
       "<style scoped>\n",
       "    .dataframe tbody tr th:only-of-type {\n",
       "        vertical-align: middle;\n",
       "    }\n",
       "\n",
       "    .dataframe tbody tr th {\n",
       "        vertical-align: top;\n",
       "    }\n",
       "\n",
       "    .dataframe thead th {\n",
       "        text-align: right;\n",
       "    }\n",
       "</style>\n",
       "<table border=\"1\" class=\"dataframe\">\n",
       "  <thead>\n",
       "    <tr style=\"text-align: right;\">\n",
       "      <th></th>\n",
       "      <th>revenue</th>\n",
       "      <th>trips</th>\n",
       "      <th>date</th>\n",
       "      <th>weekday</th>\n",
       "      <th>week</th>\n",
       "      <th>time</th>\n",
       "      <th>used_bikes</th>\n",
       "      <th>daily_revenue</th>\n",
       "      <th>daily_trips</th>\n",
       "      <th>daily_used_bikes</th>\n",
       "      <th>fleet_size</th>\n",
       "      <th>usage</th>\n",
       "      <th>day_classifier</th>\n",
       "      <th>vacations</th>\n",
       "      <th>holiday</th>\n",
       "      <th>relative_trips</th>\n",
       "    </tr>\n",
       "    <tr>\n",
       "      <th>timestamp_rounded</th>\n",
       "      <th></th>\n",
       "      <th></th>\n",
       "      <th></th>\n",
       "      <th></th>\n",
       "      <th></th>\n",
       "      <th></th>\n",
       "      <th></th>\n",
       "      <th></th>\n",
       "      <th></th>\n",
       "      <th></th>\n",
       "      <th></th>\n",
       "      <th></th>\n",
       "      <th></th>\n",
       "      <th></th>\n",
       "      <th></th>\n",
       "      <th></th>\n",
       "    </tr>\n",
       "  </thead>\n",
       "  <tbody>\n",
       "    <tr>\n",
       "      <th>2019-02-01 00:00:00</th>\n",
       "      <td>9.0</td>\n",
       "      <td>8</td>\n",
       "      <td>2019-02-01</td>\n",
       "      <td>4</td>\n",
       "      <td>5</td>\n",
       "      <td>0</td>\n",
       "      <td>8</td>\n",
       "      <td>785.0</td>\n",
       "      <td>659</td>\n",
       "      <td>256</td>\n",
       "      <td>256</td>\n",
       "      <td>0.03125</td>\n",
       "      <td>weekday</td>\n",
       "      <td>0</td>\n",
       "      <td>0</td>\n",
       "      <td>0.012140</td>\n",
       "    </tr>\n",
       "    <tr>\n",
       "      <th>2019-02-01 01:00:00</th>\n",
       "      <td>9.0</td>\n",
       "      <td>7</td>\n",
       "      <td>2019-02-01</td>\n",
       "      <td>4</td>\n",
       "      <td>5</td>\n",
       "      <td>1</td>\n",
       "      <td>7</td>\n",
       "      <td>785.0</td>\n",
       "      <td>659</td>\n",
       "      <td>256</td>\n",
       "      <td>256</td>\n",
       "      <td>0.0273438</td>\n",
       "      <td>weekday</td>\n",
       "      <td>0</td>\n",
       "      <td>0</td>\n",
       "      <td>0.010622</td>\n",
       "    </tr>\n",
       "    <tr>\n",
       "      <th>2019-02-01 02:00:00</th>\n",
       "      <td>7.0</td>\n",
       "      <td>2</td>\n",
       "      <td>2019-02-01</td>\n",
       "      <td>4</td>\n",
       "      <td>5</td>\n",
       "      <td>2</td>\n",
       "      <td>2</td>\n",
       "      <td>785.0</td>\n",
       "      <td>659</td>\n",
       "      <td>256</td>\n",
       "      <td>256</td>\n",
       "      <td>0.0078125</td>\n",
       "      <td>weekday</td>\n",
       "      <td>0</td>\n",
       "      <td>0</td>\n",
       "      <td>0.003035</td>\n",
       "    </tr>\n",
       "    <tr>\n",
       "      <th>2019-02-01 03:00:00</th>\n",
       "      <td>3.0</td>\n",
       "      <td>3</td>\n",
       "      <td>2019-02-01</td>\n",
       "      <td>4</td>\n",
       "      <td>5</td>\n",
       "      <td>3</td>\n",
       "      <td>3</td>\n",
       "      <td>785.0</td>\n",
       "      <td>659</td>\n",
       "      <td>256</td>\n",
       "      <td>256</td>\n",
       "      <td>0.0117188</td>\n",
       "      <td>weekday</td>\n",
       "      <td>0</td>\n",
       "      <td>0</td>\n",
       "      <td>0.004552</td>\n",
       "    </tr>\n",
       "    <tr>\n",
       "      <th>2019-02-01 04:00:00</th>\n",
       "      <td>9.0</td>\n",
       "      <td>8</td>\n",
       "      <td>2019-02-01</td>\n",
       "      <td>4</td>\n",
       "      <td>5</td>\n",
       "      <td>4</td>\n",
       "      <td>8</td>\n",
       "      <td>785.0</td>\n",
       "      <td>659</td>\n",
       "      <td>256</td>\n",
       "      <td>256</td>\n",
       "      <td>0.03125</td>\n",
       "      <td>weekday</td>\n",
       "      <td>0</td>\n",
       "      <td>0</td>\n",
       "      <td>0.012140</td>\n",
       "    </tr>\n",
       "    <tr>\n",
       "      <th>...</th>\n",
       "      <td>...</td>\n",
       "      <td>...</td>\n",
       "      <td>...</td>\n",
       "      <td>...</td>\n",
       "      <td>...</td>\n",
       "      <td>...</td>\n",
       "      <td>...</td>\n",
       "      <td>...</td>\n",
       "      <td>...</td>\n",
       "      <td>...</td>\n",
       "      <td>...</td>\n",
       "      <td>...</td>\n",
       "      <td>...</td>\n",
       "      <td>...</td>\n",
       "      <td>...</td>\n",
       "      <td>...</td>\n",
       "    </tr>\n",
       "    <tr>\n",
       "      <th>2019-06-30 19:00:00</th>\n",
       "      <td>112.0</td>\n",
       "      <td>90</td>\n",
       "      <td>2019-06-30</td>\n",
       "      <td>6</td>\n",
       "      <td>26</td>\n",
       "      <td>19</td>\n",
       "      <td>85</td>\n",
       "      <td>2174.0</td>\n",
       "      <td>1700</td>\n",
       "      <td>499</td>\n",
       "      <td>790</td>\n",
       "      <td>0.107595</td>\n",
       "      <td>weekend</td>\n",
       "      <td>0</td>\n",
       "      <td>0</td>\n",
       "      <td>0.052941</td>\n",
       "    </tr>\n",
       "    <tr>\n",
       "      <th>2019-06-30 20:00:00</th>\n",
       "      <td>104.0</td>\n",
       "      <td>87</td>\n",
       "      <td>2019-06-30</td>\n",
       "      <td>6</td>\n",
       "      <td>26</td>\n",
       "      <td>20</td>\n",
       "      <td>82</td>\n",
       "      <td>2174.0</td>\n",
       "      <td>1700</td>\n",
       "      <td>499</td>\n",
       "      <td>790</td>\n",
       "      <td>0.103797</td>\n",
       "      <td>weekend</td>\n",
       "      <td>0</td>\n",
       "      <td>0</td>\n",
       "      <td>0.051176</td>\n",
       "    </tr>\n",
       "    <tr>\n",
       "      <th>2019-06-30 21:00:00</th>\n",
       "      <td>82.0</td>\n",
       "      <td>66</td>\n",
       "      <td>2019-06-30</td>\n",
       "      <td>6</td>\n",
       "      <td>26</td>\n",
       "      <td>21</td>\n",
       "      <td>62</td>\n",
       "      <td>2174.0</td>\n",
       "      <td>1700</td>\n",
       "      <td>499</td>\n",
       "      <td>790</td>\n",
       "      <td>0.078481</td>\n",
       "      <td>weekend</td>\n",
       "      <td>0</td>\n",
       "      <td>0</td>\n",
       "      <td>0.038824</td>\n",
       "    </tr>\n",
       "    <tr>\n",
       "      <th>2019-06-30 22:00:00</th>\n",
       "      <td>36.0</td>\n",
       "      <td>35</td>\n",
       "      <td>2019-06-30</td>\n",
       "      <td>6</td>\n",
       "      <td>26</td>\n",
       "      <td>22</td>\n",
       "      <td>34</td>\n",
       "      <td>2174.0</td>\n",
       "      <td>1700</td>\n",
       "      <td>499</td>\n",
       "      <td>790</td>\n",
       "      <td>0.043038</td>\n",
       "      <td>weekend</td>\n",
       "      <td>0</td>\n",
       "      <td>0</td>\n",
       "      <td>0.020588</td>\n",
       "    </tr>\n",
       "    <tr>\n",
       "      <th>2019-06-30 23:00:00</th>\n",
       "      <td>20.0</td>\n",
       "      <td>20</td>\n",
       "      <td>2019-06-30</td>\n",
       "      <td>6</td>\n",
       "      <td>26</td>\n",
       "      <td>23</td>\n",
       "      <td>19</td>\n",
       "      <td>2174.0</td>\n",
       "      <td>1700</td>\n",
       "      <td>499</td>\n",
       "      <td>790</td>\n",
       "      <td>0.0240506</td>\n",
       "      <td>weekend</td>\n",
       "      <td>0</td>\n",
       "      <td>0</td>\n",
       "      <td>0.011765</td>\n",
       "    </tr>\n",
       "  </tbody>\n",
       "</table>\n",
       "<p>3490 rows × 16 columns</p>\n",
       "</div>"
      ],
      "text/plain": [
       "                     revenue  trips        date  weekday  week  time  \\\n",
       "timestamp_rounded                                                      \n",
       "2019-02-01 00:00:00      9.0      8  2019-02-01        4     5     0   \n",
       "2019-02-01 01:00:00      9.0      7  2019-02-01        4     5     1   \n",
       "2019-02-01 02:00:00      7.0      2  2019-02-01        4     5     2   \n",
       "2019-02-01 03:00:00      3.0      3  2019-02-01        4     5     3   \n",
       "2019-02-01 04:00:00      9.0      8  2019-02-01        4     5     4   \n",
       "...                      ...    ...         ...      ...   ...   ...   \n",
       "2019-06-30 19:00:00    112.0     90  2019-06-30        6    26    19   \n",
       "2019-06-30 20:00:00    104.0     87  2019-06-30        6    26    20   \n",
       "2019-06-30 21:00:00     82.0     66  2019-06-30        6    26    21   \n",
       "2019-06-30 22:00:00     36.0     35  2019-06-30        6    26    22   \n",
       "2019-06-30 23:00:00     20.0     20  2019-06-30        6    26    23   \n",
       "\n",
       "                     used_bikes  daily_revenue  daily_trips  daily_used_bikes  \\\n",
       "timestamp_rounded                                                               \n",
       "2019-02-01 00:00:00           8          785.0          659               256   \n",
       "2019-02-01 01:00:00           7          785.0          659               256   \n",
       "2019-02-01 02:00:00           2          785.0          659               256   \n",
       "2019-02-01 03:00:00           3          785.0          659               256   \n",
       "2019-02-01 04:00:00           8          785.0          659               256   \n",
       "...                         ...            ...          ...               ...   \n",
       "2019-06-30 19:00:00          85         2174.0         1700               499   \n",
       "2019-06-30 20:00:00          82         2174.0         1700               499   \n",
       "2019-06-30 21:00:00          62         2174.0         1700               499   \n",
       "2019-06-30 22:00:00          34         2174.0         1700               499   \n",
       "2019-06-30 23:00:00          19         2174.0         1700               499   \n",
       "\n",
       "                    fleet_size      usage day_classifier  vacations  holiday  \\\n",
       "timestamp_rounded                                                              \n",
       "2019-02-01 00:00:00        256    0.03125        weekday          0        0   \n",
       "2019-02-01 01:00:00        256  0.0273438        weekday          0        0   \n",
       "2019-02-01 02:00:00        256  0.0078125        weekday          0        0   \n",
       "2019-02-01 03:00:00        256  0.0117188        weekday          0        0   \n",
       "2019-02-01 04:00:00        256    0.03125        weekday          0        0   \n",
       "...                        ...        ...            ...        ...      ...   \n",
       "2019-06-30 19:00:00        790   0.107595        weekend          0        0   \n",
       "2019-06-30 20:00:00        790   0.103797        weekend          0        0   \n",
       "2019-06-30 21:00:00        790   0.078481        weekend          0        0   \n",
       "2019-06-30 22:00:00        790   0.043038        weekend          0        0   \n",
       "2019-06-30 23:00:00        790  0.0240506        weekend          0        0   \n",
       "\n",
       "                     relative_trips  \n",
       "timestamp_rounded                    \n",
       "2019-02-01 00:00:00        0.012140  \n",
       "2019-02-01 01:00:00        0.010622  \n",
       "2019-02-01 02:00:00        0.003035  \n",
       "2019-02-01 03:00:00        0.004552  \n",
       "2019-02-01 04:00:00        0.012140  \n",
       "...                             ...  \n",
       "2019-06-30 19:00:00        0.052941  \n",
       "2019-06-30 20:00:00        0.051176  \n",
       "2019-06-30 21:00:00        0.038824  \n",
       "2019-06-30 22:00:00        0.020588  \n",
       "2019-06-30 23:00:00        0.011765  \n",
       "\n",
       "[3490 rows x 16 columns]"
      ]
     },
     "execution_count": 136,
     "metadata": {},
     "output_type": "execute_result"
    }
   ],
   "source": [
    "df_by_hour = df.groupby(\"timestamp_rounded\").agg(\n",
    "    revenue=('revenue', \"sum\"),\n",
    "    trips=(\"b_number\",\"count\"),\n",
    "    date=(\"date\",\"min\"),\n",
    "    weekday=(\"weekday\",\"min\"),\n",
    "    week = (\"week\",\"min\"),\n",
    "    time = (\"Time\",\"min\"),\n",
    "    used_bikes=('b_number', pd.Series.nunique))\n",
    "\n",
    "\n",
    "df_by_hour_merged = pd.merge(df_by_hour, df_by_date_merged, right_index=True, left_on='date')\n",
    "\n",
    "\n",
    "df_by_hour_merged[\"usage\"] = df_by_hour_merged[\"used_bikes\"] / df_by_hour_merged[\"fleet_size\"]\n",
    "df_by_hour_merged[\"relative_trips\"] = df_by_hour_merged[\"trips\"] / df_by_hour_merged[\"daily_trips\"]\n",
    "\n",
    "\n",
    "\n",
    "df_by_hour_merged"
   ]
  },
  {
   "cell_type": "markdown",
   "metadata": {},
   "source": [
    "# Task 2"
   ]
  },
  {
   "cell_type": "code",
   "execution_count": 137,
   "metadata": {},
   "outputs": [
    {
     "data": {
      "text/plain": [
       "<matplotlib.axes._axes.Axes at 0x15128965c10>"
      ]
     },
     "execution_count": 137,
     "metadata": {},
     "output_type": "execute_result"
    },
    {
     "data": {
      "image/png": "[encoded data removed]",
      "text/plain": [
       "<Figure size 1152x432 with 1 Axes>"
      ]
     },
     "metadata": {
      "needs_background": "light"
     },
     "output_type": "display_data"
    }
   ],
   "source": [
    "daily_trend = df_by_hour_merged[[\"time\",\"day_classifier\",\"relative_trips\"]]\n",
    "\n",
    "# Create a figure (empty work space)\n",
    "Fig_1 = plt.figure(figsize=(16,6))\n",
    "\n",
    "# Add axes to the figure\n",
    "ax_1 = Fig_1.add_axes([0.5, 0.5, 1, 1]) #The dimensions [left, bottom, width, height] of the axes\n",
    "\n",
    "\n",
    "sns.boxplot(ax = ax_1,\n",
    "                 data=daily_trend, \n",
    "                 x=\"time\", \n",
    "                 y=\"relative_trips\", \n",
    "                 hue='day_classifier', \n",
    "                 palette=\"Set3\")\n"
   ]
  },
  {
   "cell_type": "code",
   "execution_count": 138,
   "metadata": {},
   "outputs": [
    {
     "data": {
      "text/html": [
       "<div>\n",
       "<style scoped>\n",
       "    .dataframe tbody tr th:only-of-type {\n",
       "        vertical-align: middle;\n",
       "    }\n",
       "\n",
       "    .dataframe tbody tr th {\n",
       "        vertical-align: top;\n",
       "    }\n",
       "\n",
       "    .dataframe thead th {\n",
       "        text-align: right;\n",
       "    }\n",
       "</style>\n",
       "<table border=\"1\" class=\"dataframe\">\n",
       "  <thead>\n",
       "    <tr style=\"text-align: right;\">\n",
       "      <th></th>\n",
       "      <th>daily_revenue</th>\n",
       "      <th>daily_trips</th>\n",
       "      <th>daily_used_bikes</th>\n",
       "      <th>fleet_size</th>\n",
       "      <th>usage</th>\n",
       "      <th>day_classifier</th>\n",
       "      <th>vacations</th>\n",
       "      <th>holiday</th>\n",
       "    </tr>\n",
       "    <tr>\n",
       "      <th>date</th>\n",
       "      <th></th>\n",
       "      <th></th>\n",
       "      <th></th>\n",
       "      <th></th>\n",
       "      <th></th>\n",
       "      <th></th>\n",
       "      <th></th>\n",
       "      <th></th>\n",
       "    </tr>\n",
       "  </thead>\n",
       "  <tbody>\n",
       "    <tr>\n",
       "      <th>2019-02-01</th>\n",
       "      <td>785.0</td>\n",
       "      <td>659</td>\n",
       "      <td>256</td>\n",
       "      <td>256</td>\n",
       "      <td>1</td>\n",
       "      <td>weekday</td>\n",
       "      <td>0</td>\n",
       "      <td>0</td>\n",
       "    </tr>\n",
       "    <tr>\n",
       "      <th>2019-02-02</th>\n",
       "      <td>664.0</td>\n",
       "      <td>526</td>\n",
       "      <td>241</td>\n",
       "      <td>329</td>\n",
       "      <td>0.732523</td>\n",
       "      <td>weekend</td>\n",
       "      <td>0</td>\n",
       "      <td>0</td>\n",
       "    </tr>\n",
       "    <tr>\n",
       "      <th>2019-02-03</th>\n",
       "      <td>352.0</td>\n",
       "      <td>285</td>\n",
       "      <td>162</td>\n",
       "      <td>350</td>\n",
       "      <td>0.462857</td>\n",
       "      <td>weekend</td>\n",
       "      <td>0</td>\n",
       "      <td>0</td>\n",
       "    </tr>\n",
       "    <tr>\n",
       "      <th>2019-02-04</th>\n",
       "      <td>623.0</td>\n",
       "      <td>499</td>\n",
       "      <td>237</td>\n",
       "      <td>390</td>\n",
       "      <td>0.607692</td>\n",
       "      <td>weekday</td>\n",
       "      <td>0</td>\n",
       "      <td>0</td>\n",
       "    </tr>\n",
       "    <tr>\n",
       "      <th>2019-02-05</th>\n",
       "      <td>654.0</td>\n",
       "      <td>573</td>\n",
       "      <td>251</td>\n",
       "      <td>421</td>\n",
       "      <td>0.5962</td>\n",
       "      <td>weekday</td>\n",
       "      <td>0</td>\n",
       "      <td>0</td>\n",
       "    </tr>\n",
       "  </tbody>\n",
       "</table>\n",
       "</div>"
      ],
      "text/plain": [
       "            daily_revenue  daily_trips  daily_used_bikes fleet_size     usage  \\\n",
       "date                                                                            \n",
       "2019-02-01          785.0          659               256        256         1   \n",
       "2019-02-02          664.0          526               241        329  0.732523   \n",
       "2019-02-03          352.0          285               162        350  0.462857   \n",
       "2019-02-04          623.0          499               237        390  0.607692   \n",
       "2019-02-05          654.0          573               251        421    0.5962   \n",
       "\n",
       "           day_classifier  vacations  holiday  \n",
       "date                                           \n",
       "2019-02-01        weekday          0        0  \n",
       "2019-02-02        weekend          0        0  \n",
       "2019-02-03        weekend          0        0  \n",
       "2019-02-04        weekday          0        0  \n",
       "2019-02-05        weekday          0        0  "
      ]
     },
     "execution_count": 138,
     "metadata": {},
     "output_type": "execute_result"
    }
   ],
   "source": [
    "df_by_date_merged.head()"
   ]
  },
  {
   "cell_type": "markdown",
   "metadata": {},
   "source": [
    "____"
   ]
  },
  {
   "cell_type": "markdown",
   "metadata": {},
   "source": [
    "# Predictive Analytics"
   ]
  },
  {
   "cell_type": "code",
   "execution_count": 139,
   "metadata": {},
   "outputs": [],
   "source": [
    "#Calculating the best Raster Point that is closest to the city center\n",
    "testset_weather = pd.read_csv(\"./weather-data/dwd-raster/target/ra190201_target.csv\") \n",
    "\n",
    "distances_center = []\n",
    "for index, row in testset_weather.iterrows():\n",
    "        d = {\n",
    "            \"LON\": row[\"LON\"],\n",
    "            \"LAT\": row[\"LAT\"],\n",
    "            \"ID\": row[\"ID\"],\n",
    "            \"distance\": calculate_distance(row[\"LON\"], row[\"LAT\"], leipzig[\"lng\"], leipzig[\"lat\"])\n",
    "        } \n",
    "        distances_center.append(d)\n",
    "distances_center = pd.DataFrame(distances_center)\n",
    "\n",
    "raster_id = distances_center.iloc[distances_center[\"distance\"].idxmin()][\"ID\"]"
   ]
  },
  {
   "cell_type": "code",
   "execution_count": 140,
   "metadata": {},
   "outputs": [
    {
     "name": "stderr",
     "output_type": "stream",
     "text": [
      "C:\\Users\\Install\\anaconda3\\lib\\site-packages\\pandas\\core\\frame.py:4163: SettingWithCopyWarning: \n",
      "A value is trying to be set on a copy of a slice from a DataFrame\n",
      "\n",
      "See the caveats in the documentation: https://pandas.pydata.org/pandas-docs/stable/user_guide/indexing.html#returning-a-view-versus-a-copy\n",
      "  return super().drop(\n"
     ]
    }
   ],
   "source": [
    "#Read in CDC Raster Data from single files and Filter for the calculated point\n",
    "import os\n",
    "\n",
    "path = './weather-data/dwd-raster/target/'\n",
    "rain_data_all = pd.concat((pd.read_csv(path+filename) for filename in os.listdir(path)))\n",
    "\n",
    "rain_data = rain_data_all[rain_data_all[\"ID\"] == raster_id]\n",
    "rain_data.index = dates #indexing\n",
    "rain_data.drop(columns=[\"ID\"],inplace=True) "
   ]
  },
  {
   "cell_type": "code",
   "execution_count": 141,
   "metadata": {},
   "outputs": [
    {
     "data": {
      "text/plain": [
       "tsun    0\n",
       "pres    0\n",
       "wspd    0\n",
       "snow    0\n",
       "prcp    0\n",
       "tmax    0\n",
       "tmin    0\n",
       "tavg    0\n",
       "dtype: int64"
      ]
     },
     "execution_count": 141,
     "metadata": {},
     "output_type": "execute_result"
    }
   ],
   "source": [
    "#Meteostat Data read-in\n",
    "meteostat_leipzig = pd.read_csv(\"./weather-data/meteostat-leipzig.csv\") \n",
    "meteostat_leipzig.index = dates\n",
    "meteostat_leipzig.drop(columns=[\"wpgt\",\"wdir\",\"date\"],inplace=True)\n",
    "\n",
    "meteostat_leipzig.isnull().sum().sort_values(ascending=False)\n",
    "\n",
    "#plt.plot(rain_data.index,rain_data.VAL)\n",
    "#plt.plot(meteostat_leipzig.index,meteostat_leipzig.prcp)"
   ]
  },
  {
   "cell_type": "code",
   "execution_count": 142,
   "metadata": {},
   "outputs": [],
   "source": [
    "from sklearn.model_selection import train_test_split\n",
    "from sklearn.linear_model import LinearRegression\n",
    "from sklearn.metrics import mean_squared_error, mean_absolute_error, r2_score"
   ]
  },
  {
   "cell_type": "code",
   "execution_count": 143,
   "metadata": {},
   "outputs": [
    {
     "data": {
      "text/html": [
       "<div>\n",
       "<style scoped>\n",
       "    .dataframe tbody tr th:only-of-type {\n",
       "        vertical-align: middle;\n",
       "    }\n",
       "\n",
       "    .dataframe tbody tr th {\n",
       "        vertical-align: top;\n",
       "    }\n",
       "\n",
       "    .dataframe thead th {\n",
       "        text-align: right;\n",
       "    }\n",
       "</style>\n",
       "<table border=\"1\" class=\"dataframe\">\n",
       "  <thead>\n",
       "    <tr style=\"text-align: right;\">\n",
       "      <th></th>\n",
       "      <th>daily_trips</th>\n",
       "      <th>fleet_size</th>\n",
       "      <th>vacations</th>\n",
       "      <th>holiday</th>\n",
       "      <th>weekday_dummy</th>\n",
       "      <th>tavg</th>\n",
       "      <th>tmin</th>\n",
       "      <th>tmax</th>\n",
       "      <th>prcp</th>\n",
       "      <th>snow</th>\n",
       "      <th>wspd</th>\n",
       "      <th>pres</th>\n",
       "      <th>tsun</th>\n",
       "    </tr>\n",
       "    <tr>\n",
       "      <th>date</th>\n",
       "      <th></th>\n",
       "      <th></th>\n",
       "      <th></th>\n",
       "      <th></th>\n",
       "      <th></th>\n",
       "      <th></th>\n",
       "      <th></th>\n",
       "      <th></th>\n",
       "      <th></th>\n",
       "      <th></th>\n",
       "      <th></th>\n",
       "      <th></th>\n",
       "      <th></th>\n",
       "    </tr>\n",
       "  </thead>\n",
       "  <tbody>\n",
       "    <tr>\n",
       "      <th>2019-02-01</th>\n",
       "      <td>659</td>\n",
       "      <td>256</td>\n",
       "      <td>0</td>\n",
       "      <td>0</td>\n",
       "      <td>1</td>\n",
       "      <td>0.7</td>\n",
       "      <td>-2.3</td>\n",
       "      <td>3.3</td>\n",
       "      <td>0.0</td>\n",
       "      <td>0</td>\n",
       "      <td>6</td>\n",
       "      <td>995.2</td>\n",
       "      <td>0</td>\n",
       "    </tr>\n",
       "    <tr>\n",
       "      <th>2019-02-02</th>\n",
       "      <td>526</td>\n",
       "      <td>329</td>\n",
       "      <td>0</td>\n",
       "      <td>0</td>\n",
       "      <td>0</td>\n",
       "      <td>1.2</td>\n",
       "      <td>0.7</td>\n",
       "      <td>1.6</td>\n",
       "      <td>0.0</td>\n",
       "      <td>0</td>\n",
       "      <td>5</td>\n",
       "      <td>997.3</td>\n",
       "      <td>0</td>\n",
       "    </tr>\n",
       "    <tr>\n",
       "      <th>2019-02-03</th>\n",
       "      <td>285</td>\n",
       "      <td>350</td>\n",
       "      <td>0</td>\n",
       "      <td>0</td>\n",
       "      <td>0</td>\n",
       "      <td>0.7</td>\n",
       "      <td>0.2</td>\n",
       "      <td>1.1</td>\n",
       "      <td>4.7</td>\n",
       "      <td>30</td>\n",
       "      <td>11</td>\n",
       "      <td>1013.9</td>\n",
       "      <td>0</td>\n",
       "    </tr>\n",
       "    <tr>\n",
       "      <th>2019-02-04</th>\n",
       "      <td>499</td>\n",
       "      <td>390</td>\n",
       "      <td>0</td>\n",
       "      <td>0</td>\n",
       "      <td>1</td>\n",
       "      <td>0.8</td>\n",
       "      <td>-1.6</td>\n",
       "      <td>4.7</td>\n",
       "      <td>0.0</td>\n",
       "      <td>30</td>\n",
       "      <td>9</td>\n",
       "      <td>1028.2</td>\n",
       "      <td>470</td>\n",
       "    </tr>\n",
       "    <tr>\n",
       "      <th>2019-02-05</th>\n",
       "      <td>573</td>\n",
       "      <td>421</td>\n",
       "      <td>0</td>\n",
       "      <td>0</td>\n",
       "      <td>1</td>\n",
       "      <td>1.4</td>\n",
       "      <td>-0.5</td>\n",
       "      <td>3.8</td>\n",
       "      <td>0.0</td>\n",
       "      <td>20</td>\n",
       "      <td>9</td>\n",
       "      <td>1027.9</td>\n",
       "      <td>2</td>\n",
       "    </tr>\n",
       "    <tr>\n",
       "      <th>...</th>\n",
       "      <td>...</td>\n",
       "      <td>...</td>\n",
       "      <td>...</td>\n",
       "      <td>...</td>\n",
       "      <td>...</td>\n",
       "      <td>...</td>\n",
       "      <td>...</td>\n",
       "      <td>...</td>\n",
       "      <td>...</td>\n",
       "      <td>...</td>\n",
       "      <td>...</td>\n",
       "      <td>...</td>\n",
       "      <td>...</td>\n",
       "    </tr>\n",
       "    <tr>\n",
       "      <th>2019-06-26</th>\n",
       "      <td>2552</td>\n",
       "      <td>785</td>\n",
       "      <td>0</td>\n",
       "      <td>0</td>\n",
       "      <td>1</td>\n",
       "      <td>29.4</td>\n",
       "      <td>21.5</td>\n",
       "      <td>36.6</td>\n",
       "      <td>0.0</td>\n",
       "      <td>0</td>\n",
       "      <td>14</td>\n",
       "      <td>1020.1</td>\n",
       "      <td>750</td>\n",
       "    </tr>\n",
       "    <tr>\n",
       "      <th>2019-06-27</th>\n",
       "      <td>2555</td>\n",
       "      <td>787</td>\n",
       "      <td>0</td>\n",
       "      <td>0</td>\n",
       "      <td>1</td>\n",
       "      <td>20.5</td>\n",
       "      <td>15.3</td>\n",
       "      <td>26.2</td>\n",
       "      <td>0.0</td>\n",
       "      <td>0</td>\n",
       "      <td>17</td>\n",
       "      <td>1023.9</td>\n",
       "      <td>768</td>\n",
       "    </tr>\n",
       "    <tr>\n",
       "      <th>2019-06-28</th>\n",
       "      <td>2857</td>\n",
       "      <td>789</td>\n",
       "      <td>0</td>\n",
       "      <td>0</td>\n",
       "      <td>1</td>\n",
       "      <td>18.2</td>\n",
       "      <td>13.5</td>\n",
       "      <td>24.0</td>\n",
       "      <td>0.0</td>\n",
       "      <td>0</td>\n",
       "      <td>7</td>\n",
       "      <td>1024.5</td>\n",
       "      <td>513</td>\n",
       "    </tr>\n",
       "    <tr>\n",
       "      <th>2019-06-29</th>\n",
       "      <td>2780</td>\n",
       "      <td>795</td>\n",
       "      <td>0</td>\n",
       "      <td>0</td>\n",
       "      <td>0</td>\n",
       "      <td>21.3</td>\n",
       "      <td>10.7</td>\n",
       "      <td>30.4</td>\n",
       "      <td>0.0</td>\n",
       "      <td>0</td>\n",
       "      <td>4</td>\n",
       "      <td>1021.0</td>\n",
       "      <td>779</td>\n",
       "    </tr>\n",
       "    <tr>\n",
       "      <th>2019-06-30</th>\n",
       "      <td>1700</td>\n",
       "      <td>790</td>\n",
       "      <td>0</td>\n",
       "      <td>0</td>\n",
       "      <td>0</td>\n",
       "      <td>28.0</td>\n",
       "      <td>16.7</td>\n",
       "      <td>38.0</td>\n",
       "      <td>0.0</td>\n",
       "      <td>0</td>\n",
       "      <td>9</td>\n",
       "      <td>1013.5</td>\n",
       "      <td>768</td>\n",
       "    </tr>\n",
       "  </tbody>\n",
       "</table>\n",
       "<p>147 rows × 13 columns</p>\n",
       "</div>"
      ],
      "text/plain": [
       "            daily_trips fleet_size  vacations  holiday  weekday_dummy  tavg  \\\n",
       "date                                                                          \n",
       "2019-02-01          659        256          0        0              1   0.7   \n",
       "2019-02-02          526        329          0        0              0   1.2   \n",
       "2019-02-03          285        350          0        0              0   0.7   \n",
       "2019-02-04          499        390          0        0              1   0.8   \n",
       "2019-02-05          573        421          0        0              1   1.4   \n",
       "...                 ...        ...        ...      ...            ...   ...   \n",
       "2019-06-26         2552        785          0        0              1  29.4   \n",
       "2019-06-27         2555        787          0        0              1  20.5   \n",
       "2019-06-28         2857        789          0        0              1  18.2   \n",
       "2019-06-29         2780        795          0        0              0  21.3   \n",
       "2019-06-30         1700        790          0        0              0  28.0   \n",
       "\n",
       "            tmin  tmax  prcp  snow  wspd    pres  tsun  \n",
       "date                                                    \n",
       "2019-02-01  -2.3   3.3   0.0     0     6   995.2     0  \n",
       "2019-02-02   0.7   1.6   0.0     0     5   997.3     0  \n",
       "2019-02-03   0.2   1.1   4.7    30    11  1013.9     0  \n",
       "2019-02-04  -1.6   4.7   0.0    30     9  1028.2   470  \n",
       "2019-02-05  -0.5   3.8   0.0    20     9  1027.9     2  \n",
       "...          ...   ...   ...   ...   ...     ...   ...  \n",
       "2019-06-26  21.5  36.6   0.0     0    14  1020.1   750  \n",
       "2019-06-27  15.3  26.2   0.0     0    17  1023.9   768  \n",
       "2019-06-28  13.5  24.0   0.0     0     7  1024.5   513  \n",
       "2019-06-29  10.7  30.4   0.0     0     4  1021.0   779  \n",
       "2019-06-30  16.7  38.0   0.0     0     9  1013.5   768  \n",
       "\n",
       "[147 rows x 13 columns]"
      ]
     },
     "execution_count": 143,
     "metadata": {},
     "output_type": "execute_result"
    }
   ],
   "source": [
    "df_predictive = df_by_date_merged\n",
    "df_predictive[\"weekday_dummy\"] = df_predictive[\"day_classifier\"].isin([\"weekday\"]).astype(int)\n",
    "df_predictive = df_predictive.join(meteostat_leipzig)\n",
    "df_predictive = df_predictive.drop(columns={\"day_classifier\",\"usage\",\"daily_revenue\",\"daily_used_bikes\"})\n",
    "df_predictive"
   ]
  },
  {
   "cell_type": "code",
   "execution_count": 144,
   "metadata": {},
   "outputs": [
    {
     "data": {
      "image/png": "[encoded data removed]",
      "text/plain": [
       "<Figure size 864x576 with 1 Axes>"
      ]
     },
     "metadata": {
      "needs_background": "light"
     },
     "output_type": "display_data"
    }
   ],
   "source": [
    "def plot_cells():\n",
    "    plt.figure(figsize=(12,8))\n",
    "    plt.scatter(df_predictive[df_predictive[\"weekday_dummy\"]=='0']['tavg'], df_predictive[df_predictive[\"weekday_dummy\"]=='0']['daily_trips'], marker='x', color='C0')\n",
    "    plt.scatter(df_predictive[df_predictive[\"weekday_dummy\"]=='1']['tavg'], df_predictive[df_predictive[\"weekday_dummy\"]=='1']['daily_trips'], marker='+', color='C3')\n",
    "    plt.xlim([0,2600])\n",
    "    plt.ylim([0,500])\n",
    "    plt.xlabel(\"Average Temp\")\n",
    "    plt.ylabel(\"Vacations\")\n",
    "    plt.legend(['Workingday', 'Nonworkingday'])\n",
    "    \n",
    "plot_cells()"
   ]
  },
  {
   "cell_type": "markdown",
   "metadata": {},
   "source": [
    "## Arima Model?"
   ]
  },
  {
   "cell_type": "code",
   "execution_count": 191,
   "metadata": {},
   "outputs": [],
   "source": [
    "import numpy as np                               # vectors and matrices\n",
    "import pandas as pd                              # tables and data manipulations\n",
    "import matplotlib.pyplot as plt                  # plots\n",
    "import seaborn as sns                            # more plots\n",
    "\n",
    "from dateutil.relativedelta import relativedelta # working with dates with style\n",
    "from scipy.optimize import minimize              # for function minimization\n",
    "\n",
    "import statsmodels.formula.api as smf            # statistics and econometrics\n",
    "import statsmodels.tsa.api as smt\n",
    "import statsmodels.api as sm\n",
    "import scipy.stats as scs\n",
    "\n",
    "from itertools import product                    # some useful functions\n",
    "from tqdm import tqdm_notebook\n",
    "\n",
    "from statsmodels.tsa.seasonal import seasonal_decompose \n",
    "\n",
    "%matplotlib inline"
   ]
  },
  {
   "cell_type": "code",
   "execution_count": 192,
   "metadata": {},
   "outputs": [
    {
     "data": {
      "image/png": "[encoded data removed]",
      "text/plain": [
       "<Figure size 1080x504 with 1 Axes>"
      ]
     },
     "metadata": {
      "needs_background": "light"
     },
     "output_type": "display_data"
    }
   ],
   "source": [
    "plt.figure(figsize=(15, 7))\n",
    "plt.plot(df_predictive ['daily_trips'])\n",
    "plt.title('Daily Trips (February 2019 to July 2019)')\n",
    "plt.grid(True)\n",
    "plt.show()"
   ]
  },
  {
   "cell_type": "code",
   "execution_count": 193,
   "metadata": {},
   "outputs": [
    {
     "data": {
      "text/plain": [
       "<AxesSubplot:xlabel='date'>"
      ]
     },
     "execution_count": 193,
     "metadata": {},
     "output_type": "execute_result"
    },
    {
     "data": {
      "image/png": "[encoded data removed]",
      "text/plain": [
       "<Figure size 432x288 with 1 Axes>"
      ]
     },
     "metadata": {
      "needs_background": "light"
     },
     "output_type": "display_data"
    }
   ],
   "source": [
    "daily_trips = df_predictive[\"daily_trips\"]\n",
    "daily_trips.plot()"
   ]
  },
  {
   "cell_type": "code",
   "execution_count": 199,
   "metadata": {},
   "outputs": [
    {
     "data": {
      "image/png": "[encoded data removed]",
      "text/plain": [
       "<Figure size 2160x2160 with 4 Axes>"
      ]
     },
     "metadata": {
      "needs_background": "light"
     },
     "output_type": "display_data"
    }
   ],
   "source": [
    "res = sm.tsa.seasonal_decompose(df_predictive.daily_trips.dropna(),period=73)\n",
    "fig = res.plot()\n",
    "fig.set_figheight(30)\n",
    "fig.set_figwidth(30)\n",
    "plt.show()\n",
    "\n",
    "#Observed\n",
    "#Trend\n",
    "#Seasonal\n",
    "#Residual"
   ]
  },
  {
   "cell_type": "code",
   "execution_count": 203,
   "metadata": {},
   "outputs": [],
   "source": [
    "# date to datetime?\n",
    "#startdate = pd.to_datetime(\"2019-02-01\").date()\n",
    "#enddate = pd.to_datetime(\"2019-06-30\").date()\n",
    "#df.loc[startdate:enddate]"
   ]
  },
  {
   "cell_type": "code",
   "execution_count": 204,
   "metadata": {},
   "outputs": [
    {
     "ename": "TypeError",
     "evalue": "'<' not supported between instances of 'datetime.date' and 'str'",
     "output_type": "error",
     "traceback": [
      "\u001b[1;31m---------------------------------------------------------------------------\u001b[0m",
      "\u001b[1;31mKeyError\u001b[0m                                  Traceback (most recent call last)",
      "\u001b[1;32m~\\anaconda3\\lib\\site-packages\\pandas\\core\\indexes\\base.py\u001b[0m in \u001b[0;36mget_loc\u001b[1;34m(self, key, method, tolerance)\u001b[0m\n\u001b[0;32m   2894\u001b[0m             \u001b[1;32mtry\u001b[0m\u001b[1;33m:\u001b[0m\u001b[1;33m\u001b[0m\u001b[1;33m\u001b[0m\u001b[0m\n\u001b[1;32m-> 2895\u001b[1;33m                 \u001b[1;32mreturn\u001b[0m \u001b[0mself\u001b[0m\u001b[1;33m.\u001b[0m\u001b[0m_engine\u001b[0m\u001b[1;33m.\u001b[0m\u001b[0mget_loc\u001b[0m\u001b[1;33m(\u001b[0m\u001b[0mcasted_key\u001b[0m\u001b[1;33m)\u001b[0m\u001b[1;33m\u001b[0m\u001b[1;33m\u001b[0m\u001b[0m\n\u001b[0m\u001b[0;32m   2896\u001b[0m             \u001b[1;32mexcept\u001b[0m \u001b[0mKeyError\u001b[0m \u001b[1;32mas\u001b[0m \u001b[0merr\u001b[0m\u001b[1;33m:\u001b[0m\u001b[1;33m\u001b[0m\u001b[1;33m\u001b[0m\u001b[0m\n",
      "\u001b[1;32mpandas\\_libs\\index.pyx\u001b[0m in \u001b[0;36mpandas._libs.index.IndexEngine.get_loc\u001b[1;34m()\u001b[0m\n",
      "\u001b[1;32mpandas\\_libs\\index.pyx\u001b[0m in \u001b[0;36mpandas._libs.index.IndexEngine.get_loc\u001b[1;34m()\u001b[0m\n",
      "\u001b[1;32mpandas\\_libs\\hashtable_class_helper.pxi\u001b[0m in \u001b[0;36mpandas._libs.hashtable.PyObjectHashTable.get_item\u001b[1;34m()\u001b[0m\n",
      "\u001b[1;32mpandas\\_libs\\hashtable_class_helper.pxi\u001b[0m in \u001b[0;36mpandas._libs.hashtable.PyObjectHashTable.get_item\u001b[1;34m()\u001b[0m\n",
      "\u001b[1;31mKeyError\u001b[0m: '2019-02-01'",
      "\nThe above exception was the direct cause of the following exception:\n",
      "\u001b[1;31mKeyError\u001b[0m                                  Traceback (most recent call last)",
      "\u001b[1;32m~\\anaconda3\\lib\\site-packages\\pandas\\core\\indexes\\base.py\u001b[0m in \u001b[0;36mget_slice_bound\u001b[1;34m(self, label, side, kind)\u001b[0m\n\u001b[0;32m   5082\u001b[0m         \u001b[1;32mtry\u001b[0m\u001b[1;33m:\u001b[0m\u001b[1;33m\u001b[0m\u001b[1;33m\u001b[0m\u001b[0m\n\u001b[1;32m-> 5083\u001b[1;33m             \u001b[0mslc\u001b[0m \u001b[1;33m=\u001b[0m \u001b[0mself\u001b[0m\u001b[1;33m.\u001b[0m\u001b[0mget_loc\u001b[0m\u001b[1;33m(\u001b[0m\u001b[0mlabel\u001b[0m\u001b[1;33m)\u001b[0m\u001b[1;33m\u001b[0m\u001b[1;33m\u001b[0m\u001b[0m\n\u001b[0m\u001b[0;32m   5084\u001b[0m         \u001b[1;32mexcept\u001b[0m \u001b[0mKeyError\u001b[0m \u001b[1;32mas\u001b[0m \u001b[0merr\u001b[0m\u001b[1;33m:\u001b[0m\u001b[1;33m\u001b[0m\u001b[1;33m\u001b[0m\u001b[0m\n",
      "\u001b[1;32m~\\anaconda3\\lib\\site-packages\\pandas\\core\\indexes\\base.py\u001b[0m in \u001b[0;36mget_loc\u001b[1;34m(self, key, method, tolerance)\u001b[0m\n\u001b[0;32m   2896\u001b[0m             \u001b[1;32mexcept\u001b[0m \u001b[0mKeyError\u001b[0m \u001b[1;32mas\u001b[0m \u001b[0merr\u001b[0m\u001b[1;33m:\u001b[0m\u001b[1;33m\u001b[0m\u001b[1;33m\u001b[0m\u001b[0m\n\u001b[1;32m-> 2897\u001b[1;33m                 \u001b[1;32mraise\u001b[0m \u001b[0mKeyError\u001b[0m\u001b[1;33m(\u001b[0m\u001b[0mkey\u001b[0m\u001b[1;33m)\u001b[0m \u001b[1;32mfrom\u001b[0m \u001b[0merr\u001b[0m\u001b[1;33m\u001b[0m\u001b[1;33m\u001b[0m\u001b[0m\n\u001b[0m\u001b[0;32m   2898\u001b[0m \u001b[1;33m\u001b[0m\u001b[0m\n",
      "\u001b[1;31mKeyError\u001b[0m: '2019-02-01'",
      "\nDuring handling of the above exception, another exception occurred:\n",
      "\u001b[1;31mTypeError\u001b[0m                                 Traceback (most recent call last)",
      "\u001b[1;32m<ipython-input-204-90fb4b3359bc>\u001b[0m in \u001b[0;36m<module>\u001b[1;34m\u001b[0m\n\u001b[0;32m      2\u001b[0m \u001b[0mtr_start\u001b[0m\u001b[1;33m,\u001b[0m\u001b[0mtr_end\u001b[0m \u001b[1;33m=\u001b[0m \u001b[1;34m'2019-02-01'\u001b[0m\u001b[1;33m,\u001b[0m\u001b[1;34m'2019-05-24'\u001b[0m\u001b[1;33m\u001b[0m\u001b[1;33m\u001b[0m\u001b[0m\n\u001b[0;32m      3\u001b[0m \u001b[0mte_start\u001b[0m\u001b[1;33m,\u001b[0m\u001b[0mte_end\u001b[0m \u001b[1;33m=\u001b[0m \u001b[1;34m'2019-05-25'\u001b[0m\u001b[1;33m,\u001b[0m\u001b[1;34m'2019-06-30'\u001b[0m\u001b[1;33m\u001b[0m\u001b[1;33m\u001b[0m\u001b[0m\n\u001b[1;32m----> 4\u001b[1;33m \u001b[0mtra\u001b[0m \u001b[1;33m=\u001b[0m \u001b[0mdf_predictive\u001b[0m\u001b[1;33m[\u001b[0m\u001b[1;34m'daily_trips'\u001b[0m\u001b[1;33m]\u001b[0m\u001b[1;33m[\u001b[0m\u001b[0mtr_start\u001b[0m\u001b[1;33m:\u001b[0m\u001b[0mtr_end\u001b[0m\u001b[1;33m]\u001b[0m\u001b[1;33m.\u001b[0m\u001b[0mdropna\u001b[0m\u001b[1;33m(\u001b[0m\u001b[1;33m)\u001b[0m\u001b[1;33m\u001b[0m\u001b[1;33m\u001b[0m\u001b[0m\n\u001b[0m\u001b[0;32m      5\u001b[0m \u001b[0mtes\u001b[0m \u001b[1;33m=\u001b[0m \u001b[0mdf_predictive\u001b[0m\u001b[1;33m[\u001b[0m\u001b[1;34m'daily_trips'\u001b[0m\u001b[1;33m]\u001b[0m\u001b[1;33m[\u001b[0m\u001b[0mte_start\u001b[0m\u001b[1;33m:\u001b[0m\u001b[0mte_end\u001b[0m\u001b[1;33m]\u001b[0m\u001b[1;33m.\u001b[0m\u001b[0mdropna\u001b[0m\u001b[1;33m(\u001b[0m\u001b[1;33m)\u001b[0m\u001b[1;33m\u001b[0m\u001b[1;33m\u001b[0m\u001b[0m\n",
      "\u001b[1;32m~\\anaconda3\\lib\\site-packages\\pandas\\core\\series.py\u001b[0m in \u001b[0;36m__getitem__\u001b[1;34m(self, key)\u001b[0m\n\u001b[0;32m    904\u001b[0m             \u001b[1;32mreturn\u001b[0m \u001b[0mself\u001b[0m\u001b[1;33m.\u001b[0m\u001b[0m_get_values\u001b[0m\u001b[1;33m(\u001b[0m\u001b[0mkey\u001b[0m\u001b[1;33m)\u001b[0m\u001b[1;33m\u001b[0m\u001b[1;33m\u001b[0m\u001b[0m\n\u001b[0;32m    905\u001b[0m \u001b[1;33m\u001b[0m\u001b[0m\n\u001b[1;32m--> 906\u001b[1;33m         \u001b[1;32mreturn\u001b[0m \u001b[0mself\u001b[0m\u001b[1;33m.\u001b[0m\u001b[0m_get_with\u001b[0m\u001b[1;33m(\u001b[0m\u001b[0mkey\u001b[0m\u001b[1;33m)\u001b[0m\u001b[1;33m\u001b[0m\u001b[1;33m\u001b[0m\u001b[0m\n\u001b[0m\u001b[0;32m    907\u001b[0m \u001b[1;33m\u001b[0m\u001b[0m\n\u001b[0;32m    908\u001b[0m     \u001b[1;32mdef\u001b[0m \u001b[0m_get_with\u001b[0m\u001b[1;33m(\u001b[0m\u001b[0mself\u001b[0m\u001b[1;33m,\u001b[0m \u001b[0mkey\u001b[0m\u001b[1;33m)\u001b[0m\u001b[1;33m:\u001b[0m\u001b[1;33m\u001b[0m\u001b[1;33m\u001b[0m\u001b[0m\n",
      "\u001b[1;32m~\\anaconda3\\lib\\site-packages\\pandas\\core\\series.py\u001b[0m in \u001b[0;36m_get_with\u001b[1;34m(self, key)\u001b[0m\n\u001b[0;32m    911\u001b[0m             \u001b[1;31m# _convert_slice_indexer to determine if this slice is positional\u001b[0m\u001b[1;33m\u001b[0m\u001b[1;33m\u001b[0m\u001b[1;33m\u001b[0m\u001b[0m\n\u001b[0;32m    912\u001b[0m             \u001b[1;31m#  or label based, and if the latter, convert to positional\u001b[0m\u001b[1;33m\u001b[0m\u001b[1;33m\u001b[0m\u001b[1;33m\u001b[0m\u001b[0m\n\u001b[1;32m--> 913\u001b[1;33m             \u001b[0mslobj\u001b[0m \u001b[1;33m=\u001b[0m \u001b[0mself\u001b[0m\u001b[1;33m.\u001b[0m\u001b[0mindex\u001b[0m\u001b[1;33m.\u001b[0m\u001b[0m_convert_slice_indexer\u001b[0m\u001b[1;33m(\u001b[0m\u001b[0mkey\u001b[0m\u001b[1;33m,\u001b[0m \u001b[0mkind\u001b[0m\u001b[1;33m=\u001b[0m\u001b[1;34m\"getitem\"\u001b[0m\u001b[1;33m)\u001b[0m\u001b[1;33m\u001b[0m\u001b[1;33m\u001b[0m\u001b[0m\n\u001b[0m\u001b[0;32m    914\u001b[0m             \u001b[1;32mreturn\u001b[0m \u001b[0mself\u001b[0m\u001b[1;33m.\u001b[0m\u001b[0m_slice\u001b[0m\u001b[1;33m(\u001b[0m\u001b[0mslobj\u001b[0m\u001b[1;33m)\u001b[0m\u001b[1;33m\u001b[0m\u001b[1;33m\u001b[0m\u001b[0m\n\u001b[0;32m    915\u001b[0m         \u001b[1;32melif\u001b[0m \u001b[0misinstance\u001b[0m\u001b[1;33m(\u001b[0m\u001b[0mkey\u001b[0m\u001b[1;33m,\u001b[0m \u001b[0mABCDataFrame\u001b[0m\u001b[1;33m)\u001b[0m\u001b[1;33m:\u001b[0m\u001b[1;33m\u001b[0m\u001b[1;33m\u001b[0m\u001b[0m\n",
      "\u001b[1;32m~\\anaconda3\\lib\\site-packages\\pandas\\core\\indexes\\base.py\u001b[0m in \u001b[0;36m_convert_slice_indexer\u001b[1;34m(self, key, kind)\u001b[0m\n\u001b[0;32m   3188\u001b[0m             \u001b[0mindexer\u001b[0m \u001b[1;33m=\u001b[0m \u001b[0mkey\u001b[0m\u001b[1;33m\u001b[0m\u001b[1;33m\u001b[0m\u001b[0m\n\u001b[0;32m   3189\u001b[0m         \u001b[1;32melse\u001b[0m\u001b[1;33m:\u001b[0m\u001b[1;33m\u001b[0m\u001b[1;33m\u001b[0m\u001b[0m\n\u001b[1;32m-> 3190\u001b[1;33m             \u001b[0mindexer\u001b[0m \u001b[1;33m=\u001b[0m \u001b[0mself\u001b[0m\u001b[1;33m.\u001b[0m\u001b[0mslice_indexer\u001b[0m\u001b[1;33m(\u001b[0m\u001b[0mstart\u001b[0m\u001b[1;33m,\u001b[0m \u001b[0mstop\u001b[0m\u001b[1;33m,\u001b[0m \u001b[0mstep\u001b[0m\u001b[1;33m,\u001b[0m \u001b[0mkind\u001b[0m\u001b[1;33m=\u001b[0m\u001b[0mkind\u001b[0m\u001b[1;33m)\u001b[0m\u001b[1;33m\u001b[0m\u001b[1;33m\u001b[0m\u001b[0m\n\u001b[0m\u001b[0;32m   3191\u001b[0m \u001b[1;33m\u001b[0m\u001b[0m\n\u001b[0;32m   3192\u001b[0m         \u001b[1;32mreturn\u001b[0m \u001b[0mindexer\u001b[0m\u001b[1;33m\u001b[0m\u001b[1;33m\u001b[0m\u001b[0m\n",
      "\u001b[1;32m~\\anaconda3\\lib\\site-packages\\pandas\\core\\indexes\\base.py\u001b[0m in \u001b[0;36mslice_indexer\u001b[1;34m(self, start, end, step, kind)\u001b[0m\n\u001b[0;32m   4964\u001b[0m         \u001b[0mslice\u001b[0m\u001b[1;33m(\u001b[0m\u001b[1;36m1\u001b[0m\u001b[1;33m,\u001b[0m \u001b[1;36m3\u001b[0m\u001b[1;33m,\u001b[0m \u001b[1;32mNone\u001b[0m\u001b[1;33m)\u001b[0m\u001b[1;33m\u001b[0m\u001b[1;33m\u001b[0m\u001b[0m\n\u001b[0;32m   4965\u001b[0m         \"\"\"\n\u001b[1;32m-> 4966\u001b[1;33m         \u001b[0mstart_slice\u001b[0m\u001b[1;33m,\u001b[0m \u001b[0mend_slice\u001b[0m \u001b[1;33m=\u001b[0m \u001b[0mself\u001b[0m\u001b[1;33m.\u001b[0m\u001b[0mslice_locs\u001b[0m\u001b[1;33m(\u001b[0m\u001b[0mstart\u001b[0m\u001b[1;33m,\u001b[0m \u001b[0mend\u001b[0m\u001b[1;33m,\u001b[0m \u001b[0mstep\u001b[0m\u001b[1;33m=\u001b[0m\u001b[0mstep\u001b[0m\u001b[1;33m,\u001b[0m \u001b[0mkind\u001b[0m\u001b[1;33m=\u001b[0m\u001b[0mkind\u001b[0m\u001b[1;33m)\u001b[0m\u001b[1;33m\u001b[0m\u001b[1;33m\u001b[0m\u001b[0m\n\u001b[0m\u001b[0;32m   4967\u001b[0m \u001b[1;33m\u001b[0m\u001b[0m\n\u001b[0;32m   4968\u001b[0m         \u001b[1;31m# return a slice\u001b[0m\u001b[1;33m\u001b[0m\u001b[1;33m\u001b[0m\u001b[1;33m\u001b[0m\u001b[0m\n",
      "\u001b[1;32m~\\anaconda3\\lib\\site-packages\\pandas\\core\\indexes\\base.py\u001b[0m in \u001b[0;36mslice_locs\u001b[1;34m(self, start, end, step, kind)\u001b[0m\n\u001b[0;32m   5165\u001b[0m         \u001b[0mstart_slice\u001b[0m \u001b[1;33m=\u001b[0m \u001b[1;32mNone\u001b[0m\u001b[1;33m\u001b[0m\u001b[1;33m\u001b[0m\u001b[0m\n\u001b[0;32m   5166\u001b[0m         \u001b[1;32mif\u001b[0m \u001b[0mstart\u001b[0m \u001b[1;32mis\u001b[0m \u001b[1;32mnot\u001b[0m \u001b[1;32mNone\u001b[0m\u001b[1;33m:\u001b[0m\u001b[1;33m\u001b[0m\u001b[1;33m\u001b[0m\u001b[0m\n\u001b[1;32m-> 5167\u001b[1;33m             \u001b[0mstart_slice\u001b[0m \u001b[1;33m=\u001b[0m \u001b[0mself\u001b[0m\u001b[1;33m.\u001b[0m\u001b[0mget_slice_bound\u001b[0m\u001b[1;33m(\u001b[0m\u001b[0mstart\u001b[0m\u001b[1;33m,\u001b[0m \u001b[1;34m\"left\"\u001b[0m\u001b[1;33m,\u001b[0m \u001b[0mkind\u001b[0m\u001b[1;33m)\u001b[0m\u001b[1;33m\u001b[0m\u001b[1;33m\u001b[0m\u001b[0m\n\u001b[0m\u001b[0;32m   5168\u001b[0m         \u001b[1;32mif\u001b[0m \u001b[0mstart_slice\u001b[0m \u001b[1;32mis\u001b[0m \u001b[1;32mNone\u001b[0m\u001b[1;33m:\u001b[0m\u001b[1;33m\u001b[0m\u001b[1;33m\u001b[0m\u001b[0m\n\u001b[0;32m   5169\u001b[0m             \u001b[0mstart_slice\u001b[0m \u001b[1;33m=\u001b[0m \u001b[1;36m0\u001b[0m\u001b[1;33m\u001b[0m\u001b[1;33m\u001b[0m\u001b[0m\n",
      "\u001b[1;32m~\\anaconda3\\lib\\site-packages\\pandas\\core\\indexes\\base.py\u001b[0m in \u001b[0;36mget_slice_bound\u001b[1;34m(self, label, side, kind)\u001b[0m\n\u001b[0;32m   5084\u001b[0m         \u001b[1;32mexcept\u001b[0m \u001b[0mKeyError\u001b[0m \u001b[1;32mas\u001b[0m \u001b[0merr\u001b[0m\u001b[1;33m:\u001b[0m\u001b[1;33m\u001b[0m\u001b[1;33m\u001b[0m\u001b[0m\n\u001b[0;32m   5085\u001b[0m             \u001b[1;32mtry\u001b[0m\u001b[1;33m:\u001b[0m\u001b[1;33m\u001b[0m\u001b[1;33m\u001b[0m\u001b[0m\n\u001b[1;32m-> 5086\u001b[1;33m                 \u001b[1;32mreturn\u001b[0m \u001b[0mself\u001b[0m\u001b[1;33m.\u001b[0m\u001b[0m_searchsorted_monotonic\u001b[0m\u001b[1;33m(\u001b[0m\u001b[0mlabel\u001b[0m\u001b[1;33m,\u001b[0m \u001b[0mside\u001b[0m\u001b[1;33m)\u001b[0m\u001b[1;33m\u001b[0m\u001b[1;33m\u001b[0m\u001b[0m\n\u001b[0m\u001b[0;32m   5087\u001b[0m             \u001b[1;32mexcept\u001b[0m \u001b[0mValueError\u001b[0m\u001b[1;33m:\u001b[0m\u001b[1;33m\u001b[0m\u001b[1;33m\u001b[0m\u001b[0m\n\u001b[0;32m   5088\u001b[0m                 \u001b[1;31m# raise the original KeyError\u001b[0m\u001b[1;33m\u001b[0m\u001b[1;33m\u001b[0m\u001b[1;33m\u001b[0m\u001b[0m\n",
      "\u001b[1;32m~\\anaconda3\\lib\\site-packages\\pandas\\core\\indexes\\base.py\u001b[0m in \u001b[0;36m_searchsorted_monotonic\u001b[1;34m(self, label, side)\u001b[0m\n\u001b[0;32m   5035\u001b[0m     \u001b[1;32mdef\u001b[0m \u001b[0m_searchsorted_monotonic\u001b[0m\u001b[1;33m(\u001b[0m\u001b[0mself\u001b[0m\u001b[1;33m,\u001b[0m \u001b[0mlabel\u001b[0m\u001b[1;33m,\u001b[0m \u001b[0mside\u001b[0m\u001b[1;33m=\u001b[0m\u001b[1;34m\"left\"\u001b[0m\u001b[1;33m)\u001b[0m\u001b[1;33m:\u001b[0m\u001b[1;33m\u001b[0m\u001b[1;33m\u001b[0m\u001b[0m\n\u001b[0;32m   5036\u001b[0m         \u001b[1;32mif\u001b[0m \u001b[0mself\u001b[0m\u001b[1;33m.\u001b[0m\u001b[0mis_monotonic_increasing\u001b[0m\u001b[1;33m:\u001b[0m\u001b[1;33m\u001b[0m\u001b[1;33m\u001b[0m\u001b[0m\n\u001b[1;32m-> 5037\u001b[1;33m             \u001b[1;32mreturn\u001b[0m \u001b[0mself\u001b[0m\u001b[1;33m.\u001b[0m\u001b[0msearchsorted\u001b[0m\u001b[1;33m(\u001b[0m\u001b[0mlabel\u001b[0m\u001b[1;33m,\u001b[0m \u001b[0mside\u001b[0m\u001b[1;33m=\u001b[0m\u001b[0mside\u001b[0m\u001b[1;33m)\u001b[0m\u001b[1;33m\u001b[0m\u001b[1;33m\u001b[0m\u001b[0m\n\u001b[0m\u001b[0;32m   5038\u001b[0m         \u001b[1;32melif\u001b[0m \u001b[0mself\u001b[0m\u001b[1;33m.\u001b[0m\u001b[0mis_monotonic_decreasing\u001b[0m\u001b[1;33m:\u001b[0m\u001b[1;33m\u001b[0m\u001b[1;33m\u001b[0m\u001b[0m\n\u001b[0;32m   5039\u001b[0m             \u001b[1;31m# np.searchsorted expects ascending sort order, have to reverse\u001b[0m\u001b[1;33m\u001b[0m\u001b[1;33m\u001b[0m\u001b[1;33m\u001b[0m\u001b[0m\n",
      "\u001b[1;32m~\\anaconda3\\lib\\site-packages\\pandas\\core\\base.py\u001b[0m in \u001b[0;36msearchsorted\u001b[1;34m(self, value, side, sorter)\u001b[0m\n\u001b[0;32m   1499\u001b[0m     \u001b[1;33m@\u001b[0m\u001b[0mdoc\u001b[0m\u001b[1;33m(\u001b[0m\u001b[0m_shared_docs\u001b[0m\u001b[1;33m[\u001b[0m\u001b[1;34m\"searchsorted\"\u001b[0m\u001b[1;33m]\u001b[0m\u001b[1;33m,\u001b[0m \u001b[0mklass\u001b[0m\u001b[1;33m=\u001b[0m\u001b[1;34m\"Index\"\u001b[0m\u001b[1;33m)\u001b[0m\u001b[1;33m\u001b[0m\u001b[1;33m\u001b[0m\u001b[0m\n\u001b[0;32m   1500\u001b[0m     \u001b[1;32mdef\u001b[0m \u001b[0msearchsorted\u001b[0m\u001b[1;33m(\u001b[0m\u001b[0mself\u001b[0m\u001b[1;33m,\u001b[0m \u001b[0mvalue\u001b[0m\u001b[1;33m,\u001b[0m \u001b[0mside\u001b[0m\u001b[1;33m=\u001b[0m\u001b[1;34m\"left\"\u001b[0m\u001b[1;33m,\u001b[0m \u001b[0msorter\u001b[0m\u001b[1;33m=\u001b[0m\u001b[1;32mNone\u001b[0m\u001b[1;33m)\u001b[0m \u001b[1;33m->\u001b[0m \u001b[0mnp\u001b[0m\u001b[1;33m.\u001b[0m\u001b[0mndarray\u001b[0m\u001b[1;33m:\u001b[0m\u001b[1;33m\u001b[0m\u001b[1;33m\u001b[0m\u001b[0m\n\u001b[1;32m-> 1501\u001b[1;33m         \u001b[1;32mreturn\u001b[0m \u001b[0malgorithms\u001b[0m\u001b[1;33m.\u001b[0m\u001b[0msearchsorted\u001b[0m\u001b[1;33m(\u001b[0m\u001b[0mself\u001b[0m\u001b[1;33m.\u001b[0m\u001b[0m_values\u001b[0m\u001b[1;33m,\u001b[0m \u001b[0mvalue\u001b[0m\u001b[1;33m,\u001b[0m \u001b[0mside\u001b[0m\u001b[1;33m=\u001b[0m\u001b[0mside\u001b[0m\u001b[1;33m,\u001b[0m \u001b[0msorter\u001b[0m\u001b[1;33m=\u001b[0m\u001b[0msorter\u001b[0m\u001b[1;33m)\u001b[0m\u001b[1;33m\u001b[0m\u001b[1;33m\u001b[0m\u001b[0m\n\u001b[0m\u001b[0;32m   1502\u001b[0m \u001b[1;33m\u001b[0m\u001b[0m\n\u001b[0;32m   1503\u001b[0m     \u001b[1;32mdef\u001b[0m \u001b[0mdrop_duplicates\u001b[0m\u001b[1;33m(\u001b[0m\u001b[0mself\u001b[0m\u001b[1;33m,\u001b[0m \u001b[0mkeep\u001b[0m\u001b[1;33m=\u001b[0m\u001b[1;34m\"first\"\u001b[0m\u001b[1;33m)\u001b[0m\u001b[1;33m:\u001b[0m\u001b[1;33m\u001b[0m\u001b[1;33m\u001b[0m\u001b[0m\n",
      "\u001b[1;32m~\\anaconda3\\lib\\site-packages\\pandas\\core\\algorithms.py\u001b[0m in \u001b[0;36msearchsorted\u001b[1;34m(arr, value, side, sorter)\u001b[0m\n\u001b[0;32m   1860\u001b[0m             \u001b[0mvalue\u001b[0m \u001b[1;33m=\u001b[0m \u001b[0mvalue\u001b[0m\u001b[1;33m.\u001b[0m\u001b[0mto_datetime64\u001b[0m\u001b[1;33m(\u001b[0m\u001b[1;33m)\u001b[0m\u001b[1;33m\u001b[0m\u001b[1;33m\u001b[0m\u001b[0m\n\u001b[0;32m   1861\u001b[0m \u001b[1;33m\u001b[0m\u001b[0m\n\u001b[1;32m-> 1862\u001b[1;33m     \u001b[0mresult\u001b[0m \u001b[1;33m=\u001b[0m \u001b[0marr\u001b[0m\u001b[1;33m.\u001b[0m\u001b[0msearchsorted\u001b[0m\u001b[1;33m(\u001b[0m\u001b[0mvalue\u001b[0m\u001b[1;33m,\u001b[0m \u001b[0mside\u001b[0m\u001b[1;33m=\u001b[0m\u001b[0mside\u001b[0m\u001b[1;33m,\u001b[0m \u001b[0msorter\u001b[0m\u001b[1;33m=\u001b[0m\u001b[0msorter\u001b[0m\u001b[1;33m)\u001b[0m\u001b[1;33m\u001b[0m\u001b[1;33m\u001b[0m\u001b[0m\n\u001b[0m\u001b[0;32m   1863\u001b[0m     \u001b[1;32mreturn\u001b[0m \u001b[0mresult\u001b[0m\u001b[1;33m\u001b[0m\u001b[1;33m\u001b[0m\u001b[0m\n\u001b[0;32m   1864\u001b[0m \u001b[1;33m\u001b[0m\u001b[0m\n",
      "\u001b[1;31mTypeError\u001b[0m: '<' not supported between instances of 'datetime.date' and 'str'"
     ]
    }
   ],
   "source": [
    "#train_test_split -> Error str/datetime\n",
    "tr_start,tr_end = '2019-02-01','2019-05-24'\n",
    "te_start,te_end = '2019-05-25','2019-06-30'\n",
    "tra = df_predictive['daily_trips'][tr_start:tr_end].dropna()\n",
    "tes = df_predictive['daily_trips'][te_start:te_end].dropna()"
   ]
  },
  {
   "cell_type": "code",
   "execution_count": 205,
   "metadata": {},
   "outputs": [
    {
     "ename": "NameError",
     "evalue": "name 'tra' is not defined",
     "output_type": "error",
     "traceback": [
      "\u001b[1;31m---------------------------------------------------------------------------\u001b[0m",
      "\u001b[1;31mNameError\u001b[0m                                 Traceback (most recent call last)",
      "\u001b[1;32m<ipython-input-205-e9747a7d3850>\u001b[0m in \u001b[0;36m<module>\u001b[1;34m\u001b[0m\n\u001b[1;32m----> 1\u001b[1;33m arima = sm.tsa.statespace.SARIMAX(tra,order=(7,1,7),freq='D',seasonal_order=(0,0,0,0),\n\u001b[0m\u001b[0;32m      2\u001b[0m                                  enforce_stationarity=False, enforce_invertibility=False,).fit()\n\u001b[0;32m      3\u001b[0m \u001b[0marima\u001b[0m\u001b[1;33m.\u001b[0m\u001b[0msummary\u001b[0m\u001b[1;33m(\u001b[0m\u001b[1;33m)\u001b[0m\u001b[1;33m\u001b[0m\u001b[1;33m\u001b[0m\u001b[0m\n\u001b[0;32m      4\u001b[0m \u001b[1;31m#We can use SARIMAX model as ARIMAX when seasonal_order is (0,0,0,0) .\u001b[0m\u001b[1;33m\u001b[0m\u001b[1;33m\u001b[0m\u001b[1;33m\u001b[0m\u001b[0m\n",
      "\u001b[1;31mNameError\u001b[0m: name 'tra' is not defined"
     ]
    }
   ],
   "source": [
    "arima = sm.tsa.statespace.SARIMAX(tra,order=(7,1,7),freq='D',seasonal_order=(0,0,0,0),\n",
    "                                 enforce_stationarity=False, enforce_invertibility=False,).fit()\n",
    "arima.summary()\n",
    "#We can use SARIMAX model as ARIMAX when seasonal_order is (0,0,0,0) ."
   ]
  },
  {
   "cell_type": "code",
   "execution_count": null,
   "metadata": {},
   "outputs": [],
   "source": [
    "#plot autocorrelation\n",
    "res = arima.resid\n",
    "fig,ax = plt.subplots(2,1,figsize=(15,8))\n",
    "fig = sm.graphics.tsa.plot_acf(res, lags=50, ax=ax[0])\n",
    "fig = sm.graphics.tsa.plot_pacf(res, lags=50, ax=ax[1])\n",
    "plt.show()"
   ]
  },
  {
   "cell_type": "code",
   "execution_count": 206,
   "metadata": {},
   "outputs": [
    {
     "ename": "NameError",
     "evalue": "name 'arima' is not defined",
     "output_type": "error",
     "traceback": [
      "\u001b[1;31m---------------------------------------------------------------------------\u001b[0m",
      "\u001b[1;31mNameError\u001b[0m                                 Traceback (most recent call last)",
      "\u001b[1;32m<ipython-input-206-203e880fffaf>\u001b[0m in \u001b[0;36m<module>\u001b[1;34m\u001b[0m\n\u001b[0;32m      1\u001b[0m \u001b[1;32mfrom\u001b[0m \u001b[0msklearn\u001b[0m\u001b[1;33m.\u001b[0m\u001b[0mmetrics\u001b[0m \u001b[1;32mimport\u001b[0m \u001b[0mmean_squared_error\u001b[0m\u001b[1;33m\u001b[0m\u001b[1;33m\u001b[0m\u001b[0m\n\u001b[1;32m----> 2\u001b[1;33m \u001b[0mpred\u001b[0m \u001b[1;33m=\u001b[0m \u001b[0marima\u001b[0m\u001b[1;33m.\u001b[0m\u001b[0mpredict\u001b[0m\u001b[1;33m(\u001b[0m\u001b[0mtr_end\u001b[0m\u001b[1;33m,\u001b[0m\u001b[0mte_end\u001b[0m\u001b[1;33m)\u001b[0m\u001b[1;33m[\u001b[0m\u001b[1;36m1\u001b[0m\u001b[1;33m:\u001b[0m\u001b[1;33m]\u001b[0m\u001b[1;33m\u001b[0m\u001b[1;33m\u001b[0m\u001b[0m\n\u001b[0m\u001b[0;32m      3\u001b[0m \u001b[0mprint\u001b[0m\u001b[1;33m(\u001b[0m\u001b[1;34m'ARIMA model MSE:{}'\u001b[0m\u001b[1;33m.\u001b[0m\u001b[0mformat\u001b[0m\u001b[1;33m(\u001b[0m\u001b[0mmean_squared_error\u001b[0m\u001b[1;33m(\u001b[0m\u001b[0mtes\u001b[0m\u001b[1;33m,\u001b[0m\u001b[0mpred\u001b[0m\u001b[1;33m)\u001b[0m\u001b[1;33m)\u001b[0m\u001b[1;33m)\u001b[0m\u001b[1;33m\u001b[0m\u001b[1;33m\u001b[0m\u001b[0m\n",
      "\u001b[1;31mNameError\u001b[0m: name 'arima' is not defined"
     ]
    }
   ],
   "source": [
    "from sklearn.metrics import mean_squared_error\n",
    "pred = arima.predict(tr_end,te_end)[1:]\n",
    "print('ARIMA model MSE:{}'.format(mean_squared_error(tes,pred)))"
   ]
  },
  {
   "cell_type": "code",
   "execution_count": null,
   "metadata": {},
   "outputs": [],
   "source": [
    "#plot pred and test\n",
    "pd.DataFrame({'test':tes,'pred':pred}).plot();plt.show()"
   ]
  },
  {
   "cell_type": "code",
   "execution_count": 207,
   "metadata": {},
   "outputs": [],
   "source": [
    "#___________________________________________ARIMA"
   ]
  },
  {
   "cell_type": "code",
   "execution_count": null,
   "metadata": {},
   "outputs": [],
   "source": []
  },
  {
   "cell_type": "code",
   "execution_count": 208,
   "metadata": {},
   "outputs": [],
   "source": [
    "#Alternativer Code für ARIMA:"
   ]
  },
  {
   "cell_type": "code",
   "execution_count": null,
   "metadata": {},
   "outputs": [],
   "source": [
    "# evaluate an ARIMA model using a walk-forward validation\n",
    "from pandas import read_csv\n",
    "from pandas import datetime\n",
    "from matplotlib import pyplot\n",
    "from statsmodels.tsa.arima.model import ARIMA\n",
    "from sklearn.metrics import mean_squared_error\n",
    "from math import sqrt\n",
    "# load dataset\n",
    "\n",
    "\n",
    "# split into train and test sets\n",
    "X = df_predictive.values\n",
    "size = int(len(X) * 0.66)\n",
    "train, test = X[0:size], X[size:len(X)]\n",
    "history = [x for x in train]\n",
    "predictions = list()\n",
    "\n",
    "# walk-forward validation\n",
    "for t in range(len(test)):\n",
    "\tmodel = ARIMA(history, order=(97,14,0))\n",
    "\tmodel_fit = model.fit()\n",
    "\toutput = model_fit.forecast()\n",
    "\tyhat = output[0]\n",
    "\tpredictions.append(yhat)\n",
    "\tobs = test[t]\n",
    "\thistory.append(obs)\n",
    "\tprint('predicted=%f, expected=%f' % (yhat, obs))\n",
    "# evaluate forecasts\n",
    "rmse = sqrt(mean_squared_error(test, predictions))\n",
    "print('Test RMSE: %.3f' % rmse)\n",
    "# plot forecasts against actual outcomes\n",
    "pyplot.plot(test)\n",
    "pyplot.plot(predictions, color='red')\n",
    "pyplot.show()"
   ]
  },
  {
   "cell_type": "code",
   "execution_count": 186,
   "metadata": {},
   "outputs": [],
   "source": [
    "df_predictive.index.name = 'date'\n",
    "df_predictive.head()\n",
    "df_predictive.index.tolist()\n",
    "df_predictive['index_col'] = df_predictive.index #index Spalte zum df hinzugefügt"
   ]
  },
  {
   "cell_type": "code",
   "execution_count": 187,
   "metadata": {},
   "outputs": [
    {
     "name": "stdout",
     "output_type": "stream",
     "text": [
      "<class 'pandas.core.frame.DataFrame'>\n",
      "Index: 147 entries, 2019-02-01 to 2019-06-30\n",
      "Data columns (total 14 columns):\n",
      " #   Column         Non-Null Count  Dtype  \n",
      "---  ------         --------------  -----  \n",
      " 0   daily_trips    147 non-null    int64  \n",
      " 1   fleet_size     147 non-null    object \n",
      " 2   vacations      147 non-null    int64  \n",
      " 3   holiday        147 non-null    int64  \n",
      " 4   weekday_dummy  147 non-null    int32  \n",
      " 5   tavg           147 non-null    float64\n",
      " 6   tmin           147 non-null    float64\n",
      " 7   tmax           147 non-null    float64\n",
      " 8   prcp           147 non-null    float64\n",
      " 9   snow           147 non-null    int64  \n",
      " 10  wspd           147 non-null    int64  \n",
      " 11  pres           147 non-null    float64\n",
      " 12  tsun           147 non-null    int64  \n",
      " 13  index_col      147 non-null    object \n",
      "dtypes: float64(5), int32(1), int64(6), object(2)\n",
      "memory usage: 21.7+ KB\n"
     ]
    }
   ],
   "source": [
    "df_predictive.info()"
   ]
  },
  {
   "cell_type": "code",
   "execution_count": 150,
   "metadata": {},
   "outputs": [
    {
     "name": "stdout",
     "output_type": "stream",
     "text": [
      "<class 'pandas.core.frame.DataFrame'>\n",
      "Index: 147 entries, 2019-02-01 to 2019-06-30\n",
      "Data columns (total 14 columns):\n",
      " #   Column         Non-Null Count  Dtype         \n",
      "---  ------         --------------  -----         \n",
      " 0   daily_trips    147 non-null    int64         \n",
      " 1   fleet_size     147 non-null    object        \n",
      " 2   vacations      147 non-null    int64         \n",
      " 3   holiday        147 non-null    int64         \n",
      " 4   weekday_dummy  147 non-null    int32         \n",
      " 5   tavg           147 non-null    float64       \n",
      " 6   tmin           147 non-null    float64       \n",
      " 7   tmax           147 non-null    float64       \n",
      " 8   prcp           147 non-null    float64       \n",
      " 9   snow           147 non-null    int64         \n",
      " 10  wspd           147 non-null    int64         \n",
      " 11  pres           147 non-null    float64       \n",
      " 12  tsun           147 non-null    int64         \n",
      " 13  index_col      147 non-null    datetime64[ns]\n",
      "dtypes: datetime64[ns](1), float64(5), int32(1), int64(6), object(1)\n",
      "memory usage: 21.7+ KB\n"
     ]
    }
   ],
   "source": [
    "df_predictive['index_col']= pd.to_datetime(df_predictive['index_col']) # object zu datetime \n",
    "df_predictive.info()"
   ]
  },
  {
   "cell_type": "code",
   "execution_count": 190,
   "metadata": {},
   "outputs": [
    {
     "ename": "TypeError",
     "evalue": "'<' not supported between instances of 'datetime.date' and 'str'",
     "output_type": "error",
     "traceback": [
      "\u001b[1;31m---------------------------------------------------------------------------\u001b[0m",
      "\u001b[1;31mKeyError\u001b[0m                                  Traceback (most recent call last)",
      "\u001b[1;32m~\\anaconda3\\lib\\site-packages\\pandas\\core\\indexes\\base.py\u001b[0m in \u001b[0;36mget_loc\u001b[1;34m(self, key, method, tolerance)\u001b[0m\n\u001b[0;32m   2894\u001b[0m             \u001b[1;32mtry\u001b[0m\u001b[1;33m:\u001b[0m\u001b[1;33m\u001b[0m\u001b[1;33m\u001b[0m\u001b[0m\n\u001b[1;32m-> 2895\u001b[1;33m                 \u001b[1;32mreturn\u001b[0m \u001b[0mself\u001b[0m\u001b[1;33m.\u001b[0m\u001b[0m_engine\u001b[0m\u001b[1;33m.\u001b[0m\u001b[0mget_loc\u001b[0m\u001b[1;33m(\u001b[0m\u001b[0mcasted_key\u001b[0m\u001b[1;33m)\u001b[0m\u001b[1;33m\u001b[0m\u001b[1;33m\u001b[0m\u001b[0m\n\u001b[0m\u001b[0;32m   2896\u001b[0m             \u001b[1;32mexcept\u001b[0m \u001b[0mKeyError\u001b[0m \u001b[1;32mas\u001b[0m \u001b[0merr\u001b[0m\u001b[1;33m:\u001b[0m\u001b[1;33m\u001b[0m\u001b[1;33m\u001b[0m\u001b[0m\n",
      "\u001b[1;32mpandas\\_libs\\index.pyx\u001b[0m in \u001b[0;36mpandas._libs.index.IndexEngine.get_loc\u001b[1;34m()\u001b[0m\n",
      "\u001b[1;32mpandas\\_libs\\index.pyx\u001b[0m in \u001b[0;36mpandas._libs.index.IndexEngine.get_loc\u001b[1;34m()\u001b[0m\n",
      "\u001b[1;32mpandas\\_libs\\hashtable_class_helper.pxi\u001b[0m in \u001b[0;36mpandas._libs.hashtable.PyObjectHashTable.get_item\u001b[1;34m()\u001b[0m\n",
      "\u001b[1;32mpandas\\_libs\\hashtable_class_helper.pxi\u001b[0m in \u001b[0;36mpandas._libs.hashtable.PyObjectHashTable.get_item\u001b[1;34m()\u001b[0m\n",
      "\u001b[1;31mKeyError\u001b[0m: '2019-02-01'",
      "\nThe above exception was the direct cause of the following exception:\n",
      "\u001b[1;31mKeyError\u001b[0m                                  Traceback (most recent call last)",
      "\u001b[1;32m~\\anaconda3\\lib\\site-packages\\pandas\\core\\indexes\\base.py\u001b[0m in \u001b[0;36mget_slice_bound\u001b[1;34m(self, label, side, kind)\u001b[0m\n\u001b[0;32m   5082\u001b[0m         \u001b[1;32mtry\u001b[0m\u001b[1;33m:\u001b[0m\u001b[1;33m\u001b[0m\u001b[1;33m\u001b[0m\u001b[0m\n\u001b[1;32m-> 5083\u001b[1;33m             \u001b[0mslc\u001b[0m \u001b[1;33m=\u001b[0m \u001b[0mself\u001b[0m\u001b[1;33m.\u001b[0m\u001b[0mget_loc\u001b[0m\u001b[1;33m(\u001b[0m\u001b[0mlabel\u001b[0m\u001b[1;33m)\u001b[0m\u001b[1;33m\u001b[0m\u001b[1;33m\u001b[0m\u001b[0m\n\u001b[0m\u001b[0;32m   5084\u001b[0m         \u001b[1;32mexcept\u001b[0m \u001b[0mKeyError\u001b[0m \u001b[1;32mas\u001b[0m \u001b[0merr\u001b[0m\u001b[1;33m:\u001b[0m\u001b[1;33m\u001b[0m\u001b[1;33m\u001b[0m\u001b[0m\n",
      "\u001b[1;32m~\\anaconda3\\lib\\site-packages\\pandas\\core\\indexes\\base.py\u001b[0m in \u001b[0;36mget_loc\u001b[1;34m(self, key, method, tolerance)\u001b[0m\n\u001b[0;32m   2896\u001b[0m             \u001b[1;32mexcept\u001b[0m \u001b[0mKeyError\u001b[0m \u001b[1;32mas\u001b[0m \u001b[0merr\u001b[0m\u001b[1;33m:\u001b[0m\u001b[1;33m\u001b[0m\u001b[1;33m\u001b[0m\u001b[0m\n\u001b[1;32m-> 2897\u001b[1;33m                 \u001b[1;32mraise\u001b[0m \u001b[0mKeyError\u001b[0m\u001b[1;33m(\u001b[0m\u001b[0mkey\u001b[0m\u001b[1;33m)\u001b[0m \u001b[1;32mfrom\u001b[0m \u001b[0merr\u001b[0m\u001b[1;33m\u001b[0m\u001b[1;33m\u001b[0m\u001b[0m\n\u001b[0m\u001b[0;32m   2898\u001b[0m \u001b[1;33m\u001b[0m\u001b[0m\n",
      "\u001b[1;31mKeyError\u001b[0m: '2019-02-01'",
      "\nDuring handling of the above exception, another exception occurred:\n",
      "\u001b[1;31mTypeError\u001b[0m                                 Traceback (most recent call last)",
      "\u001b[1;32m<ipython-input-190-92943146ca75>\u001b[0m in \u001b[0;36m<module>\u001b[1;34m\u001b[0m\n\u001b[0;32m      2\u001b[0m \u001b[0mtr_start\u001b[0m\u001b[1;33m,\u001b[0m\u001b[0mtr_end\u001b[0m \u001b[1;33m=\u001b[0m \u001b[1;34m'2019-02-01'\u001b[0m\u001b[1;33m,\u001b[0m\u001b[1;34m'2019-05-24'\u001b[0m\u001b[1;33m\u001b[0m\u001b[1;33m\u001b[0m\u001b[0m\n\u001b[0;32m      3\u001b[0m \u001b[0mte_start\u001b[0m\u001b[1;33m,\u001b[0m\u001b[0mte_end\u001b[0m \u001b[1;33m=\u001b[0m \u001b[1;34m'2019-05-25'\u001b[0m\u001b[1;33m,\u001b[0m\u001b[1;34m'2019-06-30'\u001b[0m\u001b[1;33m\u001b[0m\u001b[1;33m\u001b[0m\u001b[0m\n\u001b[1;32m----> 4\u001b[1;33m \u001b[0mtra\u001b[0m \u001b[1;33m=\u001b[0m \u001b[0mdf_predictive\u001b[0m\u001b[1;33m[\u001b[0m\u001b[1;34m'daily_trips'\u001b[0m\u001b[1;33m]\u001b[0m\u001b[1;33m[\u001b[0m\u001b[0mtr_start\u001b[0m\u001b[1;33m:\u001b[0m\u001b[0mtr_end\u001b[0m\u001b[1;33m]\u001b[0m\u001b[1;33m.\u001b[0m\u001b[0mdropna\u001b[0m\u001b[1;33m(\u001b[0m\u001b[1;33m)\u001b[0m\u001b[1;33m\u001b[0m\u001b[1;33m\u001b[0m\u001b[0m\n\u001b[0m\u001b[0;32m      5\u001b[0m \u001b[0mtes\u001b[0m \u001b[1;33m=\u001b[0m \u001b[0mdf_predictive\u001b[0m\u001b[1;33m[\u001b[0m\u001b[1;34m'daily_trips'\u001b[0m\u001b[1;33m]\u001b[0m\u001b[1;33m[\u001b[0m\u001b[0mte_start\u001b[0m\u001b[1;33m:\u001b[0m\u001b[0mte_end\u001b[0m\u001b[1;33m]\u001b[0m\u001b[1;33m.\u001b[0m\u001b[0mdropna\u001b[0m\u001b[1;33m(\u001b[0m\u001b[1;33m)\u001b[0m\u001b[1;33m\u001b[0m\u001b[1;33m\u001b[0m\u001b[0m\n",
      "\u001b[1;32m~\\anaconda3\\lib\\site-packages\\pandas\\core\\series.py\u001b[0m in \u001b[0;36m__getitem__\u001b[1;34m(self, key)\u001b[0m\n\u001b[0;32m    904\u001b[0m             \u001b[1;32mreturn\u001b[0m \u001b[0mself\u001b[0m\u001b[1;33m.\u001b[0m\u001b[0m_get_values\u001b[0m\u001b[1;33m(\u001b[0m\u001b[0mkey\u001b[0m\u001b[1;33m)\u001b[0m\u001b[1;33m\u001b[0m\u001b[1;33m\u001b[0m\u001b[0m\n\u001b[0;32m    905\u001b[0m \u001b[1;33m\u001b[0m\u001b[0m\n\u001b[1;32m--> 906\u001b[1;33m         \u001b[1;32mreturn\u001b[0m \u001b[0mself\u001b[0m\u001b[1;33m.\u001b[0m\u001b[0m_get_with\u001b[0m\u001b[1;33m(\u001b[0m\u001b[0mkey\u001b[0m\u001b[1;33m)\u001b[0m\u001b[1;33m\u001b[0m\u001b[1;33m\u001b[0m\u001b[0m\n\u001b[0m\u001b[0;32m    907\u001b[0m \u001b[1;33m\u001b[0m\u001b[0m\n\u001b[0;32m    908\u001b[0m     \u001b[1;32mdef\u001b[0m \u001b[0m_get_with\u001b[0m\u001b[1;33m(\u001b[0m\u001b[0mself\u001b[0m\u001b[1;33m,\u001b[0m \u001b[0mkey\u001b[0m\u001b[1;33m)\u001b[0m\u001b[1;33m:\u001b[0m\u001b[1;33m\u001b[0m\u001b[1;33m\u001b[0m\u001b[0m\n",
      "\u001b[1;32m~\\anaconda3\\lib\\site-packages\\pandas\\core\\series.py\u001b[0m in \u001b[0;36m_get_with\u001b[1;34m(self, key)\u001b[0m\n\u001b[0;32m    911\u001b[0m             \u001b[1;31m# _convert_slice_indexer to determine if this slice is positional\u001b[0m\u001b[1;33m\u001b[0m\u001b[1;33m\u001b[0m\u001b[1;33m\u001b[0m\u001b[0m\n\u001b[0;32m    912\u001b[0m             \u001b[1;31m#  or label based, and if the latter, convert to positional\u001b[0m\u001b[1;33m\u001b[0m\u001b[1;33m\u001b[0m\u001b[1;33m\u001b[0m\u001b[0m\n\u001b[1;32m--> 913\u001b[1;33m             \u001b[0mslobj\u001b[0m \u001b[1;33m=\u001b[0m \u001b[0mself\u001b[0m\u001b[1;33m.\u001b[0m\u001b[0mindex\u001b[0m\u001b[1;33m.\u001b[0m\u001b[0m_convert_slice_indexer\u001b[0m\u001b[1;33m(\u001b[0m\u001b[0mkey\u001b[0m\u001b[1;33m,\u001b[0m \u001b[0mkind\u001b[0m\u001b[1;33m=\u001b[0m\u001b[1;34m\"getitem\"\u001b[0m\u001b[1;33m)\u001b[0m\u001b[1;33m\u001b[0m\u001b[1;33m\u001b[0m\u001b[0m\n\u001b[0m\u001b[0;32m    914\u001b[0m             \u001b[1;32mreturn\u001b[0m \u001b[0mself\u001b[0m\u001b[1;33m.\u001b[0m\u001b[0m_slice\u001b[0m\u001b[1;33m(\u001b[0m\u001b[0mslobj\u001b[0m\u001b[1;33m)\u001b[0m\u001b[1;33m\u001b[0m\u001b[1;33m\u001b[0m\u001b[0m\n\u001b[0;32m    915\u001b[0m         \u001b[1;32melif\u001b[0m \u001b[0misinstance\u001b[0m\u001b[1;33m(\u001b[0m\u001b[0mkey\u001b[0m\u001b[1;33m,\u001b[0m \u001b[0mABCDataFrame\u001b[0m\u001b[1;33m)\u001b[0m\u001b[1;33m:\u001b[0m\u001b[1;33m\u001b[0m\u001b[1;33m\u001b[0m\u001b[0m\n",
      "\u001b[1;32m~\\anaconda3\\lib\\site-packages\\pandas\\core\\indexes\\base.py\u001b[0m in \u001b[0;36m_convert_slice_indexer\u001b[1;34m(self, key, kind)\u001b[0m\n\u001b[0;32m   3188\u001b[0m             \u001b[0mindexer\u001b[0m \u001b[1;33m=\u001b[0m \u001b[0mkey\u001b[0m\u001b[1;33m\u001b[0m\u001b[1;33m\u001b[0m\u001b[0m\n\u001b[0;32m   3189\u001b[0m         \u001b[1;32melse\u001b[0m\u001b[1;33m:\u001b[0m\u001b[1;33m\u001b[0m\u001b[1;33m\u001b[0m\u001b[0m\n\u001b[1;32m-> 3190\u001b[1;33m             \u001b[0mindexer\u001b[0m \u001b[1;33m=\u001b[0m \u001b[0mself\u001b[0m\u001b[1;33m.\u001b[0m\u001b[0mslice_indexer\u001b[0m\u001b[1;33m(\u001b[0m\u001b[0mstart\u001b[0m\u001b[1;33m,\u001b[0m \u001b[0mstop\u001b[0m\u001b[1;33m,\u001b[0m \u001b[0mstep\u001b[0m\u001b[1;33m,\u001b[0m \u001b[0mkind\u001b[0m\u001b[1;33m=\u001b[0m\u001b[0mkind\u001b[0m\u001b[1;33m)\u001b[0m\u001b[1;33m\u001b[0m\u001b[1;33m\u001b[0m\u001b[0m\n\u001b[0m\u001b[0;32m   3191\u001b[0m \u001b[1;33m\u001b[0m\u001b[0m\n\u001b[0;32m   3192\u001b[0m         \u001b[1;32mreturn\u001b[0m \u001b[0mindexer\u001b[0m\u001b[1;33m\u001b[0m\u001b[1;33m\u001b[0m\u001b[0m\n",
      "\u001b[1;32m~\\anaconda3\\lib\\site-packages\\pandas\\core\\indexes\\base.py\u001b[0m in \u001b[0;36mslice_indexer\u001b[1;34m(self, start, end, step, kind)\u001b[0m\n\u001b[0;32m   4964\u001b[0m         \u001b[0mslice\u001b[0m\u001b[1;33m(\u001b[0m\u001b[1;36m1\u001b[0m\u001b[1;33m,\u001b[0m \u001b[1;36m3\u001b[0m\u001b[1;33m,\u001b[0m \u001b[1;32mNone\u001b[0m\u001b[1;33m)\u001b[0m\u001b[1;33m\u001b[0m\u001b[1;33m\u001b[0m\u001b[0m\n\u001b[0;32m   4965\u001b[0m         \"\"\"\n\u001b[1;32m-> 4966\u001b[1;33m         \u001b[0mstart_slice\u001b[0m\u001b[1;33m,\u001b[0m \u001b[0mend_slice\u001b[0m \u001b[1;33m=\u001b[0m \u001b[0mself\u001b[0m\u001b[1;33m.\u001b[0m\u001b[0mslice_locs\u001b[0m\u001b[1;33m(\u001b[0m\u001b[0mstart\u001b[0m\u001b[1;33m,\u001b[0m \u001b[0mend\u001b[0m\u001b[1;33m,\u001b[0m \u001b[0mstep\u001b[0m\u001b[1;33m=\u001b[0m\u001b[0mstep\u001b[0m\u001b[1;33m,\u001b[0m \u001b[0mkind\u001b[0m\u001b[1;33m=\u001b[0m\u001b[0mkind\u001b[0m\u001b[1;33m)\u001b[0m\u001b[1;33m\u001b[0m\u001b[1;33m\u001b[0m\u001b[0m\n\u001b[0m\u001b[0;32m   4967\u001b[0m \u001b[1;33m\u001b[0m\u001b[0m\n\u001b[0;32m   4968\u001b[0m         \u001b[1;31m# return a slice\u001b[0m\u001b[1;33m\u001b[0m\u001b[1;33m\u001b[0m\u001b[1;33m\u001b[0m\u001b[0m\n",
      "\u001b[1;32m~\\anaconda3\\lib\\site-packages\\pandas\\core\\indexes\\base.py\u001b[0m in \u001b[0;36mslice_locs\u001b[1;34m(self, start, end, step, kind)\u001b[0m\n\u001b[0;32m   5165\u001b[0m         \u001b[0mstart_slice\u001b[0m \u001b[1;33m=\u001b[0m \u001b[1;32mNone\u001b[0m\u001b[1;33m\u001b[0m\u001b[1;33m\u001b[0m\u001b[0m\n\u001b[0;32m   5166\u001b[0m         \u001b[1;32mif\u001b[0m \u001b[0mstart\u001b[0m \u001b[1;32mis\u001b[0m \u001b[1;32mnot\u001b[0m \u001b[1;32mNone\u001b[0m\u001b[1;33m:\u001b[0m\u001b[1;33m\u001b[0m\u001b[1;33m\u001b[0m\u001b[0m\n\u001b[1;32m-> 5167\u001b[1;33m             \u001b[0mstart_slice\u001b[0m \u001b[1;33m=\u001b[0m \u001b[0mself\u001b[0m\u001b[1;33m.\u001b[0m\u001b[0mget_slice_bound\u001b[0m\u001b[1;33m(\u001b[0m\u001b[0mstart\u001b[0m\u001b[1;33m,\u001b[0m \u001b[1;34m\"left\"\u001b[0m\u001b[1;33m,\u001b[0m \u001b[0mkind\u001b[0m\u001b[1;33m)\u001b[0m\u001b[1;33m\u001b[0m\u001b[1;33m\u001b[0m\u001b[0m\n\u001b[0m\u001b[0;32m   5168\u001b[0m         \u001b[1;32mif\u001b[0m \u001b[0mstart_slice\u001b[0m \u001b[1;32mis\u001b[0m \u001b[1;32mNone\u001b[0m\u001b[1;33m:\u001b[0m\u001b[1;33m\u001b[0m\u001b[1;33m\u001b[0m\u001b[0m\n\u001b[0;32m   5169\u001b[0m             \u001b[0mstart_slice\u001b[0m \u001b[1;33m=\u001b[0m \u001b[1;36m0\u001b[0m\u001b[1;33m\u001b[0m\u001b[1;33m\u001b[0m\u001b[0m\n",
      "\u001b[1;32m~\\anaconda3\\lib\\site-packages\\pandas\\core\\indexes\\base.py\u001b[0m in \u001b[0;36mget_slice_bound\u001b[1;34m(self, label, side, kind)\u001b[0m\n\u001b[0;32m   5084\u001b[0m         \u001b[1;32mexcept\u001b[0m \u001b[0mKeyError\u001b[0m \u001b[1;32mas\u001b[0m \u001b[0merr\u001b[0m\u001b[1;33m:\u001b[0m\u001b[1;33m\u001b[0m\u001b[1;33m\u001b[0m\u001b[0m\n\u001b[0;32m   5085\u001b[0m             \u001b[1;32mtry\u001b[0m\u001b[1;33m:\u001b[0m\u001b[1;33m\u001b[0m\u001b[1;33m\u001b[0m\u001b[0m\n\u001b[1;32m-> 5086\u001b[1;33m                 \u001b[1;32mreturn\u001b[0m \u001b[0mself\u001b[0m\u001b[1;33m.\u001b[0m\u001b[0m_searchsorted_monotonic\u001b[0m\u001b[1;33m(\u001b[0m\u001b[0mlabel\u001b[0m\u001b[1;33m,\u001b[0m \u001b[0mside\u001b[0m\u001b[1;33m)\u001b[0m\u001b[1;33m\u001b[0m\u001b[1;33m\u001b[0m\u001b[0m\n\u001b[0m\u001b[0;32m   5087\u001b[0m             \u001b[1;32mexcept\u001b[0m \u001b[0mValueError\u001b[0m\u001b[1;33m:\u001b[0m\u001b[1;33m\u001b[0m\u001b[1;33m\u001b[0m\u001b[0m\n\u001b[0;32m   5088\u001b[0m                 \u001b[1;31m# raise the original KeyError\u001b[0m\u001b[1;33m\u001b[0m\u001b[1;33m\u001b[0m\u001b[1;33m\u001b[0m\u001b[0m\n",
      "\u001b[1;32m~\\anaconda3\\lib\\site-packages\\pandas\\core\\indexes\\base.py\u001b[0m in \u001b[0;36m_searchsorted_monotonic\u001b[1;34m(self, label, side)\u001b[0m\n\u001b[0;32m   5035\u001b[0m     \u001b[1;32mdef\u001b[0m \u001b[0m_searchsorted_monotonic\u001b[0m\u001b[1;33m(\u001b[0m\u001b[0mself\u001b[0m\u001b[1;33m,\u001b[0m \u001b[0mlabel\u001b[0m\u001b[1;33m,\u001b[0m \u001b[0mside\u001b[0m\u001b[1;33m=\u001b[0m\u001b[1;34m\"left\"\u001b[0m\u001b[1;33m)\u001b[0m\u001b[1;33m:\u001b[0m\u001b[1;33m\u001b[0m\u001b[1;33m\u001b[0m\u001b[0m\n\u001b[0;32m   5036\u001b[0m         \u001b[1;32mif\u001b[0m \u001b[0mself\u001b[0m\u001b[1;33m.\u001b[0m\u001b[0mis_monotonic_increasing\u001b[0m\u001b[1;33m:\u001b[0m\u001b[1;33m\u001b[0m\u001b[1;33m\u001b[0m\u001b[0m\n\u001b[1;32m-> 5037\u001b[1;33m             \u001b[1;32mreturn\u001b[0m \u001b[0mself\u001b[0m\u001b[1;33m.\u001b[0m\u001b[0msearchsorted\u001b[0m\u001b[1;33m(\u001b[0m\u001b[0mlabel\u001b[0m\u001b[1;33m,\u001b[0m \u001b[0mside\u001b[0m\u001b[1;33m=\u001b[0m\u001b[0mside\u001b[0m\u001b[1;33m)\u001b[0m\u001b[1;33m\u001b[0m\u001b[1;33m\u001b[0m\u001b[0m\n\u001b[0m\u001b[0;32m   5038\u001b[0m         \u001b[1;32melif\u001b[0m \u001b[0mself\u001b[0m\u001b[1;33m.\u001b[0m\u001b[0mis_monotonic_decreasing\u001b[0m\u001b[1;33m:\u001b[0m\u001b[1;33m\u001b[0m\u001b[1;33m\u001b[0m\u001b[0m\n\u001b[0;32m   5039\u001b[0m             \u001b[1;31m# np.searchsorted expects ascending sort order, have to reverse\u001b[0m\u001b[1;33m\u001b[0m\u001b[1;33m\u001b[0m\u001b[1;33m\u001b[0m\u001b[0m\n",
      "\u001b[1;32m~\\anaconda3\\lib\\site-packages\\pandas\\core\\base.py\u001b[0m in \u001b[0;36msearchsorted\u001b[1;34m(self, value, side, sorter)\u001b[0m\n\u001b[0;32m   1499\u001b[0m     \u001b[1;33m@\u001b[0m\u001b[0mdoc\u001b[0m\u001b[1;33m(\u001b[0m\u001b[0m_shared_docs\u001b[0m\u001b[1;33m[\u001b[0m\u001b[1;34m\"searchsorted\"\u001b[0m\u001b[1;33m]\u001b[0m\u001b[1;33m,\u001b[0m \u001b[0mklass\u001b[0m\u001b[1;33m=\u001b[0m\u001b[1;34m\"Index\"\u001b[0m\u001b[1;33m)\u001b[0m\u001b[1;33m\u001b[0m\u001b[1;33m\u001b[0m\u001b[0m\n\u001b[0;32m   1500\u001b[0m     \u001b[1;32mdef\u001b[0m \u001b[0msearchsorted\u001b[0m\u001b[1;33m(\u001b[0m\u001b[0mself\u001b[0m\u001b[1;33m,\u001b[0m \u001b[0mvalue\u001b[0m\u001b[1;33m,\u001b[0m \u001b[0mside\u001b[0m\u001b[1;33m=\u001b[0m\u001b[1;34m\"left\"\u001b[0m\u001b[1;33m,\u001b[0m \u001b[0msorter\u001b[0m\u001b[1;33m=\u001b[0m\u001b[1;32mNone\u001b[0m\u001b[1;33m)\u001b[0m \u001b[1;33m->\u001b[0m \u001b[0mnp\u001b[0m\u001b[1;33m.\u001b[0m\u001b[0mndarray\u001b[0m\u001b[1;33m:\u001b[0m\u001b[1;33m\u001b[0m\u001b[1;33m\u001b[0m\u001b[0m\n\u001b[1;32m-> 1501\u001b[1;33m         \u001b[1;32mreturn\u001b[0m \u001b[0malgorithms\u001b[0m\u001b[1;33m.\u001b[0m\u001b[0msearchsorted\u001b[0m\u001b[1;33m(\u001b[0m\u001b[0mself\u001b[0m\u001b[1;33m.\u001b[0m\u001b[0m_values\u001b[0m\u001b[1;33m,\u001b[0m \u001b[0mvalue\u001b[0m\u001b[1;33m,\u001b[0m \u001b[0mside\u001b[0m\u001b[1;33m=\u001b[0m\u001b[0mside\u001b[0m\u001b[1;33m,\u001b[0m \u001b[0msorter\u001b[0m\u001b[1;33m=\u001b[0m\u001b[0msorter\u001b[0m\u001b[1;33m)\u001b[0m\u001b[1;33m\u001b[0m\u001b[1;33m\u001b[0m\u001b[0m\n\u001b[0m\u001b[0;32m   1502\u001b[0m \u001b[1;33m\u001b[0m\u001b[0m\n\u001b[0;32m   1503\u001b[0m     \u001b[1;32mdef\u001b[0m \u001b[0mdrop_duplicates\u001b[0m\u001b[1;33m(\u001b[0m\u001b[0mself\u001b[0m\u001b[1;33m,\u001b[0m \u001b[0mkeep\u001b[0m\u001b[1;33m=\u001b[0m\u001b[1;34m\"first\"\u001b[0m\u001b[1;33m)\u001b[0m\u001b[1;33m:\u001b[0m\u001b[1;33m\u001b[0m\u001b[1;33m\u001b[0m\u001b[0m\n",
      "\u001b[1;32m~\\anaconda3\\lib\\site-packages\\pandas\\core\\algorithms.py\u001b[0m in \u001b[0;36msearchsorted\u001b[1;34m(arr, value, side, sorter)\u001b[0m\n\u001b[0;32m   1860\u001b[0m             \u001b[0mvalue\u001b[0m \u001b[1;33m=\u001b[0m \u001b[0mvalue\u001b[0m\u001b[1;33m.\u001b[0m\u001b[0mto_datetime64\u001b[0m\u001b[1;33m(\u001b[0m\u001b[1;33m)\u001b[0m\u001b[1;33m\u001b[0m\u001b[1;33m\u001b[0m\u001b[0m\n\u001b[0;32m   1861\u001b[0m \u001b[1;33m\u001b[0m\u001b[0m\n\u001b[1;32m-> 1862\u001b[1;33m     \u001b[0mresult\u001b[0m \u001b[1;33m=\u001b[0m \u001b[0marr\u001b[0m\u001b[1;33m.\u001b[0m\u001b[0msearchsorted\u001b[0m\u001b[1;33m(\u001b[0m\u001b[0mvalue\u001b[0m\u001b[1;33m,\u001b[0m \u001b[0mside\u001b[0m\u001b[1;33m=\u001b[0m\u001b[0mside\u001b[0m\u001b[1;33m,\u001b[0m \u001b[0msorter\u001b[0m\u001b[1;33m=\u001b[0m\u001b[0msorter\u001b[0m\u001b[1;33m)\u001b[0m\u001b[1;33m\u001b[0m\u001b[1;33m\u001b[0m\u001b[0m\n\u001b[0m\u001b[0;32m   1863\u001b[0m     \u001b[1;32mreturn\u001b[0m \u001b[0mresult\u001b[0m\u001b[1;33m\u001b[0m\u001b[1;33m\u001b[0m\u001b[0m\n\u001b[0;32m   1864\u001b[0m \u001b[1;33m\u001b[0m\u001b[0m\n",
      "\u001b[1;31mTypeError\u001b[0m: '<' not supported between instances of 'datetime.date' and 'str'"
     ]
    }
   ],
   "source": [
    "#train_test_split\n",
    "tr_start,tr_end = '2019-02-01','2019-05-24'\n",
    "te_start,te_end = '2019-05-25','2019-06-30'\n",
    "tra = df_predictive['daily_trips'][tr_start:tr_end].dropna()\n",
    "tes = df_predictive['daily_trips'][te_start:te_end].dropna()"
   ]
  },
  {
   "cell_type": "code",
   "execution_count": 188,
   "metadata": {},
   "outputs": [
    {
     "name": "stderr",
     "output_type": "stream",
     "text": [
      "<ipython-input-188-bea2bef8b99b>:3: FutureWarning: The pandas.datetime class is deprecated and will be removed from pandas in a future version. Import from datetime module instead.\n",
      "  from pandas import datetime\n"
     ]
    },
    {
     "ename": "ValueError",
     "evalue": "SARIMAX models require univariate `endog`. Got shape (97, 14).",
     "output_type": "error",
     "traceback": [
      "\u001b[1;31m---------------------------------------------------------------------------\u001b[0m",
      "\u001b[1;31mValueError\u001b[0m                                Traceback (most recent call last)",
      "\u001b[1;32m<ipython-input-188-bea2bef8b99b>\u001b[0m in \u001b[0;36m<module>\u001b[1;34m\u001b[0m\n\u001b[0;32m     18\u001b[0m \u001b[1;31m# walk-forward validation\u001b[0m\u001b[1;33m\u001b[0m\u001b[1;33m\u001b[0m\u001b[1;33m\u001b[0m\u001b[0m\n\u001b[0;32m     19\u001b[0m \u001b[1;32mfor\u001b[0m \u001b[0mt\u001b[0m \u001b[1;32min\u001b[0m \u001b[0mrange\u001b[0m\u001b[1;33m(\u001b[0m\u001b[0mlen\u001b[0m\u001b[1;33m(\u001b[0m\u001b[0mtest\u001b[0m\u001b[1;33m)\u001b[0m\u001b[1;33m)\u001b[0m\u001b[1;33m:\u001b[0m\u001b[1;33m\u001b[0m\u001b[1;33m\u001b[0m\u001b[0m\n\u001b[1;32m---> 20\u001b[1;33m         \u001b[0mmodel\u001b[0m \u001b[1;33m=\u001b[0m \u001b[0mARIMA\u001b[0m\u001b[1;33m(\u001b[0m\u001b[0mhistory\u001b[0m\u001b[1;33m,\u001b[0m \u001b[0morder\u001b[0m\u001b[1;33m=\u001b[0m\u001b[1;33m(\u001b[0m\u001b[1;36m97\u001b[0m\u001b[1;33m,\u001b[0m\u001b[1;36m14\u001b[0m\u001b[1;33m,\u001b[0m\u001b[1;36m0\u001b[0m\u001b[1;33m)\u001b[0m\u001b[1;33m)\u001b[0m\u001b[1;33m\u001b[0m\u001b[1;33m\u001b[0m\u001b[0m\n\u001b[0m\u001b[0;32m     21\u001b[0m         \u001b[0mmodel_fit\u001b[0m \u001b[1;33m=\u001b[0m \u001b[0mmodel\u001b[0m\u001b[1;33m.\u001b[0m\u001b[0mfit\u001b[0m\u001b[1;33m(\u001b[0m\u001b[1;33m)\u001b[0m\u001b[1;33m\u001b[0m\u001b[1;33m\u001b[0m\u001b[0m\n\u001b[0;32m     22\u001b[0m         \u001b[0moutput\u001b[0m \u001b[1;33m=\u001b[0m \u001b[0mmodel_fit\u001b[0m\u001b[1;33m.\u001b[0m\u001b[0mforecast\u001b[0m\u001b[1;33m(\u001b[0m\u001b[1;33m)\u001b[0m\u001b[1;33m\u001b[0m\u001b[1;33m\u001b[0m\u001b[0m\n",
      "\u001b[1;32m~\\anaconda3\\lib\\site-packages\\statsmodels\\tsa\\arima\\model.py\u001b[0m in \u001b[0;36m__init__\u001b[1;34m(self, endog, exog, order, seasonal_order, trend, enforce_stationarity, enforce_invertibility, concentrate_scale, trend_offset, dates, freq, missing)\u001b[0m\n\u001b[0;32m    128\u001b[0m         \u001b[1;31m# this criteria. Instead, we'll just make sure that the parameter\u001b[0m\u001b[1;33m\u001b[0m\u001b[1;33m\u001b[0m\u001b[1;33m\u001b[0m\u001b[0m\n\u001b[0;32m    129\u001b[0m         \u001b[1;31m# estimates from those methods satisfy the criteria.)\u001b[0m\u001b[1;33m\u001b[0m\u001b[1;33m\u001b[0m\u001b[1;33m\u001b[0m\u001b[0m\n\u001b[1;32m--> 130\u001b[1;33m         self._spec_arima = SARIMAXSpecification(\n\u001b[0m\u001b[0;32m    131\u001b[0m             \u001b[0mendog\u001b[0m\u001b[1;33m,\u001b[0m \u001b[0mexog\u001b[0m\u001b[1;33m=\u001b[0m\u001b[0mexog\u001b[0m\u001b[1;33m,\u001b[0m \u001b[0morder\u001b[0m\u001b[1;33m=\u001b[0m\u001b[0morder\u001b[0m\u001b[1;33m,\u001b[0m \u001b[0mseasonal_order\u001b[0m\u001b[1;33m=\u001b[0m\u001b[0mseasonal_order\u001b[0m\u001b[1;33m,\u001b[0m\u001b[1;33m\u001b[0m\u001b[1;33m\u001b[0m\u001b[0m\n\u001b[0;32m    132\u001b[0m             \u001b[0mtrend\u001b[0m\u001b[1;33m=\u001b[0m\u001b[0mtrend\u001b[0m\u001b[1;33m,\u001b[0m \u001b[0menforce_stationarity\u001b[0m\u001b[1;33m=\u001b[0m\u001b[1;32mNone\u001b[0m\u001b[1;33m,\u001b[0m \u001b[0menforce_invertibility\u001b[0m\u001b[1;33m=\u001b[0m\u001b[1;32mNone\u001b[0m\u001b[1;33m,\u001b[0m\u001b[1;33m\u001b[0m\u001b[1;33m\u001b[0m\u001b[0m\n",
      "\u001b[1;32m~\\anaconda3\\lib\\site-packages\\statsmodels\\tsa\\arima\\specification.py\u001b[0m in \u001b[0;36m__init__\u001b[1;34m(self, endog, exog, order, seasonal_order, ar_order, diff, ma_order, seasonal_ar_order, seasonal_diff, seasonal_ma_order, seasonal_periods, trend, enforce_stationarity, enforce_invertibility, concentrate_scale, trend_offset, dates, freq, missing)\u001b[0m\n\u001b[0;32m    445\u001b[0m         \u001b[1;31m# Validate endog shape\u001b[0m\u001b[1;33m\u001b[0m\u001b[1;33m\u001b[0m\u001b[1;33m\u001b[0m\u001b[0m\n\u001b[0;32m    446\u001b[0m         \u001b[1;32mif\u001b[0m \u001b[1;32mnot\u001b[0m \u001b[0mfaux_endog\u001b[0m \u001b[1;32mand\u001b[0m \u001b[0mself\u001b[0m\u001b[1;33m.\u001b[0m\u001b[0mendog\u001b[0m\u001b[1;33m.\u001b[0m\u001b[0mndim\u001b[0m \u001b[1;33m>\u001b[0m \u001b[1;36m1\u001b[0m \u001b[1;32mand\u001b[0m \u001b[0mself\u001b[0m\u001b[1;33m.\u001b[0m\u001b[0mendog\u001b[0m\u001b[1;33m.\u001b[0m\u001b[0mshape\u001b[0m\u001b[1;33m[\u001b[0m\u001b[1;36m1\u001b[0m\u001b[1;33m]\u001b[0m \u001b[1;33m>\u001b[0m \u001b[1;36m1\u001b[0m\u001b[1;33m:\u001b[0m\u001b[1;33m\u001b[0m\u001b[1;33m\u001b[0m\u001b[0m\n\u001b[1;32m--> 447\u001b[1;33m             raise ValueError('SARIMAX models require univariate `endog`. Got'\n\u001b[0m\u001b[0;32m    448\u001b[0m                              ' shape %s.' % str(self.endog.shape))\n\u001b[0;32m    449\u001b[0m \u001b[1;33m\u001b[0m\u001b[0m\n",
      "\u001b[1;31mValueError\u001b[0m: SARIMAX models require univariate `endog`. Got shape (97, 14)."
     ]
    }
   ],
   "source": [
    "# evaluate an ARIMA model using a walk-forward validation\n",
    "from pandas import read_csv\n",
    "from pandas import datetime\n",
    "from matplotlib import pyplot\n",
    "from statsmodels.tsa.arima.model import ARIMA\n",
    "from sklearn.metrics import mean_squared_error\n",
    "from math import sqrt\n",
    "# load dataset\n",
    "\n",
    "\n",
    "# split into train and test sets\n",
    "X = df_predictive.values\n",
    "size = int(len(X) * 0.66)\n",
    "train, test = X[0:size], X[size:len(X)]\n",
    "history = [x for x in train]\n",
    "predictions = list()\n",
    "\n",
    "# walk-forward validation\n",
    "for t in range(len(test)):\n",
    "\tmodel = ARIMA(history, order=(97,14,0))\n",
    "\tmodel_fit = model.fit()\n",
    "\toutput = model_fit.forecast()\n",
    "\tyhat = output[0]\n",
    "\tpredictions.append(yhat)\n",
    "\tobs = test[t]\n",
    "\thistory.append(obs)\n",
    "\tprint('predicted=%f, expected=%f' % (yhat, obs))\n",
    "# evaluate forecasts\n",
    "rmse = sqrt(mean_squared_error(test, predictions))\n",
    "print('Test RMSE: %.3f' % rmse)\n",
    "# plot forecasts against actual outcomes\n",
    "pyplot.plot(test)\n",
    "pyplot.plot(predictions, color='red')\n",
    "pyplot.show()"
   ]
  },
  {
   "cell_type": "code",
   "execution_count": null,
   "metadata": {},
   "outputs": [],
   "source": [
    "\n",
    "  \n",
    "# Import the library \n",
    "from pmdarima import auto_arima \n",
    "  \n",
    "# Ignore harmless warnings \n",
    "import warnings \n",
    "warnings.filterwarnings(\"ignore\") \n",
    "  \n",
    "# Fit auto_arima function to AirPassengers dataset \n",
    "stepwise_fit = auto_arima(df_predictive['daily_trips'], start_p = 1, start_q = 1, \n",
    "                          max_p = 3, max_q = 3, m = 12, \n",
    "                          start_P = 0, seasonal = True, \n",
    "                          d = None, D = 1, trace = True, \n",
    "                          error_action ='ignore',   # we don't want to know if an order does not work \n",
    "                          suppress_warnings = True,  # we don't want convergence warnings \n",
    "                          stepwise = True)           # set to stepwise \n",
    "  \n",
    "# To print the summary \n",
    "stepwise_fit.summary() "
   ]
  },
  {
   "cell_type": "code",
   "execution_count": null,
   "metadata": {},
   "outputs": [],
   "source": []
  },
  {
   "cell_type": "code",
   "execution_count": null,
   "metadata": {},
   "outputs": [],
   "source": []
  },
  {
   "cell_type": "code",
   "execution_count": null,
   "metadata": {},
   "outputs": [],
   "source": [
    "# evaluate an ARIMA model using a walk-forward validation\n",
    "from pandas import read_csv\n",
    "\n",
    "from matplotlib import pyplot\n",
    "from statsmodels.tsa.arima.model import ARIMA\n",
    "from sklearn.metrics import mean_squared_error\n",
    "from math import sqrt\n",
    "\n",
    "# load dataset\n",
    "def parser(x):\n",
    "\treturn datetime.strptime('190'+x, '%Y-%m')\n",
    "\n",
    "# split into train and test sets\n",
    "X = df_predictive.values\n",
    "size = int(len(X) * 0.66)\n",
    "train, test = X[0:size], X[size:len(X)]\n",
    "history = [x for x in train]\n",
    "predictions = list()\n",
    "# walk-forward validation\n",
    "for t in range(len(test)):\n",
    "    model = ARIMA(history, order=(97,13,13))\n",
    "    model_fit = model.fit()\n",
    "output = model_fit.forecast()\n",
    "yhat = output[0]\n",
    "predictions.append(yhat)\n",
    "obs = test[t]\n",
    "history.append(obs)\n",
    "print('predicted=%f, expected=%f' % (yhat, obs))\n",
    "# evaluate forecasts\n",
    "rmse = sqrt(mean_squared_error(test, predictions))\n",
    "print('Test RMSE: %.3f' % rmse)\n",
    "# plot forecasts against actual outcomes\n",
    "pyplot.plot(test)\n",
    "pyplot.plot(predictions, color='red')\n",
    "pyplot.show()"
   ]
  },
  {
   "cell_type": "code",
   "execution_count": null,
   "metadata": {},
   "outputs": [],
   "source": []
  },
  {
   "cell_type": "markdown",
   "metadata": {},
   "source": [
    "## Linear Regression"
   ]
  },
  {
   "cell_type": "code",
   "execution_count": null,
   "metadata": {},
   "outputs": [],
   "source": [
    "import numpy as np\n",
    "import pandas as pd\n",
    "\n",
    "import matplotlib.pyplot as plt\n",
    "\n",
    "from sklearn.linear_model import LinearRegression\n",
    "from sklearn.metrics import mean_squared_error, mean_absolute_error, r2_score\n",
    "\n",
    "%matplotlib inline\n",
    "# %config InlineBackend.figure_format = 'svg'"
   ]
  },
  {
   "cell_type": "code",
   "execution_count": null,
   "metadata": {},
   "outputs": [],
   "source": [
    "df_predictive"
   ]
  },
  {
   "cell_type": "code",
   "execution_count": null,
   "metadata": {},
   "outputs": [],
   "source": [
    "# note: we are using here the very powerful map() function, which returns a list of the results \n",
    "# after applying the given function to each item of a given iterable (list, tuple etc.)\n",
    "\n",
    "#df_weekday = df_predictive[list(map(lambda x : str(x)[0:1] in [\"06\", \"07\", \"08\"], df.index))].copy()\n",
    "\n",
    "plt.scatter(df_predictive[\"tmax\"], df_predictive[\"daily_trips\"], marker='x')\n",
    "plt.xlabel(\"Max Temperature (°C)\")\n",
    "plt.ylabel(\"Daily Trips\")\n",
    "#plt.savefig('peak demand summer.png', dpi = 300)"
   ]
  },
  {
   "cell_type": "code",
   "execution_count": null,
   "metadata": {},
   "outputs": [],
   "source": [
    "model = LinearRegression(fit_intercept =True)"
   ]
  },
  {
   "cell_type": "code",
   "execution_count": null,
   "metadata": {},
   "outputs": [],
   "source": [
    "Xp = df_predictive[\"tavg\"].values\n",
    "Yp = df_predictive[\"daily_trips\"].values"
   ]
  },
  {
   "cell_type": "code",
   "execution_count": null,
   "metadata": {},
   "outputs": [],
   "source": [
    "model.fit (df_predictive[\"tmax\"].values.reshape(-1,1),df_predictive[\"daily_trips\"])\n",
    "model_pred = model.predict(df_predictive[\"tmax\"].values.reshape(-1,1))"
   ]
  },
  {
   "cell_type": "code",
   "execution_count": null,
   "metadata": {},
   "outputs": [],
   "source": [
    "plt.scatter( df_predictive[\"tmax\"] ,df_predictive[\"daily_trips\"], marker = 'x', c='g')\n",
    "xlim, ylim =(plt.gca().get_xlim(), plt.gca().get_ylim())\n",
    "\n",
    "Z = np.linspace(0,40)\n",
    "T = model.intercept_ + model.coef_*Z\n",
    "\n",
    "plt.plot(Z,T)\n",
    "plt.xlim(xlim)\n",
    "plt.ylim(ylim)\n",
    "plt.xlabel(\"Max Temperature (°C)\")\n",
    "plt.ylabel(\"Daily Trips\")\n",
    "plt.show()\n",
    "print(model.coef_, model.intercept_)\n",
    "print ('The R^2 of linear regression is: ',r2_score(df_predictive[\"daily_trips\"], model_pred))"
   ]
  },
  {
   "cell_type": "code",
   "execution_count": null,
   "metadata": {},
   "outputs": [],
   "source": [
    "#Weekday Version\n",
    "plt.figure(figsize = (8,6))\n",
    "plt.scatter(df_predictive[df_predictive[\"weekday_dummy\"]==0][\"tmax\"], \n",
    "            df_predictive[df_predictive[\"weekday_dummy\"]==0][\"daily_trips\"], marker='x', color='C2')\n",
    "plt.scatter(df_predictive[df_predictive[\"weekday_dummy\"]==1][\"tmax\"], \n",
    "            df_predictive[df_predictive[\"weekday_dummy\"]==1][\"daily_trips\"], marker='x', color='C0')\n",
    "plt.xlabel(\"Max Temperature \")\n",
    "plt.ylabel(\"Daily Trips\")\n",
    "plt.legend([\"Weekdays\", \"Weekends\"])\n",
    "plt.show()"
   ]
  },
  {
   "cell_type": "code",
   "execution_count": null,
   "metadata": {},
   "outputs": [],
   "source": [
    "X = df_predictive[[\"tmax\", \"weekday_dummy\"]]\n",
    "y = df_predictive[[\"daily_trips\"]]\n",
    "lin_mod_day = LinearRegression()\n",
    "lin_mod_day.fit(X,y)\n",
    "print(lin_mod_day.coef_, lin_mod_day.intercept_)"
   ]
  },
  {
   "cell_type": "code",
   "execution_count": null,
   "metadata": {},
   "outputs": [],
   "source": [
    "X_weekday = X[X[\"weekday_dummy\"]==1]\n",
    "X_weekend = X[X[\"weekday_dummy\"]==0]\n",
    "\n",
    "# predict weekends and weekdays seperately\n",
    "y_pred_weekday = lin_mod_day.predict(X_weekday)\n",
    "y_pred_weekend = lin_mod_day.predict(X_weekend)\n",
    "\n",
    "plt.figure(figsize = (8,6))\n",
    "\n",
    "plt.scatter(X_weekday[\"tmax\"], \n",
    "            df_predictive[df_predictive[\"weekday_dummy\"]==1][\"daily_trips\"], \n",
    "            marker=\"+\", label=\"Observed Weekdays\")\n",
    "\n",
    "plt.scatter(X_weekend[\"tmax\"], \n",
    "            df_predictive[df_predictive[\"weekday_dummy\"]==0][\"daily_trips\"], \n",
    "            marker=\"x\", label=\"Observed Weekends\")\n",
    "\n",
    "plt.plot(X_weekday[\"tmax\"], \n",
    "         y_pred_weekday, \n",
    "         label=\"Weekday Prediction\")\n",
    "plt.plot(X_weekend[\"tmax\"], \n",
    "         y_pred_weekend, \n",
    "         label=\"Weekend Prediction\")\n",
    "\n",
    "plt.xlabel(\"High Temperature (°C)\")\n",
    "plt.ylabel(\"Daily Trips\")\n",
    "\n",
    "plt.legend()\n",
    "plt.show()"
   ]
  },
  {
   "cell_type": "markdown",
   "metadata": {},
   "source": [
    "## Nonlinear modeling"
   ]
  },
  {
   "cell_type": "code",
   "execution_count": null,
   "metadata": {},
   "outputs": [],
   "source": [
    "xp = df_predictive[\"tmax\"].values\n",
    "yp = df_predictive[\"daily_trips\"].values\n",
    "xa = df_predictive[\"tavg\"].values"
   ]
  },
  {
   "cell_type": "code",
   "execution_count": null,
   "metadata": {},
   "outputs": [],
   "source": [
    "plt.scatter(xp, yp, marker=\"x\")\n",
    "plt.xlabel(\"Max Temperature (°C)\")\n",
    "plt.ylabel(\"Daily Trips\")"
   ]
  },
  {
   "cell_type": "code",
   "execution_count": null,
   "metadata": {},
   "outputs": [],
   "source": [
    "lr = LinearRegression()\n",
    "lr.fit(xp.reshape(-1,1), yp)\n",
    "model_pred_p = lr.predict(xp.reshape(-1,1))\n",
    "\n",
    "plt.scatter(xp, yp, marker=\"x\" )\n",
    "plt.xlabel(\"High Temperature (°C)\")\n",
    "plt.ylabel(\"Peak Demand (GW)\")\n",
    "plt.plot(xp, model_pred_p, c='C2')\n",
    "print ('The R^2 of linear regression is: ',r2_score(yp, model_pred_p))"
   ]
  },
  {
   "cell_type": "code",
   "execution_count": null,
   "metadata": {},
   "outputs": [],
   "source": [
    "# x is the input variable\n",
    "# y is the output vaiable\n",
    "# d is degree pf polynomial regression\n",
    "\n",
    "def plot_regression_poly(x, y, d):\n",
    "    \n",
    "    min_x, max_x = x.min(), x.max()\n",
    "    xs = 2*(x - min_x)/(max_x - min_x)-1\n",
    "    X = np.array([xs**i for i in range(d,-1,-1)]).T\n",
    "    theta = np.linalg.solve(X.T @ X, X.T @ y)\n",
    "    xt0 = np.linspace(min_x-1, max_x+1, 400)\n",
    "    xt = 2* (xt0 - min_x)/(max_x - min_x) -1\n",
    "    Xt = np.array([xt**i for i in range(d,-1,-1)]).T\n",
    "    yt = Xt @ theta\n",
    "        \n",
    "    plt.scatter(x, y, marker=\"x\")\n",
    "    ylim = plt.ylim()\n",
    "    plt.plot(xt0, yt, 'C1')\n",
    "    plt.xlabel(\"Temperature (°C)\")\n",
    "    plt.ylabel(\"Demand (GW)\")\n",
    "    plt.xlim([min_x-2, max_x+2])\n",
    "    plt.ylim(ylim)\n",
    "    print(theta[:4])\n",
    "    #plt.savefig('all data_reg_'+str(d)+'.png', dpi = 300)\n",
    "    \n",
    "#Quadratic regression for demand data:\n",
    "plot_regression_poly(x = xp, y=yp, d = 2)"
   ]
  },
  {
   "cell_type": "code",
   "execution_count": null,
   "metadata": {},
   "outputs": [],
   "source": [
    "#qubic regression\n",
    "# Plot of Peak demand vs. High temperature\n",
    "plot_regression_poly(x = xp, y=yp, d = 100)"
   ]
  },
  {
   "cell_type": "code",
   "execution_count": null,
   "metadata": {},
   "outputs": [],
   "source": [
    "#Cross validation\n",
    "\n",
    "X = np.array([df_predictive[\"tmax\"].values, np.ones(len(df))]).T\n",
    "np.random.seed(10)\n",
    "perm = np.random.permutation(X.shape[0])\n",
    "idx_train = perm[:int(len(perm)*0.7)]\n",
    "idx_cv = perm[int(len(perm)*0.7):]\n",
    "\n",
    "x_train, y_train = df_predictive[\"tmax\"].iloc[idx_train].values, df_predictive[\"daily_trips\"].iloc[idx_train].values\n",
    "x_cv, y_cv = df_predictive[\"tmax\"].iloc[idx_cv].values, df_predictive[\"daily_trips\"].iloc[idx_cv].values"
   ]
  },
  {
   "cell_type": "code",
   "execution_count": null,
   "metadata": {},
   "outputs": [],
   "source": [
    "plt.scatter(x_train, y_train, marker='x', color=\"C0\")\n",
    "plt.scatter(x_cv, y_cv, marker='x', color=\"C2\")\n",
    "plt.xlabel(\"Temperature (°C)\")\n",
    "plt.ylabel(\"Demand (GW)\")\n",
    "plt.legend(['Training set', 'Holdout set'])\n",
    "#plt.savefig('crossvalidation.png', dpi = 300)"
   ]
  },
  {
   "cell_type": "code",
   "execution_count": null,
   "metadata": {},
   "outputs": [],
   "source": [
    "min_x_train, max_x_train = x_train.min(), x_train.max()\n",
    "x_train = 2*(x_train - min_x_train)/(max_x_train - min_x_train) - 1\n",
    "x_cv = 2*(x_cv - min_x_train)/(max_x_train - min_x_train) - 1\n",
    "\n",
    "def poly_feat(x, degree):\n",
    "    return np.array([x**i for i in range(degree,-1,-1)]).T\n",
    "\n",
    "def ls_poly(x, y, degree):\n",
    "    X = np.array([x**i for i in range(degree,-1,-1)]).T\n",
    "    return np.linalg.solve(X.T @ X, X.T @ y)  \n",
    "\n",
    "\n",
    "err_train = []\n",
    "err_cv = []\n",
    "for i in range(50):\n",
    "    theta = ls_poly(x_train, y_train, i)\n",
    "    err_train.append(((poly_feat(x_train,i) @ theta - y_train)**2).mean())\n",
    "    err_cv.append(((poly_feat(x_cv,i) @ theta - y_cv)**2).mean())\n",
    "plt.semilogy(range(50), err_train, range(50), err_cv)\n",
    "plt.legend([\"Training\", \"Validation\"])\n",
    "plt.xlabel(\"Polynomial degree\")\n",
    "plt.ylabel(\"Mean squared error\")\n",
    "plt.savefig('crossvalidation error .png', dpi = 500)"
   ]
  },
  {
   "cell_type": "code",
   "execution_count": null,
   "metadata": {},
   "outputs": [],
   "source": [
    "plt.semilogy(range(15), err_train[:15], range(15), err_cv[:15])\n",
    "plt.legend([\"Training\", \"Validation\"])\n",
    "plt.xlabel(\"Polynomial degree\")\n",
    "plt.ylabel(\"Mean squared error\")"
   ]
  },
  {
   "cell_type": "markdown",
   "metadata": {},
   "source": [
    "## Decision Trees"
   ]
  },
  {
   "cell_type": "code",
   "execution_count": null,
   "metadata": {},
   "outputs": [],
   "source": [
    "#Cross validation using Scikit-learn library\n",
    "from sklearn.model_selection import train_test_split"
   ]
  },
  {
   "cell_type": "code",
   "execution_count": null,
   "metadata": {},
   "outputs": [],
   "source": [
    "# split the data with 70% in each set\n",
    "X_train, X_test, y_train, y_test = train_test_split(xp, yp, test_size=0.3)"
   ]
  },
  {
   "cell_type": "code",
   "execution_count": null,
   "metadata": {},
   "outputs": [],
   "source": [
    "plt.scatter(X_train, y_train, marker='x', color=\"C0\")\n",
    "plt.scatter(X_test, y_test, marker='x', color=\"C2\")\n",
    "plt.xlabel(\"Temperature (°C)\")\n",
    "plt.ylabel(\"Demand (GW)\")\n",
    "plt.legend(['Training set', 'Holdout set'])"
   ]
  },
  {
   "cell_type": "code",
   "execution_count": null,
   "metadata": {},
   "outputs": [],
   "source": [
    "# fit the model on one set of data\n",
    "from sklearn.preprocessing import PolynomialFeatures\n",
    "poly_reg = PolynomialFeatures (degree = 6)\n",
    "x_poly = poly_reg.fit_transform(X_train.reshape(-1,1))\n",
    "\n",
    "model = LinearRegression(normalize = True)\n",
    "model.fit(x_poly, y_train)\n",
    "\n",
    "# evaluate the model on the second set of data\n",
    "y_pred = model.predict(poly_reg.fit_transform(X_test.reshape(-1,1)))\n",
    "print ('The R^2 for quadratic curve is: ',r2_score(y_test, y_pred))"
   ]
  },
  {
   "cell_type": "code",
   "execution_count": null,
   "metadata": {},
   "outputs": [],
   "source": [
    "plt.scatter(X_train, y_train, marker='x', color=\"C0\")\n",
    "plt.scatter(X_test, y_pred, marker='x', color=\"C1\")\n",
    "plt.xlabel(\"Temperature (°C)\")\n",
    "plt.ylabel(\"Daily Trips\")\n",
    "plt.legend(['Training set', 'Prediction set'])"
   ]
  },
  {
   "cell_type": "code",
   "execution_count": null,
   "metadata": {},
   "outputs": [],
   "source": [
    "plt.figure(figsize = (8,6))\n",
    "plt.scatter(Xp, Yp, marker=\"x\")\n",
    "plt.xlabel(\"High Temperature (°C)\")\n",
    "plt.ylabel(\"Peak Demand (GW)\")\n",
    "plt.show()"
   ]
  },
  {
   "cell_type": "code",
   "execution_count": null,
   "metadata": {},
   "outputs": [],
   "source": [
    "from sklearn.tree import DecisionTreeRegressor, export_graphviz\n",
    "from sklearn.metrics import r2_score\n",
    "\n",
    "def plot_tree_regression_line(tree_depth):\n",
    "\n",
    "    # Fit regression model (to full data)\n",
    "    Tree_reg = DecisionTreeRegressor(max_depth=tree_depth,\n",
    "                                    criterion=\"mse\")\n",
    "    Tree_reg.fit(Xp.reshape((-1,1)), Yp)\n",
    "    Y_pred = Tree_reg.predict(Xp.reshape((-1,1)))\n",
    "    \n",
    "    attributes = Tree_reg.tree_\n",
    "\n",
    "    # plot\n",
    "    plt.figure(figsize = (8,6))\n",
    "    plt.scatter(Xp, Yp, marker=\"x\")\n",
    "    plt.plot(np.arange(-18,40,1), Tree_reg.predict(np.arange(-18,40,1).reshape((-1,1))), marker=\"x\", color='C1')\n",
    "    plt.xlabel(\"Average Temperature (°C)\", fontsize=16)\n",
    "    plt.ylabel(\"Daily Trips\", fontsize=16)\n",
    "    \n",
    "    print(\"number of nodes: \", attributes.node_count)\n",
    "    print(\"number of leafs: \", attributes.n_leaves)\n",
    "    print(\"R^2: \", r2_score(Yp, Y_pred))\n",
    "    \n",
    "    \n",
    "    #plt.savefig(\"Peak_Power_Regression_Lines_{}depth.pdf\".format(tree_depth))"
   ]
  },
  {
   "cell_type": "code",
   "execution_count": null,
   "metadata": {},
   "outputs": [],
   "source": [
    "\n",
    "plot_tree_regression_line(2)"
   ]
  },
  {
   "cell_type": "code",
   "execution_count": null,
   "metadata": {},
   "outputs": [],
   "source": [
    "plt.figure(figsize=(17,12))\n",
    "plt.subplot(421)\n",
    "df_predictive['vacations'].plot.hist(bins=(5), color='blue', label='Histogram of Vacations', edgecolor='black')\n",
    "plt.legend(loc='best')\n",
    "plt.subplot(422)\n",
    "df_predictive['tavg'].plot.hist(bins=10, color='green', label='Histogram of Average Temparature', edgecolor='black')\n",
    "plt.legend(loc='best')\n",
    "plt.subplot(423)\n",
    "df_predictive['pres'].plot.hist(bins=10, color='orange', label='Histogram of Pres', edgecolor='black')\n",
    "plt.legend(loc='best')\n",
    "plt.subplot(424)\n",
    "df_predictive['holiday'].plot.hist(bins=10, color='pink', label='Histogram of Holiday', edgecolor='black')\n",
    "plt.legend(loc='best')\n",
    "plt.subplot(425)\n",
    "df_predictive['weekday_dummy'].plot.hist(bins=10, color='red', label='Histogram of Working Day', edgecolor='black')\n",
    "plt.legend(loc='best')\n",
    "plt.subplot(426)\n",
    "df_predictive['tmin'].plot.hist(bins=10, color='yellow', label='Histogram of MinTemperature', edgecolor='black')\n",
    "plt.legend(loc='best')\n",
    "plt.subplot(427)\n",
    "df_predictive['tmax'].plot.hist(bins=10, color='cyan', label='Histogram of MaxTemp', edgecolor='black')\n",
    "plt.legend(loc='best')\n",
    "plt.subplot(428)\n",
    "df_predictive['wspd'].plot.hist(bins=10, color='purple', label='Histogram of Windpseed', edgecolor='black')\n",
    "plt.legend(loc='best')\n",
    "plt.tight_layout();"
   ]
  },
  {
   "cell_type": "code",
   "execution_count": null,
   "metadata": {},
   "outputs": [],
   "source": [
    "X = df_predictive.drop(columns=[\"daily_trips\"])\n",
    "Y = df_predictive[[\"daily_trips\"]]\n",
    "\n",
    "X_train, X_test, Y_train, Y_test = train_test_split(X, Y, test_size = 0.3)"
   ]
  },
  {
   "cell_type": "code",
   "execution_count": null,
   "metadata": {
    "scrolled": true
   },
   "outputs": [],
   "source": [
    "lin_reg_mod = LinearRegression()\n",
    "lin_reg_mod.fit(X_train, Y_train)\n",
    "pred = lin_reg_mod.predict(X_test)\n",
    "\n",
    "test_set_r2 = r2_score(Y_test, pred)\n",
    "plt.scatter(Y_test, pred)\n",
    "\n",
    "x = np.linspace(0, 3000, 3000)\n",
    "print(\"R2:\", test_set_r2)\n",
    "plt.plot(x,x)"
   ]
  },
  {
   "cell_type": "code",
   "execution_count": null,
   "metadata": {},
   "outputs": [],
   "source": [
    "# Segregating data based on ‘workingday’ column\n",
    "work_day = df_predictive[df_predictive['weekday_dummy']==1] \n",
    "non_work_day = df_predictive[df_predictive['weekday_dummy']==0]\n",
    "# Model for registered\n",
    "x = work_day\n",
    "y = work_day\n",
    "    \n",
    "# Dividing the data into train and test\n",
    "from sklearn.model_selection import train_test_split\n",
    "x_train,x_test,y_train,y_test = train_test_split(x,y,test_size = 0.30 ,random_state = 2)"
   ]
  },
  {
   "cell_type": "markdown",
   "metadata": {},
   "source": [
    "_______________________________"
   ]
  },
  {
   "cell_type": "code",
   "execution_count": null,
   "metadata": {},
   "outputs": [],
   "source": []
  },
  {
   "cell_type": "markdown",
   "metadata": {},
   "source": [
    "### LSTM (Long Short-Term Memory)"
   ]
  },
  {
   "cell_type": "code",
   "execution_count": null,
   "metadata": {},
   "outputs": [],
   "source": [
    "#dataframe\n",
    "import pandas as pd\n",
    "import numpy as np\n",
    "import matplotlib.pyplot as plt\n",
    "%matplotlib inline\n",
    "from matplotlib.pylab import rcParams\n",
    "\n",
    "from sklearn.preprocessing import MinMaxScaler\n",
    "df_predictive"
   ]
  },
  {
   "cell_type": "code",
   "execution_count": null,
   "metadata": {},
   "outputs": [],
   "source": [
    "#Visualization\n",
    "plt.plot(df_predictive[\"daily_trips\"],label='Daily trips in Leipzig')"
   ]
  },
  {
   "cell_type": "code",
   "execution_count": null,
   "metadata": {},
   "outputs": [],
   "source": [
    "#Data Preparation\n",
    "df = df_predictive.sort_index(ascending=True,axis=0)\n",
    "data = pd.DataFrame(index=range(0,len(df)),columns=['Date','daily_trips'])\n",
    "\n",
    "data.head()"
   ]
  },
  {
   "cell_type": "code",
   "execution_count": null,
   "metadata": {},
   "outputs": [],
   "source": [
    "#MinMaxScaler\n",
    "scaler=MinMaxScaler(feature_range=(0,1))\n",
    "data.index=data.Date\n",
    "data.drop('date', axis=1,inplace=True)\n",
    "final_data = data.values\n",
    "train_data=final_data[0:200,:]\n",
    "valid_data=final_data[200:,:]\n",
    "scaler=MinMaxScaler(feature_range=(0,1))\n",
    "scaled_data=scaler.fit_transform(final_data)\n",
    "x_train_data,y_train_data=[],[]\n",
    "for i in range(60,len(train_data)):\n",
    "    x_train_data.append(scaled_data[i-60:i,0])\n",
    "    y_train_data.append(scaled_data[i,0])"
   ]
  },
  {
   "cell_type": "markdown",
   "metadata": {},
   "source": [
    "# Geographic Clustering for availability analysis"
   ]
  },
  {
   "cell_type": "code",
   "execution_count": null,
   "metadata": {},
   "outputs": [],
   "source": [
    "locs = df[[\"orig_lat\",\"orig_lng\"]].rename(columns={\"orig_lat\": \"lat\",\"orig_lng\":\"lng\"})\n",
    "locs.append(df[[\"dest_lat\",\"dest_lng\"]].rename(columns={\"dest_lat\": \"lat\",\"dest_lng\":\"lng\"}),ignore_index=True)\n",
    "locs"
   ]
  },
  {
   "cell_type": "code",
   "execution_count": null,
   "metadata": {},
   "outputs": [],
   "source": [
    "from sklearn.cluster import MiniBatchKMeans, KMeans\n",
    "\n",
    "ssd = []\n",
    "for i in range(2, 60):\n",
    "    km = MiniBatchKMeans(n_clusters=i)\n",
    "    km.fit_predict(locs)\n",
    "    ssd.append(km.inertia_)\n",
    "    \n",
    "plt.plot(ssd)"
   ]
  },
  {
   "cell_type": "code",
   "execution_count": null,
   "metadata": {},
   "outputs": [],
   "source": [
    "n = 40\n",
    "\n",
    "km = MiniBatchKMeans(n_clusters=n)\n",
    "km.fit_predict(locs)\n",
    "clusters = pd.DataFrame(km.cluster_centers_)\n",
    "clusters.columns = ['lat', 'lng']\n",
    "clusters_gdf = gpd.GeoDataFrame(\n",
    "    clusters.drop([\"lat\",\"lng\"],axis=1), geometry=gpd.points_from_xy(clusters[\"lng\"], clusters[\"lat\"]))"
   ]
  },
  {
   "cell_type": "code",
   "execution_count": null,
   "metadata": {
    "scrolled": false
   },
   "outputs": [],
   "source": [
    "locs_gdf = gpd.GeoDataFrame(\n",
    "    locs.drop([\"lat\",\"lng\"],axis=1), geometry=gpd.points_from_xy(locs[\"lng\"], locs[\"lat\"]))"
   ]
  },
  {
   "cell_type": "code",
   "execution_count": null,
   "metadata": {
    "scrolled": false
   },
   "outputs": [],
   "source": [
    "leipzig_map = gpd.read_file(\"./resources/leipzig/ot.shp\").to_crs(epsg=4326) #original file is in a different system\n",
    "\n",
    "fig, ax = plt.subplots(figsize=(30,20))\n",
    "\n",
    "locs_gdf.plot(ax=ax, alpha=0.2, color = [0,0,0], markersize=10, zorder=2)\n",
    "clusters_gdf.plot(ax=ax, alpha=0.7, color='cyan', markersize=75,  zorder=3)\n",
    "leipzig_map.plot(ax=ax, alpha=0.4, edgecolor='darkgrey', color='lightgrey', zorder=1)"
   ]
  },
  {
   "cell_type": "markdown",
   "metadata": {},
   "source": [
    "## Availability Analysis\n",
    "This function calculates what happened between rental times. It analyzes whether, between rentals, a bike has been available at a certain station or whether it has been moved to a different location. This can then be used for example to calculate the number of available bikes at a certain station at a single time. We use it to calculate our KPI of percentage of stations without available bikes. It can be used for further analysis in this topic as well."
   ]
  },
  {
   "cell_type": "code",
   "execution_count": null,
   "metadata": {},
   "outputs": [],
   "source": [
    "round_factor = 2\n",
    "df"
   ]
  },
  {
   "cell_type": "code",
   "execution_count": null,
   "metadata": {},
   "outputs": [],
   "source": [
    "df2 = df[:]\n",
    "\n",
    "df2[\"timestamp_end\"] = df2[\"timestamp\"] + df2[\"trip_duration\"]\n",
    "df2=df2.drop(columns=['date', 'date_str', \"revenue\", \"Weekday\", \"Time\", \"timestamp_rounded\",\"trip_duration\"])\n",
    "\n",
    "#df2 = df2.round({\"orig_lat\":round_factor, 'orig_lng':round_factor, 'dest_lat':round_factor, \"dest_lng\":round_factor})\n",
    "\n",
    "#make sure it is sorted by b_number, then timestamp\n",
    "df2 = df2.sort_values(by=['b_number','timestamp'])\n",
    "#make sure the index is still +1 every time after sorting\n",
    "df2.reset_index(inplace=True)\n",
    "df2 = df2.rename(columns={\"index\": \"original_index\"})\n",
    "\n",
    "\n",
    "df2"
   ]
  },
  {
   "cell_type": "markdown",
   "metadata": {},
   "source": [
    "This step will take a while, as it clusters each entry to a specific cluster point, which takes a lot of computing power."
   ]
  },
  {
   "cell_type": "code",
   "execution_count": null,
   "metadata": {
    "scrolled": false
   },
   "outputs": [],
   "source": [
    "df3 = []\n",
    "\n",
    "bike_number = 0\n",
    "bike_city = \"\"\n",
    "\n",
    "for index in df2.index:\n",
    "    if  df2.at[index,\"b_number\"] != bike_number:\n",
    "        bike_number = df2.at[index,\"b_number\"]\n",
    "        bike_city = df2.at[index,\"city\"]\n",
    "    else:\n",
    "        lat = df2.at[index,\"orig_lat\"]\n",
    "        lng = df2.at[index,\"orig_lng\"]\n",
    "        cluster_point = next_cluster(lng,lat,clusters)\n",
    "        time_start = df2.at[index-1,\"timestamp_end\"]\n",
    "        time_end = df2.at[index,\"timestamp\"]\n",
    "        \n",
    "        #test if it is working\n",
    "        if index % 20000 == 0:\n",
    "            print(\"reached row\", index, \"of\", df2.index.max())\n",
    "        \n",
    "        action_type = \"station\"\n",
    "        if lat == df2.at[index-1,\"dest_lat\"] and lng != df2.at[index-1,\"dest_lng\"]:\n",
    "            action_type = \"moved\"\n",
    "            \n",
    "        d = {\n",
    "            'b_number' : bike_number,\n",
    "            'b_city' : bike_city,\n",
    "            'lat' : lat,  # some formula for obtaining values\n",
    "            'lng' : lng,\n",
    "            'timestamp' : time_start,\n",
    "            'action_type' : action_type+\"_in\",\n",
    "            'cluster_point': cluster_point\n",
    "            }\n",
    "        df3.append(d)\n",
    "        d = {\n",
    "            'b_number' : bike_number,\n",
    "            'b_city' : bike_city,\n",
    "            'lat' : lat,  # some formula for obtaining values\n",
    "            'lng' : lng,\n",
    "            'timestamp' : time_end,\n",
    "            'action_type' : action_type+\"_out\",\n",
    "            'cluster_point': cluster_point\n",
    "            }\n",
    "        df3.append(d)\n",
    "\n",
    "df3 = pd.DataFrame(df3)"
   ]
  },
  {
   "cell_type": "code",
   "execution_count": null,
   "metadata": {
    "scrolled": false
   },
   "outputs": [],
   "source": [
    "df3[\"cluster_point\"] = df3[\"cluster_point\"].astype(str)\n",
    "df3"
   ]
  },
  {
   "cell_type": "markdown",
   "metadata": {},
   "source": [
    "This algorithm takes goes over all records that relate to bikes standing at a certain station. For each change event, it calculates the effect on the capacity of a certain station."
   ]
  },
  {
   "cell_type": "code",
   "execution_count": null,
   "metadata": {},
   "outputs": [],
   "source": [
    "#filter df3 for all events related to bikes standing at a station (not being moved between rides)\n",
    "df3 = df3[df3[\"action_type\"].isin([\"station_in\",\"station_out\"])]\n",
    "\n",
    "#filter correctly for the algorithm to work properly\n",
    "df3=df3.sort_values(by=['cluster_point','timestamp','action_type'])\n",
    "df3.reset_index(inplace=True)\n",
    "df3 = df3.rename(columns={\"index\": \"original_index\"})\n",
    "\n",
    "df3[\"count\"] = 0\n",
    "\n",
    "station = \"\"\n",
    "count = 0\n",
    "\n",
    "for index in df3.index:\n",
    "    action_type = df3.at[index,\"action_type\"]\n",
    "    #if this is a different station, restart the calculation\n",
    "    if  df3.at[index,\"cluster_point\"] != station:\n",
    "        station = df3.at[index,\"cluster_point\"]\n",
    "        count = 0\n",
    "    if action_type == \"station_in\":\n",
    "         count = count + 1\n",
    "    elif action_type == \"station_out\":\n",
    "        count = count - 1\n",
    "    else:\n",
    "        print(\"there was an error\")\n",
    "    \n",
    "    df3.at[index,\"count\"] = count"
   ]
  },
  {
   "cell_type": "code",
   "execution_count": null,
   "metadata": {},
   "outputs": [],
   "source": [
    "df3"
   ]
  },
  {
   "cell_type": "markdown",
   "metadata": {},
   "source": [
    "This part produces a list of the minimum available bikes at a certain station. For example, if a station has had 2 bikes for the first ten minutes, then had 3 and in the end had only 1 bike left, this would count as 1 bike for the respective hour period. \n",
    "* If there was no change in available bikes, it takes the value for the most recent change event.\n",
    "* If the number of available bikes changes to zero and no bikes ever get to the station again until the end of the data timeframe, it will not count as 0 bikes as the station might have been closed in the meantime (this should not count as \"no bikes available)"
   ]
  },
  {
   "cell_type": "code",
   "execution_count": null,
   "metadata": {
    "scrolled": false
   },
   "outputs": [],
   "source": [
    "df3[\"timestamp_rounded\"] = df3[\"timestamp\"].dt.floor(\"H\")\n",
    "df3 = df3.sort_values(by=['cluster_point','timestamp'])\n",
    "\n",
    "start_date = df3.timestamp_rounded.min()\n",
    "end_date = df3.timestamp_rounded.max()\n",
    "daterange = pd.date_range(start_date, end_date,freq='1H')\n",
    "\n",
    "df4 = pd.DataFrame(index=daterange)\n",
    "\n",
    "for cluster_point in df3.cluster_point.unique():\n",
    "    dfl = df3[df3.cluster_point == cluster_point]\n",
    "    dfl = dfl.groupby(\"timestamp_rounded\").agg(\n",
    "    min_count =(\"count\",\"min\"),\n",
    "    last_value = (\"count\", lambda x: x.iloc[-1]))\n",
    "    dfl = dfl.reindex(daterange, fill_value=None)\n",
    "    dfl[\"last_value\"] = dfl[\"last_value\"].fillna(method='ffill')\n",
    "    dfl[\"min_count\"] = dfl.apply(\n",
    "        lambda row: row['last_value']if np.isnan(row['min_count']) else row['min_count'],axis=1\n",
    "    )\n",
    "    for index, row in dfl[::-1].iterrows():\n",
    "        if row[\"min_count\"] == 0:\n",
    "            row[\"min_count\"] = None\n",
    "        else:\n",
    "            break\n",
    "    df4[cluster_point] = dfl[\"min_count\"]\n",
    "    \n",
    "df4 = df4.T"
   ]
  },
  {
   "cell_type": "code",
   "execution_count": null,
   "metadata": {
    "scrolled": true
   },
   "outputs": [],
   "source": [
    "#df4.to_excel(\"transposed.xlsx\")\n",
    "df5 = df4[df4 < 4].count()\n",
    "df5\n",
    "plt.plot(df5)"
   ]
  },
  {
   "cell_type": "code",
   "execution_count": null,
   "metadata": {},
   "outputs": [],
   "source": [
    "plt.plot(fleet_size)"
   ]
  },
  {
   "cell_type": "markdown",
   "metadata": {},
   "source": [
    "_______________________________"
   ]
  },
  {
   "cell_type": "markdown",
   "metadata": {},
   "source": [
    "## Visualisation"
   ]
  },
  {
   "cell_type": "code",
   "execution_count": null,
   "metadata": {},
   "outputs": [],
   "source": [
    "dates = df_by_date_merged.index\n",
    "fleetsize = df_by_date_merged[\"fleet_size\"]\n",
    "usage = df_by_date_merged[\"usage\"]\n",
    "usedbikes = df_by_date_merged[\"used_bikes\"]\n",
    "\n",
    "Fig_1, ax_1 = plt.subplots()\n",
    "\n",
    "\n",
    "color = 'tab:red'\n",
    "ax_1.set_xlabel('Date')\n",
    "ax_1.set_ylabel('Fleet Size', color=color)\n",
    "ax_1.plot(dates, fleetsize, color=color)\n",
    "ax_1.tick_params(axis='y', labelcolor=color)\n",
    "\n",
    "ax_2 = ax_1.twinx()  # instantiate a second axes that shares the same x-axis\n",
    "\n",
    "\n",
    "color = 'tab:blue'\n",
    "\n",
    "ax_2.set_ylabel(\"Used Bikes\", color=color)\n",
    "ax_2.plot(dates, usedbikes, color=color)\n",
    "ax_2.tick_params(axis='y', labelcolor=color)\n",
    "\n",
    "Fig_1.tight_layout()  # otherwise the right y-label is slightly clipped\n",
    "\n",
    "plt.show()"
   ]
  },
  {
   "cell_type": "markdown",
   "metadata": {},
   "source": [
    "## Group by rounded start time"
   ]
  },
  {
   "cell_type": "code",
   "execution_count": null,
   "metadata": {},
   "outputs": [],
   "source": [
    "df_by_time = df.groupby(\"Time\").agg(\n",
    "    mean_length=('trip_duration', lambda x: np.mean(x)),\n",
    "    trip_count=('b_number', 'count'))"
   ]
  },
  {
   "cell_type": "code",
   "execution_count": null,
   "metadata": {
    "scrolled": true
   },
   "outputs": [],
   "source": [
    "fig, (ax1, ax1_b) = plt.subplots(nrows = 1, ncols = 2, figsize= (12,4))\n",
    "\n",
    "x = df_by_time.index\n",
    "seconds = df_by_time[\"mean_length\"].dt.total_seconds()/60\n",
    "amount = df_by_time[\"trip_count\"]\n",
    "\n",
    "color = 'tab:red'\n",
    "ax1.set_xlabel('Time of the day')\n",
    "ax1.set_ylabel('Average trip length', color=color)\n",
    "ax1.plot(x, seconds, color=color)\n",
    "ax1.tick_params(axis='y', labelcolor=color)\n",
    "\n",
    "ax2 = ax1.twinx()  # instantiate a second axes that shares the same x-axis\n",
    "\n",
    "color = 'tab:blue'\n",
    "ax2.set_ylabel('Total amount of trips', color=color)  # we already handled the x-label with ax1\n",
    "ax2.plot(x, amount, color=color)\n",
    "ax2.tick_params(axis='y', labelcolor=color)\n",
    "\n",
    "fig.tight_layout()  # otherwise the right y-label is slightly clipped\n",
    "plt.show()"
   ]
  },
  {
   "cell_type": "code",
   "execution_count": null,
   "metadata": {},
   "outputs": [],
   "source": []
  },
  {
   "cell_type": "code",
   "execution_count": null,
   "metadata": {},
   "outputs": [],
   "source": [
    " "
   ]
  },
  {
   "cell_type": "code",
   "execution_count": null,
   "metadata": {},
   "outputs": [],
   "source": []
  },
  {
   "cell_type": "code",
   "execution_count": null,
   "metadata": {},
   "outputs": [],
   "source": []
  }
 ],
 "metadata": {
  "kernelspec": {
   "display_name": "Python 3",
   "language": "python",
   "name": "python3"
  },
  "language_info": {
   "codemirror_mode": {
    "name": "ipython",
    "version": 3
   },
   "file_extension": ".py",
   "mimetype": "text/x-python",
   "name": "python",
   "nbconvert_exporter": "python",
   "pygments_lexer": "ipython3",
   "version": "3.8.5"
  }
 },
 "nbformat": 4,
 "nbformat_minor": 4
}
