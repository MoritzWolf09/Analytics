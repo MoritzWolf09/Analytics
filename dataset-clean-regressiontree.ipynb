{
 "cells": [
  {
   "cell_type": "markdown",
   "metadata": {},
   "source": [
    "# Task 1"
   ]
  },
  {
   "cell_type": "markdown",
   "metadata": {},
   "source": [
    "## Import Libraries"
   ]
  },
  {
   "cell_type": "code",
   "execution_count": 1,
   "metadata": {},
   "outputs": [],
   "source": [
    "import pandas as pd\n",
    "import numpy as np"
   ]
  },
  {
   "cell_type": "code",
   "execution_count": 2,
   "metadata": {},
   "outputs": [],
   "source": [
    "import matplotlib as mpl\n",
    "import matplotlib.pyplot as plt\n",
    "import seaborn as sns"
   ]
  },
  {
   "cell_type": "markdown",
   "metadata": {},
   "source": [
    "## Import raw data and merge the data"
   ]
  },
  {
   "cell_type": "code",
   "execution_count": 3,
   "metadata": {},
   "outputs": [
    {
     "name": "stdout",
     "output_type": "stream",
     "text": [
      "<class 'pandas.core.frame.DataFrame'>\n",
      "Int64Index: 202697 entries, 0 to 185326\n",
      "Data columns (total 9 columns):\n",
      " #   Column         Non-Null Count   Dtype  \n",
      "---  ------         --------------   -----  \n",
      " 0   day            202697 non-null  object \n",
      " 1   time           202697 non-null  object \n",
      " 2   b_number       202697 non-null  int64  \n",
      " 3   city           202697 non-null  object \n",
      " 4   trip_duration  202697 non-null  object \n",
      " 5   orig_lat       202697 non-null  float64\n",
      " 6   orig_lng       202697 non-null  float64\n",
      " 7   dest_lat       202697 non-null  float64\n",
      " 8   dest_lng       202697 non-null  float64\n",
      "dtypes: float64(4), int64(1), object(4)\n",
      "memory usage: 15.5+ MB\n"
     ]
    }
   ],
   "source": [
    "Nextbike_bochum= pd.read_csv(\"./dataset/bochum.csv\")\n",
    "Nextbike_leipzig = pd.read_csv(\"./dataset/leipzig.csv\")\n",
    "Nextbike = Nextbike_bochum.append(Nextbike_leipzig)\n",
    "\n",
    "Nextbike.info()"
   ]
  },
  {
   "cell_type": "code",
   "execution_count": 4,
   "metadata": {},
   "outputs": [],
   "source": [
    "date_info_leipzig = pd.read_csv(\"./resources/leipzig-holidays/leipzig-holidays.csv\",sep=\";\")\n",
    "date_info_leipzig[\"date\"] = pd.to_datetime(date_info_leipzig[\"date\"],format=\"%d.%m.%Y\").dt.date\n",
    "date_info_leipzig.index = date_info_leipzig[\"date\"]"
   ]
  },
  {
   "cell_type": "markdown",
   "metadata": {},
   "source": [
    "## Correct Data Types"
   ]
  },
  {
   "cell_type": "code",
   "execution_count": 5,
   "metadata": {},
   "outputs": [],
   "source": [
    "#Converting Trip Length to timedelta\n",
    "Nextbike['trip_duration'] = pd.to_timedelta(Nextbike['trip_duration'])\n",
    "\n",
    "#Converting start-time to datetime\n",
    "Nextbike['timestamp'] = pd.to_datetime(Nextbike['day'] + ' ' +  Nextbike['time'])\n",
    "Nextbike.drop(columns=['day','time'], inplace = True)"
   ]
  },
  {
   "cell_type": "markdown",
   "metadata": {},
   "source": [
    "## Add columns for analysis"
   ]
  },
  {
   "cell_type": "code",
   "execution_count": 6,
   "metadata": {
    "scrolled": false
   },
   "outputs": [
    {
     "data": {
      "text/html": [
       "<div>\n",
       "<style scoped>\n",
       "    .dataframe tbody tr th:only-of-type {\n",
       "        vertical-align: middle;\n",
       "    }\n",
       "\n",
       "    .dataframe tbody tr th {\n",
       "        vertical-align: top;\n",
       "    }\n",
       "\n",
       "    .dataframe thead th {\n",
       "        text-align: right;\n",
       "    }\n",
       "</style>\n",
       "<table border=\"1\" class=\"dataframe\">\n",
       "  <thead>\n",
       "    <tr style=\"text-align: right;\">\n",
       "      <th></th>\n",
       "      <th>b_number</th>\n",
       "      <th>city</th>\n",
       "      <th>trip_duration</th>\n",
       "      <th>orig_lat</th>\n",
       "      <th>orig_lng</th>\n",
       "      <th>dest_lat</th>\n",
       "      <th>dest_lng</th>\n",
       "      <th>timestamp</th>\n",
       "      <th>timestamp_rounded</th>\n",
       "      <th>weekday</th>\n",
       "      <th>week</th>\n",
       "      <th>Time</th>\n",
       "      <th>date</th>\n",
       "      <th>revenue</th>\n",
       "    </tr>\n",
       "  </thead>\n",
       "  <tbody>\n",
       "    <tr>\n",
       "      <th>0</th>\n",
       "      <td>683</td>\n",
       "      <td>bochum</td>\n",
       "      <td>0 days 00:10:00</td>\n",
       "      <td>51.489814</td>\n",
       "      <td>7.232856</td>\n",
       "      <td>51.479592</td>\n",
       "      <td>7.222239</td>\n",
       "      <td>2019-02-08 12:06:00</td>\n",
       "      <td>2019-02-08 12:00:00</td>\n",
       "      <td>4</td>\n",
       "      <td>6</td>\n",
       "      <td>12</td>\n",
       "      <td>2019-02-08</td>\n",
       "      <td>1.0</td>\n",
       "    </tr>\n",
       "    <tr>\n",
       "      <th>1</th>\n",
       "      <td>683</td>\n",
       "      <td>bochum</td>\n",
       "      <td>0 days 00:14:00</td>\n",
       "      <td>51.479592</td>\n",
       "      <td>7.222239</td>\n",
       "      <td>51.472366</td>\n",
       "      <td>7.250500</td>\n",
       "      <td>2019-02-10 01:58:00</td>\n",
       "      <td>2019-02-10 01:00:00</td>\n",
       "      <td>6</td>\n",
       "      <td>6</td>\n",
       "      <td>1</td>\n",
       "      <td>2019-02-10</td>\n",
       "      <td>1.0</td>\n",
       "    </tr>\n",
       "    <tr>\n",
       "      <th>2</th>\n",
       "      <td>683</td>\n",
       "      <td>bochum</td>\n",
       "      <td>0 days 00:28:00</td>\n",
       "      <td>51.472366</td>\n",
       "      <td>7.250500</td>\n",
       "      <td>51.479592</td>\n",
       "      <td>7.222239</td>\n",
       "      <td>2019-02-11 06:33:00</td>\n",
       "      <td>2019-02-11 06:00:00</td>\n",
       "      <td>0</td>\n",
       "      <td>7</td>\n",
       "      <td>6</td>\n",
       "      <td>2019-02-11</td>\n",
       "      <td>1.0</td>\n",
       "    </tr>\n",
       "    <tr>\n",
       "      <th>3</th>\n",
       "      <td>683</td>\n",
       "      <td>bochum</td>\n",
       "      <td>0 days 00:58:00</td>\n",
       "      <td>51.479592</td>\n",
       "      <td>7.222239</td>\n",
       "      <td>51.483023</td>\n",
       "      <td>7.215314</td>\n",
       "      <td>2019-02-11 13:31:00</td>\n",
       "      <td>2019-02-11 13:00:00</td>\n",
       "      <td>0</td>\n",
       "      <td>7</td>\n",
       "      <td>13</td>\n",
       "      <td>2019-02-11</td>\n",
       "      <td>2.0</td>\n",
       "    </tr>\n",
       "    <tr>\n",
       "      <th>4</th>\n",
       "      <td>683</td>\n",
       "      <td>bochum</td>\n",
       "      <td>0 days 00:22:00</td>\n",
       "      <td>51.483023</td>\n",
       "      <td>7.215314</td>\n",
       "      <td>51.479592</td>\n",
       "      <td>7.222239</td>\n",
       "      <td>2019-02-11 14:32:00</td>\n",
       "      <td>2019-02-11 14:00:00</td>\n",
       "      <td>0</td>\n",
       "      <td>7</td>\n",
       "      <td>14</td>\n",
       "      <td>2019-02-11</td>\n",
       "      <td>1.0</td>\n",
       "    </tr>\n",
       "    <tr>\n",
       "      <th>...</th>\n",
       "      <td>...</td>\n",
       "      <td>...</td>\n",
       "      <td>...</td>\n",
       "      <td>...</td>\n",
       "      <td>...</td>\n",
       "      <td>...</td>\n",
       "      <td>...</td>\n",
       "      <td>...</td>\n",
       "      <td>...</td>\n",
       "      <td>...</td>\n",
       "      <td>...</td>\n",
       "      <td>...</td>\n",
       "      <td>...</td>\n",
       "      <td>...</td>\n",
       "    </tr>\n",
       "    <tr>\n",
       "      <th>185322</th>\n",
       "      <td>99979</td>\n",
       "      <td>leipzig</td>\n",
       "      <td>0 days 00:07:00</td>\n",
       "      <td>51.468822</td>\n",
       "      <td>11.290048</td>\n",
       "      <td>51.468547</td>\n",
       "      <td>11.289899</td>\n",
       "      <td>2019-05-25 10:58:00</td>\n",
       "      <td>2019-05-25 10:00:00</td>\n",
       "      <td>5</td>\n",
       "      <td>21</td>\n",
       "      <td>10</td>\n",
       "      <td>2019-05-25</td>\n",
       "      <td>1.0</td>\n",
       "    </tr>\n",
       "    <tr>\n",
       "      <th>185323</th>\n",
       "      <td>99979</td>\n",
       "      <td>leipzig</td>\n",
       "      <td>0 days 01:16:00</td>\n",
       "      <td>51.468756</td>\n",
       "      <td>11.289723</td>\n",
       "      <td>51.469324</td>\n",
       "      <td>11.289366</td>\n",
       "      <td>2019-05-27 09:32:00</td>\n",
       "      <td>2019-05-27 09:00:00</td>\n",
       "      <td>0</td>\n",
       "      <td>22</td>\n",
       "      <td>9</td>\n",
       "      <td>2019-05-27</td>\n",
       "      <td>3.0</td>\n",
       "    </tr>\n",
       "    <tr>\n",
       "      <th>185324</th>\n",
       "      <td>99979</td>\n",
       "      <td>leipzig</td>\n",
       "      <td>0 days 00:03:00</td>\n",
       "      <td>51.469044</td>\n",
       "      <td>11.289348</td>\n",
       "      <td>51.469093</td>\n",
       "      <td>11.289432</td>\n",
       "      <td>2019-05-27 11:02:00</td>\n",
       "      <td>2019-05-27 11:00:00</td>\n",
       "      <td>0</td>\n",
       "      <td>22</td>\n",
       "      <td>11</td>\n",
       "      <td>2019-05-27</td>\n",
       "      <td>1.0</td>\n",
       "    </tr>\n",
       "    <tr>\n",
       "      <th>185325</th>\n",
       "      <td>99982</td>\n",
       "      <td>leipzig</td>\n",
       "      <td>0 days 01:44:00</td>\n",
       "      <td>51.341165</td>\n",
       "      <td>12.365045</td>\n",
       "      <td>51.341065</td>\n",
       "      <td>12.365005</td>\n",
       "      <td>2019-02-11 11:47:00</td>\n",
       "      <td>2019-02-11 11:00:00</td>\n",
       "      <td>0</td>\n",
       "      <td>7</td>\n",
       "      <td>11</td>\n",
       "      <td>2019-02-11</td>\n",
       "      <td>4.0</td>\n",
       "    </tr>\n",
       "    <tr>\n",
       "      <th>185326</th>\n",
       "      <td>999999</td>\n",
       "      <td>leipzig</td>\n",
       "      <td>0 days 00:45:00</td>\n",
       "      <td>51.324615</td>\n",
       "      <td>12.336922</td>\n",
       "      <td>51.324649</td>\n",
       "      <td>12.338129</td>\n",
       "      <td>2019-03-22 11:35:00</td>\n",
       "      <td>2019-03-22 11:00:00</td>\n",
       "      <td>4</td>\n",
       "      <td>12</td>\n",
       "      <td>11</td>\n",
       "      <td>2019-03-22</td>\n",
       "      <td>2.0</td>\n",
       "    </tr>\n",
       "  </tbody>\n",
       "</table>\n",
       "<p>202697 rows × 14 columns</p>\n",
       "</div>"
      ],
      "text/plain": [
       "        b_number     city   trip_duration   orig_lat   orig_lng   dest_lat  \\\n",
       "0            683   bochum 0 days 00:10:00  51.489814   7.232856  51.479592   \n",
       "1            683   bochum 0 days 00:14:00  51.479592   7.222239  51.472366   \n",
       "2            683   bochum 0 days 00:28:00  51.472366   7.250500  51.479592   \n",
       "3            683   bochum 0 days 00:58:00  51.479592   7.222239  51.483023   \n",
       "4            683   bochum 0 days 00:22:00  51.483023   7.215314  51.479592   \n",
       "...          ...      ...             ...        ...        ...        ...   \n",
       "185322     99979  leipzig 0 days 00:07:00  51.468822  11.290048  51.468547   \n",
       "185323     99979  leipzig 0 days 01:16:00  51.468756  11.289723  51.469324   \n",
       "185324     99979  leipzig 0 days 00:03:00  51.469044  11.289348  51.469093   \n",
       "185325     99982  leipzig 0 days 01:44:00  51.341165  12.365045  51.341065   \n",
       "185326    999999  leipzig 0 days 00:45:00  51.324615  12.336922  51.324649   \n",
       "\n",
       "         dest_lng           timestamp   timestamp_rounded  weekday  week  \\\n",
       "0        7.222239 2019-02-08 12:06:00 2019-02-08 12:00:00        4     6   \n",
       "1        7.250500 2019-02-10 01:58:00 2019-02-10 01:00:00        6     6   \n",
       "2        7.222239 2019-02-11 06:33:00 2019-02-11 06:00:00        0     7   \n",
       "3        7.215314 2019-02-11 13:31:00 2019-02-11 13:00:00        0     7   \n",
       "4        7.222239 2019-02-11 14:32:00 2019-02-11 14:00:00        0     7   \n",
       "...           ...                 ...                 ...      ...   ...   \n",
       "185322  11.289899 2019-05-25 10:58:00 2019-05-25 10:00:00        5    21   \n",
       "185323  11.289366 2019-05-27 09:32:00 2019-05-27 09:00:00        0    22   \n",
       "185324  11.289432 2019-05-27 11:02:00 2019-05-27 11:00:00        0    22   \n",
       "185325  12.365005 2019-02-11 11:47:00 2019-02-11 11:00:00        0     7   \n",
       "185326  12.338129 2019-03-22 11:35:00 2019-03-22 11:00:00        4    12   \n",
       "\n",
       "        Time        date  revenue  \n",
       "0         12  2019-02-08      1.0  \n",
       "1          1  2019-02-10      1.0  \n",
       "2          6  2019-02-11      1.0  \n",
       "3         13  2019-02-11      2.0  \n",
       "4         14  2019-02-11      1.0  \n",
       "...      ...         ...      ...  \n",
       "185322    10  2019-05-25      1.0  \n",
       "185323     9  2019-05-27      3.0  \n",
       "185324    11  2019-05-27      1.0  \n",
       "185325    11  2019-02-11      4.0  \n",
       "185326    11  2019-03-22      2.0  \n",
       "\n",
       "[202697 rows x 14 columns]"
      ]
     },
     "execution_count": 6,
     "metadata": {},
     "output_type": "execute_result"
    }
   ],
   "source": [
    "#Round datetime and extract possible categorisation attributes\n",
    "Nextbike['timestamp_rounded'] = Nextbike['timestamp'].dt.floor('H')\n",
    "\n",
    "Nextbike['weekday'] = Nextbike['timestamp_rounded'].dt.weekday\n",
    "Nextbike['week'] = Nextbike['timestamp_rounded'].dt.isocalendar().week\n",
    "\n",
    "Nextbike['Time'] = Nextbike['timestamp_rounded'].dt.time\n",
    "Nextbike[\"Time\"] = Nextbike[\"Time\"].astype(str).str[:2].astype(int)\n",
    "\n",
    "Nextbike[\"date\"] = Nextbike.timestamp.dt.date\n",
    "#Nextbike_clean[\"date_str\"] = Nextbike_clean.timestamp.dt.date.astype(str)\n",
    "\n",
    "#take trip duration in minutes, calculate 1€ per 30 minutes of usage\n",
    "Nextbike[\"revenue\"] = np.ceil((Nextbike.trip_duration.dt.total_seconds()/60) /30)\n",
    "\n",
    "\n",
    "#output\n",
    "Nextbike"
   ]
  },
  {
   "cell_type": "markdown",
   "metadata": {},
   "source": [
    "## Split data for analysis"
   ]
  },
  {
   "cell_type": "code",
   "execution_count": 7,
   "metadata": {},
   "outputs": [],
   "source": [
    "Nextbike_clean_l = Nextbike[Nextbike.city == \"leipzig\"]\n",
    "Nextbike_clean_b = Nextbike[Nextbike.city == \"bochum\"]\n",
    "\n",
    "leipzig = {\"lng\": 12.3741468,\"lat\": 51.340744}\n",
    "\n",
    "city = leipzig\n",
    "df = Nextbike_clean_l.copy()\n",
    "date_info = date_info_leipzig.copy()"
   ]
  },
  {
   "cell_type": "markdown",
   "metadata": {},
   "source": [
    "## Find out size of the fleet\n",
    "The idea is that a bike is recognized as part of the fleet if it has been rented in the last 7 days. So the size of the fleet is the amount of unique Bike IDs that have records for the last 7 days. We calculate this on a daily level to be precise yet not too intense to compute."
   ]
  },
  {
   "cell_type": "code",
   "execution_count": 8,
   "metadata": {
    "scrolled": false
   },
   "outputs": [],
   "source": [
    "factor = 7\n",
    "\n",
    "start_date = df.date.min()\n",
    "end_date = df.date.max()\n",
    "delta = pd.to_timedelta(\"1d\")\n",
    "\n",
    "dates = []\n",
    "while start_date <= end_date:\n",
    "    dates.append(start_date)\n",
    "    start_date += delta\n",
    "\n",
    "\n",
    "\n",
    "fleet_size = pd.DataFrame([], index = dates, columns = [\"search_array\",\"fleet_size\"]) \n",
    "\n",
    "search_array = []\n",
    "for index, row in fleet_size.iterrows():\n",
    "    search_array.append(index)\n",
    "    if len(search_array) > factor:\n",
    "        search_array.pop(0)\n",
    "    row['search_array'] = search_array[:] #This just helps see if everything goes as expected\n",
    "    row['fleet_size'] = df[df.date.isin(search_array[:])].b_number.nunique()\n",
    "    \n",
    "fleet_size.drop(columns=[\"search_array\"], inplace = True)"
   ]
  },
  {
   "cell_type": "code",
   "execution_count": 9,
   "metadata": {
    "scrolled": true
   },
   "outputs": [],
   "source": [
    "df_by_date = df.groupby(\"date\").agg(\n",
    "    revenue=('revenue', \"sum\"),\n",
    "    trips=(\"b_number\",\"count\"),\n",
    "    used_bikes=('b_number', pd.Series.nunique))\n",
    "\n",
    "df_by_date_merged = df_by_date.join(fleet_size) #this does not include the missing days\n",
    "df_by_date_merged[\"usage\"] = df_by_date_merged[\"used_bikes\"] / df_by_date_merged[\"fleet_size\"]\n",
    "df_by_date_merged = df_by_date_merged.rename(columns={\"trips\": \"daily_trips\",\"revenue\":\"daily_revenue\", \"used_bikes\":\"daily_used_bikes\"})\n",
    "df_by_date_merged = pd.merge( df_by_date_merged, date_info, left_index=True, right_index=True)\n",
    "\n",
    "df_by_date_merged = df_by_date_merged.drop(columns=[\"date\"])"
   ]
  },
  {
   "cell_type": "code",
   "execution_count": 10,
   "metadata": {
    "scrolled": false
   },
   "outputs": [
    {
     "data": {
      "text/html": [
       "<div>\n",
       "<style scoped>\n",
       "    .dataframe tbody tr th:only-of-type {\n",
       "        vertical-align: middle;\n",
       "    }\n",
       "\n",
       "    .dataframe tbody tr th {\n",
       "        vertical-align: top;\n",
       "    }\n",
       "\n",
       "    .dataframe thead th {\n",
       "        text-align: right;\n",
       "    }\n",
       "</style>\n",
       "<table border=\"1\" class=\"dataframe\">\n",
       "  <thead>\n",
       "    <tr style=\"text-align: right;\">\n",
       "      <th></th>\n",
       "      <th>revenue</th>\n",
       "      <th>trips</th>\n",
       "      <th>date</th>\n",
       "      <th>weekday</th>\n",
       "      <th>week</th>\n",
       "      <th>time</th>\n",
       "      <th>used_bikes</th>\n",
       "      <th>daily_revenue</th>\n",
       "      <th>daily_trips</th>\n",
       "      <th>daily_used_bikes</th>\n",
       "      <th>fleet_size</th>\n",
       "      <th>usage</th>\n",
       "      <th>day_classifier</th>\n",
       "      <th>vacations</th>\n",
       "      <th>holiday</th>\n",
       "      <th>relative_trips</th>\n",
       "    </tr>\n",
       "    <tr>\n",
       "      <th>timestamp_rounded</th>\n",
       "      <th></th>\n",
       "      <th></th>\n",
       "      <th></th>\n",
       "      <th></th>\n",
       "      <th></th>\n",
       "      <th></th>\n",
       "      <th></th>\n",
       "      <th></th>\n",
       "      <th></th>\n",
       "      <th></th>\n",
       "      <th></th>\n",
       "      <th></th>\n",
       "      <th></th>\n",
       "      <th></th>\n",
       "      <th></th>\n",
       "      <th></th>\n",
       "    </tr>\n",
       "  </thead>\n",
       "  <tbody>\n",
       "    <tr>\n",
       "      <th>2019-02-01 00:00:00</th>\n",
       "      <td>9.0</td>\n",
       "      <td>8</td>\n",
       "      <td>2019-02-01</td>\n",
       "      <td>4</td>\n",
       "      <td>5</td>\n",
       "      <td>0</td>\n",
       "      <td>8</td>\n",
       "      <td>785.0</td>\n",
       "      <td>659</td>\n",
       "      <td>256</td>\n",
       "      <td>256</td>\n",
       "      <td>0.03125</td>\n",
       "      <td>weekday</td>\n",
       "      <td>0</td>\n",
       "      <td>0</td>\n",
       "      <td>0.012140</td>\n",
       "    </tr>\n",
       "    <tr>\n",
       "      <th>2019-02-01 01:00:00</th>\n",
       "      <td>9.0</td>\n",
       "      <td>7</td>\n",
       "      <td>2019-02-01</td>\n",
       "      <td>4</td>\n",
       "      <td>5</td>\n",
       "      <td>1</td>\n",
       "      <td>7</td>\n",
       "      <td>785.0</td>\n",
       "      <td>659</td>\n",
       "      <td>256</td>\n",
       "      <td>256</td>\n",
       "      <td>0.0273438</td>\n",
       "      <td>weekday</td>\n",
       "      <td>0</td>\n",
       "      <td>0</td>\n",
       "      <td>0.010622</td>\n",
       "    </tr>\n",
       "    <tr>\n",
       "      <th>2019-02-01 02:00:00</th>\n",
       "      <td>7.0</td>\n",
       "      <td>2</td>\n",
       "      <td>2019-02-01</td>\n",
       "      <td>4</td>\n",
       "      <td>5</td>\n",
       "      <td>2</td>\n",
       "      <td>2</td>\n",
       "      <td>785.0</td>\n",
       "      <td>659</td>\n",
       "      <td>256</td>\n",
       "      <td>256</td>\n",
       "      <td>0.0078125</td>\n",
       "      <td>weekday</td>\n",
       "      <td>0</td>\n",
       "      <td>0</td>\n",
       "      <td>0.003035</td>\n",
       "    </tr>\n",
       "    <tr>\n",
       "      <th>2019-02-01 03:00:00</th>\n",
       "      <td>3.0</td>\n",
       "      <td>3</td>\n",
       "      <td>2019-02-01</td>\n",
       "      <td>4</td>\n",
       "      <td>5</td>\n",
       "      <td>3</td>\n",
       "      <td>3</td>\n",
       "      <td>785.0</td>\n",
       "      <td>659</td>\n",
       "      <td>256</td>\n",
       "      <td>256</td>\n",
       "      <td>0.0117188</td>\n",
       "      <td>weekday</td>\n",
       "      <td>0</td>\n",
       "      <td>0</td>\n",
       "      <td>0.004552</td>\n",
       "    </tr>\n",
       "    <tr>\n",
       "      <th>2019-02-01 04:00:00</th>\n",
       "      <td>9.0</td>\n",
       "      <td>8</td>\n",
       "      <td>2019-02-01</td>\n",
       "      <td>4</td>\n",
       "      <td>5</td>\n",
       "      <td>4</td>\n",
       "      <td>8</td>\n",
       "      <td>785.0</td>\n",
       "      <td>659</td>\n",
       "      <td>256</td>\n",
       "      <td>256</td>\n",
       "      <td>0.03125</td>\n",
       "      <td>weekday</td>\n",
       "      <td>0</td>\n",
       "      <td>0</td>\n",
       "      <td>0.012140</td>\n",
       "    </tr>\n",
       "    <tr>\n",
       "      <th>...</th>\n",
       "      <td>...</td>\n",
       "      <td>...</td>\n",
       "      <td>...</td>\n",
       "      <td>...</td>\n",
       "      <td>...</td>\n",
       "      <td>...</td>\n",
       "      <td>...</td>\n",
       "      <td>...</td>\n",
       "      <td>...</td>\n",
       "      <td>...</td>\n",
       "      <td>...</td>\n",
       "      <td>...</td>\n",
       "      <td>...</td>\n",
       "      <td>...</td>\n",
       "      <td>...</td>\n",
       "      <td>...</td>\n",
       "    </tr>\n",
       "    <tr>\n",
       "      <th>2019-06-30 19:00:00</th>\n",
       "      <td>116.0</td>\n",
       "      <td>91</td>\n",
       "      <td>2019-06-30</td>\n",
       "      <td>6</td>\n",
       "      <td>26</td>\n",
       "      <td>19</td>\n",
       "      <td>86</td>\n",
       "      <td>2182.0</td>\n",
       "      <td>1702</td>\n",
       "      <td>499</td>\n",
       "      <td>790</td>\n",
       "      <td>0.108861</td>\n",
       "      <td>weekend</td>\n",
       "      <td>0</td>\n",
       "      <td>0</td>\n",
       "      <td>0.053467</td>\n",
       "    </tr>\n",
       "    <tr>\n",
       "      <th>2019-06-30 20:00:00</th>\n",
       "      <td>104.0</td>\n",
       "      <td>87</td>\n",
       "      <td>2019-06-30</td>\n",
       "      <td>6</td>\n",
       "      <td>26</td>\n",
       "      <td>20</td>\n",
       "      <td>82</td>\n",
       "      <td>2182.0</td>\n",
       "      <td>1702</td>\n",
       "      <td>499</td>\n",
       "      <td>790</td>\n",
       "      <td>0.103797</td>\n",
       "      <td>weekend</td>\n",
       "      <td>0</td>\n",
       "      <td>0</td>\n",
       "      <td>0.051116</td>\n",
       "    </tr>\n",
       "    <tr>\n",
       "      <th>2019-06-30 21:00:00</th>\n",
       "      <td>82.0</td>\n",
       "      <td>66</td>\n",
       "      <td>2019-06-30</td>\n",
       "      <td>6</td>\n",
       "      <td>26</td>\n",
       "      <td>21</td>\n",
       "      <td>62</td>\n",
       "      <td>2182.0</td>\n",
       "      <td>1702</td>\n",
       "      <td>499</td>\n",
       "      <td>790</td>\n",
       "      <td>0.078481</td>\n",
       "      <td>weekend</td>\n",
       "      <td>0</td>\n",
       "      <td>0</td>\n",
       "      <td>0.038778</td>\n",
       "    </tr>\n",
       "    <tr>\n",
       "      <th>2019-06-30 22:00:00</th>\n",
       "      <td>36.0</td>\n",
       "      <td>35</td>\n",
       "      <td>2019-06-30</td>\n",
       "      <td>6</td>\n",
       "      <td>26</td>\n",
       "      <td>22</td>\n",
       "      <td>34</td>\n",
       "      <td>2182.0</td>\n",
       "      <td>1702</td>\n",
       "      <td>499</td>\n",
       "      <td>790</td>\n",
       "      <td>0.043038</td>\n",
       "      <td>weekend</td>\n",
       "      <td>0</td>\n",
       "      <td>0</td>\n",
       "      <td>0.020564</td>\n",
       "    </tr>\n",
       "    <tr>\n",
       "      <th>2019-06-30 23:00:00</th>\n",
       "      <td>20.0</td>\n",
       "      <td>20</td>\n",
       "      <td>2019-06-30</td>\n",
       "      <td>6</td>\n",
       "      <td>26</td>\n",
       "      <td>23</td>\n",
       "      <td>19</td>\n",
       "      <td>2182.0</td>\n",
       "      <td>1702</td>\n",
       "      <td>499</td>\n",
       "      <td>790</td>\n",
       "      <td>0.0240506</td>\n",
       "      <td>weekend</td>\n",
       "      <td>0</td>\n",
       "      <td>0</td>\n",
       "      <td>0.011751</td>\n",
       "    </tr>\n",
       "  </tbody>\n",
       "</table>\n",
       "<p>3490 rows × 16 columns</p>\n",
       "</div>"
      ],
      "text/plain": [
       "                     revenue  trips        date  weekday  week  time  \\\n",
       "timestamp_rounded                                                      \n",
       "2019-02-01 00:00:00      9.0      8  2019-02-01        4     5     0   \n",
       "2019-02-01 01:00:00      9.0      7  2019-02-01        4     5     1   \n",
       "2019-02-01 02:00:00      7.0      2  2019-02-01        4     5     2   \n",
       "2019-02-01 03:00:00      3.0      3  2019-02-01        4     5     3   \n",
       "2019-02-01 04:00:00      9.0      8  2019-02-01        4     5     4   \n",
       "...                      ...    ...         ...      ...   ...   ...   \n",
       "2019-06-30 19:00:00    116.0     91  2019-06-30        6    26    19   \n",
       "2019-06-30 20:00:00    104.0     87  2019-06-30        6    26    20   \n",
       "2019-06-30 21:00:00     82.0     66  2019-06-30        6    26    21   \n",
       "2019-06-30 22:00:00     36.0     35  2019-06-30        6    26    22   \n",
       "2019-06-30 23:00:00     20.0     20  2019-06-30        6    26    23   \n",
       "\n",
       "                     used_bikes  daily_revenue  daily_trips  daily_used_bikes  \\\n",
       "timestamp_rounded                                                               \n",
       "2019-02-01 00:00:00           8          785.0          659               256   \n",
       "2019-02-01 01:00:00           7          785.0          659               256   \n",
       "2019-02-01 02:00:00           2          785.0          659               256   \n",
       "2019-02-01 03:00:00           3          785.0          659               256   \n",
       "2019-02-01 04:00:00           8          785.0          659               256   \n",
       "...                         ...            ...          ...               ...   \n",
       "2019-06-30 19:00:00          86         2182.0         1702               499   \n",
       "2019-06-30 20:00:00          82         2182.0         1702               499   \n",
       "2019-06-30 21:00:00          62         2182.0         1702               499   \n",
       "2019-06-30 22:00:00          34         2182.0         1702               499   \n",
       "2019-06-30 23:00:00          19         2182.0         1702               499   \n",
       "\n",
       "                    fleet_size      usage day_classifier  vacations  holiday  \\\n",
       "timestamp_rounded                                                              \n",
       "2019-02-01 00:00:00        256    0.03125        weekday          0        0   \n",
       "2019-02-01 01:00:00        256  0.0273438        weekday          0        0   \n",
       "2019-02-01 02:00:00        256  0.0078125        weekday          0        0   \n",
       "2019-02-01 03:00:00        256  0.0117188        weekday          0        0   \n",
       "2019-02-01 04:00:00        256    0.03125        weekday          0        0   \n",
       "...                        ...        ...            ...        ...      ...   \n",
       "2019-06-30 19:00:00        790   0.108861        weekend          0        0   \n",
       "2019-06-30 20:00:00        790   0.103797        weekend          0        0   \n",
       "2019-06-30 21:00:00        790   0.078481        weekend          0        0   \n",
       "2019-06-30 22:00:00        790   0.043038        weekend          0        0   \n",
       "2019-06-30 23:00:00        790  0.0240506        weekend          0        0   \n",
       "\n",
       "                     relative_trips  \n",
       "timestamp_rounded                    \n",
       "2019-02-01 00:00:00        0.012140  \n",
       "2019-02-01 01:00:00        0.010622  \n",
       "2019-02-01 02:00:00        0.003035  \n",
       "2019-02-01 03:00:00        0.004552  \n",
       "2019-02-01 04:00:00        0.012140  \n",
       "...                             ...  \n",
       "2019-06-30 19:00:00        0.053467  \n",
       "2019-06-30 20:00:00        0.051116  \n",
       "2019-06-30 21:00:00        0.038778  \n",
       "2019-06-30 22:00:00        0.020564  \n",
       "2019-06-30 23:00:00        0.011751  \n",
       "\n",
       "[3490 rows x 16 columns]"
      ]
     },
     "execution_count": 10,
     "metadata": {},
     "output_type": "execute_result"
    }
   ],
   "source": [
    "df_by_hour = df.groupby(\"timestamp_rounded\").agg(\n",
    "    revenue=('revenue', \"sum\"),\n",
    "    trips=(\"b_number\",\"count\"),\n",
    "    date=(\"date\",\"min\"),\n",
    "    weekday=(\"weekday\",\"min\"),\n",
    "    week = (\"week\",\"min\"),\n",
    "    time = (\"Time\",\"min\"),\n",
    "    used_bikes=('b_number', pd.Series.nunique))\n",
    "\n",
    "\n",
    "df_by_hour_merged = pd.merge(df_by_hour, df_by_date_merged, right_index=True, left_on='date')\n",
    "\n",
    "\n",
    "df_by_hour_merged[\"usage\"] = df_by_hour_merged[\"used_bikes\"] / df_by_hour_merged[\"fleet_size\"]\n",
    "df_by_hour_merged[\"relative_trips\"] = df_by_hour_merged[\"trips\"] / df_by_hour_merged[\"daily_trips\"]\n",
    "\n",
    "df_by_hour_merged"
   ]
  },
  {
   "cell_type": "markdown",
   "metadata": {},
   "source": [
    "____"
   ]
  },
  {
   "cell_type": "markdown",
   "metadata": {},
   "source": [
    "# Predictive Analytics"
   ]
  },
  {
   "cell_type": "code",
   "execution_count": 11,
   "metadata": {},
   "outputs": [],
   "source": [
    "from math import radians, cos, sin, asin, sqrt \n",
    "def calculate_distance(lon1, lat1, lon2, lat2): \n",
    "    # convert decimal degrees to radians \n",
    "    lon1, lat1, lon2, lat2 = map(radians, [lon1, lat1, lon2, lat2]) \n",
    "    # haversine formula \n",
    "    dlon = lon2 - lon1 \n",
    "    dlat = lat2 - lat1 \n",
    "    a = sin(dlat/2)**2 + cos(lat1) * cos(lat2) * sin(dlon/2)**2 \n",
    "    c = 2 * asin(sqrt(a)) \n",
    "    # Radius of earth in kilometers is 6371 \n",
    "    km = 6371* c \n",
    "    return km"
   ]
  },
  {
   "cell_type": "code",
   "execution_count": 12,
   "metadata": {},
   "outputs": [],
   "source": [
    "#Calculating the best Raster Point that is closest to the city center\n",
    "testset_weather = pd.read_csv(\"./weather-data/dwd-raster/target/ra190201_target.csv\") \n",
    "\n",
    "distances_center = []\n",
    "for index, row in testset_weather.iterrows():\n",
    "        d = {\n",
    "            \"LON\": row[\"LON\"],\n",
    "            \"LAT\": row[\"LAT\"],\n",
    "            \"ID\": row[\"ID\"],\n",
    "            \"distance\": calculate_distance(row[\"LON\"], row[\"LAT\"], leipzig[\"lng\"], leipzig[\"lat\"])\n",
    "        } \n",
    "        distances_center.append(d)\n",
    "distances_center = pd.DataFrame(distances_center)\n",
    "\n",
    "raster_id = distances_center.iloc[distances_center[\"distance\"].idxmin()][\"ID\"]"
   ]
  },
  {
   "cell_type": "code",
   "execution_count": 13,
   "metadata": {},
   "outputs": [
    {
     "name": "stderr",
     "output_type": "stream",
     "text": [
      "/Users/guotianxin/opt/anaconda3/lib/python3.8/site-packages/pandas/core/frame.py:4163: SettingWithCopyWarning: \n",
      "A value is trying to be set on a copy of a slice from a DataFrame\n",
      "\n",
      "See the caveats in the documentation: https://pandas.pydata.org/pandas-docs/stable/user_guide/indexing.html#returning-a-view-versus-a-copy\n",
      "  return super().drop(\n"
     ]
    }
   ],
   "source": [
    "#Read in CDC Raster Data from single files and Filter for the calculated point\n",
    "import os\n",
    "\n",
    "path = './weather-data/dwd-raster/target/'\n",
    "rain_data_all = pd.concat((pd.read_csv(path+filename) for filename in os.listdir(path)))\n",
    "\n",
    "rain_data = rain_data_all[rain_data_all[\"ID\"] == raster_id]\n",
    "rain_data.index = dates #indexing\n",
    "rain_data.drop(columns=[\"ID\"],inplace=True) "
   ]
  },
  {
   "cell_type": "code",
   "execution_count": 14,
   "metadata": {},
   "outputs": [
    {
     "data": {
      "text/plain": [
       "tsun    0\n",
       "pres    0\n",
       "wspd    0\n",
       "snow    0\n",
       "prcp    0\n",
       "tmax    0\n",
       "tmin    0\n",
       "tavg    0\n",
       "dtype: int64"
      ]
     },
     "execution_count": 14,
     "metadata": {},
     "output_type": "execute_result"
    }
   ],
   "source": [
    "#Meteostat Data read-in\n",
    "meteostat_leipzig = pd.read_csv(\"./weather-data/meteostat-leipzig.csv\") \n",
    "meteostat_leipzig.index = dates\n",
    "meteostat_leipzig.drop(columns=[\"wpgt\",\"wdir\",\"date\"],inplace=True)\n",
    "\n",
    "meteostat_leipzig.isnull().sum().sort_values(ascending=False)\n",
    "\n",
    "#plt.plot(rain_data.index,rain_data.VAL)\n",
    "#plt.plot(meteostat_leipzig.index,meteostat_leipzig.prcp)"
   ]
  },
  {
   "cell_type": "code",
   "execution_count": 15,
   "metadata": {},
   "outputs": [],
   "source": [
    "from sklearn.model_selection import train_test_split\n",
    "from sklearn.linear_model import LinearRegression\n",
    "from sklearn.metrics import mean_squared_error, mean_absolute_error, r2_score\n",
    "from sklearn import metrics\n",
    "\n",
    "import warnings\n",
    "# warnings.filterwarnings('ignore')\n",
    "\n",
    "import random\n",
    "\n",
    "%matplotlib inline"
   ]
  },
  {
   "cell_type": "code",
   "execution_count": 16,
   "metadata": {
    "scrolled": true
   },
   "outputs": [
    {
     "data": {
      "text/html": [
       "<div>\n",
       "<style scoped>\n",
       "    .dataframe tbody tr th:only-of-type {\n",
       "        vertical-align: middle;\n",
       "    }\n",
       "\n",
       "    .dataframe tbody tr th {\n",
       "        vertical-align: top;\n",
       "    }\n",
       "\n",
       "    .dataframe thead th {\n",
       "        text-align: right;\n",
       "    }\n",
       "</style>\n",
       "<table border=\"1\" class=\"dataframe\">\n",
       "  <thead>\n",
       "    <tr style=\"text-align: right;\">\n",
       "      <th></th>\n",
       "      <th>daily_trips</th>\n",
       "      <th>fleet_size</th>\n",
       "      <th>vacations</th>\n",
       "      <th>holiday</th>\n",
       "      <th>weekday_dummy</th>\n",
       "      <th>tavg</th>\n",
       "      <th>tmin</th>\n",
       "      <th>tmax</th>\n",
       "      <th>prcp</th>\n",
       "      <th>snow</th>\n",
       "      <th>wspd</th>\n",
       "      <th>pres</th>\n",
       "      <th>tsun</th>\n",
       "    </tr>\n",
       "    <tr>\n",
       "      <th>date</th>\n",
       "      <th></th>\n",
       "      <th></th>\n",
       "      <th></th>\n",
       "      <th></th>\n",
       "      <th></th>\n",
       "      <th></th>\n",
       "      <th></th>\n",
       "      <th></th>\n",
       "      <th></th>\n",
       "      <th></th>\n",
       "      <th></th>\n",
       "      <th></th>\n",
       "      <th></th>\n",
       "    </tr>\n",
       "  </thead>\n",
       "  <tbody>\n",
       "    <tr>\n",
       "      <th>2019-02-01</th>\n",
       "      <td>659</td>\n",
       "      <td>256</td>\n",
       "      <td>0</td>\n",
       "      <td>0</td>\n",
       "      <td>1</td>\n",
       "      <td>0.7</td>\n",
       "      <td>-2.3</td>\n",
       "      <td>3.3</td>\n",
       "      <td>0.0</td>\n",
       "      <td>0</td>\n",
       "      <td>6</td>\n",
       "      <td>995.2</td>\n",
       "      <td>0</td>\n",
       "    </tr>\n",
       "    <tr>\n",
       "      <th>2019-02-02</th>\n",
       "      <td>526</td>\n",
       "      <td>329</td>\n",
       "      <td>0</td>\n",
       "      <td>0</td>\n",
       "      <td>0</td>\n",
       "      <td>1.2</td>\n",
       "      <td>0.7</td>\n",
       "      <td>1.6</td>\n",
       "      <td>0.0</td>\n",
       "      <td>0</td>\n",
       "      <td>5</td>\n",
       "      <td>997.3</td>\n",
       "      <td>0</td>\n",
       "    </tr>\n",
       "    <tr>\n",
       "      <th>2019-02-03</th>\n",
       "      <td>285</td>\n",
       "      <td>350</td>\n",
       "      <td>0</td>\n",
       "      <td>0</td>\n",
       "      <td>0</td>\n",
       "      <td>0.7</td>\n",
       "      <td>0.2</td>\n",
       "      <td>1.1</td>\n",
       "      <td>4.7</td>\n",
       "      <td>30</td>\n",
       "      <td>11</td>\n",
       "      <td>1013.9</td>\n",
       "      <td>0</td>\n",
       "    </tr>\n",
       "    <tr>\n",
       "      <th>2019-02-04</th>\n",
       "      <td>499</td>\n",
       "      <td>390</td>\n",
       "      <td>0</td>\n",
       "      <td>0</td>\n",
       "      <td>1</td>\n",
       "      <td>0.8</td>\n",
       "      <td>-1.6</td>\n",
       "      <td>4.7</td>\n",
       "      <td>0.0</td>\n",
       "      <td>30</td>\n",
       "      <td>9</td>\n",
       "      <td>1028.2</td>\n",
       "      <td>470</td>\n",
       "    </tr>\n",
       "    <tr>\n",
       "      <th>2019-02-05</th>\n",
       "      <td>573</td>\n",
       "      <td>421</td>\n",
       "      <td>0</td>\n",
       "      <td>0</td>\n",
       "      <td>1</td>\n",
       "      <td>1.4</td>\n",
       "      <td>-0.5</td>\n",
       "      <td>3.8</td>\n",
       "      <td>0.0</td>\n",
       "      <td>20</td>\n",
       "      <td>9</td>\n",
       "      <td>1027.9</td>\n",
       "      <td>2</td>\n",
       "    </tr>\n",
       "    <tr>\n",
       "      <th>...</th>\n",
       "      <td>...</td>\n",
       "      <td>...</td>\n",
       "      <td>...</td>\n",
       "      <td>...</td>\n",
       "      <td>...</td>\n",
       "      <td>...</td>\n",
       "      <td>...</td>\n",
       "      <td>...</td>\n",
       "      <td>...</td>\n",
       "      <td>...</td>\n",
       "      <td>...</td>\n",
       "      <td>...</td>\n",
       "      <td>...</td>\n",
       "    </tr>\n",
       "    <tr>\n",
       "      <th>2019-06-26</th>\n",
       "      <td>2552</td>\n",
       "      <td>785</td>\n",
       "      <td>0</td>\n",
       "      <td>0</td>\n",
       "      <td>1</td>\n",
       "      <td>29.4</td>\n",
       "      <td>21.5</td>\n",
       "      <td>36.6</td>\n",
       "      <td>0.0</td>\n",
       "      <td>0</td>\n",
       "      <td>14</td>\n",
       "      <td>1020.1</td>\n",
       "      <td>750</td>\n",
       "    </tr>\n",
       "    <tr>\n",
       "      <th>2019-06-27</th>\n",
       "      <td>2555</td>\n",
       "      <td>787</td>\n",
       "      <td>0</td>\n",
       "      <td>0</td>\n",
       "      <td>1</td>\n",
       "      <td>20.5</td>\n",
       "      <td>15.3</td>\n",
       "      <td>26.2</td>\n",
       "      <td>0.0</td>\n",
       "      <td>0</td>\n",
       "      <td>17</td>\n",
       "      <td>1023.9</td>\n",
       "      <td>768</td>\n",
       "    </tr>\n",
       "    <tr>\n",
       "      <th>2019-06-28</th>\n",
       "      <td>2857</td>\n",
       "      <td>789</td>\n",
       "      <td>0</td>\n",
       "      <td>0</td>\n",
       "      <td>1</td>\n",
       "      <td>18.2</td>\n",
       "      <td>13.5</td>\n",
       "      <td>24.0</td>\n",
       "      <td>0.0</td>\n",
       "      <td>0</td>\n",
       "      <td>7</td>\n",
       "      <td>1024.5</td>\n",
       "      <td>513</td>\n",
       "    </tr>\n",
       "    <tr>\n",
       "      <th>2019-06-29</th>\n",
       "      <td>2780</td>\n",
       "      <td>795</td>\n",
       "      <td>0</td>\n",
       "      <td>0</td>\n",
       "      <td>0</td>\n",
       "      <td>21.3</td>\n",
       "      <td>10.7</td>\n",
       "      <td>30.4</td>\n",
       "      <td>0.0</td>\n",
       "      <td>0</td>\n",
       "      <td>4</td>\n",
       "      <td>1021.0</td>\n",
       "      <td>779</td>\n",
       "    </tr>\n",
       "    <tr>\n",
       "      <th>2019-06-30</th>\n",
       "      <td>1702</td>\n",
       "      <td>790</td>\n",
       "      <td>0</td>\n",
       "      <td>0</td>\n",
       "      <td>0</td>\n",
       "      <td>28.0</td>\n",
       "      <td>16.7</td>\n",
       "      <td>38.0</td>\n",
       "      <td>0.0</td>\n",
       "      <td>0</td>\n",
       "      <td>9</td>\n",
       "      <td>1013.5</td>\n",
       "      <td>768</td>\n",
       "    </tr>\n",
       "  </tbody>\n",
       "</table>\n",
       "<p>147 rows × 13 columns</p>\n",
       "</div>"
      ],
      "text/plain": [
       "            daily_trips fleet_size  vacations  holiday  weekday_dummy  tavg  \\\n",
       "date                                                                          \n",
       "2019-02-01          659        256          0        0              1   0.7   \n",
       "2019-02-02          526        329          0        0              0   1.2   \n",
       "2019-02-03          285        350          0        0              0   0.7   \n",
       "2019-02-04          499        390          0        0              1   0.8   \n",
       "2019-02-05          573        421          0        0              1   1.4   \n",
       "...                 ...        ...        ...      ...            ...   ...   \n",
       "2019-06-26         2552        785          0        0              1  29.4   \n",
       "2019-06-27         2555        787          0        0              1  20.5   \n",
       "2019-06-28         2857        789          0        0              1  18.2   \n",
       "2019-06-29         2780        795          0        0              0  21.3   \n",
       "2019-06-30         1702        790          0        0              0  28.0   \n",
       "\n",
       "            tmin  tmax  prcp  snow  wspd    pres  tsun  \n",
       "date                                                    \n",
       "2019-02-01  -2.3   3.3   0.0     0     6   995.2     0  \n",
       "2019-02-02   0.7   1.6   0.0     0     5   997.3     0  \n",
       "2019-02-03   0.2   1.1   4.7    30    11  1013.9     0  \n",
       "2019-02-04  -1.6   4.7   0.0    30     9  1028.2   470  \n",
       "2019-02-05  -0.5   3.8   0.0    20     9  1027.9     2  \n",
       "...          ...   ...   ...   ...   ...     ...   ...  \n",
       "2019-06-26  21.5  36.6   0.0     0    14  1020.1   750  \n",
       "2019-06-27  15.3  26.2   0.0     0    17  1023.9   768  \n",
       "2019-06-28  13.5  24.0   0.0     0     7  1024.5   513  \n",
       "2019-06-29  10.7  30.4   0.0     0     4  1021.0   779  \n",
       "2019-06-30  16.7  38.0   0.0     0     9  1013.5   768  \n",
       "\n",
       "[147 rows x 13 columns]"
      ]
     },
     "execution_count": 16,
     "metadata": {},
     "output_type": "execute_result"
    }
   ],
   "source": [
    "df_predictive = df_by_date_merged\n",
    "df_predictive[\"weekday_dummy\"] = df_predictive[\"day_classifier\"].isin([\"weekday\"]).astype(int)\n",
    "df_predictive = df_predictive.join(meteostat_leipzig)\n",
    "df_predictive = df_predictive.drop(columns={\"day_classifier\",\"usage\",\"daily_revenue\",\"daily_used_bikes\"})\n",
    "df_predictive\n",
    "\n",
    "#df_predictive.to_csv(\"../output.csv\")"
   ]
  },
  {
   "cell_type": "code",
   "execution_count": 17,
   "metadata": {
    "scrolled": false
   },
   "outputs": [
    {
     "data": {
      "image/png": "[encoded data removed]",
      "text/plain": [
       "<Figure size 576x432 with 1 Axes>"
      ]
     },
     "metadata": {
      "needs_background": "light"
     },
     "output_type": "display_data"
    }
   ],
   "source": [
    "plt.figure(figsize = (8,6))\n",
    "plt.scatter(df_predictive[df_predictive[\"weekday_dummy\"] == 1][\"tavg\"],\n",
    "            df_predictive[df_predictive[\"weekday_dummy\"] == 1][\"daily_trips\"], marker=\"x\", color = 'C0')\n",
    "plt.scatter(df_predictive[df_predictive[\"weekday_dummy\"] == 0][\"tavg\"],\n",
    "            df_predictive[df_predictive[\"weekday_dummy\"] == 0][\"daily_trips\"], marker=\"x\", color = 'C2')\n",
    "plt.xlabel(\"Average Temperature (°C)\")\n",
    "plt.ylabel(\"Daily Trips\")\n",
    "plt.legend([\"Weekdays\",\"Weekends\"])\n",
    "plt.show()"
   ]
  },
  {
   "cell_type": "markdown",
   "metadata": {},
   "source": [
    "We will use the DecisionTreeRegressor class in scikitlearnto fit and plot a decision tree regressor."
   ]
  },
  {
   "cell_type": "code",
   "execution_count": 19,
   "metadata": {
    "scrolled": true
   },
   "outputs": [
    {
     "name": "stdout",
     "output_type": "stream",
     "text": [
      "R^2:  0.7937689613793407\n"
     ]
    },
    {
     "data": {
      "image/png": "[encoded data removed]",
      "text/plain": [
       "<Figure size 576x432 with 1 Axes>"
      ]
     },
     "metadata": {
      "needs_background": "light"
     },
     "output_type": "display_data"
    }
   ],
   "source": [
    "from sklearn.tree import DecisionTreeRegressor, export_graphviz\n",
    "\n",
    "def plot_tree_regression_line(tree_depth):\n",
    "\n",
    "    Xt = df_predictive[\"tavg\"].values\n",
    "    Yt = df_predictive[\"daily_trips\"].values\n",
    "\n",
    "    X_train, X_test, y_train, y_test = train_test_split(Xt, Yt, test_size = 0.25)\n",
    "\n",
    "\n",
    "    # Fit regression model\n",
    "    # max_depth=tree_depth, criterion=\"mse\"\n",
    "    Tree_reg = DecisionTreeRegressor(min_samples_leaf=6, max_depth=8)\n",
    "    Tree_reg.fit(X_train.reshape((-1,1)), y_train.reshape(-1,1))\n",
    "    Y_pred = Tree_reg.predict(X_test.reshape((-1,1)))\n",
    "    \n",
    "    attributes = Tree_reg.tree_\n",
    "\n",
    "    # plot\n",
    "    plt.figure(figsize = (8,6))\n",
    "    plt.title('Decision Tree Regression', fontsize = 18)\n",
    "    plt.scatter(X_test, y_test, marker = \"x\", color = 'red')\n",
    "    plt.scatter(X_test, Y_pred, marker = \"x\", color = 'green')\n",
    "    #plt.plot(np.arange(-1,30,1), Tree_reg.predict(np.arange(-1,30,1).reshape((-1,1))), marker=\"x\", color='C1')\n",
    "    plt.xlabel(\"Average Temperature (°C)\", fontsize = 14)\n",
    "    plt.ylabel(\"Daily Trips\", fontsize = 14)\n",
    "    \n",
    "    print(\"R^2: \", r2_score(y_test, Y_pred))\n",
    "\n",
    "plot_tree_regression_line(2)"
   ]
  },
  {
   "cell_type": "code",
   "execution_count": 20,
   "metadata": {
    "scrolled": true
   },
   "outputs": [
    {
     "data": {
      "image/png": "[encoded data removed]",
      "text/plain": [
       "<Figure size 576x432 with 1 Axes>"
      ]
     },
     "metadata": {
      "needs_background": "light"
     },
     "output_type": "display_data"
    }
   ],
   "source": [
    "Xp = df_predictive[\"prcp\"].values\n",
    "Yp = df_predictive[\"daily_trips\"].values\n",
    "\n",
    "plt.figure(figsize = (8,6))\n",
    "plt.scatter(Xp, Yp, marker=\"x\")\n",
    "plt.xlabel(\"Rainfall\")\n",
    "plt.ylabel(\"Daily Trips\")\n",
    "plt.show()"
   ]
  },
  {
   "cell_type": "code",
   "execution_count": 21,
   "metadata": {},
   "outputs": [],
   "source": [
    "def plot_tree_regression_line(tree_depth):\n",
    "\n",
    "    # Fit regression model (to full data)\n",
    "    Tree_reg = DecisionTreeRegressor(max_depth=tree_depth,\n",
    "                                    criterion=\"mse\")\n",
    "    Tree_reg.fit(Xp.reshape((-1,1)), Yp)\n",
    "    Y_pred = Tree_reg.predict(Xp.reshape((-1,1)))\n",
    "    \n",
    "    attributes = Tree_reg.tree_\n",
    "\n",
    "    # plot\n",
    "    plt.figure(figsize = (8,6))\n",
    "    plt.scatter(Xp, Yp, marker=\"x\")\n",
    "    plt.plot(np.arange(-0,20,1), Tree_reg.predict(np.arange(-0,20,1).reshape((-1,1))), marker=\"x\", color='C1')\n",
    "    plt.xlabel(\"Rainfall\", fontsize=16)\n",
    "    plt.ylabel(\"Daily Trips\", fontsize=16)\n",
    "    \n",
    "    print(\"number of nodes: \", attributes.node_count)\n",
    "    print(\"number of leafs: \", attributes.n_leaves)\n",
    "    print(\"R^2: \", r2_score(Yp, Y_pred))\n",
    "   "
   ]
  },
  {
   "cell_type": "code",
   "execution_count": 22,
   "metadata": {},
   "outputs": [
    {
     "name": "stdout",
     "output_type": "stream",
     "text": [
      "number of nodes:  5\n",
      "number of leafs:  3\n",
      "R^2:  0.05584258166304523\n"
     ]
    },
    {
     "data": {
      "image/png": "[encoded data removed]",
      "text/plain": [
       "<Figure size 576x432 with 1 Axes>"
      ]
     },
     "metadata": {
      "needs_background": "light"
     },
     "output_type": "display_data"
    }
   ],
   "source": [
    "plot_tree_regression_line(2)"
   ]
  },
  {
   "cell_type": "code",
   "execution_count": 109,
   "metadata": {},
   "outputs": [],
   "source": [
    "#define the regression tree\n",
    "\n",
    "def plot_tree_regression_line(X, Y, tree_depth, xlabel, ylabel):\n",
    "    \n",
    "    X_train, X_test, y_train, y_test = train_test_split(X, Y, test_size = 0.25)\n",
    "    # Fit regression model\n",
    "    #min_samples_leaf=6, max_depth = 8\n",
    "    Tree_reg = DecisionTreeRegressor(max_depth=tree_depth, min_samples_leaf=6,\n",
    "                                    criterion=\"mse\")\n",
    "    Tree_reg.fit(X_train.reshape((-1,1)), y_train.reshape(-1,1))\n",
    "    Y_pred = Tree_reg.predict(X_test.reshape((-1,1)))\n",
    "    \n",
    "    # plot\n",
    "    plt.figure(figsize = (8,6))\n",
    "    plt.title('Decision Tree Regression', fontsize = 18)\n",
    "    plt.scatter(X_test, y_test, marker = \"x\", color = 'red')\n",
    "    plt.scatter(X_test, Y_pred, marker = \"x\", color = 'green')\n",
    "    #plt.plot(np.arange(-1,30,1), Tree_reg.predict(np.arange(-1,30,1).reshape((-1,1))), marker=\"x\", color='C1')\n",
    "    plt.xlabel(xlabel, fontsize = 14)\n",
    "    plt.ylabel(ylabel, fontsize = 14)\n",
    "    \n",
    "    print(\"R^2: \", r2_score(y_test, Y_pred))"
   ]
  },
  {
   "cell_type": "code",
   "execution_count": 110,
   "metadata": {},
   "outputs": [
    {
     "name": "stdout",
     "output_type": "stream",
     "text": [
      "R^2:  0.7860678012429538\n"
     ]
    },
    {
     "data": {
      "image/png": "[encoded data removed]",
      "text/plain": [
       "<Figure size 576x432 with 1 Axes>"
      ]
     },
     "metadata": {
      "needs_background": "light"
     },
     "output_type": "display_data"
    }
   ],
   "source": [
    "Xt = df_predictive[\"tavg\"].values\n",
    "Yt = df_predictive[\"daily_trips\"].values\n",
    "\n",
    "#X_train, X_test, y_train, y_test = train_test_split(Xt, Yt, test_size = 0.25)\n",
    "plot_tree_regression_line(X = Xt, Y = Yt, tree_depth = 2, xlabel = \"Avg Temperature\", ylabel = \"Daily Trips\")"
   ]
  },
  {
   "cell_type": "code",
   "execution_count": 77,
   "metadata": {},
   "outputs": [
    {
     "name": "stdout",
     "output_type": "stream",
     "text": [
      "R^2:  -0.04761447847558298\n"
     ]
    },
    {
     "data": {
      "image/png": "[encoded data removed]",
      "text/plain": [
       "<Figure size 576x432 with 1 Axes>"
      ]
     },
     "metadata": {
      "needs_background": "light"
     },
     "output_type": "display_data"
    }
   ],
   "source": [
    "Xp = df_predictive[\"prcp\"].values\n",
    "Yp = df_predictive[\"daily_trips\"].values\n",
    "\n",
    "plot_tree_regression_line(X = Xp, Y = Yp, tree_depth = 2, xlabel = \"Rainfall\", ylabel = \"Daily Trips\")"
   ]
  },
  {
   "cell_type": "code",
   "execution_count": 87,
   "metadata": {},
   "outputs": [
    {
     "name": "stdout",
     "output_type": "stream",
     "text": [
      "R^2:  -0.013083815757275463\n"
     ]
    },
    {
     "data": {
      "image/png": "[encoded data removed]",
      "text/plain": [
       "<Figure size 576x432 with 1 Axes>"
      ]
     },
     "metadata": {
      "needs_background": "light"
     },
     "output_type": "display_data"
    }
   ],
   "source": [
    "Xs = df_predictive[\"snow\"].values\n",
    "Ys = df_predictive[\"daily_trips\"].values\n",
    "\n",
    "plot_tree_regression_line(X = Xs, Y = Ys, tree_depth = 2, xlabel = \"Snow\", ylabel = \"Daily Trips\")"
   ]
  },
  {
   "cell_type": "code",
   "execution_count": 79,
   "metadata": {
    "scrolled": true
   },
   "outputs": [
    {
     "name": "stdout",
     "output_type": "stream",
     "text": [
      "R^2:  -0.04032320283786084\n"
     ]
    },
    {
     "data": {
      "image/png": "[encoded data removed]",
      "text/plain": [
       "<Figure size 576x432 with 1 Axes>"
      ]
     },
     "metadata": {
      "needs_background": "light"
     },
     "output_type": "display_data"
    }
   ],
   "source": [
    "Xw = df_predictive[\"wspd\"].values\n",
    "Yw = df_predictive[\"daily_trips\"].values\n",
    "\n",
    "plot_tree_regression_line(X = Xw, Y = Yw, tree_depth = 2, xlabel = \"Wind Spread\", ylabel = \"Daily Trips\")"
   ]
  },
  {
   "cell_type": "code",
   "execution_count": 84,
   "metadata": {
    "scrolled": true
   },
   "outputs": [
    {
     "name": "stdout",
     "output_type": "stream",
     "text": [
      "R^2:  -0.006901007376848289\n"
     ]
    },
    {
     "data": {
      "image/png": "[encoded data removed]",
      "text/plain": [
       "<Figure size 576x432 with 1 Axes>"
      ]
     },
     "metadata": {
      "needs_background": "light"
     },
     "output_type": "display_data"
    }
   ],
   "source": [
    "Xpre = df_predictive[\"pres\"].values\n",
    "Ypre = df_predictive[\"daily_trips\"].values\n",
    "\n",
    "plot_tree_regression_line(X = Xpre, Y = Ypre, tree_depth = 2, xlabel = \"Presure\", ylabel = \"Daily Trips\")"
   ]
  },
  {
   "cell_type": "code",
   "execution_count": 85,
   "metadata": {},
   "outputs": [
    {
     "name": "stdout",
     "output_type": "stream",
     "text": [
      "R^2:  -0.05708289305709302\n"
     ]
    },
    {
     "data": {
      "image/png": "[encoded data removed]",
      "text/plain": [
       "<Figure size 576x432 with 1 Axes>"
      ]
     },
     "metadata": {
      "needs_background": "light"
     },
     "output_type": "display_data"
    }
   ],
   "source": [
    "Xsun = df_predictive[\"tsun\"].values\n",
    "Ysun = df_predictive[\"daily_trips\"].values\n",
    "\n",
    "plot_tree_regression_line(X = Xsun, Y = Ysun, tree_depth = 2, xlabel = \"Sun\", ylabel = \"Daily Trips\")"
   ]
  },
  {
   "cell_type": "code",
   "execution_count": 108,
   "metadata": {},
   "outputs": [
    {
     "name": "stderr",
     "output_type": "stream",
     "text": [
      "<ipython-input-108-b91c8b366bf1>:26: MatplotlibDeprecationWarning: shading='flat' when X and Y have the same dimensions as C is deprecated since 3.3.  Either specify the corners of the quadrilaterals with X and Y, or pass shading='auto', 'nearest' or 'gouraud', or set rcParams['pcolor.shading'].  This will become an error two minor releases later.\n",
      "  plt.pcolormesh(x_temperature, y_sun, zz, cmap=plt.cm.YlOrRd)\n"
     ]
    },
    {
     "data": {
      "image/png": "[encoded data removed]",
      "text/plain": [
       "<Figure size 576x576 with 2 Axes>"
      ]
     },
     "metadata": {
      "needs_background": "light"
     },
     "output_type": "display_data"
    }
   ],
   "source": [
    "#X_train, X_test, y_train, y_test = train_test_split(X, Y, test_size = 0.25)\n",
    "\n",
    "regressor = DecisionTreeRegressor(min_samples_leaf=6, max_depth=8)\n",
    "regressor.fit(df_predictive[['tavg', 'tsun']], df_predictive['daily_trips'])\n",
    "\n",
    "nx = 30\n",
    "\n",
    "ny = 30\n",
    "\n",
    "# creating a grid of points\n",
    "\n",
    "x_temperature = np.linspace(-5, 30, nx) # min avg temperature -5, max 30\n",
    "\n",
    "y_sun = np.linspace(0, 1000, ny) # min rainfall 0, max 20\n",
    "\n",
    "xx, yy = np.meshgrid(x_temperature, y_sun)\n",
    "\n",
    "# evaluating the regressor on all the points\n",
    "\n",
    "z_trips = regressor.predict(np.array([xx.flatten(), yy.flatten()]).T)\n",
    "\n",
    "zz = np.reshape(z_trips, (nx, ny))\n",
    "\n",
    "fig = plt.figure(figsize=(8, 8))\n",
    "# plotting the predictions\n",
    "plt.pcolormesh(x_temperature, y_sun, zz, cmap=plt.cm.YlOrRd)\n",
    "plt.colorbar(label='Daily Trips') # add a colorbar on the right\n",
    "# plotting also the observations\n",
    "plt.scatter(df_predictive['tavg'], df_predictive['tsun'], s = df_predictive['daily_trips'], marker = 'x', c='g')\n",
    "# setting the limit for each axis\n",
    "plt.xlim(np.min(x_temperature), np.max(x_temperature))\n",
    "plt.ylim(np.min(y_sun), np.max(y_sun))\n",
    "plt.xlabel('Avg Temperature')\n",
    "plt.ylabel('Sun')\n",
    "plt.show()"
   ]
  },
  {
   "cell_type": "code",
   "execution_count": null,
   "metadata": {},
   "outputs": [],
   "source": []
  }
 ],
 "metadata": {
  "kernelspec": {
   "display_name": "Python 3",
   "language": "python",
   "name": "python3"
  }
 },
 "nbformat": 4,
 "nbformat_minor": 4
}
