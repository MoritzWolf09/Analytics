{
 "cells": [
  {
   "cell_type": "code",
   "execution_count": 129,
   "metadata": {},
   "outputs": [],
   "source": [
    "from math import radians, cos, sin, asin, sqrt \n",
    "def calculate_distance(lon1, lat1, lon2, lat2): \n",
    "    # convert decimal degrees to radians \n",
    "    lon1, lat1, lon2, lat2 = map(radians, [lon1, lat1, lon2, lat2]) \n",
    "    # haversine formula \n",
    "    dlon = lon2 - lon1 \n",
    "    dlat = lat2 - lat1 \n",
    "    a = sin(dlat/2)**2 + cos(lat1) * cos(lat2) * sin(dlon/2)**2 \n",
    "    c = 2 * asin(sqrt(a)) \n",
    "    # Radius of earth in kilometers is 6371 \n",
    "    km = 6371* c \n",
    "    return km"
   ]
  },
  {
   "cell_type": "code",
   "execution_count": 130,
   "metadata": {},
   "outputs": [],
   "source": [
    "def next_cluster(lng,lat,cluster_df):\n",
    "    smallest_value = 9999999999999999 #nicht schön aber sollte funktionieren.\n",
    "    for index, row in cluster_df.iterrows():\n",
    "        cluster_lng = row[\"lng\"]\n",
    "        cluster_lat = row[\"lat\"]\n",
    "        distance = calculate_distance(lng,lat,cluster_lng,cluster_lat)\n",
    "        if distance < smallest_value:\n",
    "            smallest_value = distance\n",
    "            closest_cluster = [cluster_lng,cluster_lat]\n",
    "    return closest_cluster"
   ]
  },
  {
   "cell_type": "markdown",
   "metadata": {},
   "source": [
    "# Task 1"
   ]
  },
  {
   "cell_type": "markdown",
   "metadata": {},
   "source": [
    "## Import Libraries"
   ]
  },
  {
   "cell_type": "code",
   "execution_count": 131,
   "metadata": {},
   "outputs": [],
   "source": [
    "import pandas as pd\n",
    "import numpy as np"
   ]
  },
  {
   "cell_type": "code",
   "execution_count": 132,
   "metadata": {},
   "outputs": [],
   "source": [
    "import matplotlib as mpl\n",
    "import matplotlib.pyplot as plt\n",
    "import seaborn as sns\n",
    "\n",
    "from sklearn.ensemble import RandomForestRegressor\n",
    "from sklearn.ensemble import AdaBoostRegressor"
   ]
  },
  {
   "cell_type": "code",
   "execution_count": 133,
   "metadata": {
    "scrolled": false
   },
   "outputs": [
    {
     "ename": "ModuleNotFoundError",
     "evalue": "No module named 'geopandas'",
     "output_type": "error",
     "traceback": [
      "\u001b[1;31m---------------------------------------------------------------------------\u001b[0m",
      "\u001b[1;31mModuleNotFoundError\u001b[0m                       Traceback (most recent call last)",
      "\u001b[1;32m<ipython-input-133-a62d01c1d62e>\u001b[0m in \u001b[0;36m<module>\u001b[1;34m\u001b[0m\n\u001b[1;32m----> 1\u001b[1;33m \u001b[1;32mimport\u001b[0m \u001b[0mgeopandas\u001b[0m \u001b[1;32mas\u001b[0m \u001b[0mgpd\u001b[0m\u001b[1;33m\u001b[0m\u001b[1;33m\u001b[0m\u001b[0m\n\u001b[0m",
      "\u001b[1;31mModuleNotFoundError\u001b[0m: No module named 'geopandas'"
     ]
    }
   ],
   "source": [
    "import geopandas as gpd"
   ]
  },
  {
   "cell_type": "markdown",
   "metadata": {},
   "source": [
    "## Import raw data and merge the data"
   ]
  },
  {
   "cell_type": "code",
   "execution_count": 134,
   "metadata": {},
   "outputs": [
    {
     "name": "stdout",
     "output_type": "stream",
     "text": [
      "<class 'pandas.core.frame.DataFrame'>\n",
      "Int64Index: 202697 entries, 0 to 185326\n",
      "Data columns (total 9 columns):\n",
      " #   Column         Non-Null Count   Dtype  \n",
      "---  ------         --------------   -----  \n",
      " 0   day            202697 non-null  object \n",
      " 1   time           202697 non-null  object \n",
      " 2   b_number       202697 non-null  int64  \n",
      " 3   city           202697 non-null  object \n",
      " 4   trip_duration  202697 non-null  object \n",
      " 5   orig_lat       202697 non-null  float64\n",
      " 6   orig_lng       202697 non-null  float64\n",
      " 7   dest_lat       202697 non-null  float64\n",
      " 8   dest_lng       202697 non-null  float64\n",
      "dtypes: float64(4), int64(1), object(4)\n",
      "memory usage: 15.5+ MB\n"
     ]
    }
   ],
   "source": [
    "Nextbike_bochum= pd.read_csv(\"./dataset/bochum.csv\")\n",
    "Nextbike_leipzig = pd.read_csv(\"./dataset/leipzig.csv\")\n",
    "Nextbike = Nextbike_bochum.append(Nextbike_leipzig)\n",
    "\n",
    "Nextbike.info()"
   ]
  },
  {
   "cell_type": "code",
   "execution_count": 135,
   "metadata": {},
   "outputs": [],
   "source": [
    "date_info_leipzig = pd.read_csv(\"./resources/leipzig-holidays/leipzig-holidays.csv\",sep=\";\")\n",
    "date_info_leipzig[\"date\"] = pd.to_datetime(date_info_leipzig[\"date\"],format=\"%d.%m.%Y\").dt.date\n",
    "date_info_leipzig.index = date_info_leipzig[\"date\"]\n"
   ]
  },
  {
   "cell_type": "markdown",
   "metadata": {},
   "source": [
    "## Look for null values"
   ]
  },
  {
   "cell_type": "code",
   "execution_count": 136,
   "metadata": {},
   "outputs": [
    {
     "data": {
      "text/plain": [
       "dest_lng         0\n",
       "dest_lat         0\n",
       "orig_lng         0\n",
       "orig_lat         0\n",
       "trip_duration    0\n",
       "city             0\n",
       "b_number         0\n",
       "time             0\n",
       "day              0\n",
       "dtype: int64"
      ]
     },
     "execution_count": 136,
     "metadata": {},
     "output_type": "execute_result"
    }
   ],
   "source": [
    "Nextbike.isnull().sum().sort_values(ascending=False)"
   ]
  },
  {
   "cell_type": "markdown",
   "metadata": {},
   "source": [
    "## Correct Data Types"
   ]
  },
  {
   "cell_type": "code",
   "execution_count": 137,
   "metadata": {},
   "outputs": [],
   "source": [
    "#Converting Trip Length to timedelta\n",
    "Nextbike['trip_duration'] = pd.to_timedelta(Nextbike['trip_duration'])\n",
    "\n",
    "#Converting start-time to datetime\n",
    "Nextbike['timestamp'] = pd.to_datetime(Nextbike['day'] + ' ' +  Nextbike['time'])\n",
    "Nextbike.drop(columns=['day','time'], inplace = True)"
   ]
  },
  {
   "cell_type": "markdown",
   "metadata": {},
   "source": [
    "## Add columns for analysis"
   ]
  },
  {
   "cell_type": "code",
   "execution_count": 138,
   "metadata": {
    "scrolled": false
   },
   "outputs": [
    {
     "data": {
      "text/html": [
       "<div>\n",
       "<style scoped>\n",
       "    .dataframe tbody tr th:only-of-type {\n",
       "        vertical-align: middle;\n",
       "    }\n",
       "\n",
       "    .dataframe tbody tr th {\n",
       "        vertical-align: top;\n",
       "    }\n",
       "\n",
       "    .dataframe thead th {\n",
       "        text-align: right;\n",
       "    }\n",
       "</style>\n",
       "<table border=\"1\" class=\"dataframe\">\n",
       "  <thead>\n",
       "    <tr style=\"text-align: right;\">\n",
       "      <th></th>\n",
       "      <th>b_number</th>\n",
       "      <th>city</th>\n",
       "      <th>trip_duration</th>\n",
       "      <th>orig_lat</th>\n",
       "      <th>orig_lng</th>\n",
       "      <th>dest_lat</th>\n",
       "      <th>dest_lng</th>\n",
       "      <th>timestamp</th>\n",
       "      <th>timestamp_rounded</th>\n",
       "      <th>weekday</th>\n",
       "      <th>week</th>\n",
       "      <th>Time</th>\n",
       "      <th>date</th>\n",
       "      <th>revenue</th>\n",
       "    </tr>\n",
       "  </thead>\n",
       "  <tbody>\n",
       "    <tr>\n",
       "      <th>0</th>\n",
       "      <td>683</td>\n",
       "      <td>bochum</td>\n",
       "      <td>0 days 00:10:00</td>\n",
       "      <td>51.489814</td>\n",
       "      <td>7.232856</td>\n",
       "      <td>51.479592</td>\n",
       "      <td>7.222239</td>\n",
       "      <td>2019-02-08 12:06:00</td>\n",
       "      <td>2019-02-08 12:00:00</td>\n",
       "      <td>4</td>\n",
       "      <td>6</td>\n",
       "      <td>12</td>\n",
       "      <td>2019-02-08</td>\n",
       "      <td>1.0</td>\n",
       "    </tr>\n",
       "    <tr>\n",
       "      <th>1</th>\n",
       "      <td>683</td>\n",
       "      <td>bochum</td>\n",
       "      <td>0 days 00:14:00</td>\n",
       "      <td>51.479592</td>\n",
       "      <td>7.222239</td>\n",
       "      <td>51.472366</td>\n",
       "      <td>7.250500</td>\n",
       "      <td>2019-02-10 01:58:00</td>\n",
       "      <td>2019-02-10 01:00:00</td>\n",
       "      <td>6</td>\n",
       "      <td>6</td>\n",
       "      <td>1</td>\n",
       "      <td>2019-02-10</td>\n",
       "      <td>1.0</td>\n",
       "    </tr>\n",
       "    <tr>\n",
       "      <th>2</th>\n",
       "      <td>683</td>\n",
       "      <td>bochum</td>\n",
       "      <td>0 days 00:28:00</td>\n",
       "      <td>51.472366</td>\n",
       "      <td>7.250500</td>\n",
       "      <td>51.479592</td>\n",
       "      <td>7.222239</td>\n",
       "      <td>2019-02-11 06:33:00</td>\n",
       "      <td>2019-02-11 06:00:00</td>\n",
       "      <td>0</td>\n",
       "      <td>7</td>\n",
       "      <td>6</td>\n",
       "      <td>2019-02-11</td>\n",
       "      <td>1.0</td>\n",
       "    </tr>\n",
       "    <tr>\n",
       "      <th>3</th>\n",
       "      <td>683</td>\n",
       "      <td>bochum</td>\n",
       "      <td>0 days 00:58:00</td>\n",
       "      <td>51.479592</td>\n",
       "      <td>7.222239</td>\n",
       "      <td>51.483023</td>\n",
       "      <td>7.215314</td>\n",
       "      <td>2019-02-11 13:31:00</td>\n",
       "      <td>2019-02-11 13:00:00</td>\n",
       "      <td>0</td>\n",
       "      <td>7</td>\n",
       "      <td>13</td>\n",
       "      <td>2019-02-11</td>\n",
       "      <td>2.0</td>\n",
       "    </tr>\n",
       "    <tr>\n",
       "      <th>4</th>\n",
       "      <td>683</td>\n",
       "      <td>bochum</td>\n",
       "      <td>0 days 00:22:00</td>\n",
       "      <td>51.483023</td>\n",
       "      <td>7.215314</td>\n",
       "      <td>51.479592</td>\n",
       "      <td>7.222239</td>\n",
       "      <td>2019-02-11 14:32:00</td>\n",
       "      <td>2019-02-11 14:00:00</td>\n",
       "      <td>0</td>\n",
       "      <td>7</td>\n",
       "      <td>14</td>\n",
       "      <td>2019-02-11</td>\n",
       "      <td>1.0</td>\n",
       "    </tr>\n",
       "    <tr>\n",
       "      <th>...</th>\n",
       "      <td>...</td>\n",
       "      <td>...</td>\n",
       "      <td>...</td>\n",
       "      <td>...</td>\n",
       "      <td>...</td>\n",
       "      <td>...</td>\n",
       "      <td>...</td>\n",
       "      <td>...</td>\n",
       "      <td>...</td>\n",
       "      <td>...</td>\n",
       "      <td>...</td>\n",
       "      <td>...</td>\n",
       "      <td>...</td>\n",
       "      <td>...</td>\n",
       "    </tr>\n",
       "    <tr>\n",
       "      <th>185322</th>\n",
       "      <td>99979</td>\n",
       "      <td>leipzig</td>\n",
       "      <td>0 days 00:07:00</td>\n",
       "      <td>51.468822</td>\n",
       "      <td>11.290048</td>\n",
       "      <td>51.468547</td>\n",
       "      <td>11.289899</td>\n",
       "      <td>2019-05-25 10:58:00</td>\n",
       "      <td>2019-05-25 10:00:00</td>\n",
       "      <td>5</td>\n",
       "      <td>21</td>\n",
       "      <td>10</td>\n",
       "      <td>2019-05-25</td>\n",
       "      <td>1.0</td>\n",
       "    </tr>\n",
       "    <tr>\n",
       "      <th>185323</th>\n",
       "      <td>99979</td>\n",
       "      <td>leipzig</td>\n",
       "      <td>0 days 01:16:00</td>\n",
       "      <td>51.468756</td>\n",
       "      <td>11.289723</td>\n",
       "      <td>51.469324</td>\n",
       "      <td>11.289366</td>\n",
       "      <td>2019-05-27 09:32:00</td>\n",
       "      <td>2019-05-27 09:00:00</td>\n",
       "      <td>0</td>\n",
       "      <td>22</td>\n",
       "      <td>9</td>\n",
       "      <td>2019-05-27</td>\n",
       "      <td>3.0</td>\n",
       "    </tr>\n",
       "    <tr>\n",
       "      <th>185324</th>\n",
       "      <td>99979</td>\n",
       "      <td>leipzig</td>\n",
       "      <td>0 days 00:03:00</td>\n",
       "      <td>51.469044</td>\n",
       "      <td>11.289348</td>\n",
       "      <td>51.469093</td>\n",
       "      <td>11.289432</td>\n",
       "      <td>2019-05-27 11:02:00</td>\n",
       "      <td>2019-05-27 11:00:00</td>\n",
       "      <td>0</td>\n",
       "      <td>22</td>\n",
       "      <td>11</td>\n",
       "      <td>2019-05-27</td>\n",
       "      <td>1.0</td>\n",
       "    </tr>\n",
       "    <tr>\n",
       "      <th>185325</th>\n",
       "      <td>99982</td>\n",
       "      <td>leipzig</td>\n",
       "      <td>0 days 01:44:00</td>\n",
       "      <td>51.341165</td>\n",
       "      <td>12.365045</td>\n",
       "      <td>51.341065</td>\n",
       "      <td>12.365005</td>\n",
       "      <td>2019-02-11 11:47:00</td>\n",
       "      <td>2019-02-11 11:00:00</td>\n",
       "      <td>0</td>\n",
       "      <td>7</td>\n",
       "      <td>11</td>\n",
       "      <td>2019-02-11</td>\n",
       "      <td>4.0</td>\n",
       "    </tr>\n",
       "    <tr>\n",
       "      <th>185326</th>\n",
       "      <td>999999</td>\n",
       "      <td>leipzig</td>\n",
       "      <td>0 days 00:45:00</td>\n",
       "      <td>51.324615</td>\n",
       "      <td>12.336922</td>\n",
       "      <td>51.324649</td>\n",
       "      <td>12.338129</td>\n",
       "      <td>2019-03-22 11:35:00</td>\n",
       "      <td>2019-03-22 11:00:00</td>\n",
       "      <td>4</td>\n",
       "      <td>12</td>\n",
       "      <td>11</td>\n",
       "      <td>2019-03-22</td>\n",
       "      <td>2.0</td>\n",
       "    </tr>\n",
       "  </tbody>\n",
       "</table>\n",
       "<p>202697 rows × 14 columns</p>\n",
       "</div>"
      ],
      "text/plain": [
       "        b_number     city   trip_duration   orig_lat   orig_lng   dest_lat  \\\n",
       "0            683   bochum 0 days 00:10:00  51.489814   7.232856  51.479592   \n",
       "1            683   bochum 0 days 00:14:00  51.479592   7.222239  51.472366   \n",
       "2            683   bochum 0 days 00:28:00  51.472366   7.250500  51.479592   \n",
       "3            683   bochum 0 days 00:58:00  51.479592   7.222239  51.483023   \n",
       "4            683   bochum 0 days 00:22:00  51.483023   7.215314  51.479592   \n",
       "...          ...      ...             ...        ...        ...        ...   \n",
       "185322     99979  leipzig 0 days 00:07:00  51.468822  11.290048  51.468547   \n",
       "185323     99979  leipzig 0 days 01:16:00  51.468756  11.289723  51.469324   \n",
       "185324     99979  leipzig 0 days 00:03:00  51.469044  11.289348  51.469093   \n",
       "185325     99982  leipzig 0 days 01:44:00  51.341165  12.365045  51.341065   \n",
       "185326    999999  leipzig 0 days 00:45:00  51.324615  12.336922  51.324649   \n",
       "\n",
       "         dest_lng           timestamp   timestamp_rounded  weekday  week  \\\n",
       "0        7.222239 2019-02-08 12:06:00 2019-02-08 12:00:00        4     6   \n",
       "1        7.250500 2019-02-10 01:58:00 2019-02-10 01:00:00        6     6   \n",
       "2        7.222239 2019-02-11 06:33:00 2019-02-11 06:00:00        0     7   \n",
       "3        7.215314 2019-02-11 13:31:00 2019-02-11 13:00:00        0     7   \n",
       "4        7.222239 2019-02-11 14:32:00 2019-02-11 14:00:00        0     7   \n",
       "...           ...                 ...                 ...      ...   ...   \n",
       "185322  11.289899 2019-05-25 10:58:00 2019-05-25 10:00:00        5    21   \n",
       "185323  11.289366 2019-05-27 09:32:00 2019-05-27 09:00:00        0    22   \n",
       "185324  11.289432 2019-05-27 11:02:00 2019-05-27 11:00:00        0    22   \n",
       "185325  12.365005 2019-02-11 11:47:00 2019-02-11 11:00:00        0     7   \n",
       "185326  12.338129 2019-03-22 11:35:00 2019-03-22 11:00:00        4    12   \n",
       "\n",
       "        Time        date  revenue  \n",
       "0         12  2019-02-08      1.0  \n",
       "1          1  2019-02-10      1.0  \n",
       "2          6  2019-02-11      1.0  \n",
       "3         13  2019-02-11      2.0  \n",
       "4         14  2019-02-11      1.0  \n",
       "...      ...         ...      ...  \n",
       "185322    10  2019-05-25      1.0  \n",
       "185323     9  2019-05-27      3.0  \n",
       "185324    11  2019-05-27      1.0  \n",
       "185325    11  2019-02-11      4.0  \n",
       "185326    11  2019-03-22      2.0  \n",
       "\n",
       "[202697 rows x 14 columns]"
      ]
     },
     "execution_count": 138,
     "metadata": {},
     "output_type": "execute_result"
    }
   ],
   "source": [
    "#Round datetime and extract possible categorisation attributes\n",
    "Nextbike['timestamp_rounded'] = Nextbike['timestamp'].dt.floor('H')\n",
    "\n",
    "Nextbike['weekday'] = Nextbike['timestamp_rounded'].dt.weekday\n",
    "Nextbike['week'] = Nextbike['timestamp_rounded'].dt.isocalendar().week\n",
    "\n",
    "Nextbike['Time'] = Nextbike['timestamp_rounded'].dt.time\n",
    "Nextbike[\"Time\"] = Nextbike[\"Time\"].astype(str).str[:2].astype(int)\n",
    "\n",
    "Nextbike[\"date\"] = Nextbike.timestamp.dt.date\n",
    "#Nextbike_clean[\"date_str\"] = Nextbike_clean.timestamp.dt.date.astype(str)\n",
    "\n",
    "#take trip duration in minutes, calculate 1€ per 30 minutes of usage\n",
    "Nextbike[\"revenue\"] = np.ceil((Nextbike.trip_duration.dt.total_seconds()/60) /30)\n",
    "\n",
    "\n",
    "#output\n",
    "Nextbike"
   ]
  },
  {
   "cell_type": "markdown",
   "metadata": {},
   "source": [
    "## Split data for analysis"
   ]
  },
  {
   "cell_type": "code",
   "execution_count": 139,
   "metadata": {},
   "outputs": [],
   "source": [
    "Nextbike_clean_l = Nextbike[Nextbike.city == \"leipzig\"]\n",
    "Nextbike_clean_b = Nextbike[Nextbike.city == \"bochum\"]\n",
    "\n",
    "leipzig = {\"lng\": 12.3741468,\"lat\": 51.340744}\n",
    "\n",
    "city = leipzig\n",
    "df = Nextbike_clean_l.copy()\n",
    "date_info = date_info_leipzig.copy()"
   ]
  },
  {
   "cell_type": "markdown",
   "metadata": {},
   "source": [
    "## Cleaning up unrealistic rides\n",
    "This step is aimed at filtering out rides that have start or end locations far out from the city and thus is likely not a regular ride within the valid area"
   ]
  },
  {
   "cell_type": "code",
   "execution_count": 140,
   "metadata": {},
   "outputs": [
    {
     "data": {
      "text/html": [
       "<div>\n",
       "<style scoped>\n",
       "    .dataframe tbody tr th:only-of-type {\n",
       "        vertical-align: middle;\n",
       "    }\n",
       "\n",
       "    .dataframe tbody tr th {\n",
       "        vertical-align: top;\n",
       "    }\n",
       "\n",
       "    .dataframe thead th {\n",
       "        text-align: right;\n",
       "    }\n",
       "</style>\n",
       "<table border=\"1\" class=\"dataframe\">\n",
       "  <thead>\n",
       "    <tr style=\"text-align: right;\">\n",
       "      <th></th>\n",
       "      <th>b_number</th>\n",
       "      <th>city</th>\n",
       "      <th>trip_duration</th>\n",
       "      <th>orig_lat</th>\n",
       "      <th>orig_lng</th>\n",
       "      <th>dest_lat</th>\n",
       "      <th>dest_lng</th>\n",
       "      <th>timestamp</th>\n",
       "      <th>timestamp_rounded</th>\n",
       "      <th>weekday</th>\n",
       "      <th>week</th>\n",
       "      <th>Time</th>\n",
       "      <th>date</th>\n",
       "      <th>revenue</th>\n",
       "      <th>max_distance_center</th>\n",
       "    </tr>\n",
       "  </thead>\n",
       "  <tbody>\n",
       "    <tr>\n",
       "      <th>0</th>\n",
       "      <td>10900</td>\n",
       "      <td>leipzig</td>\n",
       "      <td>0 days 00:12:00</td>\n",
       "      <td>51.330271</td>\n",
       "      <td>12.341983</td>\n",
       "      <td>51.330347</td>\n",
       "      <td>12.342159</td>\n",
       "      <td>2019-04-16 11:17:00</td>\n",
       "      <td>2019-04-16 11:00:00</td>\n",
       "      <td>1</td>\n",
       "      <td>16</td>\n",
       "      <td>11</td>\n",
       "      <td>2019-04-16</td>\n",
       "      <td>1.0</td>\n",
       "      <td>2.519655</td>\n",
       "    </tr>\n",
       "    <tr>\n",
       "      <th>1</th>\n",
       "      <td>10900</td>\n",
       "      <td>leipzig</td>\n",
       "      <td>0 days 00:08:00</td>\n",
       "      <td>51.330347</td>\n",
       "      <td>12.342159</td>\n",
       "      <td>51.330271</td>\n",
       "      <td>12.342199</td>\n",
       "      <td>2019-04-16 11:35:00</td>\n",
       "      <td>2019-04-16 11:00:00</td>\n",
       "      <td>1</td>\n",
       "      <td>16</td>\n",
       "      <td>11</td>\n",
       "      <td>2019-04-16</td>\n",
       "      <td>1.0</td>\n",
       "      <td>2.506386</td>\n",
       "    </tr>\n",
       "    <tr>\n",
       "      <th>2</th>\n",
       "      <td>10900</td>\n",
       "      <td>leipzig</td>\n",
       "      <td>0 days 00:40:00</td>\n",
       "      <td>51.330267</td>\n",
       "      <td>12.342196</td>\n",
       "      <td>51.330236</td>\n",
       "      <td>12.342012</td>\n",
       "      <td>2019-04-16 11:53:00</td>\n",
       "      <td>2019-04-16 11:00:00</td>\n",
       "      <td>1</td>\n",
       "      <td>16</td>\n",
       "      <td>11</td>\n",
       "      <td>2019-04-16</td>\n",
       "      <td>2.0</td>\n",
       "      <td>2.519708</td>\n",
       "    </tr>\n",
       "    <tr>\n",
       "      <th>3</th>\n",
       "      <td>10900</td>\n",
       "      <td>leipzig</td>\n",
       "      <td>0 days 00:03:00</td>\n",
       "      <td>51.330298</td>\n",
       "      <td>12.341811</td>\n",
       "      <td>51.330267</td>\n",
       "      <td>12.341958</td>\n",
       "      <td>2019-04-16 14:35:00</td>\n",
       "      <td>2019-04-16 14:00:00</td>\n",
       "      <td>1</td>\n",
       "      <td>16</td>\n",
       "      <td>14</td>\n",
       "      <td>2019-04-16</td>\n",
       "      <td>1.0</td>\n",
       "      <td>2.528907</td>\n",
       "    </tr>\n",
       "    <tr>\n",
       "      <th>4</th>\n",
       "      <td>20000</td>\n",
       "      <td>leipzig</td>\n",
       "      <td>0 days 00:20:00</td>\n",
       "      <td>51.343107</td>\n",
       "      <td>12.376471</td>\n",
       "      <td>51.330422</td>\n",
       "      <td>12.337838</td>\n",
       "      <td>2019-05-21 09:47:00</td>\n",
       "      <td>2019-05-21 09:00:00</td>\n",
       "      <td>1</td>\n",
       "      <td>21</td>\n",
       "      <td>9</td>\n",
       "      <td>2019-05-21</td>\n",
       "      <td>1.0</td>\n",
       "      <td>2.771228</td>\n",
       "    </tr>\n",
       "    <tr>\n",
       "      <th>...</th>\n",
       "      <td>...</td>\n",
       "      <td>...</td>\n",
       "      <td>...</td>\n",
       "      <td>...</td>\n",
       "      <td>...</td>\n",
       "      <td>...</td>\n",
       "      <td>...</td>\n",
       "      <td>...</td>\n",
       "      <td>...</td>\n",
       "      <td>...</td>\n",
       "      <td>...</td>\n",
       "      <td>...</td>\n",
       "      <td>...</td>\n",
       "      <td>...</td>\n",
       "      <td>...</td>\n",
       "    </tr>\n",
       "    <tr>\n",
       "      <th>185322</th>\n",
       "      <td>99979</td>\n",
       "      <td>leipzig</td>\n",
       "      <td>0 days 00:07:00</td>\n",
       "      <td>51.468822</td>\n",
       "      <td>11.290048</td>\n",
       "      <td>51.468547</td>\n",
       "      <td>11.289899</td>\n",
       "      <td>2019-05-25 10:58:00</td>\n",
       "      <td>2019-05-25 10:00:00</td>\n",
       "      <td>5</td>\n",
       "      <td>21</td>\n",
       "      <td>10</td>\n",
       "      <td>2019-05-25</td>\n",
       "      <td>1.0</td>\n",
       "      <td>76.539147</td>\n",
       "    </tr>\n",
       "    <tr>\n",
       "      <th>185323</th>\n",
       "      <td>99979</td>\n",
       "      <td>leipzig</td>\n",
       "      <td>0 days 01:16:00</td>\n",
       "      <td>51.468756</td>\n",
       "      <td>11.289723</td>\n",
       "      <td>51.469324</td>\n",
       "      <td>11.289366</td>\n",
       "      <td>2019-05-27 09:32:00</td>\n",
       "      <td>2019-05-27 09:00:00</td>\n",
       "      <td>0</td>\n",
       "      <td>22</td>\n",
       "      <td>9</td>\n",
       "      <td>2019-05-27</td>\n",
       "      <td>3.0</td>\n",
       "      <td>76.590965</td>\n",
       "    </tr>\n",
       "    <tr>\n",
       "      <th>185324</th>\n",
       "      <td>99979</td>\n",
       "      <td>leipzig</td>\n",
       "      <td>0 days 00:03:00</td>\n",
       "      <td>51.469044</td>\n",
       "      <td>11.289348</td>\n",
       "      <td>51.469093</td>\n",
       "      <td>11.289432</td>\n",
       "      <td>2019-05-27 11:02:00</td>\n",
       "      <td>2019-05-27 11:00:00</td>\n",
       "      <td>0</td>\n",
       "      <td>22</td>\n",
       "      <td>11</td>\n",
       "      <td>2019-05-27</td>\n",
       "      <td>1.0</td>\n",
       "      <td>76.586597</td>\n",
       "    </tr>\n",
       "    <tr>\n",
       "      <th>185325</th>\n",
       "      <td>99982</td>\n",
       "      <td>leipzig</td>\n",
       "      <td>0 days 01:44:00</td>\n",
       "      <td>51.341165</td>\n",
       "      <td>12.365045</td>\n",
       "      <td>51.341065</td>\n",
       "      <td>12.365005</td>\n",
       "      <td>2019-02-11 11:47:00</td>\n",
       "      <td>2019-02-11 11:00:00</td>\n",
       "      <td>0</td>\n",
       "      <td>7</td>\n",
       "      <td>11</td>\n",
       "      <td>2019-02-11</td>\n",
       "      <td>4.0</td>\n",
       "      <td>0.635997</td>\n",
       "    </tr>\n",
       "    <tr>\n",
       "      <th>185326</th>\n",
       "      <td>999999</td>\n",
       "      <td>leipzig</td>\n",
       "      <td>0 days 00:45:00</td>\n",
       "      <td>51.324615</td>\n",
       "      <td>12.336922</td>\n",
       "      <td>51.324649</td>\n",
       "      <td>12.338129</td>\n",
       "      <td>2019-03-22 11:35:00</td>\n",
       "      <td>2019-03-22 11:00:00</td>\n",
       "      <td>4</td>\n",
       "      <td>12</td>\n",
       "      <td>11</td>\n",
       "      <td>2019-03-22</td>\n",
       "      <td>2.0</td>\n",
       "      <td>3.147179</td>\n",
       "    </tr>\n",
       "  </tbody>\n",
       "</table>\n",
       "<p>185327 rows × 15 columns</p>\n",
       "</div>"
      ],
      "text/plain": [
       "        b_number     city   trip_duration   orig_lat   orig_lng   dest_lat  \\\n",
       "0          10900  leipzig 0 days 00:12:00  51.330271  12.341983  51.330347   \n",
       "1          10900  leipzig 0 days 00:08:00  51.330347  12.342159  51.330271   \n",
       "2          10900  leipzig 0 days 00:40:00  51.330267  12.342196  51.330236   \n",
       "3          10900  leipzig 0 days 00:03:00  51.330298  12.341811  51.330267   \n",
       "4          20000  leipzig 0 days 00:20:00  51.343107  12.376471  51.330422   \n",
       "...          ...      ...             ...        ...        ...        ...   \n",
       "185322     99979  leipzig 0 days 00:07:00  51.468822  11.290048  51.468547   \n",
       "185323     99979  leipzig 0 days 01:16:00  51.468756  11.289723  51.469324   \n",
       "185324     99979  leipzig 0 days 00:03:00  51.469044  11.289348  51.469093   \n",
       "185325     99982  leipzig 0 days 01:44:00  51.341165  12.365045  51.341065   \n",
       "185326    999999  leipzig 0 days 00:45:00  51.324615  12.336922  51.324649   \n",
       "\n",
       "         dest_lng           timestamp   timestamp_rounded  weekday  week  \\\n",
       "0       12.342159 2019-04-16 11:17:00 2019-04-16 11:00:00        1    16   \n",
       "1       12.342199 2019-04-16 11:35:00 2019-04-16 11:00:00        1    16   \n",
       "2       12.342012 2019-04-16 11:53:00 2019-04-16 11:00:00        1    16   \n",
       "3       12.341958 2019-04-16 14:35:00 2019-04-16 14:00:00        1    16   \n",
       "4       12.337838 2019-05-21 09:47:00 2019-05-21 09:00:00        1    21   \n",
       "...           ...                 ...                 ...      ...   ...   \n",
       "185322  11.289899 2019-05-25 10:58:00 2019-05-25 10:00:00        5    21   \n",
       "185323  11.289366 2019-05-27 09:32:00 2019-05-27 09:00:00        0    22   \n",
       "185324  11.289432 2019-05-27 11:02:00 2019-05-27 11:00:00        0    22   \n",
       "185325  12.365005 2019-02-11 11:47:00 2019-02-11 11:00:00        0     7   \n",
       "185326  12.338129 2019-03-22 11:35:00 2019-03-22 11:00:00        4    12   \n",
       "\n",
       "        Time        date  revenue  max_distance_center  \n",
       "0         11  2019-04-16      1.0             2.519655  \n",
       "1         11  2019-04-16      1.0             2.506386  \n",
       "2         11  2019-04-16      2.0             2.519708  \n",
       "3         14  2019-04-16      1.0             2.528907  \n",
       "4          9  2019-05-21      1.0             2.771228  \n",
       "...      ...         ...      ...                  ...  \n",
       "185322    10  2019-05-25      1.0            76.539147  \n",
       "185323     9  2019-05-27      3.0            76.590965  \n",
       "185324    11  2019-05-27      1.0            76.586597  \n",
       "185325    11  2019-02-11      4.0             0.635997  \n",
       "185326    11  2019-03-22      2.0             3.147179  \n",
       "\n",
       "[185327 rows x 15 columns]"
      ]
     },
     "execution_count": 140,
     "metadata": {},
     "output_type": "execute_result"
    }
   ],
   "source": [
    "max_distance_center = []\n",
    "\n",
    "for index, row in df.iterrows():\n",
    "    s = calculate_distance(lon1 = row[\"orig_lng\"],\n",
    "                       lat1 = row[\"orig_lat\"],\n",
    "                       lon2 = city[\"lng\"],\n",
    "                       lat2 = city[\"lat\"])\n",
    "    e = calculate_distance(lon1 = row[\"dest_lng\"], \n",
    "                           lat1 = row[\"dest_lat\"],\n",
    "                           lon2 = city[\"lng\"],\n",
    "                           lat2 = city[\"lat\"])\n",
    "    max_distance_center.append(max([s,e]))\n",
    "\n",
    "df[\"max_distance_center\"] = max_distance_center\n",
    "df"
   ]
  },
  {
   "cell_type": "code",
   "execution_count": 141,
   "metadata": {},
   "outputs": [
    {
     "data": {
      "image/png": "[encoded data removed]",
      "text/plain": [
       "<Figure size 720x432 with 1 Axes>"
      ]
     },
     "metadata": {
      "needs_background": "light"
     },
     "output_type": "display_data"
    }
   ],
   "source": [
    "df[\"max_distance_center\"] = df[\"max_distance_center\"].round()\n",
    "\n",
    "distances = df.groupby(\"max_distance_center\").agg(\n",
    "count = (\"b_number\",\"count\"))\n",
    "\n",
    "# Create a figure (empty work space)\n",
    "Fig_1 = plt.figure(figsize=(10,6))\n",
    "\n",
    "# Add axes to the figure\n",
    "ax_1 = Fig_1.add_axes([0.5, 0.5, 1, 1]) #The dimensions [left, bottom, width, height] of the axes\n",
    "\n",
    "x = distances.index\n",
    "y1 = distances[\"count\"]\n",
    "start_bars = ax_1.bar(x,y1,width = 1,alpha = 0.5)\n",
    "\n",
    "\n",
    "ax_1.set_xlabel('Amount') # Use set_ to start method\n",
    "ax_1.set_ylabel('Distance to City Centre')\n",
    "ax_1.set_title('Distribution of Start Location Distance to City Centre')\n",
    "\n",
    "plt.xlim([0,17])\n",
    "plt.show()"
   ]
  },
  {
   "cell_type": "code",
   "execution_count": 142,
   "metadata": {
    "scrolled": false
   },
   "outputs": [
    {
     "name": "stdout",
     "output_type": "stream",
     "text": [
      "24 have been filtered out due to being too far away from the city centre.\n"
     ]
    }
   ],
   "source": [
    "df_unrealistic = df[df[\"max_distance_center\"]>15]\n",
    "print(len(df_unrealistic.index),\"have been filtered out due to being too far away from the city centre.\")\n",
    "df = df[df[\"max_distance_center\"]<=15]"
   ]
  },
  {
   "cell_type": "code",
   "execution_count": 143,
   "metadata": {},
   "outputs": [
    {
     "data": {
      "text/plain": [
       "[<matplotlib.lines.Line2D at 0x23938e9d790>]"
      ]
     },
     "execution_count": 143,
     "metadata": {},
     "output_type": "execute_result"
    },
    {
     "data": {
      "image/png": "[encoded data removed]",
      "text/plain": [
       "<Figure size 432x288 with 1 Axes>"
      ]
     },
     "metadata": {
      "needs_background": "light"
     },
     "output_type": "display_data"
    }
   ],
   "source": [
    "operating_area = df.groupby(\"week\").agg(\n",
    "    distance = (\"max_distance_center\",\"max\"))\n",
    "plt.plot(operating_area)"
   ]
  },
  {
   "cell_type": "markdown",
   "metadata": {},
   "source": [
    "## Find out size of the fleet\n",
    "The idea is that a bike is recognized as part of the fleet if it has been rented in the last 7 days. So the size of the fleet is the amount of unique Bike IDs that have records for the last 7 days. We calculate this on a daily level to be precise yet not too intense to compute."
   ]
  },
  {
   "cell_type": "code",
   "execution_count": 144,
   "metadata": {
    "scrolled": false
   },
   "outputs": [],
   "source": [
    "factor = 7\n",
    "\n",
    "start_date = df.date.min()\n",
    "end_date = df.date.max()\n",
    "delta = pd.to_timedelta(\"1d\")\n",
    "\n",
    "dates = []\n",
    "while start_date <= end_date:\n",
    "    dates.append(start_date)\n",
    "    start_date += delta\n",
    "\n",
    "\n",
    "\n",
    "fleet_size = pd.DataFrame([], index = dates, columns = [\"search_array\",\"fleet_size\"]) \n",
    "\n",
    "search_array = []\n",
    "for index, row in fleet_size.iterrows():\n",
    "    search_array.append(index)\n",
    "    if len(search_array) > factor:\n",
    "        search_array.pop(0)\n",
    "    row['search_array'] = search_array[:] #This just helps see if everything goes as expected\n",
    "    row['fleet_size'] = df[df.date.isin(search_array[:])].b_number.nunique()\n",
    "    \n"
   ]
  },
  {
   "cell_type": "code",
   "execution_count": 145,
   "metadata": {},
   "outputs": [
    {
     "data": {
      "text/html": [
       "<div>\n",
       "<style scoped>\n",
       "    .dataframe tbody tr th:only-of-type {\n",
       "        vertical-align: middle;\n",
       "    }\n",
       "\n",
       "    .dataframe tbody tr th {\n",
       "        vertical-align: top;\n",
       "    }\n",
       "\n",
       "    .dataframe thead th {\n",
       "        text-align: right;\n",
       "    }\n",
       "</style>\n",
       "<table border=\"1\" class=\"dataframe\">\n",
       "  <thead>\n",
       "    <tr style=\"text-align: right;\">\n",
       "      <th></th>\n",
       "      <th>fleet_size</th>\n",
       "    </tr>\n",
       "  </thead>\n",
       "  <tbody>\n",
       "    <tr>\n",
       "      <th>2019-02-01</th>\n",
       "      <td>256</td>\n",
       "    </tr>\n",
       "    <tr>\n",
       "      <th>2019-02-02</th>\n",
       "      <td>329</td>\n",
       "    </tr>\n",
       "    <tr>\n",
       "      <th>2019-02-03</th>\n",
       "      <td>350</td>\n",
       "    </tr>\n",
       "    <tr>\n",
       "      <th>2019-02-04</th>\n",
       "      <td>390</td>\n",
       "    </tr>\n",
       "    <tr>\n",
       "      <th>2019-02-05</th>\n",
       "      <td>421</td>\n",
       "    </tr>\n",
       "    <tr>\n",
       "      <th>...</th>\n",
       "      <td>...</td>\n",
       "    </tr>\n",
       "    <tr>\n",
       "      <th>2019-06-26</th>\n",
       "      <td>785</td>\n",
       "    </tr>\n",
       "    <tr>\n",
       "      <th>2019-06-27</th>\n",
       "      <td>787</td>\n",
       "    </tr>\n",
       "    <tr>\n",
       "      <th>2019-06-28</th>\n",
       "      <td>789</td>\n",
       "    </tr>\n",
       "    <tr>\n",
       "      <th>2019-06-29</th>\n",
       "      <td>795</td>\n",
       "    </tr>\n",
       "    <tr>\n",
       "      <th>2019-06-30</th>\n",
       "      <td>790</td>\n",
       "    </tr>\n",
       "  </tbody>\n",
       "</table>\n",
       "<p>150 rows × 1 columns</p>\n",
       "</div>"
      ],
      "text/plain": [
       "           fleet_size\n",
       "2019-02-01        256\n",
       "2019-02-02        329\n",
       "2019-02-03        350\n",
       "2019-02-04        390\n",
       "2019-02-05        421\n",
       "...               ...\n",
       "2019-06-26        785\n",
       "2019-06-27        787\n",
       "2019-06-28        789\n",
       "2019-06-29        795\n",
       "2019-06-30        790\n",
       "\n",
       "[150 rows x 1 columns]"
      ]
     },
     "execution_count": 145,
     "metadata": {},
     "output_type": "execute_result"
    }
   ],
   "source": [
    "fleet_size.drop(columns=[\"search_array\"], inplace = True)\n",
    "fleet_size"
   ]
  },
  {
   "cell_type": "code",
   "execution_count": 146,
   "metadata": {
    "scrolled": false
   },
   "outputs": [
    {
     "data": {
      "text/plain": [
       "[<matplotlib.lines.Line2D at 0x23937a80040>]"
      ]
     },
     "execution_count": 146,
     "metadata": {},
     "output_type": "execute_result"
    },
    {
     "data": {
      "image/png": "[encoded data removed]",
      "text/plain": [
       "<Figure size 432x288 with 1 Axes>"
      ]
     },
     "metadata": {
      "needs_background": "light"
     },
     "output_type": "display_data"
    }
   ],
   "source": [
    "df_by_date = df.groupby(\"date\").agg(\n",
    "    revenue=('revenue', \"sum\"),\n",
    "    trips=(\"b_number\",\"count\"),\n",
    "    used_bikes=('b_number', pd.Series.nunique))\n",
    "\n",
    "df_by_date_merged = df_by_date.join(fleet_size) #this does not include the missing days\n",
    "df_by_date_merged[\"usage\"] = df_by_date_merged[\"used_bikes\"] / df_by_date_merged[\"fleet_size\"]\n",
    "df_by_date_merged = df_by_date_merged.rename(columns={\"trips\": \"daily_trips\",\"revenue\":\"daily_revenue\", \"used_bikes\":\"daily_used_bikes\"})\n",
    "df_by_date_merged = pd.merge( df_by_date_merged, date_info, left_index=True, right_index=True)\n",
    "\n",
    "df_by_date_merged = df_by_date_merged.drop(columns=[\"date\"])\n",
    "df_by_date_merged\n",
    "\n",
    "\n",
    "plt.plot(df_by_date.index,df_by_date_merged.daily_trips)"
   ]
  },
  {
   "cell_type": "code",
   "execution_count": 147,
   "metadata": {},
   "outputs": [
    {
     "data": {
      "text/plain": [
       "[<matplotlib.lines.Line2D at 0x23937baa1f0>]"
      ]
     },
     "execution_count": 147,
     "metadata": {},
     "output_type": "execute_result"
    },
    {
     "data": {
      "image/png": "[encoded data removed]",
      "text/plain": [
       "<Figure size 432x288 with 1 Axes>"
      ]
     },
     "metadata": {
      "needs_background": "light"
     },
     "output_type": "display_data"
    }
   ],
   "source": [
    "plt.plot(fleet_size.index,fleet_size.fleet_size)"
   ]
  },
  {
   "cell_type": "code",
   "execution_count": 148,
   "metadata": {
    "scrolled": false
   },
   "outputs": [
    {
     "data": {
      "text/html": [
       "<div>\n",
       "<style scoped>\n",
       "    .dataframe tbody tr th:only-of-type {\n",
       "        vertical-align: middle;\n",
       "    }\n",
       "\n",
       "    .dataframe tbody tr th {\n",
       "        vertical-align: top;\n",
       "    }\n",
       "\n",
       "    .dataframe thead th {\n",
       "        text-align: right;\n",
       "    }\n",
       "</style>\n",
       "<table border=\"1\" class=\"dataframe\">\n",
       "  <thead>\n",
       "    <tr style=\"text-align: right;\">\n",
       "      <th></th>\n",
       "      <th>revenue</th>\n",
       "      <th>trips</th>\n",
       "      <th>date</th>\n",
       "      <th>weekday</th>\n",
       "      <th>week</th>\n",
       "      <th>time</th>\n",
       "      <th>used_bikes</th>\n",
       "      <th>daily_revenue</th>\n",
       "      <th>daily_trips</th>\n",
       "      <th>daily_used_bikes</th>\n",
       "      <th>fleet_size</th>\n",
       "      <th>usage</th>\n",
       "      <th>day_classifier</th>\n",
       "      <th>vacations</th>\n",
       "      <th>holiday</th>\n",
       "      <th>relative_trips</th>\n",
       "    </tr>\n",
       "    <tr>\n",
       "      <th>timestamp_rounded</th>\n",
       "      <th></th>\n",
       "      <th></th>\n",
       "      <th></th>\n",
       "      <th></th>\n",
       "      <th></th>\n",
       "      <th></th>\n",
       "      <th></th>\n",
       "      <th></th>\n",
       "      <th></th>\n",
       "      <th></th>\n",
       "      <th></th>\n",
       "      <th></th>\n",
       "      <th></th>\n",
       "      <th></th>\n",
       "      <th></th>\n",
       "      <th></th>\n",
       "    </tr>\n",
       "  </thead>\n",
       "  <tbody>\n",
       "    <tr>\n",
       "      <th>2019-02-01 00:00:00</th>\n",
       "      <td>9.0</td>\n",
       "      <td>8</td>\n",
       "      <td>2019-02-01</td>\n",
       "      <td>4</td>\n",
       "      <td>5</td>\n",
       "      <td>0</td>\n",
       "      <td>8</td>\n",
       "      <td>785.0</td>\n",
       "      <td>659</td>\n",
       "      <td>256</td>\n",
       "      <td>256</td>\n",
       "      <td>0.03125</td>\n",
       "      <td>weekday</td>\n",
       "      <td>0</td>\n",
       "      <td>0</td>\n",
       "      <td>0.012140</td>\n",
       "    </tr>\n",
       "    <tr>\n",
       "      <th>2019-02-01 01:00:00</th>\n",
       "      <td>9.0</td>\n",
       "      <td>7</td>\n",
       "      <td>2019-02-01</td>\n",
       "      <td>4</td>\n",
       "      <td>5</td>\n",
       "      <td>1</td>\n",
       "      <td>7</td>\n",
       "      <td>785.0</td>\n",
       "      <td>659</td>\n",
       "      <td>256</td>\n",
       "      <td>256</td>\n",
       "      <td>0.0273438</td>\n",
       "      <td>weekday</td>\n",
       "      <td>0</td>\n",
       "      <td>0</td>\n",
       "      <td>0.010622</td>\n",
       "    </tr>\n",
       "    <tr>\n",
       "      <th>2019-02-01 02:00:00</th>\n",
       "      <td>7.0</td>\n",
       "      <td>2</td>\n",
       "      <td>2019-02-01</td>\n",
       "      <td>4</td>\n",
       "      <td>5</td>\n",
       "      <td>2</td>\n",
       "      <td>2</td>\n",
       "      <td>785.0</td>\n",
       "      <td>659</td>\n",
       "      <td>256</td>\n",
       "      <td>256</td>\n",
       "      <td>0.0078125</td>\n",
       "      <td>weekday</td>\n",
       "      <td>0</td>\n",
       "      <td>0</td>\n",
       "      <td>0.003035</td>\n",
       "    </tr>\n",
       "    <tr>\n",
       "      <th>2019-02-01 03:00:00</th>\n",
       "      <td>3.0</td>\n",
       "      <td>3</td>\n",
       "      <td>2019-02-01</td>\n",
       "      <td>4</td>\n",
       "      <td>5</td>\n",
       "      <td>3</td>\n",
       "      <td>3</td>\n",
       "      <td>785.0</td>\n",
       "      <td>659</td>\n",
       "      <td>256</td>\n",
       "      <td>256</td>\n",
       "      <td>0.0117188</td>\n",
       "      <td>weekday</td>\n",
       "      <td>0</td>\n",
       "      <td>0</td>\n",
       "      <td>0.004552</td>\n",
       "    </tr>\n",
       "    <tr>\n",
       "      <th>2019-02-01 04:00:00</th>\n",
       "      <td>9.0</td>\n",
       "      <td>8</td>\n",
       "      <td>2019-02-01</td>\n",
       "      <td>4</td>\n",
       "      <td>5</td>\n",
       "      <td>4</td>\n",
       "      <td>8</td>\n",
       "      <td>785.0</td>\n",
       "      <td>659</td>\n",
       "      <td>256</td>\n",
       "      <td>256</td>\n",
       "      <td>0.03125</td>\n",
       "      <td>weekday</td>\n",
       "      <td>0</td>\n",
       "      <td>0</td>\n",
       "      <td>0.012140</td>\n",
       "    </tr>\n",
       "    <tr>\n",
       "      <th>...</th>\n",
       "      <td>...</td>\n",
       "      <td>...</td>\n",
       "      <td>...</td>\n",
       "      <td>...</td>\n",
       "      <td>...</td>\n",
       "      <td>...</td>\n",
       "      <td>...</td>\n",
       "      <td>...</td>\n",
       "      <td>...</td>\n",
       "      <td>...</td>\n",
       "      <td>...</td>\n",
       "      <td>...</td>\n",
       "      <td>...</td>\n",
       "      <td>...</td>\n",
       "      <td>...</td>\n",
       "      <td>...</td>\n",
       "    </tr>\n",
       "    <tr>\n",
       "      <th>2019-06-30 19:00:00</th>\n",
       "      <td>112.0</td>\n",
       "      <td>90</td>\n",
       "      <td>2019-06-30</td>\n",
       "      <td>6</td>\n",
       "      <td>26</td>\n",
       "      <td>19</td>\n",
       "      <td>85</td>\n",
       "      <td>2174.0</td>\n",
       "      <td>1700</td>\n",
       "      <td>499</td>\n",
       "      <td>790</td>\n",
       "      <td>0.107595</td>\n",
       "      <td>weekend</td>\n",
       "      <td>0</td>\n",
       "      <td>0</td>\n",
       "      <td>0.052941</td>\n",
       "    </tr>\n",
       "    <tr>\n",
       "      <th>2019-06-30 20:00:00</th>\n",
       "      <td>104.0</td>\n",
       "      <td>87</td>\n",
       "      <td>2019-06-30</td>\n",
       "      <td>6</td>\n",
       "      <td>26</td>\n",
       "      <td>20</td>\n",
       "      <td>82</td>\n",
       "      <td>2174.0</td>\n",
       "      <td>1700</td>\n",
       "      <td>499</td>\n",
       "      <td>790</td>\n",
       "      <td>0.103797</td>\n",
       "      <td>weekend</td>\n",
       "      <td>0</td>\n",
       "      <td>0</td>\n",
       "      <td>0.051176</td>\n",
       "    </tr>\n",
       "    <tr>\n",
       "      <th>2019-06-30 21:00:00</th>\n",
       "      <td>82.0</td>\n",
       "      <td>66</td>\n",
       "      <td>2019-06-30</td>\n",
       "      <td>6</td>\n",
       "      <td>26</td>\n",
       "      <td>21</td>\n",
       "      <td>62</td>\n",
       "      <td>2174.0</td>\n",
       "      <td>1700</td>\n",
       "      <td>499</td>\n",
       "      <td>790</td>\n",
       "      <td>0.078481</td>\n",
       "      <td>weekend</td>\n",
       "      <td>0</td>\n",
       "      <td>0</td>\n",
       "      <td>0.038824</td>\n",
       "    </tr>\n",
       "    <tr>\n",
       "      <th>2019-06-30 22:00:00</th>\n",
       "      <td>36.0</td>\n",
       "      <td>35</td>\n",
       "      <td>2019-06-30</td>\n",
       "      <td>6</td>\n",
       "      <td>26</td>\n",
       "      <td>22</td>\n",
       "      <td>34</td>\n",
       "      <td>2174.0</td>\n",
       "      <td>1700</td>\n",
       "      <td>499</td>\n",
       "      <td>790</td>\n",
       "      <td>0.043038</td>\n",
       "      <td>weekend</td>\n",
       "      <td>0</td>\n",
       "      <td>0</td>\n",
       "      <td>0.020588</td>\n",
       "    </tr>\n",
       "    <tr>\n",
       "      <th>2019-06-30 23:00:00</th>\n",
       "      <td>20.0</td>\n",
       "      <td>20</td>\n",
       "      <td>2019-06-30</td>\n",
       "      <td>6</td>\n",
       "      <td>26</td>\n",
       "      <td>23</td>\n",
       "      <td>19</td>\n",
       "      <td>2174.0</td>\n",
       "      <td>1700</td>\n",
       "      <td>499</td>\n",
       "      <td>790</td>\n",
       "      <td>0.0240506</td>\n",
       "      <td>weekend</td>\n",
       "      <td>0</td>\n",
       "      <td>0</td>\n",
       "      <td>0.011765</td>\n",
       "    </tr>\n",
       "  </tbody>\n",
       "</table>\n",
       "<p>3490 rows × 16 columns</p>\n",
       "</div>"
      ],
      "text/plain": [
       "                     revenue  trips        date  weekday  week  time  \\\n",
       "timestamp_rounded                                                      \n",
       "2019-02-01 00:00:00      9.0      8  2019-02-01        4     5     0   \n",
       "2019-02-01 01:00:00      9.0      7  2019-02-01        4     5     1   \n",
       "2019-02-01 02:00:00      7.0      2  2019-02-01        4     5     2   \n",
       "2019-02-01 03:00:00      3.0      3  2019-02-01        4     5     3   \n",
       "2019-02-01 04:00:00      9.0      8  2019-02-01        4     5     4   \n",
       "...                      ...    ...         ...      ...   ...   ...   \n",
       "2019-06-30 19:00:00    112.0     90  2019-06-30        6    26    19   \n",
       "2019-06-30 20:00:00    104.0     87  2019-06-30        6    26    20   \n",
       "2019-06-30 21:00:00     82.0     66  2019-06-30        6    26    21   \n",
       "2019-06-30 22:00:00     36.0     35  2019-06-30        6    26    22   \n",
       "2019-06-30 23:00:00     20.0     20  2019-06-30        6    26    23   \n",
       "\n",
       "                     used_bikes  daily_revenue  daily_trips  daily_used_bikes  \\\n",
       "timestamp_rounded                                                               \n",
       "2019-02-01 00:00:00           8          785.0          659               256   \n",
       "2019-02-01 01:00:00           7          785.0          659               256   \n",
       "2019-02-01 02:00:00           2          785.0          659               256   \n",
       "2019-02-01 03:00:00           3          785.0          659               256   \n",
       "2019-02-01 04:00:00           8          785.0          659               256   \n",
       "...                         ...            ...          ...               ...   \n",
       "2019-06-30 19:00:00          85         2174.0         1700               499   \n",
       "2019-06-30 20:00:00          82         2174.0         1700               499   \n",
       "2019-06-30 21:00:00          62         2174.0         1700               499   \n",
       "2019-06-30 22:00:00          34         2174.0         1700               499   \n",
       "2019-06-30 23:00:00          19         2174.0         1700               499   \n",
       "\n",
       "                    fleet_size      usage day_classifier  vacations  holiday  \\\n",
       "timestamp_rounded                                                              \n",
       "2019-02-01 00:00:00        256    0.03125        weekday          0        0   \n",
       "2019-02-01 01:00:00        256  0.0273438        weekday          0        0   \n",
       "2019-02-01 02:00:00        256  0.0078125        weekday          0        0   \n",
       "2019-02-01 03:00:00        256  0.0117188        weekday          0        0   \n",
       "2019-02-01 04:00:00        256    0.03125        weekday          0        0   \n",
       "...                        ...        ...            ...        ...      ...   \n",
       "2019-06-30 19:00:00        790   0.107595        weekend          0        0   \n",
       "2019-06-30 20:00:00        790   0.103797        weekend          0        0   \n",
       "2019-06-30 21:00:00        790   0.078481        weekend          0        0   \n",
       "2019-06-30 22:00:00        790   0.043038        weekend          0        0   \n",
       "2019-06-30 23:00:00        790  0.0240506        weekend          0        0   \n",
       "\n",
       "                     relative_trips  \n",
       "timestamp_rounded                    \n",
       "2019-02-01 00:00:00        0.012140  \n",
       "2019-02-01 01:00:00        0.010622  \n",
       "2019-02-01 02:00:00        0.003035  \n",
       "2019-02-01 03:00:00        0.004552  \n",
       "2019-02-01 04:00:00        0.012140  \n",
       "...                             ...  \n",
       "2019-06-30 19:00:00        0.052941  \n",
       "2019-06-30 20:00:00        0.051176  \n",
       "2019-06-30 21:00:00        0.038824  \n",
       "2019-06-30 22:00:00        0.020588  \n",
       "2019-06-30 23:00:00        0.011765  \n",
       "\n",
       "[3490 rows x 16 columns]"
      ]
     },
     "execution_count": 148,
     "metadata": {},
     "output_type": "execute_result"
    }
   ],
   "source": [
    "df_by_hour = df.groupby(\"timestamp_rounded\").agg(\n",
    "    revenue=('revenue', \"sum\"),\n",
    "    trips=(\"b_number\",\"count\"),\n",
    "    date=(\"date\",\"min\"),\n",
    "    weekday=(\"weekday\",\"min\"),\n",
    "    week = (\"week\",\"min\"),\n",
    "    time = (\"Time\",\"min\"),\n",
    "    used_bikes=('b_number', pd.Series.nunique))\n",
    "\n",
    "\n",
    "df_by_hour_merged = pd.merge(df_by_hour, df_by_date_merged, right_index=True, left_on='date')\n",
    "\n",
    "\n",
    "df_by_hour_merged[\"usage\"] = df_by_hour_merged[\"used_bikes\"] / df_by_hour_merged[\"fleet_size\"]\n",
    "df_by_hour_merged[\"relative_trips\"] = df_by_hour_merged[\"trips\"] / df_by_hour_merged[\"daily_trips\"]\n",
    "\n",
    "\n",
    "\n",
    "df_by_hour_merged"
   ]
  },
  {
   "cell_type": "markdown",
   "metadata": {},
   "source": [
    "# Task 2"
   ]
  },
  {
   "cell_type": "code",
   "execution_count": 149,
   "metadata": {},
   "outputs": [
    {
     "data": {
      "text/plain": [
       "<matplotlib.axes._axes.Axes at 0x2393029c820>"
      ]
     },
     "execution_count": 149,
     "metadata": {},
     "output_type": "execute_result"
    },
    {
     "data": {
      "image/png": "[encoded data removed]",
      "text/plain": [
       "<Figure size 1152x432 with 1 Axes>"
      ]
     },
     "metadata": {
      "needs_background": "light"
     },
     "output_type": "display_data"
    }
   ],
   "source": [
    "daily_trend = df_by_hour_merged[[\"time\",\"day_classifier\",\"relative_trips\"]]\n",
    "\n",
    "# Create a figure (empty work space)\n",
    "Fig_1 = plt.figure(figsize=(16,6))\n",
    "\n",
    "# Add axes to the figure\n",
    "ax_1 = Fig_1.add_axes([0.5, 0.5, 1, 1]) #The dimensions [left, bottom, width, height] of the axes\n",
    "\n",
    "\n",
    "sns.boxplot(ax = ax_1,\n",
    "                 data=daily_trend, \n",
    "                 x=\"time\", \n",
    "                 y=\"relative_trips\", \n",
    "                 hue='day_classifier', \n",
    "                 palette=\"Set3\")\n"
   ]
  },
  {
   "cell_type": "code",
   "execution_count": 150,
   "metadata": {},
   "outputs": [
    {
     "data": {
      "text/html": [
       "<div>\n",
       "<style scoped>\n",
       "    .dataframe tbody tr th:only-of-type {\n",
       "        vertical-align: middle;\n",
       "    }\n",
       "\n",
       "    .dataframe tbody tr th {\n",
       "        vertical-align: top;\n",
       "    }\n",
       "\n",
       "    .dataframe thead th {\n",
       "        text-align: right;\n",
       "    }\n",
       "</style>\n",
       "<table border=\"1\" class=\"dataframe\">\n",
       "  <thead>\n",
       "    <tr style=\"text-align: right;\">\n",
       "      <th></th>\n",
       "      <th>daily_revenue</th>\n",
       "      <th>daily_trips</th>\n",
       "      <th>daily_used_bikes</th>\n",
       "      <th>fleet_size</th>\n",
       "      <th>usage</th>\n",
       "      <th>day_classifier</th>\n",
       "      <th>vacations</th>\n",
       "      <th>holiday</th>\n",
       "    </tr>\n",
       "    <tr>\n",
       "      <th>date</th>\n",
       "      <th></th>\n",
       "      <th></th>\n",
       "      <th></th>\n",
       "      <th></th>\n",
       "      <th></th>\n",
       "      <th></th>\n",
       "      <th></th>\n",
       "      <th></th>\n",
       "    </tr>\n",
       "  </thead>\n",
       "  <tbody>\n",
       "    <tr>\n",
       "      <th>2019-02-01</th>\n",
       "      <td>785.0</td>\n",
       "      <td>659</td>\n",
       "      <td>256</td>\n",
       "      <td>256</td>\n",
       "      <td>1</td>\n",
       "      <td>weekday</td>\n",
       "      <td>0</td>\n",
       "      <td>0</td>\n",
       "    </tr>\n",
       "    <tr>\n",
       "      <th>2019-02-02</th>\n",
       "      <td>664.0</td>\n",
       "      <td>526</td>\n",
       "      <td>241</td>\n",
       "      <td>329</td>\n",
       "      <td>0.732523</td>\n",
       "      <td>weekend</td>\n",
       "      <td>0</td>\n",
       "      <td>0</td>\n",
       "    </tr>\n",
       "    <tr>\n",
       "      <th>2019-02-03</th>\n",
       "      <td>352.0</td>\n",
       "      <td>285</td>\n",
       "      <td>162</td>\n",
       "      <td>350</td>\n",
       "      <td>0.462857</td>\n",
       "      <td>weekend</td>\n",
       "      <td>0</td>\n",
       "      <td>0</td>\n",
       "    </tr>\n",
       "    <tr>\n",
       "      <th>2019-02-04</th>\n",
       "      <td>623.0</td>\n",
       "      <td>499</td>\n",
       "      <td>237</td>\n",
       "      <td>390</td>\n",
       "      <td>0.607692</td>\n",
       "      <td>weekday</td>\n",
       "      <td>0</td>\n",
       "      <td>0</td>\n",
       "    </tr>\n",
       "    <tr>\n",
       "      <th>2019-02-05</th>\n",
       "      <td>654.0</td>\n",
       "      <td>573</td>\n",
       "      <td>251</td>\n",
       "      <td>421</td>\n",
       "      <td>0.5962</td>\n",
       "      <td>weekday</td>\n",
       "      <td>0</td>\n",
       "      <td>0</td>\n",
       "    </tr>\n",
       "  </tbody>\n",
       "</table>\n",
       "</div>"
      ],
      "text/plain": [
       "            daily_revenue  daily_trips  daily_used_bikes fleet_size     usage  \\\n",
       "date                                                                            \n",
       "2019-02-01          785.0          659               256        256         1   \n",
       "2019-02-02          664.0          526               241        329  0.732523   \n",
       "2019-02-03          352.0          285               162        350  0.462857   \n",
       "2019-02-04          623.0          499               237        390  0.607692   \n",
       "2019-02-05          654.0          573               251        421    0.5962   \n",
       "\n",
       "           day_classifier  vacations  holiday  \n",
       "date                                           \n",
       "2019-02-01        weekday          0        0  \n",
       "2019-02-02        weekend          0        0  \n",
       "2019-02-03        weekend          0        0  \n",
       "2019-02-04        weekday          0        0  \n",
       "2019-02-05        weekday          0        0  "
      ]
     },
     "execution_count": 150,
     "metadata": {},
     "output_type": "execute_result"
    }
   ],
   "source": [
    "df_by_date_merged.head()"
   ]
  },
  {
   "cell_type": "markdown",
   "metadata": {},
   "source": [
    "____"
   ]
  },
  {
   "cell_type": "markdown",
   "metadata": {},
   "source": [
    "# Predictive Analytics"
   ]
  },
  {
   "cell_type": "code",
   "execution_count": 228,
   "metadata": {},
   "outputs": [],
   "source": [
    "#Calculating the best Raster Point that is closest to the city center\n",
    "testset_weather = pd.read_csv(\"./weather-data/dwd-raster/target/ra190201_target.csv\") \n",
    "\n",
    "distances_center = []\n",
    "for index, row in testset_weather.iterrows():\n",
    "        d = {\n",
    "            \"LON\": row[\"LON\"],\n",
    "            \"LAT\": row[\"LAT\"],\n",
    "            \"ID\": row[\"ID\"],\n",
    "            \"distance\": calculate_distance(row[\"LON\"], row[\"LAT\"], leipzig[\"lng\"], leipzig[\"lat\"])\n",
    "        } \n",
    "        distances_center.append(d)\n",
    "distances_center = pd.DataFrame(distances_center)\n",
    "\n",
    "raster_id = distances_center.iloc[distances_center[\"distance\"].idxmin()][\"ID\"]"
   ]
  },
  {
   "cell_type": "code",
   "execution_count": 229,
   "metadata": {},
   "outputs": [
    {
     "name": "stderr",
     "output_type": "stream",
     "text": [
      "C:\\Users\\Install\\anaconda3\\lib\\site-packages\\pandas\\core\\frame.py:4163: SettingWithCopyWarning: \n",
      "A value is trying to be set on a copy of a slice from a DataFrame\n",
      "\n",
      "See the caveats in the documentation: https://pandas.pydata.org/pandas-docs/stable/user_guide/indexing.html#returning-a-view-versus-a-copy\n",
      "  return super().drop(\n"
     ]
    }
   ],
   "source": [
    "#Read in CDC Raster Data from single files and Filter for the calculated point\n",
    "import os\n",
    "\n",
    "path = './weather-data/dwd-raster/target/'\n",
    "rain_data_all = pd.concat((pd.read_csv(path+filename) for filename in os.listdir(path)))\n",
    "\n",
    "rain_data = rain_data_all[rain_data_all[\"ID\"] == raster_id]\n",
    "rain_data.index = dates #indexing\n",
    "rain_data.drop(columns=[\"ID\"],inplace=True) "
   ]
  },
  {
   "cell_type": "code",
   "execution_count": 230,
   "metadata": {},
   "outputs": [
    {
     "data": {
      "text/plain": [
       "tsun    0\n",
       "pres    0\n",
       "wspd    0\n",
       "snow    0\n",
       "prcp    0\n",
       "tmax    0\n",
       "tmin    0\n",
       "tavg    0\n",
       "dtype: int64"
      ]
     },
     "execution_count": 230,
     "metadata": {},
     "output_type": "execute_result"
    }
   ],
   "source": [
    "#Meteostat Data read-in\n",
    "meteostat_leipzig = pd.read_csv(\"./weather-data/meteostat-leipzig.csv\") \n",
    "meteostat_leipzig.index = dates\n",
    "meteostat_leipzig.drop(columns=[\"wpgt\",\"wdir\",\"date\"],inplace=True)\n",
    "\n",
    "meteostat_leipzig.isnull().sum().sort_values(ascending=False)\n",
    "\n",
    "#plt.plot(rain_data.index,rain_data.VAL)\n",
    "#plt.plot(meteostat_leipzig.index,meteostat_leipzig.prcp)"
   ]
  },
  {
   "cell_type": "code",
   "execution_count": 231,
   "metadata": {},
   "outputs": [],
   "source": [
    "from sklearn.model_selection import train_test_split\n",
    "from sklearn.linear_model import LinearRegression\n",
    "from sklearn.metrics import mean_squared_error, mean_absolute_error, r2_score"
   ]
  },
  {
   "cell_type": "code",
   "execution_count": 232,
   "metadata": {},
   "outputs": [
    {
     "data": {
      "text/html": [
       "<div>\n",
       "<style scoped>\n",
       "    .dataframe tbody tr th:only-of-type {\n",
       "        vertical-align: middle;\n",
       "    }\n",
       "\n",
       "    .dataframe tbody tr th {\n",
       "        vertical-align: top;\n",
       "    }\n",
       "\n",
       "    .dataframe thead th {\n",
       "        text-align: right;\n",
       "    }\n",
       "</style>\n",
       "<table border=\"1\" class=\"dataframe\">\n",
       "  <thead>\n",
       "    <tr style=\"text-align: right;\">\n",
       "      <th></th>\n",
       "      <th>daily_trips</th>\n",
       "      <th>fleet_size</th>\n",
       "      <th>vacations</th>\n",
       "      <th>holiday</th>\n",
       "      <th>weekday_dummy</th>\n",
       "      <th>tavg</th>\n",
       "      <th>tmin</th>\n",
       "      <th>tmax</th>\n",
       "      <th>prcp</th>\n",
       "      <th>snow</th>\n",
       "      <th>wspd</th>\n",
       "      <th>pres</th>\n",
       "      <th>tsun</th>\n",
       "    </tr>\n",
       "    <tr>\n",
       "      <th>date</th>\n",
       "      <th></th>\n",
       "      <th></th>\n",
       "      <th></th>\n",
       "      <th></th>\n",
       "      <th></th>\n",
       "      <th></th>\n",
       "      <th></th>\n",
       "      <th></th>\n",
       "      <th></th>\n",
       "      <th></th>\n",
       "      <th></th>\n",
       "      <th></th>\n",
       "      <th></th>\n",
       "    </tr>\n",
       "  </thead>\n",
       "  <tbody>\n",
       "    <tr>\n",
       "      <th>2019-02-01</th>\n",
       "      <td>659</td>\n",
       "      <td>256</td>\n",
       "      <td>0</td>\n",
       "      <td>0</td>\n",
       "      <td>1</td>\n",
       "      <td>0.7</td>\n",
       "      <td>-2.3</td>\n",
       "      <td>3.3</td>\n",
       "      <td>0.0</td>\n",
       "      <td>0</td>\n",
       "      <td>6</td>\n",
       "      <td>995.2</td>\n",
       "      <td>0</td>\n",
       "    </tr>\n",
       "    <tr>\n",
       "      <th>2019-02-02</th>\n",
       "      <td>526</td>\n",
       "      <td>329</td>\n",
       "      <td>0</td>\n",
       "      <td>0</td>\n",
       "      <td>0</td>\n",
       "      <td>1.2</td>\n",
       "      <td>0.7</td>\n",
       "      <td>1.6</td>\n",
       "      <td>0.0</td>\n",
       "      <td>0</td>\n",
       "      <td>5</td>\n",
       "      <td>997.3</td>\n",
       "      <td>0</td>\n",
       "    </tr>\n",
       "    <tr>\n",
       "      <th>2019-02-03</th>\n",
       "      <td>285</td>\n",
       "      <td>350</td>\n",
       "      <td>0</td>\n",
       "      <td>0</td>\n",
       "      <td>0</td>\n",
       "      <td>0.7</td>\n",
       "      <td>0.2</td>\n",
       "      <td>1.1</td>\n",
       "      <td>4.7</td>\n",
       "      <td>30</td>\n",
       "      <td>11</td>\n",
       "      <td>1013.9</td>\n",
       "      <td>0</td>\n",
       "    </tr>\n",
       "    <tr>\n",
       "      <th>2019-02-04</th>\n",
       "      <td>499</td>\n",
       "      <td>390</td>\n",
       "      <td>0</td>\n",
       "      <td>0</td>\n",
       "      <td>1</td>\n",
       "      <td>0.8</td>\n",
       "      <td>-1.6</td>\n",
       "      <td>4.7</td>\n",
       "      <td>0.0</td>\n",
       "      <td>30</td>\n",
       "      <td>9</td>\n",
       "      <td>1028.2</td>\n",
       "      <td>470</td>\n",
       "    </tr>\n",
       "    <tr>\n",
       "      <th>2019-02-05</th>\n",
       "      <td>573</td>\n",
       "      <td>421</td>\n",
       "      <td>0</td>\n",
       "      <td>0</td>\n",
       "      <td>1</td>\n",
       "      <td>1.4</td>\n",
       "      <td>-0.5</td>\n",
       "      <td>3.8</td>\n",
       "      <td>0.0</td>\n",
       "      <td>20</td>\n",
       "      <td>9</td>\n",
       "      <td>1027.9</td>\n",
       "      <td>2</td>\n",
       "    </tr>\n",
       "    <tr>\n",
       "      <th>...</th>\n",
       "      <td>...</td>\n",
       "      <td>...</td>\n",
       "      <td>...</td>\n",
       "      <td>...</td>\n",
       "      <td>...</td>\n",
       "      <td>...</td>\n",
       "      <td>...</td>\n",
       "      <td>...</td>\n",
       "      <td>...</td>\n",
       "      <td>...</td>\n",
       "      <td>...</td>\n",
       "      <td>...</td>\n",
       "      <td>...</td>\n",
       "    </tr>\n",
       "    <tr>\n",
       "      <th>2019-06-26</th>\n",
       "      <td>2552</td>\n",
       "      <td>785</td>\n",
       "      <td>0</td>\n",
       "      <td>0</td>\n",
       "      <td>1</td>\n",
       "      <td>29.4</td>\n",
       "      <td>21.5</td>\n",
       "      <td>36.6</td>\n",
       "      <td>0.0</td>\n",
       "      <td>0</td>\n",
       "      <td>14</td>\n",
       "      <td>1020.1</td>\n",
       "      <td>750</td>\n",
       "    </tr>\n",
       "    <tr>\n",
       "      <th>2019-06-27</th>\n",
       "      <td>2555</td>\n",
       "      <td>787</td>\n",
       "      <td>0</td>\n",
       "      <td>0</td>\n",
       "      <td>1</td>\n",
       "      <td>20.5</td>\n",
       "      <td>15.3</td>\n",
       "      <td>26.2</td>\n",
       "      <td>0.0</td>\n",
       "      <td>0</td>\n",
       "      <td>17</td>\n",
       "      <td>1023.9</td>\n",
       "      <td>768</td>\n",
       "    </tr>\n",
       "    <tr>\n",
       "      <th>2019-06-28</th>\n",
       "      <td>2857</td>\n",
       "      <td>789</td>\n",
       "      <td>0</td>\n",
       "      <td>0</td>\n",
       "      <td>1</td>\n",
       "      <td>18.2</td>\n",
       "      <td>13.5</td>\n",
       "      <td>24.0</td>\n",
       "      <td>0.0</td>\n",
       "      <td>0</td>\n",
       "      <td>7</td>\n",
       "      <td>1024.5</td>\n",
       "      <td>513</td>\n",
       "    </tr>\n",
       "    <tr>\n",
       "      <th>2019-06-29</th>\n",
       "      <td>2780</td>\n",
       "      <td>795</td>\n",
       "      <td>0</td>\n",
       "      <td>0</td>\n",
       "      <td>0</td>\n",
       "      <td>21.3</td>\n",
       "      <td>10.7</td>\n",
       "      <td>30.4</td>\n",
       "      <td>0.0</td>\n",
       "      <td>0</td>\n",
       "      <td>4</td>\n",
       "      <td>1021.0</td>\n",
       "      <td>779</td>\n",
       "    </tr>\n",
       "    <tr>\n",
       "      <th>2019-06-30</th>\n",
       "      <td>1700</td>\n",
       "      <td>790</td>\n",
       "      <td>0</td>\n",
       "      <td>0</td>\n",
       "      <td>0</td>\n",
       "      <td>28.0</td>\n",
       "      <td>16.7</td>\n",
       "      <td>38.0</td>\n",
       "      <td>0.0</td>\n",
       "      <td>0</td>\n",
       "      <td>9</td>\n",
       "      <td>1013.5</td>\n",
       "      <td>768</td>\n",
       "    </tr>\n",
       "  </tbody>\n",
       "</table>\n",
       "<p>147 rows × 13 columns</p>\n",
       "</div>"
      ],
      "text/plain": [
       "            daily_trips fleet_size  vacations  holiday  weekday_dummy  tavg  \\\n",
       "date                                                                          \n",
       "2019-02-01          659        256          0        0              1   0.7   \n",
       "2019-02-02          526        329          0        0              0   1.2   \n",
       "2019-02-03          285        350          0        0              0   0.7   \n",
       "2019-02-04          499        390          0        0              1   0.8   \n",
       "2019-02-05          573        421          0        0              1   1.4   \n",
       "...                 ...        ...        ...      ...            ...   ...   \n",
       "2019-06-26         2552        785          0        0              1  29.4   \n",
       "2019-06-27         2555        787          0        0              1  20.5   \n",
       "2019-06-28         2857        789          0        0              1  18.2   \n",
       "2019-06-29         2780        795          0        0              0  21.3   \n",
       "2019-06-30         1700        790          0        0              0  28.0   \n",
       "\n",
       "            tmin  tmax  prcp  snow  wspd    pres  tsun  \n",
       "date                                                    \n",
       "2019-02-01  -2.3   3.3   0.0     0     6   995.2     0  \n",
       "2019-02-02   0.7   1.6   0.0     0     5   997.3     0  \n",
       "2019-02-03   0.2   1.1   4.7    30    11  1013.9     0  \n",
       "2019-02-04  -1.6   4.7   0.0    30     9  1028.2   470  \n",
       "2019-02-05  -0.5   3.8   0.0    20     9  1027.9     2  \n",
       "...          ...   ...   ...   ...   ...     ...   ...  \n",
       "2019-06-26  21.5  36.6   0.0     0    14  1020.1   750  \n",
       "2019-06-27  15.3  26.2   0.0     0    17  1023.9   768  \n",
       "2019-06-28  13.5  24.0   0.0     0     7  1024.5   513  \n",
       "2019-06-29  10.7  30.4   0.0     0     4  1021.0   779  \n",
       "2019-06-30  16.7  38.0   0.0     0     9  1013.5   768  \n",
       "\n",
       "[147 rows x 13 columns]"
      ]
     },
     "execution_count": 232,
     "metadata": {},
     "output_type": "execute_result"
    }
   ],
   "source": [
    "df_predictive = df_by_date_merged\n",
    "df_predictive[\"weekday_dummy\"] = df_predictive[\"day_classifier\"].isin([\"weekday\"]).astype(int)\n",
    "df_predictive = df_predictive.join(meteostat_leipzig)\n",
    "df_predictive = df_predictive.drop(columns={\"day_classifier\",\"usage\",\"daily_revenue\",\"daily_used_bikes\"})\n",
    "df_predictive"
   ]
  },
  {
   "cell_type": "markdown",
   "metadata": {},
   "source": [
    "## Arima Model?"
   ]
  },
  {
   "cell_type": "code",
   "execution_count": 234,
   "metadata": {},
   "outputs": [],
   "source": [
    "import numpy as np                               # vectors and matrices\n",
    "import pandas as pd                              # tables and data manipulations\n",
    "import matplotlib.pyplot as plt                  # plots\n",
    "import seaborn as sns                            # more plots\n",
    "\n",
    "from dateutil.relativedelta import relativedelta # working with dates with style\n",
    "from scipy.optimize import minimize              # for function minimization\n",
    "\n",
    "import statsmodels.formula.api as smf            # statistics and econometrics\n",
    "import statsmodels.tsa.api as smt\n",
    "import statsmodels.api as sm\n",
    "import scipy.stats as scs\n",
    "\n",
    "from itertools import product                    # some useful functions\n",
    "from tqdm import tqdm_notebook\n",
    "\n",
    "from statsmodels.tsa.seasonal import seasonal_decompose \n",
    "\n",
    "%matplotlib inline"
   ]
  },
  {
   "cell_type": "code",
   "execution_count": 235,
   "metadata": {},
   "outputs": [],
   "source": [
    "#df_predictive zu einem df machen nur mit Datum Spalte und daily_trips!?\n",
    "#df_predictivenew = df_predictive[['daily_trips']]\n",
    "##new = old[['A', 'C', 'D']].copy()"
   ]
  },
  {
   "cell_type": "code",
   "execution_count": 236,
   "metadata": {},
   "outputs": [
    {
     "data": {
      "image/png": "[encoded data removed]",
      "text/plain": [
       "<Figure size 1080x504 with 1 Axes>"
      ]
     },
     "metadata": {
      "needs_background": "light"
     },
     "output_type": "display_data"
    }
   ],
   "source": [
    "plt.figure(figsize=(15, 7))\n",
    "plt.plot(df_predictive['daily_trips'])\n",
    "plt.title('Daily Trips (February 2019 to July 2019)')\n",
    "plt.grid(True)\n",
    "plt.show()"
   ]
  },
  {
   "cell_type": "code",
   "execution_count": 237,
   "metadata": {},
   "outputs": [
    {
     "data": {
      "text/html": [
       "<div>\n",
       "<style scoped>\n",
       "    .dataframe tbody tr th:only-of-type {\n",
       "        vertical-align: middle;\n",
       "    }\n",
       "\n",
       "    .dataframe tbody tr th {\n",
       "        vertical-align: top;\n",
       "    }\n",
       "\n",
       "    .dataframe thead th {\n",
       "        text-align: right;\n",
       "    }\n",
       "</style>\n",
       "<table border=\"1\" class=\"dataframe\">\n",
       "  <thead>\n",
       "    <tr style=\"text-align: right;\">\n",
       "      <th></th>\n",
       "      <th>date</th>\n",
       "      <th>daily_trips</th>\n",
       "    </tr>\n",
       "  </thead>\n",
       "  <tbody>\n",
       "    <tr>\n",
       "      <th>0</th>\n",
       "      <td>2019-02-01</td>\n",
       "      <td>659</td>\n",
       "    </tr>\n",
       "    <tr>\n",
       "      <th>1</th>\n",
       "      <td>2019-02-02</td>\n",
       "      <td>526</td>\n",
       "    </tr>\n",
       "    <tr>\n",
       "      <th>2</th>\n",
       "      <td>2019-02-03</td>\n",
       "      <td>285</td>\n",
       "    </tr>\n",
       "    <tr>\n",
       "      <th>3</th>\n",
       "      <td>2019-02-04</td>\n",
       "      <td>499</td>\n",
       "    </tr>\n",
       "    <tr>\n",
       "      <th>4</th>\n",
       "      <td>2019-02-05</td>\n",
       "      <td>573</td>\n",
       "    </tr>\n",
       "    <tr>\n",
       "      <th>...</th>\n",
       "      <td>...</td>\n",
       "      <td>...</td>\n",
       "    </tr>\n",
       "    <tr>\n",
       "      <th>142</th>\n",
       "      <td>2019-06-26</td>\n",
       "      <td>2552</td>\n",
       "    </tr>\n",
       "    <tr>\n",
       "      <th>143</th>\n",
       "      <td>2019-06-27</td>\n",
       "      <td>2555</td>\n",
       "    </tr>\n",
       "    <tr>\n",
       "      <th>144</th>\n",
       "      <td>2019-06-28</td>\n",
       "      <td>2857</td>\n",
       "    </tr>\n",
       "    <tr>\n",
       "      <th>145</th>\n",
       "      <td>2019-06-29</td>\n",
       "      <td>2780</td>\n",
       "    </tr>\n",
       "    <tr>\n",
       "      <th>146</th>\n",
       "      <td>2019-06-30</td>\n",
       "      <td>1700</td>\n",
       "    </tr>\n",
       "  </tbody>\n",
       "</table>\n",
       "<p>147 rows × 2 columns</p>\n",
       "</div>"
      ],
      "text/plain": [
       "           date  daily_trips\n",
       "0    2019-02-01          659\n",
       "1    2019-02-02          526\n",
       "2    2019-02-03          285\n",
       "3    2019-02-04          499\n",
       "4    2019-02-05          573\n",
       "..          ...          ...\n",
       "142  2019-06-26         2552\n",
       "143  2019-06-27         2555\n",
       "144  2019-06-28         2857\n",
       "145  2019-06-29         2780\n",
       "146  2019-06-30         1700\n",
       "\n",
       "[147 rows x 2 columns]"
      ]
     },
     "execution_count": 237,
     "metadata": {},
     "output_type": "execute_result"
    }
   ],
   "source": [
    "daily_trips = df_predictive[\"daily_trips\"]\n",
    "daily_trips = daily_trips.rename_axis('date').reset_index()\n",
    "daily_trips"
   ]
  },
  {
   "cell_type": "markdown",
   "metadata": {},
   "source": [
    "## Check Stationarity of Time Series"
   ]
  },
  {
   "cell_type": "code",
   "execution_count": 238,
   "metadata": {},
   "outputs": [],
   "source": [
    "# Stationarity is defined using very strict criterion. \n",
    "# We can assume the series to be stationary if it has constant statisticak properties ove time, ie. the following:\n",
    "# constant mean, constant variance, an autovatiance that does not depend on them"
   ]
  },
  {
   "cell_type": "code",
   "execution_count": 271,
   "metadata": {},
   "outputs": [
    {
     "data": {
      "text/plain": [
       "[<matplotlib.lines.Line2D at 0x23937baa0d0>]"
      ]
     },
     "execution_count": 271,
     "metadata": {},
     "output_type": "execute_result"
    },
    {
     "data": {
      "image/png": "[encoded data removed]",
      "text/plain": [
       "<Figure size 432x288 with 1 Axes>"
      ]
     },
     "metadata": {
      "needs_background": "light"
     },
     "output_type": "display_data"
    }
   ],
   "source": [
    "plt.plot(df_predictive['daily_trips']) #First plot the data and analyze visually"
   ]
  },
  {
   "cell_type": "markdown",
   "metadata": {},
   "source": [
    "### It is clearly evident that there is an overall increasing trend in data along with some seasonal variations. Now, we can check the stationarity using 1) Plotting Rolling Statistics or 2) Dickey-Fuller Test\n",
    "####  we’ll be using the rolling statistics plots along with Dickey-Fuller test results a lot so we have defined a function which takes a TS as input and generated them for us. We’ve plotted standard deviation instead of variance to keep the unit similar to mean"
   ]
  },
  {
   "cell_type": "code",
   "execution_count": 162,
   "metadata": {},
   "outputs": [],
   "source": [
    "from statsmodels.tsa.stattools import adfuller\n",
    "\n",
    "def test_stationarity(timeseries):\n",
    "    \n",
    "    #Determing rolling statistics\n",
    "    rolmean = timeseries.rolling(window=12).mean()\n",
    "    rolstd = timeseries.rolling(window=12).std()\n",
    "\n",
    "    #Plot rolling statistics:\n",
    "    orig = plt.plot(timeseries, color='blue',label='Original')\n",
    "    mean = plt.plot(rolmean, color='red', label='Rolling Mean')\n",
    "    std = plt.plot(rolstd, color='black', label = 'Rolling Std')\n",
    "    plt.legend(loc='best')\n",
    "    plt.title('Rolling Mean & Standard Deviation')\n",
    "    plt.show(block=False)\n",
    "    \n",
    "    #Perform Dickey-Fuller test:\n",
    "    print('Results of Dickey-Fuller Test:\\n')\n",
    "    dftest = adfuller(timeseries)\n",
    "    dfoutput = pd.Series(dftest[0:4], index=['Test Statistic','p-value','#Lags Used','Number of Observations Used'])\n",
    "    for key,value in dftest[4].items():\n",
    "        dfoutput['Critical Value (%s)'%key] = value\n",
    "    print(dfoutput)"
   ]
  },
  {
   "cell_type": "code",
   "execution_count": 272,
   "metadata": {},
   "outputs": [
    {
     "data": {
      "text/plain": [
       "(1.1952351044306413,\n",
       " 0.9959527963529755,\n",
       " 13,\n",
       " 133,\n",
       " {'1%': -3.480500383888377,\n",
       "  '5%': -2.8835279559405045,\n",
       "  '10%': -2.578495716547007},\n",
       " 1835.8934129365537)"
      ]
     },
     "execution_count": 272,
     "metadata": {},
     "output_type": "execute_result"
    }
   ],
   "source": [
    "adfuller(df_predictive['daily_trips'])"
   ]
  },
  {
   "cell_type": "code",
   "execution_count": 273,
   "metadata": {},
   "outputs": [
    {
     "data": {
      "image/png": "[encoded data removed]",
      "text/plain": [
       "<Figure size 432x288 with 1 Axes>"
      ]
     },
     "metadata": {
      "needs_background": "light"
     },
     "output_type": "display_data"
    },
    {
     "name": "stdout",
     "output_type": "stream",
     "text": [
      "Results of Dickey-Fuller Test:\n",
      "\n",
      "Test Statistic                   1.195235\n",
      "p-value                          0.995953\n",
      "#Lags Used                      13.000000\n",
      "Number of Observations Used    133.000000\n",
      "Critical Value (1%)             -3.480500\n",
      "Critical Value (5%)             -2.883528\n",
      "Critical Value (10%)            -2.578496\n",
      "dtype: float64\n"
     ]
    }
   ],
   "source": [
    "test_stationarity(df_predictive['daily_trips'])"
   ]
  },
  {
   "cell_type": "markdown",
   "metadata": {},
   "source": [
    "### Though the variation in standard deviation is small, mean is clearly increasing with time and this is not a stationary series. Also, the test statistic is way more than the critical values. Important : the signed values should be compared and not the absolute values."
   ]
  },
  {
   "cell_type": "markdown",
   "metadata": {},
   "source": [
    "## Make the Time Series Stationary"
   ]
  },
  {
   "cell_type": "markdown",
   "metadata": {},
   "source": [
    "What is making a Time Series non-stationary? There are 2 major reasons behind non-stationarity of a Time Series\n",
    "\n",
    "1)Trend – varying mean over time. For e.g., in this case we saw that on average, the daily trips were growing over time.\n",
    "\n",
    "2)Seasonality – variations at specific time-frames. e.g. people might have a tendency to rent bikes more in rush hours on working days than at night"
   ]
  },
  {
   "cell_type": "code",
   "execution_count": 274,
   "metadata": {},
   "outputs": [
    {
     "data": {
      "image/png": "[encoded data removed]",
      "text/plain": [
       "<Figure size 432x288 with 1 Axes>"
      ]
     },
     "metadata": {
      "needs_background": "light"
     },
     "output_type": "display_data"
    },
    {
     "name": "stdout",
     "output_type": "stream",
     "text": [
      "Results of Dickey-Fuller Test:\n",
      "\n",
      "Test Statistic                  -0.487211\n",
      "p-value                          0.894488\n",
      "#Lags Used                       6.000000\n",
      "Number of Observations Used    140.000000\n",
      "Critical Value (1%)             -3.477945\n",
      "Critical Value (5%)             -2.882416\n",
      "Critical Value (10%)            -2.577902\n",
      "dtype: float64\n"
     ]
    }
   ],
   "source": [
    "ts_log = np.log(df_predictive['daily_trips'])\n",
    "test_stationarity(ts_log)"
   ]
  },
  {
   "cell_type": "code",
   "execution_count": 275,
   "metadata": {},
   "outputs": [
    {
     "data": {
      "text/plain": [
       "[<matplotlib.lines.Line2D at 0x23931f4fbb0>]"
      ]
     },
     "execution_count": 275,
     "metadata": {},
     "output_type": "execute_result"
    },
    {
     "data": {
      "image/png": "[encoded data removed]",
      "text/plain": [
       "<Figure size 432x288 with 1 Axes>"
      ]
     },
     "metadata": {
      "needs_background": "light"
     },
     "output_type": "display_data"
    }
   ],
   "source": [
    "moving_avg = ts_log.rolling(12).mean()\n",
    "plt.plot(ts_log)\n",
    "plt.plot(moving_avg, color='red')"
   ]
  },
  {
   "cell_type": "code",
   "execution_count": 276,
   "metadata": {},
   "outputs": [
    {
     "data": {
      "text/plain": [
       "date\n",
       "2019-02-01         NaN\n",
       "2019-02-02         NaN\n",
       "2019-02-03         NaN\n",
       "2019-02-04         NaN\n",
       "2019-02-05         NaN\n",
       "2019-02-06         NaN\n",
       "2019-02-07         NaN\n",
       "2019-02-08         NaN\n",
       "2019-02-09         NaN\n",
       "2019-02-10         NaN\n",
       "2019-02-11         NaN\n",
       "2019-02-12    0.065526\n",
       "Name: daily_trips, dtype: float64"
      ]
     },
     "execution_count": 276,
     "metadata": {},
     "output_type": "execute_result"
    }
   ],
   "source": [
    "ts_log_moving_avg_diff = ts_log - moving_avg\n",
    "ts_log_moving_avg_diff.head(12)"
   ]
  },
  {
   "cell_type": "code",
   "execution_count": 277,
   "metadata": {},
   "outputs": [
    {
     "data": {
      "image/png": "[encoded data removed]",
      "text/plain": [
       "<Figure size 432x288 with 1 Axes>"
      ]
     },
     "metadata": {
      "needs_background": "light"
     },
     "output_type": "display_data"
    },
    {
     "name": "stdout",
     "output_type": "stream",
     "text": [
      "Results of Dickey-Fuller Test:\n",
      "\n",
      "Test Statistic                -7.827974e+00\n",
      "p-value                        6.405402e-12\n",
      "#Lags Used                     1.000000e+00\n",
      "Number of Observations Used    1.340000e+02\n",
      "Critical Value (1%)           -3.480119e+00\n",
      "Critical Value (5%)           -2.883362e+00\n",
      "Critical Value (10%)          -2.578407e+00\n",
      "dtype: float64\n"
     ]
    }
   ],
   "source": [
    "ts_log_moving_avg_diff.dropna(inplace=True)\n",
    "test_stationarity(ts_log_moving_avg_diff)"
   ]
  },
  {
   "cell_type": "markdown",
   "metadata": {},
   "source": [
    "This looks like a much better series. The rolling values appear to be varying but there is no specific trend. Also, the test statistic is smaller than the 1% critical values so we can say with 99% confidence that this is a stationary series.\n"
   ]
  },
  {
   "cell_type": "markdown",
   "metadata": {},
   "source": [
    "### Eliminating Trend and Seasonality\n",
    "\n",
    "Two ways of removing trend and seasonality:\n",
    "\n",
    "1)Differencing – taking the differece with a particular time lag\n",
    "\n",
    "2)Decomposition – modeling both trend and seasonality and removing them from the model.\n",
    "\n",
    "We are using: Decomposing\n",
    "\n",
    "In this approach, both trend and seasonality are modeled separately and the remaining part of the series is returned. "
   ]
  },
  {
   "cell_type": "code",
   "execution_count": null,
   "metadata": {},
   "outputs": [],
   "source": []
  },
  {
   "cell_type": "code",
   "execution_count": 278,
   "metadata": {},
   "outputs": [
    {
     "data": {
      "image/png": "[encoded data removed]",
      "text/plain": [
       "<Figure size 432x288 with 4 Axes>"
      ]
     },
     "metadata": {
      "needs_background": "light"
     },
     "output_type": "display_data"
    }
   ],
   "source": [
    "from statsmodels.tsa.seasonal import seasonal_decompose\n",
    "\n",
    "\n",
    "decomposition = seasonal_decompose(ts_log, period=73) #Seasonal decomposition using moving averages\n",
    "\n",
    "trend = decomposition.trend\n",
    "seasonal = decomposition.seasonal\n",
    "residual = decomposition.resid\n",
    "\n",
    "\n",
    "\n",
    "plt.subplot(411)\n",
    "plt.plot(ts_log, label='Original')\n",
    "plt.legend(loc='best')\n",
    "plt.subplot(412)\n",
    "plt.plot(trend, label='Trend')\n",
    "plt.legend(loc='best')\n",
    "plt.subplot(413)\n",
    "plt.plot(seasonal,label='Seasonality')\n",
    "plt.legend(loc='best')\n",
    "plt.subplot(414)\n",
    "plt.plot(residual, label='Residuals')\n",
    "plt.legend(loc='best')\n",
    "plt.tight_layout()"
   ]
  },
  {
   "cell_type": "markdown",
   "metadata": {},
   "source": [
    "The Dickey-Fuller test statistic is significantly lower than the 5% critical value. So this TS is very close to stationary. \n",
    "(Note that converting the residuals into original values for future data is not very intuitive in this case.)"
   ]
  },
  {
   "cell_type": "code",
   "execution_count": 279,
   "metadata": {},
   "outputs": [],
   "source": [
    "#ACF and PACF plots:\n",
    "from statsmodels.tsa.stattools import acf, pacf"
   ]
  },
  {
   "cell_type": "code",
   "execution_count": 280,
   "metadata": {},
   "outputs": [
    {
     "name": "stderr",
     "output_type": "stream",
     "text": [
      "C:\\Users\\Install\\anaconda3\\lib\\site-packages\\statsmodels\\tsa\\stattools.py:662: FutureWarning: fft=True will become the default after the release of the 0.12 release of statsmodels. To suppress this warning, explicitly set fft=False.\n",
      "  warnings.warn(\n"
     ]
    }
   ],
   "source": [
    "lag_acf = acf(ts_log_diff, nlags=20)\n",
    "lag_pacf = pacf(ts_log_diff, nlags=20, method='ols')"
   ]
  },
  {
   "cell_type": "code",
   "execution_count": 281,
   "metadata": {},
   "outputs": [
    {
     "data": {
      "text/plain": [
       "Text(0.5, 1.0, 'Autocorrelation Function')"
      ]
     },
     "execution_count": 281,
     "metadata": {},
     "output_type": "execute_result"
    },
    {
     "data": {
      "image/png": "[encoded data removed]",
      "text/plain": [
       "<Figure size 432x288 with 1 Axes>"
      ]
     },
     "metadata": {
      "needs_background": "light"
     },
     "output_type": "display_data"
    }
   ],
   "source": [
    "#Plot ACF: \n",
    "plt.subplot(121) \n",
    "plt.plot(lag_acf)\n",
    "plt.axhline(y=0,linestyle='--',color='gray')\n",
    "plt.axhline(y=-1.96/np.sqrt(len(ts_log_diff)),linestyle='--',color='gray')\n",
    "plt.axhline(y=1.96/np.sqrt(len(ts_log_diff)),linestyle='--',color='gray')\n",
    "plt.title('Autocorrelation Function')"
   ]
  },
  {
   "cell_type": "code",
   "execution_count": 282,
   "metadata": {},
   "outputs": [
    {
     "data": {
      "image/png": "[encoded data removed]",
      "text/plain": [
       "<Figure size 432x288 with 1 Axes>"
      ]
     },
     "metadata": {
      "needs_background": "light"
     },
     "output_type": "display_data"
    }
   ],
   "source": [
    "#Plot PACF:\n",
    "plt.subplot(122)\n",
    "plt.plot(lag_pacf)\n",
    "plt.axhline(y=0,linestyle='--',color='gray')\n",
    "plt.axhline(y=-1.96/np.sqrt(len(ts_log_diff)),linestyle='--',color='gray')\n",
    "plt.axhline(y=1.96/np.sqrt(len(ts_log_diff)),linestyle='--',color='gray')\n",
    "plt.title('Partial Autocorrelation Function')\n",
    "plt.tight_layout()"
   ]
  },
  {
   "cell_type": "markdown",
   "metadata": {},
   "source": [
    "In this plot, the two dotted lines on either sides of 0 are the confidence interevals. These can be used to determine the ‘p’ and ‘q’ values as:\n",
    "\n",
    "p – The lag value where the PACF chart crosses the upper confidence interval for the first time. If you notice closely, in this case p=1.\n",
    "\n",
    "q – The lag value where the ACF chart crosses the upper confidence interval for the first time. If you notice closely, in this case q=1.\n",
    "\n",
    "Now, let's make 3 different ARIMA models considering individual as well as combined effects. I will also print the RSS for each. Please note that here RSS is for the values of residuals and not actual series.\n",
    "\n",
    "We need to load the ARIMA model first:"
   ]
  },
  {
   "cell_type": "code",
   "execution_count": 283,
   "metadata": {},
   "outputs": [],
   "source": [
    "from statsmodels.tsa.arima_model import ARIMA"
   ]
  },
  {
   "cell_type": "markdown",
   "metadata": {},
   "source": [
    "The p,d,q values can be specified using the order argument of ARIMA which take a tuple (p,d,q). Let model the ARIMA"
   ]
  },
  {
   "cell_type": "markdown",
   "metadata": {},
   "source": [
    "### Combined Model"
   ]
  },
  {
   "cell_type": "code",
   "execution_count": 284,
   "metadata": {},
   "outputs": [
    {
     "name": "stderr",
     "output_type": "stream",
     "text": [
      "C:\\Users\\Install\\anaconda3\\lib\\site-packages\\statsmodels\\tsa\\arima_model.py:472: FutureWarning: \n",
      "statsmodels.tsa.arima_model.ARMA and statsmodels.tsa.arima_model.ARIMA have\n",
      "been deprecated in favor of statsmodels.tsa.arima.model.ARIMA (note the .\n",
      "between arima and model) and\n",
      "statsmodels.tsa.SARIMAX. These will be removed after the 0.12 release.\n",
      "\n",
      "statsmodels.tsa.arima.model.ARIMA makes use of the statespace framework and\n",
      "is both well tested and maintained.\n",
      "\n",
      "To silence this warning and continue using ARMA and ARIMA until they are\n",
      "removed, use:\n",
      "\n",
      "import warnings\n",
      "warnings.filterwarnings('ignore', 'statsmodels.tsa.arima_model.ARMA',\n",
      "                        FutureWarning)\n",
      "warnings.filterwarnings('ignore', 'statsmodels.tsa.arima_model.ARIMA',\n",
      "                        FutureWarning)\n",
      "\n",
      "  warnings.warn(ARIMA_DEPRECATION_WARN, FutureWarning)\n",
      "C:\\Users\\Install\\anaconda3\\lib\\site-packages\\statsmodels\\tsa\\base\\tsa_model.py:581: ValueWarning: A date index has been provided, but it has no associated frequency information and so will be ignored when e.g. forecasting.\n",
      "  warnings.warn('A date index has been provided, but it has no'\n",
      "C:\\Users\\Install\\anaconda3\\lib\\site-packages\\statsmodels\\tsa\\base\\tsa_model.py:581: ValueWarning: A date index has been provided, but it has no associated frequency information and so will be ignored when e.g. forecasting.\n",
      "  warnings.warn('A date index has been provided, but it has no'\n",
      "C:\\Users\\Install\\anaconda3\\lib\\site-packages\\statsmodels\\tsa\\arima_model.py:472: FutureWarning: \n",
      "statsmodels.tsa.arima_model.ARMA and statsmodels.tsa.arima_model.ARIMA have\n",
      "been deprecated in favor of statsmodels.tsa.arima.model.ARIMA (note the .\n",
      "between arima and model) and\n",
      "statsmodels.tsa.SARIMAX. These will be removed after the 0.12 release.\n",
      "\n",
      "statsmodels.tsa.arima.model.ARIMA makes use of the statespace framework and\n",
      "is both well tested and maintained.\n",
      "\n",
      "To silence this warning and continue using ARMA and ARIMA until they are\n",
      "removed, use:\n",
      "\n",
      "import warnings\n",
      "warnings.filterwarnings('ignore', 'statsmodels.tsa.arima_model.ARMA',\n",
      "                        FutureWarning)\n",
      "warnings.filterwarnings('ignore', 'statsmodels.tsa.arima_model.ARIMA',\n",
      "                        FutureWarning)\n",
      "\n",
      "  warnings.warn(ARIMA_DEPRECATION_WARN, FutureWarning)\n"
     ]
    },
    {
     "data": {
      "text/plain": [
       "Text(0.5, 1.0, 'RSS: 6.9505')"
      ]
     },
     "execution_count": 284,
     "metadata": {},
     "output_type": "execute_result"
    },
    {
     "data": {
      "image/png": "[encoded data removed]",
      "text/plain": [
       "<Figure size 432x288 with 1 Axes>"
      ]
     },
     "metadata": {
      "needs_background": "light"
     },
     "output_type": "display_data"
    }
   ],
   "source": [
    "model = ARIMA(ts_log, order=(2, 1, 2))  \n",
    "results_ARIMA = model.fit(disp=-1)  \n",
    "plt.plot(ts_log_diff)\n",
    "plt.plot(results_ARIMA.fittedvalues, color='red')\n",
    "plt.title('RSS: %.4f'% sum((results_ARIMA.fittedvalues-ts_log_diff)**2))"
   ]
  },
  {
   "cell_type": "markdown",
   "metadata": {},
   "source": [
    "Taking it back to original scale\n",
    "\n",
    "Since the combined model gave best result, let's scale it back to the original values and see how well it performs there. First step would be to store the predicted results as a separate series and observe it."
   ]
  },
  {
   "cell_type": "code",
   "execution_count": 285,
   "metadata": {},
   "outputs": [
    {
     "data": {
      "text/plain": [
       "date\n",
       "2019-02-02    0.011047\n",
       "2019-02-03    0.072140\n",
       "2019-02-04    0.313171\n",
       "2019-02-05    0.080541\n",
       "2019-02-06   -0.116256\n",
       "dtype: float64"
      ]
     },
     "execution_count": 285,
     "metadata": {},
     "output_type": "execute_result"
    }
   ],
   "source": [
    "predictions_ARIMA_diff = pd.Series(results_ARIMA.fittedvalues, copy=True)\n",
    "predictions_ARIMA_diff.head()"
   ]
  },
  {
   "cell_type": "markdown",
   "metadata": {},
   "source": [
    "Next we’ve to add them to base number. For this lets create a series with all values as base number and add the differences to it. This can be done as:"
   ]
  },
  {
   "cell_type": "code",
   "execution_count": 286,
   "metadata": {},
   "outputs": [
    {
     "data": {
      "text/plain": [
       "date\n",
       "2019-02-02    0.011047\n",
       "2019-02-03    0.083186\n",
       "2019-02-04    0.396357\n",
       "2019-02-05    0.476898\n",
       "2019-02-06    0.360642\n",
       "dtype: float64"
      ]
     },
     "execution_count": 286,
     "metadata": {},
     "output_type": "execute_result"
    }
   ],
   "source": [
    "predictions_ARIMA_diff_cumsum = predictions_ARIMA_diff.cumsum()\n",
    "predictions_ARIMA_diff_cumsum.head()"
   ]
  },
  {
   "cell_type": "markdown",
   "metadata": {},
   "source": [
    "Here the first element is base number itself and from thereon the values cumulatively added. Last step is to take the exponent and compare with the original series."
   ]
  },
  {
   "cell_type": "markdown",
   "metadata": {},
   "source": [
    "You can quickly do some back of mind calculations using previous output to check if these are correct. Next we’ve to add them to base number. For this lets create a series with all values as base number and add the differences to it. This can be done as:"
   ]
  },
  {
   "cell_type": "code",
   "execution_count": 287,
   "metadata": {},
   "outputs": [
    {
     "data": {
      "text/plain": [
       "date\n",
       "2019-02-01    6.490724\n",
       "2019-02-02    6.501770\n",
       "2019-02-03    6.573910\n",
       "2019-02-04    6.887081\n",
       "2019-02-05    6.967622\n",
       "dtype: float64"
      ]
     },
     "execution_count": 287,
     "metadata": {},
     "output_type": "execute_result"
    }
   ],
   "source": [
    "predictions_ARIMA_log = pd.Series(ts_log.iloc[0], index=ts_log.index)\n",
    "predictions_ARIMA_log = predictions_ARIMA_log.add(predictions_ARIMA_diff_cumsum,fill_value=0)\n",
    "predictions_ARIMA_log.head()"
   ]
  },
  {
   "cell_type": "code",
   "execution_count": 293,
   "metadata": {},
   "outputs": [
    {
     "data": {
      "text/plain": [
       "Text(0.5, 1.0, 'RMSE: 5752.5690')"
      ]
     },
     "execution_count": 293,
     "metadata": {},
     "output_type": "execute_result"
    },
    {
     "data": {
      "image/png": "[encoded data removed]",
      "text/plain": [
       "<Figure size 432x288 with 1 Axes>"
      ]
     },
     "metadata": {
      "needs_background": "light"
     },
     "output_type": "display_data"
    }
   ],
   "source": [
    "predictions_ARIMA = np.exp(predictions_ARIMA_log)\n",
    "plt.plot(df_predictive['daily_trips'])\n",
    "plt.plot(predictions_ARIMA)\n",
    "plt.title('RMSE: %.4f'% np.sqrt(sum((predictions_ARIMA-df_predictive['daily_trips'])**2)/len(df_predictive)))"
   ]
  },
  {
   "cell_type": "markdown",
   "metadata": {},
   "source": [
    "## Linear Regression"
   ]
  },
  {
   "cell_type": "code",
   "execution_count": null,
   "metadata": {},
   "outputs": [],
   "source": [
    "import numpy as np\n",
    "import pandas as pd\n",
    "\n",
    "import matplotlib.pyplot as plt\n",
    "\n",
    "from sklearn.linear_model import LinearRegression\n",
    "from sklearn.metrics import mean_squared_error, mean_absolute_error, r2_score\n",
    "\n",
    "%matplotlib inline\n",
    "# %config InlineBackend.figure_format = 'svg'"
   ]
  },
  {
   "cell_type": "code",
   "execution_count": null,
   "metadata": {},
   "outputs": [],
   "source": [
    "df_predictive"
   ]
  },
  {
   "cell_type": "code",
   "execution_count": null,
   "metadata": {},
   "outputs": [],
   "source": [
    "# note: we are using here the very powerful map() function, which returns a list of the results \n",
    "# after applying the given function to each item of a given iterable (list, tuple etc.)\n",
    "\n",
    "#df_weekday = df_predictive[list(map(lambda x : str(x)[0:1] in [\"06\", \"07\", \"08\"], df.index))].copy()\n",
    "\n",
    "plt.scatter(df_predictive[\"tmax\"], df_predictive[\"daily_trips\"], marker='x')\n",
    "plt.xlabel(\"Max Temperature (°C)\")\n",
    "plt.ylabel(\"Daily Trips\")\n",
    "#plt.savefig('peak demand summer.png', dpi = 300)"
   ]
  },
  {
   "cell_type": "code",
   "execution_count": null,
   "metadata": {},
   "outputs": [],
   "source": [
    "model = LinearRegression(fit_intercept =True)"
   ]
  },
  {
   "cell_type": "code",
   "execution_count": null,
   "metadata": {},
   "outputs": [],
   "source": [
    "Xp = df_predictive[\"tavg\"].values\n",
    "Yp = df_predictive[\"daily_trips\"].values"
   ]
  },
  {
   "cell_type": "code",
   "execution_count": null,
   "metadata": {},
   "outputs": [],
   "source": [
    "model.fit (df_predictive[\"tmax\"].values.reshape(-1,1),df_predictive[\"daily_trips\"])\n",
    "model_pred = model.predict(df_predictive[\"tmax\"].values.reshape(-1,1))"
   ]
  },
  {
   "cell_type": "code",
   "execution_count": null,
   "metadata": {},
   "outputs": [],
   "source": [
    "plt.scatter( df_predictive[\"tmax\"] ,df_predictive[\"daily_trips\"], marker = 'x', c='g')\n",
    "xlim, ylim =(plt.gca().get_xlim(), plt.gca().get_ylim())\n",
    "\n",
    "Z = np.linspace(0,40)\n",
    "T = model.intercept_ + model.coef_*Z\n",
    "\n",
    "plt.plot(Z,T)\n",
    "plt.xlim(xlim)\n",
    "plt.ylim(ylim)\n",
    "plt.xlabel(\"Max Temperature (°C)\")\n",
    "plt.ylabel(\"Daily Trips\")\n",
    "plt.show()\n",
    "print(model.coef_, model.intercept_)\n",
    "print ('The R^2 of linear regression is: ',r2_score(df_predictive[\"daily_trips\"], model_pred))"
   ]
  },
  {
   "cell_type": "code",
   "execution_count": null,
   "metadata": {},
   "outputs": [],
   "source": [
    "#Weekday Version\n",
    "plt.figure(figsize = (8,6))\n",
    "plt.scatter(df_predictive[df_predictive[\"weekday_dummy\"]==0][\"tmax\"], \n",
    "            df_predictive[df_predictive[\"weekday_dummy\"]==0][\"daily_trips\"], marker='x', color='C2')\n",
    "plt.scatter(df_predictive[df_predictive[\"weekday_dummy\"]==1][\"tmax\"], \n",
    "            df_predictive[df_predictive[\"weekday_dummy\"]==1][\"daily_trips\"], marker='x', color='C0')\n",
    "plt.xlabel(\"Max Temperature \")\n",
    "plt.ylabel(\"Daily Trips\")\n",
    "plt.legend([\"Weekdays\", \"Weekends\"])\n",
    "plt.show()"
   ]
  },
  {
   "cell_type": "code",
   "execution_count": null,
   "metadata": {},
   "outputs": [],
   "source": [
    "X = df_predictive[[\"tmax\", \"weekday_dummy\"]]\n",
    "y = df_predictive[[\"daily_trips\"]]\n",
    "lin_mod_day = LinearRegression()\n",
    "lin_mod_day.fit(X,y)\n",
    "print(lin_mod_day.coef_, lin_mod_day.intercept_)"
   ]
  },
  {
   "cell_type": "code",
   "execution_count": null,
   "metadata": {},
   "outputs": [],
   "source": [
    "X_weekday = X[X[\"weekday_dummy\"]==1]\n",
    "X_weekend = X[X[\"weekday_dummy\"]==0]\n",
    "\n",
    "# predict weekends and weekdays seperately\n",
    "y_pred_weekday = lin_mod_day.predict(X_weekday)\n",
    "y_pred_weekend = lin_mod_day.predict(X_weekend)\n",
    "\n",
    "plt.figure(figsize = (8,6))\n",
    "\n",
    "plt.scatter(X_weekday[\"tmax\"], \n",
    "            df_predictive[df_predictive[\"weekday_dummy\"]==1][\"daily_trips\"], \n",
    "            marker=\"+\", label=\"Observed Weekdays\")\n",
    "\n",
    "plt.scatter(X_weekend[\"tmax\"], \n",
    "            df_predictive[df_predictive[\"weekday_dummy\"]==0][\"daily_trips\"], \n",
    "            marker=\"x\", label=\"Observed Weekends\")\n",
    "\n",
    "plt.plot(X_weekday[\"tmax\"], \n",
    "         y_pred_weekday, \n",
    "         label=\"Weekday Prediction\")\n",
    "plt.plot(X_weekend[\"tmax\"], \n",
    "         y_pred_weekend, \n",
    "         label=\"Weekend Prediction\")\n",
    "\n",
    "plt.xlabel(\"High Temperature (°C)\")\n",
    "plt.ylabel(\"Daily Trips\")\n",
    "\n",
    "plt.legend()\n",
    "plt.show()"
   ]
  },
  {
   "cell_type": "markdown",
   "metadata": {},
   "source": [
    "## Nonlinear modeling"
   ]
  },
  {
   "cell_type": "code",
   "execution_count": null,
   "metadata": {},
   "outputs": [],
   "source": [
    "xp = df_predictive[\"tmax\"].values\n",
    "yp = df_predictive[\"daily_trips\"].values\n",
    "xa = df_predictive[\"tavg\"].values"
   ]
  },
  {
   "cell_type": "code",
   "execution_count": null,
   "metadata": {},
   "outputs": [],
   "source": [
    "plt.scatter(xp, yp, marker=\"x\")\n",
    "plt.xlabel(\"Max Temperature (°C)\")\n",
    "plt.ylabel(\"Daily Trips\")"
   ]
  },
  {
   "cell_type": "code",
   "execution_count": null,
   "metadata": {},
   "outputs": [],
   "source": [
    "lr = LinearRegression()\n",
    "lr.fit(xp.reshape(-1,1), yp)\n",
    "model_pred_p = lr.predict(xp.reshape(-1,1))\n",
    "\n",
    "plt.scatter(xp, yp, marker=\"x\" )\n",
    "plt.xlabel(\"High Temperature (°C)\")\n",
    "plt.ylabel(\"Peak Demand (GW)\")\n",
    "plt.plot(xp, model_pred_p, c='C2')\n",
    "print ('The R^2 of linear regression is: ',r2_score(yp, model_pred_p))"
   ]
  },
  {
   "cell_type": "code",
   "execution_count": null,
   "metadata": {},
   "outputs": [],
   "source": [
    "# x is the input variable\n",
    "# y is the output vaiable\n",
    "# d is degree pf polynomial regression\n",
    "\n",
    "def plot_regression_poly(x, y, d):\n",
    "    \n",
    "    min_x, max_x = x.min(), x.max()\n",
    "    xs = 2*(x - min_x)/(max_x - min_x)-1\n",
    "    X = np.array([xs**i for i in range(d,-1,-1)]).T\n",
    "    theta = np.linalg.solve(X.T @ X, X.T @ y)\n",
    "    xt0 = np.linspace(min_x-1, max_x+1, 400)\n",
    "    xt = 2* (xt0 - min_x)/(max_x - min_x) -1\n",
    "    Xt = np.array([xt**i for i in range(d,-1,-1)]).T\n",
    "    yt = Xt @ theta\n",
    "        \n",
    "    plt.scatter(x, y, marker=\"x\")\n",
    "    ylim = plt.ylim()\n",
    "    plt.plot(xt0, yt, 'C1')\n",
    "    plt.xlabel(\"Temperature (°C)\")\n",
    "    plt.ylabel(\"Demand (GW)\")\n",
    "    plt.xlim([min_x-2, max_x+2])\n",
    "    plt.ylim(ylim)\n",
    "    print(theta[:4])\n",
    "    #plt.savefig('all data_reg_'+str(d)+'.png', dpi = 300)\n",
    "    \n",
    "#Quadratic regression for demand data:\n",
    "plot_regression_poly(x = xp, y=yp, d = 2)"
   ]
  },
  {
   "cell_type": "code",
   "execution_count": null,
   "metadata": {},
   "outputs": [],
   "source": [
    "#qubic regression\n",
    "# Plot of Peak demand vs. High temperature\n",
    "plot_regression_poly(x = xp, y=yp, d = 100)"
   ]
  },
  {
   "cell_type": "code",
   "execution_count": null,
   "metadata": {},
   "outputs": [],
   "source": [
    "#Cross validation\n",
    "\n",
    "X = np.array([df_predictive[\"tmax\"].values, np.ones(len(df))]).T\n",
    "np.random.seed(10)\n",
    "perm = np.random.permutation(X.shape[0])\n",
    "idx_train = perm[:int(len(perm)*0.7)]\n",
    "idx_cv = perm[int(len(perm)*0.7):]\n",
    "\n",
    "x_train, y_train = df_predictive[\"tmax\"].iloc[idx_train].values, df_predictive[\"daily_trips\"].iloc[idx_train].values\n",
    "x_cv, y_cv = df_predictive[\"tmax\"].iloc[idx_cv].values, df_predictive[\"daily_trips\"].iloc[idx_cv].values"
   ]
  },
  {
   "cell_type": "code",
   "execution_count": null,
   "metadata": {},
   "outputs": [],
   "source": [
    "plt.scatter(x_train, y_train, marker='x', color=\"C0\")\n",
    "plt.scatter(x_cv, y_cv, marker='x', color=\"C2\")\n",
    "plt.xlabel(\"Temperature (°C)\")\n",
    "plt.ylabel(\"Demand (GW)\")\n",
    "plt.legend(['Training set', 'Holdout set'])\n",
    "#plt.savefig('crossvalidation.png', dpi = 300)"
   ]
  },
  {
   "cell_type": "code",
   "execution_count": null,
   "metadata": {},
   "outputs": [],
   "source": [
    "min_x_train, max_x_train = x_train.min(), x_train.max()\n",
    "x_train = 2*(x_train - min_x_train)/(max_x_train - min_x_train) - 1\n",
    "x_cv = 2*(x_cv - min_x_train)/(max_x_train - min_x_train) - 1\n",
    "\n",
    "def poly_feat(x, degree):\n",
    "    return np.array([x**i for i in range(degree,-1,-1)]).T\n",
    "\n",
    "def ls_poly(x, y, degree):\n",
    "    X = np.array([x**i for i in range(degree,-1,-1)]).T\n",
    "    return np.linalg.solve(X.T @ X, X.T @ y)  \n",
    "\n",
    "\n",
    "err_train = []\n",
    "err_cv = []\n",
    "for i in range(50):\n",
    "    theta = ls_poly(x_train, y_train, i)\n",
    "    err_train.append(((poly_feat(x_train,i) @ theta - y_train)**2).mean())\n",
    "    err_cv.append(((poly_feat(x_cv,i) @ theta - y_cv)**2).mean())\n",
    "plt.semilogy(range(50), err_train, range(50), err_cv)\n",
    "plt.legend([\"Training\", \"Validation\"])\n",
    "plt.xlabel(\"Polynomial degree\")\n",
    "plt.ylabel(\"Mean squared error\")\n",
    "plt.savefig('crossvalidation error .png', dpi = 500)"
   ]
  },
  {
   "cell_type": "code",
   "execution_count": null,
   "metadata": {},
   "outputs": [],
   "source": [
    "plt.semilogy(range(15), err_train[:15], range(15), err_cv[:15])\n",
    "plt.legend([\"Training\", \"Validation\"])\n",
    "plt.xlabel(\"Polynomial degree\")\n",
    "plt.ylabel(\"Mean squared error\")"
   ]
  },
  {
   "cell_type": "markdown",
   "metadata": {},
   "source": [
    "## Decision Trees"
   ]
  },
  {
   "cell_type": "code",
   "execution_count": null,
   "metadata": {},
   "outputs": [],
   "source": [
    "#Cross validation using Scikit-learn library\n",
    "from sklearn.model_selection import train_test_split"
   ]
  },
  {
   "cell_type": "code",
   "execution_count": null,
   "metadata": {},
   "outputs": [],
   "source": [
    "# split the data with 70% in each set\n",
    "X_train, X_test, y_train, y_test = train_test_split(xp, yp, test_size=0.3)"
   ]
  },
  {
   "cell_type": "code",
   "execution_count": null,
   "metadata": {},
   "outputs": [],
   "source": [
    "plt.scatter(X_train, y_train, marker='x', color=\"C0\")\n",
    "plt.scatter(X_test, y_test, marker='x', color=\"C2\")\n",
    "plt.xlabel(\"Temperature (°C)\")\n",
    "plt.ylabel(\"Demand (GW)\")\n",
    "plt.legend(['Training set', 'Holdout set'])"
   ]
  },
  {
   "cell_type": "code",
   "execution_count": null,
   "metadata": {},
   "outputs": [],
   "source": [
    "# fit the model on one set of data\n",
    "from sklearn.preprocessing import PolynomialFeatures\n",
    "poly_reg = PolynomialFeatures (degree = 6)\n",
    "x_poly = poly_reg.fit_transform(X_train.reshape(-1,1))\n",
    "\n",
    "model = LinearRegression(normalize = True)\n",
    "model.fit(x_poly, y_train)\n",
    "\n",
    "# evaluate the model on the second set of data\n",
    "y_pred = model.predict(poly_reg.fit_transform(X_test.reshape(-1,1)))\n",
    "print ('The R^2 for quadratic curve is: ',r2_score(y_test, y_pred))"
   ]
  },
  {
   "cell_type": "code",
   "execution_count": null,
   "metadata": {},
   "outputs": [],
   "source": [
    "plt.scatter(X_train, y_train, marker='x', color=\"C0\")\n",
    "plt.scatter(X_test, y_pred, marker='x', color=\"C1\")\n",
    "plt.xlabel(\"Temperature (°C)\")\n",
    "plt.ylabel(\"Daily Trips\")\n",
    "plt.legend(['Training set', 'Prediction set'])"
   ]
  },
  {
   "cell_type": "code",
   "execution_count": null,
   "metadata": {},
   "outputs": [],
   "source": [
    "plt.figure(figsize = (8,6))\n",
    "plt.scatter(Xp, Yp, marker=\"x\")\n",
    "plt.xlabel(\"High Temperature (°C)\")\n",
    "plt.ylabel(\"Peak Demand (GW)\")\n",
    "plt.show()"
   ]
  },
  {
   "cell_type": "code",
   "execution_count": null,
   "metadata": {},
   "outputs": [],
   "source": [
    "from sklearn.tree import DecisionTreeRegressor, export_graphviz\n",
    "from sklearn.metrics import r2_score\n",
    "\n",
    "def plot_tree_regression_line(tree_depth):\n",
    "\n",
    "    # Fit regression model (to full data)\n",
    "    Tree_reg = DecisionTreeRegressor(max_depth=tree_depth,\n",
    "                                    criterion=\"mse\")\n",
    "    Tree_reg.fit(Xp.reshape((-1,1)), Yp)\n",
    "    Y_pred = Tree_reg.predict(Xp.reshape((-1,1)))\n",
    "    \n",
    "    attributes = Tree_reg.tree_\n",
    "\n",
    "    # plot\n",
    "    plt.figure(figsize = (8,6))\n",
    "    plt.scatter(Xp, Yp, marker=\"x\")\n",
    "    plt.plot(np.arange(-18,40,1), Tree_reg.predict(np.arange(-18,40,1).reshape((-1,1))), marker=\"x\", color='C1')\n",
    "    plt.xlabel(\"Average Temperature (°C)\", fontsize=16)\n",
    "    plt.ylabel(\"Daily Trips\", fontsize=16)\n",
    "    \n",
    "    print(\"number of nodes: \", attributes.node_count)\n",
    "    print(\"number of leafs: \", attributes.n_leaves)\n",
    "    print(\"R^2: \", r2_score(Yp, Y_pred))\n",
    "    \n",
    "    \n",
    "    #plt.savefig(\"Peak_Power_Regression_Lines_{}depth.pdf\".format(tree_depth))"
   ]
  },
  {
   "cell_type": "code",
   "execution_count": null,
   "metadata": {},
   "outputs": [],
   "source": [
    "\n",
    "plot_tree_regression_line(2)"
   ]
  },
  {
   "cell_type": "code",
   "execution_count": null,
   "metadata": {},
   "outputs": [],
   "source": [
    "plt.figure(figsize=(17,12))\n",
    "plt.subplot(421)\n",
    "df_predictive['vacations'].plot.hist(bins=(5), color='blue', label='Histogram of Vacations', edgecolor='black')\n",
    "plt.legend(loc='best')\n",
    "plt.subplot(422)\n",
    "df_predictive['tavg'].plot.hist(bins=10, color='green', label='Histogram of Average Temparature', edgecolor='black')\n",
    "plt.legend(loc='best')\n",
    "plt.subplot(423)\n",
    "df_predictive['pres'].plot.hist(bins=10, color='orange', label='Histogram of Pres', edgecolor='black')\n",
    "plt.legend(loc='best')\n",
    "plt.subplot(424)\n",
    "df_predictive['holiday'].plot.hist(bins=10, color='pink', label='Histogram of Holiday', edgecolor='black')\n",
    "plt.legend(loc='best')\n",
    "plt.subplot(425)\n",
    "df_predictive['weekday_dummy'].plot.hist(bins=10, color='red', label='Histogram of Working Day', edgecolor='black')\n",
    "plt.legend(loc='best')\n",
    "plt.subplot(426)\n",
    "df_predictive['tmin'].plot.hist(bins=10, color='yellow', label='Histogram of MinTemperature', edgecolor='black')\n",
    "plt.legend(loc='best')\n",
    "plt.subplot(427)\n",
    "df_predictive['tmax'].plot.hist(bins=10, color='cyan', label='Histogram of MaxTemp', edgecolor='black')\n",
    "plt.legend(loc='best')\n",
    "plt.subplot(428)\n",
    "df_predictive['wspd'].plot.hist(bins=10, color='purple', label='Histogram of Windpseed', edgecolor='black')\n",
    "plt.legend(loc='best')\n",
    "plt.tight_layout();"
   ]
  },
  {
   "cell_type": "code",
   "execution_count": null,
   "metadata": {},
   "outputs": [],
   "source": [
    "X = df_predictive.drop(columns=[\"daily_trips\"])\n",
    "Y = df_predictive[[\"daily_trips\"]]\n",
    "\n",
    "X_train, X_test, Y_train, Y_test = train_test_split(X, Y, test_size = 0.3)"
   ]
  },
  {
   "cell_type": "code",
   "execution_count": null,
   "metadata": {
    "scrolled": true
   },
   "outputs": [],
   "source": [
    "lin_reg_mod = LinearRegression()\n",
    "lin_reg_mod.fit(X_train, Y_train)\n",
    "pred = lin_reg_mod.predict(X_test)\n",
    "\n",
    "test_set_r2 = r2_score(Y_test, pred)\n",
    "plt.scatter(Y_test, pred)\n",
    "\n",
    "x = np.linspace(0, 3000, 3000)\n",
    "print(\"R2:\", test_set_r2)\n",
    "plt.plot(x,x)"
   ]
  },
  {
   "cell_type": "code",
   "execution_count": null,
   "metadata": {},
   "outputs": [],
   "source": [
    "# Segregating data based on ‘workingday’ column\n",
    "work_day = df_predictive[df_predictive['weekday_dummy']==1] \n",
    "non_work_day = df_predictive[df_predictive['weekday_dummy']==0]\n",
    "# Model for registered\n",
    "x = work_day\n",
    "y = work_day\n",
    "    \n",
    "# Dividing the data into train and test\n",
    "from sklearn.model_selection import train_test_split\n",
    "x_train,x_test,y_train,y_test = train_test_split(x,y,test_size = 0.30 ,random_state = 2)"
   ]
  },
  {
   "cell_type": "markdown",
   "metadata": {},
   "source": [
    "_______________________________"
   ]
  },
  {
   "cell_type": "code",
   "execution_count": null,
   "metadata": {},
   "outputs": [],
   "source": []
  },
  {
   "cell_type": "markdown",
   "metadata": {},
   "source": [
    "### LSTM (Long Short-Term Memory)"
   ]
  },
  {
   "cell_type": "code",
   "execution_count": null,
   "metadata": {},
   "outputs": [],
   "source": [
    "#dataframe\n",
    "import pandas as pd\n",
    "import numpy as np\n",
    "import matplotlib.pyplot as plt\n",
    "%matplotlib inline\n",
    "from matplotlib.pylab import rcParams\n",
    "\n",
    "from sklearn.preprocessing import MinMaxScaler\n",
    "df_predictive"
   ]
  },
  {
   "cell_type": "code",
   "execution_count": null,
   "metadata": {},
   "outputs": [],
   "source": [
    "#Visualization\n",
    "plt.plot(df_predictive[\"daily_trips\"],label='Daily trips in Leipzig')"
   ]
  },
  {
   "cell_type": "code",
   "execution_count": null,
   "metadata": {},
   "outputs": [],
   "source": [
    "#Data Preparation\n",
    "df = df_predictive.sort_index(ascending=True,axis=0)\n",
    "data = pd.DataFrame(index=range(0,len(df)),columns=['Date','daily_trips'])\n",
    "\n",
    "data.head()"
   ]
  },
  {
   "cell_type": "code",
   "execution_count": null,
   "metadata": {},
   "outputs": [],
   "source": [
    "#MinMaxScaler\n",
    "scaler=MinMaxScaler(feature_range=(0,1))\n",
    "data.index=data.Date\n",
    "data.drop('date', axis=1,inplace=True)\n",
    "final_data = data.values\n",
    "train_data=final_data[0:200,:]\n",
    "valid_data=final_data[200:,:]\n",
    "scaler=MinMaxScaler(feature_range=(0,1))\n",
    "scaled_data=scaler.fit_transform(final_data)\n",
    "x_train_data,y_train_data=[],[]\n",
    "for i in range(60,len(train_data)):\n",
    "    x_train_data.append(scaled_data[i-60:i,0])\n",
    "    y_train_data.append(scaled_data[i,0])"
   ]
  },
  {
   "cell_type": "markdown",
   "metadata": {},
   "source": [
    "# Geographic Clustering for availability analysis"
   ]
  },
  {
   "cell_type": "code",
   "execution_count": null,
   "metadata": {},
   "outputs": [],
   "source": [
    "locs = df[[\"orig_lat\",\"orig_lng\"]].rename(columns={\"orig_lat\": \"lat\",\"orig_lng\":\"lng\"})\n",
    "locs.append(df[[\"dest_lat\",\"dest_lng\"]].rename(columns={\"dest_lat\": \"lat\",\"dest_lng\":\"lng\"}),ignore_index=True)\n",
    "locs"
   ]
  },
  {
   "cell_type": "code",
   "execution_count": null,
   "metadata": {},
   "outputs": [],
   "source": [
    "from sklearn.cluster import MiniBatchKMeans, KMeans\n",
    "\n",
    "ssd = []\n",
    "for i in range(2, 60):\n",
    "    km = MiniBatchKMeans(n_clusters=i)\n",
    "    km.fit_predict(locs)\n",
    "    ssd.append(km.inertia_)\n",
    "    \n",
    "plt.plot(ssd)"
   ]
  },
  {
   "cell_type": "code",
   "execution_count": null,
   "metadata": {},
   "outputs": [],
   "source": [
    "n = 40\n",
    "\n",
    "km = MiniBatchKMeans(n_clusters=n)\n",
    "km.fit_predict(locs)\n",
    "clusters = pd.DataFrame(km.cluster_centers_)\n",
    "clusters.columns = ['lat', 'lng']\n",
    "clusters_gdf = gpd.GeoDataFrame(\n",
    "    clusters.drop([\"lat\",\"lng\"],axis=1), geometry=gpd.points_from_xy(clusters[\"lng\"], clusters[\"lat\"]))"
   ]
  },
  {
   "cell_type": "code",
   "execution_count": null,
   "metadata": {
    "scrolled": false
   },
   "outputs": [],
   "source": [
    "locs_gdf = gpd.GeoDataFrame(\n",
    "    locs.drop([\"lat\",\"lng\"],axis=1), geometry=gpd.points_from_xy(locs[\"lng\"], locs[\"lat\"]))"
   ]
  },
  {
   "cell_type": "code",
   "execution_count": null,
   "metadata": {
    "scrolled": false
   },
   "outputs": [],
   "source": [
    "leipzig_map = gpd.read_file(\"./resources/leipzig/ot.shp\").to_crs(epsg=4326) #original file is in a different system\n",
    "\n",
    "fig, ax = plt.subplots(figsize=(30,20))\n",
    "\n",
    "locs_gdf.plot(ax=ax, alpha=0.2, color = [0,0,0], markersize=10, zorder=2)\n",
    "clusters_gdf.plot(ax=ax, alpha=0.7, color='cyan', markersize=75,  zorder=3)\n",
    "leipzig_map.plot(ax=ax, alpha=0.4, edgecolor='darkgrey', color='lightgrey', zorder=1)"
   ]
  },
  {
   "cell_type": "markdown",
   "metadata": {},
   "source": [
    "## Availability Analysis\n",
    "This function calculates what happened between rental times. It analyzes whether, between rentals, a bike has been available at a certain station or whether it has been moved to a different location. This can then be used for example to calculate the number of available bikes at a certain station at a single time. We use it to calculate our KPI of percentage of stations without available bikes. It can be used for further analysis in this topic as well."
   ]
  },
  {
   "cell_type": "code",
   "execution_count": null,
   "metadata": {},
   "outputs": [],
   "source": [
    "round_factor = 2\n",
    "df"
   ]
  },
  {
   "cell_type": "code",
   "execution_count": null,
   "metadata": {},
   "outputs": [],
   "source": [
    "df2 = df[:]\n",
    "\n",
    "df2[\"timestamp_end\"] = df2[\"timestamp\"] + df2[\"trip_duration\"]\n",
    "df2=df2.drop(columns=['date', 'date_str', \"revenue\", \"Weekday\", \"Time\", \"timestamp_rounded\",\"trip_duration\"])\n",
    "\n",
    "#df2 = df2.round({\"orig_lat\":round_factor, 'orig_lng':round_factor, 'dest_lat':round_factor, \"dest_lng\":round_factor})\n",
    "\n",
    "#make sure it is sorted by b_number, then timestamp\n",
    "df2 = df2.sort_values(by=['b_number','timestamp'])\n",
    "#make sure the index is still +1 every time after sorting\n",
    "df2.reset_index(inplace=True)\n",
    "df2 = df2.rename(columns={\"index\": \"original_index\"})\n",
    "\n",
    "\n",
    "df2"
   ]
  },
  {
   "cell_type": "markdown",
   "metadata": {},
   "source": [
    "This step will take a while, as it clusters each entry to a specific cluster point, which takes a lot of computing power."
   ]
  },
  {
   "cell_type": "code",
   "execution_count": null,
   "metadata": {
    "scrolled": false
   },
   "outputs": [],
   "source": [
    "df3 = []\n",
    "\n",
    "bike_number = 0\n",
    "bike_city = \"\"\n",
    "\n",
    "for index in df2.index:\n",
    "    if  df2.at[index,\"b_number\"] != bike_number:\n",
    "        bike_number = df2.at[index,\"b_number\"]\n",
    "        bike_city = df2.at[index,\"city\"]\n",
    "    else:\n",
    "        lat = df2.at[index,\"orig_lat\"]\n",
    "        lng = df2.at[index,\"orig_lng\"]\n",
    "        cluster_point = next_cluster(lng,lat,clusters)\n",
    "        time_start = df2.at[index-1,\"timestamp_end\"]\n",
    "        time_end = df2.at[index,\"timestamp\"]\n",
    "        \n",
    "        #test if it is working\n",
    "        if index % 20000 == 0:\n",
    "            print(\"reached row\", index, \"of\", df2.index.max())\n",
    "        \n",
    "        action_type = \"station\"\n",
    "        if lat == df2.at[index-1,\"dest_lat\"] and lng != df2.at[index-1,\"dest_lng\"]:\n",
    "            action_type = \"moved\"\n",
    "            \n",
    "        d = {\n",
    "            'b_number' : bike_number,\n",
    "            'b_city' : bike_city,\n",
    "            'lat' : lat,  # some formula for obtaining values\n",
    "            'lng' : lng,\n",
    "            'timestamp' : time_start,\n",
    "            'action_type' : action_type+\"_in\",\n",
    "            'cluster_point': cluster_point\n",
    "            }\n",
    "        df3.append(d)\n",
    "        d = {\n",
    "            'b_number' : bike_number,\n",
    "            'b_city' : bike_city,\n",
    "            'lat' : lat,  # some formula for obtaining values\n",
    "            'lng' : lng,\n",
    "            'timestamp' : time_end,\n",
    "            'action_type' : action_type+\"_out\",\n",
    "            'cluster_point': cluster_point\n",
    "            }\n",
    "        df3.append(d)\n",
    "\n",
    "df3 = pd.DataFrame(df3)"
   ]
  },
  {
   "cell_type": "code",
   "execution_count": null,
   "metadata": {
    "scrolled": false
   },
   "outputs": [],
   "source": [
    "df3[\"cluster_point\"] = df3[\"cluster_point\"].astype(str)\n",
    "df3"
   ]
  },
  {
   "cell_type": "markdown",
   "metadata": {},
   "source": [
    "This algorithm takes goes over all records that relate to bikes standing at a certain station. For each change event, it calculates the effect on the capacity of a certain station."
   ]
  },
  {
   "cell_type": "code",
   "execution_count": null,
   "metadata": {},
   "outputs": [],
   "source": [
    "#filter df3 for all events related to bikes standing at a station (not being moved between rides)\n",
    "df3 = df3[df3[\"action_type\"].isin([\"station_in\",\"station_out\"])]\n",
    "\n",
    "#filter correctly for the algorithm to work properly\n",
    "df3=df3.sort_values(by=['cluster_point','timestamp','action_type'])\n",
    "df3.reset_index(inplace=True)\n",
    "df3 = df3.rename(columns={\"index\": \"original_index\"})\n",
    "\n",
    "df3[\"count\"] = 0\n",
    "\n",
    "station = \"\"\n",
    "count = 0\n",
    "\n",
    "for index in df3.index:\n",
    "    action_type = df3.at[index,\"action_type\"]\n",
    "    #if this is a different station, restart the calculation\n",
    "    if  df3.at[index,\"cluster_point\"] != station:\n",
    "        station = df3.at[index,\"cluster_point\"]\n",
    "        count = 0\n",
    "    if action_type == \"station_in\":\n",
    "         count = count + 1\n",
    "    elif action_type == \"station_out\":\n",
    "        count = count - 1\n",
    "    else:\n",
    "        print(\"there was an error\")\n",
    "    \n",
    "    df3.at[index,\"count\"] = count"
   ]
  },
  {
   "cell_type": "code",
   "execution_count": null,
   "metadata": {},
   "outputs": [],
   "source": [
    "df3"
   ]
  },
  {
   "cell_type": "markdown",
   "metadata": {},
   "source": [
    "This part produces a list of the minimum available bikes at a certain station. For example, if a station has had 2 bikes for the first ten minutes, then had 3 and in the end had only 1 bike left, this would count as 1 bike for the respective hour period. \n",
    "* If there was no change in available bikes, it takes the value for the most recent change event.\n",
    "* If the number of available bikes changes to zero and no bikes ever get to the station again until the end of the data timeframe, it will not count as 0 bikes as the station might have been closed in the meantime (this should not count as \"no bikes available)"
   ]
  },
  {
   "cell_type": "code",
   "execution_count": null,
   "metadata": {
    "scrolled": false
   },
   "outputs": [],
   "source": [
    "df3[\"timestamp_rounded\"] = df3[\"timestamp\"].dt.floor(\"H\")\n",
    "df3 = df3.sort_values(by=['cluster_point','timestamp'])\n",
    "\n",
    "start_date = df3.timestamp_rounded.min()\n",
    "end_date = df3.timestamp_rounded.max()\n",
    "daterange = pd.date_range(start_date, end_date,freq='1H')\n",
    "\n",
    "df4 = pd.DataFrame(index=daterange)\n",
    "\n",
    "for cluster_point in df3.cluster_point.unique():\n",
    "    dfl = df3[df3.cluster_point == cluster_point]\n",
    "    dfl = dfl.groupby(\"timestamp_rounded\").agg(\n",
    "    min_count =(\"count\",\"min\"),\n",
    "    last_value = (\"count\", lambda x: x.iloc[-1]))\n",
    "    dfl = dfl.reindex(daterange, fill_value=None)\n",
    "    dfl[\"last_value\"] = dfl[\"last_value\"].fillna(method='ffill')\n",
    "    dfl[\"min_count\"] = dfl.apply(\n",
    "        lambda row: row['last_value']if np.isnan(row['min_count']) else row['min_count'],axis=1\n",
    "    )\n",
    "    for index, row in dfl[::-1].iterrows():\n",
    "        if row[\"min_count\"] == 0:\n",
    "            row[\"min_count\"] = None\n",
    "        else:\n",
    "            break\n",
    "    df4[cluster_point] = dfl[\"min_count\"]\n",
    "    \n",
    "df4 = df4.T"
   ]
  },
  {
   "cell_type": "code",
   "execution_count": null,
   "metadata": {
    "scrolled": true
   },
   "outputs": [],
   "source": [
    "#df4.to_excel(\"transposed.xlsx\")\n",
    "df5 = df4[df4 < 4].count()\n",
    "df5\n",
    "plt.plot(df5)"
   ]
  },
  {
   "cell_type": "code",
   "execution_count": null,
   "metadata": {},
   "outputs": [],
   "source": [
    "plt.plot(fleet_size)"
   ]
  },
  {
   "cell_type": "markdown",
   "metadata": {},
   "source": [
    "_______________________________"
   ]
  },
  {
   "cell_type": "markdown",
   "metadata": {},
   "source": [
    "## Visualisation"
   ]
  },
  {
   "cell_type": "code",
   "execution_count": null,
   "metadata": {},
   "outputs": [],
   "source": [
    "dates = df_by_date_merged.index\n",
    "fleetsize = df_by_date_merged[\"fleet_size\"]\n",
    "usage = df_by_date_merged[\"usage\"]\n",
    "usedbikes = df_by_date_merged[\"used_bikes\"]\n",
    "\n",
    "Fig_1, ax_1 = plt.subplots()\n",
    "\n",
    "\n",
    "color = 'tab:red'\n",
    "ax_1.set_xlabel('Date')\n",
    "ax_1.set_ylabel('Fleet Size', color=color)\n",
    "ax_1.plot(dates, fleetsize, color=color)\n",
    "ax_1.tick_params(axis='y', labelcolor=color)\n",
    "\n",
    "ax_2 = ax_1.twinx()  # instantiate a second axes that shares the same x-axis\n",
    "\n",
    "\n",
    "color = 'tab:blue'\n",
    "\n",
    "ax_2.set_ylabel(\"Used Bikes\", color=color)\n",
    "ax_2.plot(dates, usedbikes, color=color)\n",
    "ax_2.tick_params(axis='y', labelcolor=color)\n",
    "\n",
    "Fig_1.tight_layout()  # otherwise the right y-label is slightly clipped\n",
    "\n",
    "plt.show()"
   ]
  },
  {
   "cell_type": "markdown",
   "metadata": {},
   "source": [
    "## Group by rounded start time"
   ]
  },
  {
   "cell_type": "code",
   "execution_count": null,
   "metadata": {},
   "outputs": [],
   "source": [
    "df_by_time = df.groupby(\"Time\").agg(\n",
    "    mean_length=('trip_duration', lambda x: np.mean(x)),\n",
    "    trip_count=('b_number', 'count'))"
   ]
  },
  {
   "cell_type": "code",
   "execution_count": null,
   "metadata": {
    "scrolled": true
   },
   "outputs": [],
   "source": [
    "fig, (ax1, ax1_b) = plt.subplots(nrows = 1, ncols = 2, figsize= (12,4))\n",
    "\n",
    "x = df_by_time.index\n",
    "seconds = df_by_time[\"mean_length\"].dt.total_seconds()/60\n",
    "amount = df_by_time[\"trip_count\"]\n",
    "\n",
    "color = 'tab:red'\n",
    "ax1.set_xlabel('Time of the day')\n",
    "ax1.set_ylabel('Average trip length', color=color)\n",
    "ax1.plot(x, seconds, color=color)\n",
    "ax1.tick_params(axis='y', labelcolor=color)\n",
    "\n",
    "ax2 = ax1.twinx()  # instantiate a second axes that shares the same x-axis\n",
    "\n",
    "color = 'tab:blue'\n",
    "ax2.set_ylabel('Total amount of trips', color=color)  # we already handled the x-label with ax1\n",
    "ax2.plot(x, amount, color=color)\n",
    "ax2.tick_params(axis='y', labelcolor=color)\n",
    "\n",
    "fig.tight_layout()  # otherwise the right y-label is slightly clipped\n",
    "plt.show()"
   ]
  },
  {
   "cell_type": "code",
   "execution_count": null,
   "metadata": {},
   "outputs": [],
   "source": []
  },
  {
   "cell_type": "code",
   "execution_count": null,
   "metadata": {},
   "outputs": [],
   "source": [
    " "
   ]
  },
  {
   "cell_type": "code",
   "execution_count": null,
   "metadata": {},
   "outputs": [],
   "source": []
  },
  {
   "cell_type": "code",
   "execution_count": null,
   "metadata": {},
   "outputs": [],
   "source": []
  }
 ],
 "metadata": {
  "kernelspec": {
   "display_name": "Python 3",
   "language": "python",
   "name": "python3"
  },
  "language_info": {
   "codemirror_mode": {
    "name": "ipython",
    "version": 3
   },
   "file_extension": ".py",
   "mimetype": "text/x-python",
   "name": "python",
   "nbconvert_exporter": "python",
   "pygments_lexer": "ipython3",
   "version": "3.8.5"
  }
 },
 "nbformat": 4,
 "nbformat_minor": 4
}
