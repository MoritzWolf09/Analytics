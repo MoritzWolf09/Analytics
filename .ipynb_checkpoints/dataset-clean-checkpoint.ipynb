{
 "cells": [
  {
   "cell_type": "markdown",
   "metadata": {},
   "source": [
    "# Task 1"
   ]
  },
  {
   "cell_type": "markdown",
   "metadata": {},
   "source": [
    "## Import Libraries"
   ]
  },
  {
   "cell_type": "code",
   "execution_count": 179,
   "metadata": {},
   "outputs": [],
   "source": [
    "import pandas as pd\n",
    "import numpy as np"
   ]
  },
  {
   "cell_type": "markdown",
   "metadata": {},
   "source": [
    "## Import raw data and merge the data"
   ]
  },
  {
   "cell_type": "code",
   "execution_count": 180,
   "metadata": {},
   "outputs": [
    {
     "name": "stdout",
     "output_type": "stream",
     "text": [
      "<class 'pandas.core.frame.DataFrame'>\n",
      "Int64Index: 202697 entries, 0 to 185326\n",
      "Data columns (total 9 columns):\n",
      " #   Column         Non-Null Count   Dtype  \n",
      "---  ------         --------------   -----  \n",
      " 0   day            202697 non-null  object \n",
      " 1   time           202697 non-null  object \n",
      " 2   b_number       202697 non-null  int64  \n",
      " 3   city           202697 non-null  object \n",
      " 4   trip_duration  202697 non-null  object \n",
      " 5   orig_lat       202697 non-null  float64\n",
      " 6   orig_lng       202697 non-null  float64\n",
      " 7   dest_lat       202697 non-null  float64\n",
      " 8   dest_lng       202697 non-null  float64\n",
      "dtypes: float64(4), int64(1), object(4)\n",
      "memory usage: 15.5+ MB\n"
     ]
    }
   ],
   "source": [
    "Nextbike_bochum_raw = pd.read_csv(\"./dataset/bochum.csv\")\n",
    "Nextbike_leipzig_raw = pd.read_csv(\"./dataset/leipzig.csv\")\n",
    "Nextbike_raw = Nextbike_bochum_raw.append(Nextbike_leipzig_raw)\n",
    "\n",
    "Nextbike_raw.info()"
   ]
  },
  {
   "cell_type": "markdown",
   "metadata": {},
   "source": [
    "## Look for null values"
   ]
  },
  {
   "cell_type": "code",
   "execution_count": null,
   "metadata": {},
   "outputs": [],
   "source": [
    "Nextbike_raw.isnull().sum().sort_values(ascending=False)"
   ]
  },
  {
   "cell_type": "code",
   "execution_count": 182,
   "metadata": {},
   "outputs": [],
   "source": [
    "#Copy dataset for cleaning\n",
    "Nextbike_clean = Nextbike_raw"
   ]
  },
  {
   "cell_type": "markdown",
   "metadata": {},
   "source": [
    "## Correct Data Types"
   ]
  },
  {
   "cell_type": "code",
   "execution_count": 183,
   "metadata": {},
   "outputs": [],
   "source": [
    "#Converting Trip Length to timedelta\n",
    "Nextbike_clean['trip_duration'] = pd.to_timedelta(Nextbike_clean['trip_duration'])\n",
    "\n",
    "#Converting start-time to datetime\n",
    "Nextbike_clean['timestamp'] = pd.to_datetime(Nextbike_clean['day'] + ' ' +  Nextbike_clean['time'])\n",
    "Nextbike_clean.drop(columns=['day','time'], inplace = True)"
   ]
  },
  {
   "cell_type": "markdown",
   "metadata": {},
   "source": [
    "## Add columns for analysis"
   ]
  },
  {
   "cell_type": "code",
   "execution_count": 185,
   "metadata": {
    "scrolled": true
   },
   "outputs": [
    {
     "data": {
      "text/html": [
       "<div>\n",
       "<style scoped>\n",
       "    .dataframe tbody tr th:only-of-type {\n",
       "        vertical-align: middle;\n",
       "    }\n",
       "\n",
       "    .dataframe tbody tr th {\n",
       "        vertical-align: top;\n",
       "    }\n",
       "\n",
       "    .dataframe thead th {\n",
       "        text-align: right;\n",
       "    }\n",
       "</style>\n",
       "<table border=\"1\" class=\"dataframe\">\n",
       "  <thead>\n",
       "    <tr style=\"text-align: right;\">\n",
       "      <th></th>\n",
       "      <th>b_number</th>\n",
       "      <th>city</th>\n",
       "      <th>trip_duration</th>\n",
       "      <th>orig_lat</th>\n",
       "      <th>orig_lng</th>\n",
       "      <th>dest_lat</th>\n",
       "      <th>dest_lng</th>\n",
       "      <th>timestamp</th>\n",
       "      <th>timestamp_rounded</th>\n",
       "      <th>Weekday</th>\n",
       "      <th>Time</th>\n",
       "    </tr>\n",
       "  </thead>\n",
       "  <tbody>\n",
       "    <tr>\n",
       "      <th>0</th>\n",
       "      <td>683</td>\n",
       "      <td>bochum</td>\n",
       "      <td>0 days 00:10:00</td>\n",
       "      <td>51.489814</td>\n",
       "      <td>7.232856</td>\n",
       "      <td>51.479592</td>\n",
       "      <td>7.222239</td>\n",
       "      <td>2019-02-08 12:06:00</td>\n",
       "      <td>2019-02-08 12:00:00</td>\n",
       "      <td>4</td>\n",
       "      <td>12</td>\n",
       "    </tr>\n",
       "    <tr>\n",
       "      <th>1</th>\n",
       "      <td>683</td>\n",
       "      <td>bochum</td>\n",
       "      <td>0 days 00:14:00</td>\n",
       "      <td>51.479592</td>\n",
       "      <td>7.222239</td>\n",
       "      <td>51.472366</td>\n",
       "      <td>7.250500</td>\n",
       "      <td>2019-02-10 01:58:00</td>\n",
       "      <td>2019-02-10 01:00:00</td>\n",
       "      <td>6</td>\n",
       "      <td>1</td>\n",
       "    </tr>\n",
       "    <tr>\n",
       "      <th>2</th>\n",
       "      <td>683</td>\n",
       "      <td>bochum</td>\n",
       "      <td>0 days 00:28:00</td>\n",
       "      <td>51.472366</td>\n",
       "      <td>7.250500</td>\n",
       "      <td>51.479592</td>\n",
       "      <td>7.222239</td>\n",
       "      <td>2019-02-11 06:33:00</td>\n",
       "      <td>2019-02-11 06:00:00</td>\n",
       "      <td>0</td>\n",
       "      <td>6</td>\n",
       "    </tr>\n",
       "    <tr>\n",
       "      <th>3</th>\n",
       "      <td>683</td>\n",
       "      <td>bochum</td>\n",
       "      <td>0 days 00:58:00</td>\n",
       "      <td>51.479592</td>\n",
       "      <td>7.222239</td>\n",
       "      <td>51.483023</td>\n",
       "      <td>7.215314</td>\n",
       "      <td>2019-02-11 13:31:00</td>\n",
       "      <td>2019-02-11 13:00:00</td>\n",
       "      <td>0</td>\n",
       "      <td>13</td>\n",
       "    </tr>\n",
       "    <tr>\n",
       "      <th>4</th>\n",
       "      <td>683</td>\n",
       "      <td>bochum</td>\n",
       "      <td>0 days 00:22:00</td>\n",
       "      <td>51.483023</td>\n",
       "      <td>7.215314</td>\n",
       "      <td>51.479592</td>\n",
       "      <td>7.222239</td>\n",
       "      <td>2019-02-11 14:32:00</td>\n",
       "      <td>2019-02-11 14:00:00</td>\n",
       "      <td>0</td>\n",
       "      <td>14</td>\n",
       "    </tr>\n",
       "    <tr>\n",
       "      <th>...</th>\n",
       "      <td>...</td>\n",
       "      <td>...</td>\n",
       "      <td>...</td>\n",
       "      <td>...</td>\n",
       "      <td>...</td>\n",
       "      <td>...</td>\n",
       "      <td>...</td>\n",
       "      <td>...</td>\n",
       "      <td>...</td>\n",
       "      <td>...</td>\n",
       "      <td>...</td>\n",
       "    </tr>\n",
       "    <tr>\n",
       "      <th>185322</th>\n",
       "      <td>99979</td>\n",
       "      <td>leipzig</td>\n",
       "      <td>0 days 00:07:00</td>\n",
       "      <td>51.468822</td>\n",
       "      <td>11.290048</td>\n",
       "      <td>51.468547</td>\n",
       "      <td>11.289899</td>\n",
       "      <td>2019-05-25 10:58:00</td>\n",
       "      <td>2019-05-25 10:00:00</td>\n",
       "      <td>5</td>\n",
       "      <td>10</td>\n",
       "    </tr>\n",
       "    <tr>\n",
       "      <th>185323</th>\n",
       "      <td>99979</td>\n",
       "      <td>leipzig</td>\n",
       "      <td>0 days 01:16:00</td>\n",
       "      <td>51.468756</td>\n",
       "      <td>11.289723</td>\n",
       "      <td>51.469324</td>\n",
       "      <td>11.289366</td>\n",
       "      <td>2019-05-27 09:32:00</td>\n",
       "      <td>2019-05-27 09:00:00</td>\n",
       "      <td>0</td>\n",
       "      <td>9</td>\n",
       "    </tr>\n",
       "    <tr>\n",
       "      <th>185324</th>\n",
       "      <td>99979</td>\n",
       "      <td>leipzig</td>\n",
       "      <td>0 days 00:03:00</td>\n",
       "      <td>51.469044</td>\n",
       "      <td>11.289348</td>\n",
       "      <td>51.469093</td>\n",
       "      <td>11.289432</td>\n",
       "      <td>2019-05-27 11:02:00</td>\n",
       "      <td>2019-05-27 11:00:00</td>\n",
       "      <td>0</td>\n",
       "      <td>11</td>\n",
       "    </tr>\n",
       "    <tr>\n",
       "      <th>185325</th>\n",
       "      <td>99982</td>\n",
       "      <td>leipzig</td>\n",
       "      <td>0 days 01:44:00</td>\n",
       "      <td>51.341165</td>\n",
       "      <td>12.365045</td>\n",
       "      <td>51.341065</td>\n",
       "      <td>12.365005</td>\n",
       "      <td>2019-02-11 11:47:00</td>\n",
       "      <td>2019-02-11 11:00:00</td>\n",
       "      <td>0</td>\n",
       "      <td>11</td>\n",
       "    </tr>\n",
       "    <tr>\n",
       "      <th>185326</th>\n",
       "      <td>999999</td>\n",
       "      <td>leipzig</td>\n",
       "      <td>0 days 00:45:00</td>\n",
       "      <td>51.324615</td>\n",
       "      <td>12.336922</td>\n",
       "      <td>51.324649</td>\n",
       "      <td>12.338129</td>\n",
       "      <td>2019-03-22 11:35:00</td>\n",
       "      <td>2019-03-22 11:00:00</td>\n",
       "      <td>4</td>\n",
       "      <td>11</td>\n",
       "    </tr>\n",
       "  </tbody>\n",
       "</table>\n",
       "<p>202697 rows × 11 columns</p>\n",
       "</div>"
      ],
      "text/plain": [
       "        b_number     city   trip_duration   orig_lat   orig_lng   dest_lat  \\\n",
       "0            683   bochum 0 days 00:10:00  51.489814   7.232856  51.479592   \n",
       "1            683   bochum 0 days 00:14:00  51.479592   7.222239  51.472366   \n",
       "2            683   bochum 0 days 00:28:00  51.472366   7.250500  51.479592   \n",
       "3            683   bochum 0 days 00:58:00  51.479592   7.222239  51.483023   \n",
       "4            683   bochum 0 days 00:22:00  51.483023   7.215314  51.479592   \n",
       "...          ...      ...             ...        ...        ...        ...   \n",
       "185322     99979  leipzig 0 days 00:07:00  51.468822  11.290048  51.468547   \n",
       "185323     99979  leipzig 0 days 01:16:00  51.468756  11.289723  51.469324   \n",
       "185324     99979  leipzig 0 days 00:03:00  51.469044  11.289348  51.469093   \n",
       "185325     99982  leipzig 0 days 01:44:00  51.341165  12.365045  51.341065   \n",
       "185326    999999  leipzig 0 days 00:45:00  51.324615  12.336922  51.324649   \n",
       "\n",
       "         dest_lng           timestamp   timestamp_rounded  Weekday  Time  \n",
       "0        7.222239 2019-02-08 12:06:00 2019-02-08 12:00:00        4    12  \n",
       "1        7.250500 2019-02-10 01:58:00 2019-02-10 01:00:00        6     1  \n",
       "2        7.222239 2019-02-11 06:33:00 2019-02-11 06:00:00        0     6  \n",
       "3        7.215314 2019-02-11 13:31:00 2019-02-11 13:00:00        0    13  \n",
       "4        7.222239 2019-02-11 14:32:00 2019-02-11 14:00:00        0    14  \n",
       "...           ...                 ...                 ...      ...   ...  \n",
       "185322  11.289899 2019-05-25 10:58:00 2019-05-25 10:00:00        5    10  \n",
       "185323  11.289366 2019-05-27 09:32:00 2019-05-27 09:00:00        0     9  \n",
       "185324  11.289432 2019-05-27 11:02:00 2019-05-27 11:00:00        0    11  \n",
       "185325  12.365005 2019-02-11 11:47:00 2019-02-11 11:00:00        0    11  \n",
       "185326  12.338129 2019-03-22 11:35:00 2019-03-22 11:00:00        4    11  \n",
       "\n",
       "[202697 rows x 11 columns]"
      ]
     },
     "execution_count": 185,
     "metadata": {},
     "output_type": "execute_result"
    }
   ],
   "source": [
    "#Round datetime and extract possible categorisation attributes\n",
    "Nextbike_clean['timestamp_rounded'] = Nextbike_clean['timestamp'].dt.floor('H')\n",
    "\n",
    "Nextbike_clean['Weekday'] = Nextbike_clean['timestamp_rounded'].dt.weekday\n",
    "\n",
    "Nextbike_clean['Time'] = Nextbike_clean['timestamp_rounded'].dt.time\n",
    "Nextbike_clean[\"Time\"] = Nextbike_clean[\"Time\"].astype(str).str[:2].astype(int)\n",
    "\n",
    "\n",
    "#output\n",
    "Nextbike_clean"
   ]
  },
  {
   "cell_type": "markdown",
   "metadata": {},
   "source": [
    "\n",
    "\n",
    "# Task 2"
   ]
  },
  {
   "cell_type": "markdown",
   "metadata": {},
   "source": [
    "## Import Visualisation Libaries"
   ]
  },
  {
   "cell_type": "code",
   "execution_count": 187,
   "metadata": {},
   "outputs": [],
   "source": [
    "import matplotlib as mpl\n",
    "import matplotlib.pyplot as plt\n",
    "import seaborn as sns"
   ]
  },
  {
   "cell_type": "markdown",
   "metadata": {},
   "source": [
    "## Split data for analysis"
   ]
  },
  {
   "cell_type": "code",
   "execution_count": 188,
   "metadata": {},
   "outputs": [],
   "source": [
    "Nextbike_clean_l = Nextbike_clean[Nextbike_clean.city == \"leipzig\"]\n",
    "Nextbike_clean_b = Nextbike_clean[Nextbike_clean.city == \"bochum\"]"
   ]
  },
  {
   "cell_type": "markdown",
   "metadata": {},
   "source": [
    "## Group by rounded start time"
   ]
  },
  {
   "cell_type": "code",
   "execution_count": 189,
   "metadata": {},
   "outputs": [],
   "source": [
    "Nb_c_by_time_l = Nextbike_clean_l.groupby(\"Time\").agg(\n",
    "    mean_length=('trip_duration', lambda x: np.mean(x)),\n",
    "    trip_count=('b_number', 'count'))\n",
    "\n",
    "Nb_c_by_time_b = Nextbike_clean_b.groupby(\"Time\").agg(\n",
    "    mean_length=('trip_duration', lambda x: np.mean(x)),\n",
    "    trip_count=('b_number', 'count'))"
   ]
  },
  {
   "cell_type": "code",
   "execution_count": 201,
   "metadata": {
    "scrolled": true
   },
   "outputs": [
    {
     "data": {
      "image/png": "[encoded data removed]",
      "text/plain": [
       "<Figure size 864x288 with 4 Axes>"
      ]
     },
     "metadata": {
      "needs_background": "light"
     },
     "output_type": "display_data"
    }
   ],
   "source": [
    "fig, (ax1_l, ax1_b) = plt.subplots(nrows = 1, ncols = 2, figsize= (12,4))\n",
    "\n",
    "x = Nb_c_by_time.index\n",
    "seconds = Nb_c_by_time_l[\"mean_length\"].dt.total_seconds()/60\n",
    "amount = Nb_c_by_time_l[\"trip_count\"]\n",
    "\n",
    "color = 'tab:red'\n",
    "ax1_l.set_xlabel('Time of the day')\n",
    "ax1_l.set_ylabel('Average trip length', color=color)\n",
    "ax1_l.plot(x, seconds, color=color)\n",
    "ax1_l.tick_params(axis='y', labelcolor=color)\n",
    "\n",
    "ax2_l = ax1_l.twinx()  # instantiate a second axes that shares the same x-axis\n",
    "\n",
    "color = 'tab:blue'\n",
    "ax2_l.set_ylabel('Total amount of trips', color=color)  # we already handled the x-label with ax1\n",
    "ax2_l.plot(x, amount, color=color)\n",
    "ax2_l.tick_params(axis='y', labelcolor=color)\n",
    "\n",
    "x = Nb_c_by_time.index\n",
    "seconds = Nb_c_by_time_b[\"mean_length\"].dt.total_seconds()/60\n",
    "amount = Nb_c_by_time_b[\"trip_count\"]\n",
    "\n",
    "color = 'tab:red'\n",
    "ax1_b.set_xlabel('Time of the day')\n",
    "ax1_b.set_ylabel('Average trip length', color=color)\n",
    "ax1_b.plot(x, seconds, color=color)\n",
    "ax1_b.tick_params(axis='y', labelcolor=color)\n",
    "\n",
    "ax2_b = ax1_b.twinx()  # instantiate a second axes that shares the same x-axis\n",
    "\n",
    "color = 'tab:blue'\n",
    "ax2_b.set_ylabel('Total amount of trips', color=color)  # we already handled the x-label with ax1\n",
    "ax2_b.plot(x, amount, color=color)\n",
    "ax2_b.tick_params(axis='y', labelcolor=color)\n",
    "\n",
    "\n",
    "fig.tight_layout()  # otherwise the right y-label is slightly clipped\n",
    "plt.show()"
   ]
  },
  {
   "cell_type": "code",
   "execution_count": null,
   "metadata": {},
   "outputs": [],
   "source": [
    "import geopandas as gpd\n",
    "geopandas.datasets.available"
   ]
  },
  {
   "cell_type": "code",
   "execution_count": null,
   "metadata": {},
   "outputs": [],
   "source": []
  },
  {
   "cell_type": "code",
   "execution_count": null,
   "metadata": {},
   "outputs": [],
   "source": []
  }
 ],
 "metadata": {
  "kernelspec": {
   "display_name": "Python 3",
   "language": "python",
   "name": "python3"
  },
  "language_info": {
   "codemirror_mode": {
    "name": "ipython",
    "version": 3
   },
   "file_extension": ".py",
   "mimetype": "text/x-python",
   "name": "python",
   "nbconvert_exporter": "python",
   "pygments_lexer": "ipython3",
   "version": "3.8.5"
  }
 },
 "nbformat": 4,
 "nbformat_minor": 4
}
